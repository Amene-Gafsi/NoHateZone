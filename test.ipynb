{
 "cells": [
  {
   "cell_type": "code",
   "execution_count": 7,
   "metadata": {},
   "outputs": [],
   "source": [
    "%load_ext autoreload\n",
    "%autoreload 2"
   ]
  },
  {
   "cell_type": "code",
   "execution_count": null,
   "metadata": {},
   "outputs": [],
   "source": [
    "from audio2text import AudioTranscriber # 16sec"
   ]
  },
  {
   "cell_type": "code",
   "execution_count": 2,
   "metadata": {},
   "outputs": [
    {
     "name": "stderr",
     "output_type": "stream",
     "text": [
      "Special tokens have been added in the vocabulary, make sure the associated word embeddings are fine-tuned or trained.\n"
     ]
    }
   ],
   "source": [
    "transcriber = AudioTranscriber() # 9sec"
   ]
  },
  {
   "cell_type": "code",
   "execution_count": 16,
   "metadata": {},
   "outputs": [
    {
     "name": "stdout",
     "output_type": "stream",
     "text": [
      "Success : audio file has been saved to \"c:\\Users\\Mert\\OneDrive\\Desktop\\Deep_Learning_Project\\NoHateZone\\input\\audio\\hate.mp3\".\n"
     ]
    }
   ],
   "source": [
    "from utils import extract_audio, extract_frames, map_transcription_to_frames\n",
    "\n",
    "extract_audio(input_path=\"./input/video/hate.mp4\", output_dir=\"./input/audio\") "
   ]
  },
  {
   "cell_type": "code",
   "execution_count": 23,
   "metadata": {},
   "outputs": [
    {
     "name": "stderr",
     "output_type": "stream",
     "text": [
      "Whisper did not predict an ending timestamp, which can happen if audio is cut off in the middle of a word. Also make sure WhisperTimeStampLogitsProcessor was used during generation.\n"
     ]
    },
    {
     "name": "stdout",
     "output_type": "stream",
     "text": [
      " Hey Will! Yes, yeah. I don't mean to disrupt your contemplation, but what is hate speech? Man, does anybody really know what hate speech is? Hate speech is different from me to you. Something I might find hateful you might find to be your freedom manifesto. That's the problem with it. Hate speech is pretty subjective. It all is in the eye of the beholder. So, pretty much protected because none of us can make that choice for everybody. Hate speech. Well, I love this. Thank you. Thank you.\n"
     ]
    }
   ],
   "source": [
    "result = transcriber.transcribe_audio(input_audio=\"./input/audio/hate.mp3\", return_timestamps=\"word\") # 1m50 for 30sec audio\n",
    "\n",
    "print(result[\"text\"])"
   ]
  },
  {
   "cell_type": "code",
   "execution_count": 18,
   "metadata": {},
   "outputs": [
    {
     "name": "stdout",
     "output_type": "stream",
     "text": [
      "sentence:  Hey, Start: 0.08s, End: 0.32s\n",
      "sentence:  Will!, Start: 0.32s, End: 0.76s\n",
      "sentence:  Yes,, Start: 0.76s, End: 1.62s\n",
      "sentence:  yeah., Start: 1.62s, End: 1.92s\n",
      "sentence:  I, Start: 1.92s, End: 1.98s\n",
      "sentence:  don't, Start: 1.98s, End: 2.12s\n",
      "sentence:  mean, Start: 2.12s, End: 2.22s\n",
      "sentence:  to, Start: 2.22s, End: 2.42s\n",
      "sentence:  disrupt, Start: 2.42s, End: 2.86s\n",
      "sentence:  your, Start: 2.86s, End: 3.1s\n",
      "sentence:  contemplation,, Start: 3.1s, End: 4.14s\n",
      "sentence:  but, Start: 4.14s, End: 4.32s\n",
      "sentence:  what, Start: 4.32s, End: 5.26s\n",
      "sentence:  is, Start: 5.26s, End: 5.86s\n",
      "sentence:  hate, Start: 5.86s, End: 6.46s\n",
      "sentence:  speech?, Start: 6.46s, End: 7.08s\n",
      "sentence:  Man,, Start: 7.08s, End: 7.38s\n",
      "sentence:  does, Start: 7.38s, End: 7.48s\n",
      "sentence:  anybody, Start: 7.48s, End: 7.76s\n",
      "sentence:  really, Start: 7.76s, End: 8.1s\n",
      "sentence:  know, Start: 8.1s, End: 8.4s\n",
      "sentence:  what, Start: 8.4s, End: 8.72s\n",
      "sentence:  hate, Start: 8.72s, End: 8.92s\n",
      "sentence:  speech, Start: 8.92s, End: 9.14s\n",
      "sentence:  is?, Start: 9.14s, End: 9.36s\n",
      "sentence:  Hate, Start: 9.36s, End: 9.52s\n",
      "sentence:  speech, Start: 9.52s, End: 9.72s\n",
      "sentence:  is, Start: 9.72s, End: 9.88s\n",
      "sentence:  different, Start: 9.88s, End: 10.08s\n",
      "sentence:  from, Start: 10.08s, End: 10.34s\n",
      "sentence:  me, Start: 10.34s, End: 10.56s\n",
      "sentence:  to, Start: 10.56s, End: 10.74s\n",
      "sentence:  you., Start: 10.74s, End: 11.24s\n",
      "sentence:  Something, Start: 11.24s, End: 11.54s\n",
      "sentence:  I, Start: 11.54s, End: 11.72s\n",
      "sentence:  might, Start: 11.72s, End: 12.0s\n",
      "sentence:  find, Start: 12.0s, End: 12.22s\n",
      "sentence:  hateful, Start: 12.22s, End: 12.54s\n",
      "sentence:  you, Start: 12.54s, End: 12.68s\n",
      "sentence:  might, Start: 12.68s, End: 12.9s\n",
      "sentence:  find, Start: 12.9s, End: 13.32s\n",
      "sentence:  to, Start: 13.32s, End: 13.46s\n",
      "sentence:  be, Start: 13.46s, End: 13.56s\n",
      "sentence:  your, Start: 13.56s, End: 13.78s\n",
      "sentence:  freedom, Start: 13.78s, End: 14.04s\n",
      "sentence:  manifesto., Start: 14.04s, End: 14.94s\n",
      "sentence:  That's, Start: 14.94s, End: 15.14s\n",
      "sentence:  the, Start: 15.14s, End: 15.22s\n",
      "sentence:  problem, Start: 15.22s, End: 15.44s\n",
      "sentence:  with, Start: 15.44s, End: 15.58s\n",
      "sentence:  it., Start: 15.58s, End: 15.72s\n",
      "sentence:  Hate, Start: 15.72s, End: 15.88s\n",
      "sentence:  speech, Start: 15.88s, End: 16.06s\n",
      "sentence:  is, Start: 16.06s, End: 16.22s\n",
      "sentence:  pretty, Start: 16.22s, End: 16.4s\n",
      "sentence:  subjective., Start: 16.4s, End: 17.86s\n",
      "sentence:  It, Start: 17.86s, End: 18.66s\n",
      "sentence:  all, Start: 18.66s, End: 18.9s\n",
      "sentence:  is, Start: 18.9s, End: 19.08s\n",
      "sentence:  in, Start: 19.08s, End: 19.22s\n",
      "sentence:  the, Start: 19.22s, End: 19.3s\n",
      "sentence:  eye, Start: 19.3s, End: 19.42s\n",
      "sentence:  of, Start: 19.42s, End: 19.48s\n",
      "sentence:  the, Start: 19.48s, End: 19.54s\n",
      "sentence:  beholder., Start: 19.54s, End: 20.12s\n",
      "sentence:  So,, Start: 20.12s, End: 21.62s\n",
      "sentence:  pretty, Start: 21.62s, End: 21.84s\n",
      "sentence:  much, Start: 21.84s, End: 21.98s\n",
      "sentence:  protected, Start: 21.98s, End: 22.36s\n",
      "sentence:  because, Start: 22.36s, End: 22.7s\n",
      "sentence:  none, Start: 22.7s, End: 22.86s\n",
      "sentence:  of, Start: 22.86s, End: 22.96s\n",
      "sentence:  us, Start: 22.96s, End: 23.04s\n",
      "sentence:  can, Start: 23.04s, End: 23.12s\n",
      "sentence:  make, Start: 23.12s, End: 23.26s\n",
      "sentence:  that, Start: 23.26s, End: 23.4s\n",
      "sentence:  choice, Start: 23.4s, End: 23.64s\n",
      "sentence:  for, Start: 23.64s, End: 23.78s\n",
      "sentence:  everybody., Start: 23.78s, End: 24.58s\n",
      "sentence:  Hate, Start: 24.58s, End: 25.0s\n",
      "sentence:  speech., Start: 25.0s, End: 25.7s\n",
      "sentence:  Well,, Start: 25.7s, End: 26.28s\n",
      "sentence:  I, Start: 26.28s, End: 26.38s\n",
      "sentence:  love, Start: 26.38s, End: 26.7s\n",
      "sentence:  this., Start: 26.7s, End: 27.46s\n",
      "sentence:  Thank, Start: 27.46s, End: 29.12s\n",
      "sentence:  you., Start: 29.12s, End: 29.64s\n",
      "sentence:  Thank, Start: 29.64s, End: 29.96s\n",
      "sentence:  you., Start: 29.96s, End: 30.36s\n"
     ]
    }
   ],
   "source": [
    "transcriber.print_segments_with_timestamps(result)"
   ]
  },
  {
   "cell_type": "code",
   "execution_count": 19,
   "metadata": {},
   "outputs": [
    {
     "data": {
      "text/plain": [
       "\" from  me  to  you.  Something  I  might  find  hateful  you  might  find  to  be  your  freedom  manifesto.  That's  the  problem  with  it.  Hate  speech  is  pretty  subjective.  It  all  is  in  the  eye  of  the\""
      ]
     },
     "execution_count": 19,
     "metadata": {},
     "output_type": "execute_result"
    }
   ],
   "source": [
    "transcriber.get_text_in_interval(result, start_time=10, end_time=20) "
   ]
  },
  {
   "cell_type": "code",
   "execution_count": 10,
   "metadata": {},
   "outputs": [
    {
     "name": "stdout",
     "output_type": "stream",
     "text": [
      "Extracted 33 frames from the video.\n"
     ]
    },
    {
     "data": {
      "application/vnd.microsoft.datawrangler.viewer.v0+json": {
       "columns": [
        {
         "name": "index",
         "rawType": "int64",
         "type": "integer"
        },
        {
         "name": "frame_number",
         "rawType": "int64",
         "type": "integer"
        },
        {
         "name": "timestamp_seconds",
         "rawType": "float64",
         "type": "float"
        }
       ],
       "conversionMethod": "pd.DataFrame",
       "ref": "541c0ce9-7f7f-45ae-bcb6-6cb01c1969ce",
       "rows": [
        [
         "0",
         "0",
         "0.0"
        ],
        [
         "1",
         "30",
         "1.0010000000000001"
        ],
        [
         "2",
         "60",
         "2.0020000000000002"
        ],
        [
         "3",
         "90",
         "3.003"
        ],
        [
         "4",
         "120",
         "4.0040000000000004"
        ]
       ],
       "shape": {
        "columns": 2,
        "rows": 5
       }
      },
      "text/html": [
       "<div>\n",
       "<style scoped>\n",
       "    .dataframe tbody tr th:only-of-type {\n",
       "        vertical-align: middle;\n",
       "    }\n",
       "\n",
       "    .dataframe tbody tr th {\n",
       "        vertical-align: top;\n",
       "    }\n",
       "\n",
       "    .dataframe thead th {\n",
       "        text-align: right;\n",
       "    }\n",
       "</style>\n",
       "<table border=\"1\" class=\"dataframe\">\n",
       "  <thead>\n",
       "    <tr style=\"text-align: right;\">\n",
       "      <th></th>\n",
       "      <th>frame_number</th>\n",
       "      <th>timestamp_seconds</th>\n",
       "    </tr>\n",
       "  </thead>\n",
       "  <tbody>\n",
       "    <tr>\n",
       "      <th>0</th>\n",
       "      <td>0</td>\n",
       "      <td>0.000</td>\n",
       "    </tr>\n",
       "    <tr>\n",
       "      <th>1</th>\n",
       "      <td>30</td>\n",
       "      <td>1.001</td>\n",
       "    </tr>\n",
       "    <tr>\n",
       "      <th>2</th>\n",
       "      <td>60</td>\n",
       "      <td>2.002</td>\n",
       "    </tr>\n",
       "    <tr>\n",
       "      <th>3</th>\n",
       "      <td>90</td>\n",
       "      <td>3.003</td>\n",
       "    </tr>\n",
       "    <tr>\n",
       "      <th>4</th>\n",
       "      <td>120</td>\n",
       "      <td>4.004</td>\n",
       "    </tr>\n",
       "  </tbody>\n",
       "</table>\n",
       "</div>"
      ],
      "text/plain": [
       "   frame_number  timestamp_seconds\n",
       "0             0              0.000\n",
       "1            30              1.001\n",
       "2            60              2.002\n",
       "3            90              3.003\n",
       "4           120              4.004"
      ]
     },
     "execution_count": 10,
     "metadata": {},
     "output_type": "execute_result"
    }
   ],
   "source": [
    "frame_count, frame_data = extract_frames(\"./input/video/hate.mp4\", \"./input/frames\", video_index = 1,frequency=30)\n",
    "print(f\"Extracted {frame_count} frames from the video.\")\n",
    "\n",
    "frame_data.head()"
   ]
  },
  {
   "cell_type": "code",
   "execution_count": 20,
   "metadata": {},
   "outputs": [
    {
     "data": {
      "application/vnd.microsoft.datawrangler.viewer.v0+json": {
       "columns": [
        {
         "name": "index",
         "rawType": "int64",
         "type": "integer"
        },
        {
         "name": "frame_number",
         "rawType": "int64",
         "type": "integer"
        },
        {
         "name": "timestamp_seconds",
         "rawType": "float64",
         "type": "float"
        },
        {
         "name": "in_text_images",
         "rawType": "object",
         "type": "string"
        },
        {
         "name": "transcription",
         "rawType": "object",
         "type": "string"
        }
       ],
       "conversionMethod": "pd.DataFrame",
       "ref": "5c9e3159-3e57-4edf-ba77-a5b31cbf0eeb",
       "rows": [
        [
         "0",
         "0",
         "0.0",
         "Hello",
         ""
        ],
        [
         "1",
         "30",
         "1.0010000000000001",
         "World",
         " Hey  Will!"
        ],
        [
         "2",
         "60",
         "2.0020000000000002",
         "",
         " yeah.  I"
        ],
        [
         "3",
         "90",
         "3.003",
         "",
         " mean  to  disrupt"
        ],
        [
         "4",
         "120",
         "4.0040000000000004",
         "",
         ""
        ],
        [
         "5",
         "150",
         "5.005",
         "",
         " but"
        ],
        [
         "6",
         "180",
         "6.006",
         "",
         " is"
        ],
        [
         "7",
         "210",
         "7.007000000000001",
         "",
         ""
        ],
        [
         "8",
         "240",
         "8.008000000000001",
         "",
         " Man,  does  anybody"
        ],
        [
         "9",
         "270",
         "9.009",
         "",
         " know  what  hate"
        ]
       ],
       "shape": {
        "columns": 4,
        "rows": 10
       }
      },
      "text/html": [
       "<div>\n",
       "<style scoped>\n",
       "    .dataframe tbody tr th:only-of-type {\n",
       "        vertical-align: middle;\n",
       "    }\n",
       "\n",
       "    .dataframe tbody tr th {\n",
       "        vertical-align: top;\n",
       "    }\n",
       "\n",
       "    .dataframe thead th {\n",
       "        text-align: right;\n",
       "    }\n",
       "</style>\n",
       "<table border=\"1\" class=\"dataframe\">\n",
       "  <thead>\n",
       "    <tr style=\"text-align: right;\">\n",
       "      <th></th>\n",
       "      <th>frame_number</th>\n",
       "      <th>timestamp_seconds</th>\n",
       "      <th>in_text_images</th>\n",
       "      <th>transcription</th>\n",
       "    </tr>\n",
       "  </thead>\n",
       "  <tbody>\n",
       "    <tr>\n",
       "      <th>0</th>\n",
       "      <td>0</td>\n",
       "      <td>0.000</td>\n",
       "      <td>Hello</td>\n",
       "      <td></td>\n",
       "    </tr>\n",
       "    <tr>\n",
       "      <th>1</th>\n",
       "      <td>30</td>\n",
       "      <td>1.001</td>\n",
       "      <td>World</td>\n",
       "      <td>Hey  Will!</td>\n",
       "    </tr>\n",
       "    <tr>\n",
       "      <th>2</th>\n",
       "      <td>60</td>\n",
       "      <td>2.002</td>\n",
       "      <td></td>\n",
       "      <td>yeah.  I</td>\n",
       "    </tr>\n",
       "    <tr>\n",
       "      <th>3</th>\n",
       "      <td>90</td>\n",
       "      <td>3.003</td>\n",
       "      <td></td>\n",
       "      <td>mean  to  disrupt</td>\n",
       "    </tr>\n",
       "    <tr>\n",
       "      <th>4</th>\n",
       "      <td>120</td>\n",
       "      <td>4.004</td>\n",
       "      <td></td>\n",
       "      <td></td>\n",
       "    </tr>\n",
       "    <tr>\n",
       "      <th>5</th>\n",
       "      <td>150</td>\n",
       "      <td>5.005</td>\n",
       "      <td></td>\n",
       "      <td>but</td>\n",
       "    </tr>\n",
       "    <tr>\n",
       "      <th>6</th>\n",
       "      <td>180</td>\n",
       "      <td>6.006</td>\n",
       "      <td></td>\n",
       "      <td>is</td>\n",
       "    </tr>\n",
       "    <tr>\n",
       "      <th>7</th>\n",
       "      <td>210</td>\n",
       "      <td>7.007</td>\n",
       "      <td></td>\n",
       "      <td></td>\n",
       "    </tr>\n",
       "    <tr>\n",
       "      <th>8</th>\n",
       "      <td>240</td>\n",
       "      <td>8.008</td>\n",
       "      <td></td>\n",
       "      <td>Man,  does  anybody</td>\n",
       "    </tr>\n",
       "    <tr>\n",
       "      <th>9</th>\n",
       "      <td>270</td>\n",
       "      <td>9.009</td>\n",
       "      <td></td>\n",
       "      <td>know  what  hate</td>\n",
       "    </tr>\n",
       "  </tbody>\n",
       "</table>\n",
       "</div>"
      ],
      "text/plain": [
       "   frame_number  timestamp_seconds in_text_images         transcription\n",
       "0             0              0.000          Hello                      \n",
       "1            30              1.001          World            Hey  Will!\n",
       "2            60              2.002                             yeah.  I\n",
       "3            90              3.003                    mean  to  disrupt\n",
       "4           120              4.004                                     \n",
       "5           150              5.005                                  but\n",
       "6           180              6.006                                   is\n",
       "7           210              7.007                                     \n",
       "8           240              8.008                  Man,  does  anybody\n",
       "9           270              9.009                     know  what  hate"
      ]
     },
     "execution_count": 20,
     "metadata": {},
     "output_type": "execute_result"
    }
   ],
   "source": [
    "#I want to add a in_text_images column where only the first two elements are \"Hello\",\"World\" and the other elements are empty strings\n",
    "frame_data[\"in_text_images\"] = [\"Hello\", \"World\"] + [\"\"] * (len(frame_data) - 2)\n",
    "new_data = map_transcription_to_frames(frame_data, result)\n",
    "new_data.head(10)\n"
   ]
  }
 ],
 "metadata": {
  "kernelspec": {
   "display_name": "base",
   "language": "python",
   "name": "python3"
  },
  "language_info": {
   "codemirror_mode": {
    "name": "ipython",
    "version": 3
   },
   "file_extension": ".py",
   "mimetype": "text/x-python",
   "name": "python",
   "nbconvert_exporter": "python",
   "pygments_lexer": "ipython3",
   "version": "3.11.5"
  }
 },
 "nbformat": 4,
 "nbformat_minor": 2
}
