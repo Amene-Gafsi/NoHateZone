{
 "cells": [
  {
   "cell_type": "code",
   "execution_count": 2,
   "id": "1920bee7",
   "metadata": {},
   "outputs": [],
   "source": [
    "%load_ext autoreload\n",
    "%autoreload 2"
   ]
  },
  {
   "cell_type": "code",
   "execution_count": 45,
   "id": "fde4f06a",
   "metadata": {},
   "outputs": [],
   "source": [
    "from audio2text import AudioTranscriber # 16sec\n",
    "from utils import extract_audio, extract_frames, create_chunk_dataframe, combine_text\n",
    "import os\n",
    "import pandas as pd\n",
    "from tqdm import tqdm"
   ]
  },
  {
   "cell_type": "code",
   "execution_count": null,
   "id": "d115c875",
   "metadata": {},
   "outputs": [
    {
     "name": "stderr",
     "output_type": "stream",
     "text": [
      "c:\\Users\\Mert\\anaconda3\\Lib\\site-packages\\pandas\\core\\arrays\\masked.py:60: UserWarning: Pandas requires version '1.3.6' or newer of 'bottleneck' (version '1.3.5' currently installed).\n",
      "  from pandas.core import (\n",
      "Special tokens have been added in the vocabulary, make sure the associated word embeddings are fine-tuned or trained.\n"
     ]
    }
   ],
   "source": [
    "transcriber = AudioTranscriber() # 9sec"
   ]
  },
  {
   "cell_type": "code",
   "execution_count": null,
   "id": "53ac967d",
   "metadata": {},
   "outputs": [
    {
     "name": "stdout",
     "output_type": "stream",
     "text": [
      "Success : audio file has been saved to \"c:\\Users\\Mert\\OneDrive\\Desktop\\Deep_Learning_Project\\NoHateZone\\input\\audio\\hate.mp3\".\n"
     ]
    }
   ],
   "source": [
    "extract_audio(input_path=\"./input/video/hate.mp4\", output_dir=\"./input/audio\") "
   ]
  },
  {
   "cell_type": "code",
   "execution_count": 5,
   "id": "8e1a61ca",
   "metadata": {},
   "outputs": [
    {
     "name": "stderr",
     "output_type": "stream",
     "text": [
      "Due to a bug fix in https://github.com/huggingface/transformers/pull/28687 transcription using a multilingual Whisper will default to language detection followed by transcription instead of translation to English.This might be a breaking change for your use case. If you want to instead always translate your audio to English, make sure to pass `language='en'`.\n"
     ]
    }
   ],
   "source": [
    "#Getting the audio transcription \n",
    "sentence_result = transcriber.transcribe_audio(\n",
    "    input_audio=\"./input/audio/hate.mp3\",\n",
    "    return_timestamps=True  # Instead of \"word\"\n",
    ")"
   ]
  },
  {
   "cell_type": "code",
   "execution_count": null,
   "id": "e4c8e20d",
   "metadata": {},
   "outputs": [
    {
     "name": "stderr",
     "output_type": "stream",
     "text": [
      "Processing videos:   0%|          | 0/2 [00:00<?, ?it/s]"
     ]
    },
    {
     "name": "stdout",
     "output_type": "stream",
     "text": [
      "Extracted 193 frames from the video 'hate_video_1.mp4'\n",
      "Success : audio file has been saved to \"c:\\Users\\Mert\\OneDrive\\Desktop\\Deep_Learning_Project\\NoHateZone\\input\\audio\\hate_video_1.mp3\".\n",
      "Extracted audio from the video 'hate_video_1.mp4'\n"
     ]
    },
    {
     "name": "stderr",
     "output_type": "stream",
     "text": [
      "Processing videos:  50%|█████     | 1/2 [02:41<02:41, 161.59s/it]"
     ]
    },
    {
     "name": "stdout",
     "output_type": "stream",
     "text": [
      "Extracted 33 frames from the video 'hate_video_2.mp4'\n",
      "Success : audio file has been saved to \"c:\\Users\\Mert\\OneDrive\\Desktop\\Deep_Learning_Project\\NoHateZone\\input\\audio\\hate_video_2.mp3\".\n",
      "Extracted audio from the video 'hate_video_2.mp4'\n"
     ]
    },
    {
     "name": "stderr",
     "output_type": "stream",
     "text": [
      "Processing videos: 100%|██████████| 2/2 [03:06<00:00, 93.04s/it] \n"
     ]
    }
   ],
   "source": [
    "# Example functions assumed to be defined:\n",
    "# from your_module import extract_frames, extract_audio, create_chunk_dataframe\n",
    "# And an instance of AudioTranscriber is created as follows:\n",
    "# transcriber = AudioTranscriber(chunk_length=30)\n",
    "\n",
    "# Directories\n",
    "video_dir = \"./input/video\"\n",
    "frames_output_dir = \"./input/frames\"\n",
    "audio_output_dir = \"./input/audio\"\n",
    "\n",
    "# Create output directories if they do not exist\n",
    "os.makedirs(frames_output_dir, exist_ok=True)\n",
    "os.makedirs(audio_output_dir, exist_ok=True)\n",
    "\n",
    "# List video files (adjust extensions as needed)\n",
    "video_extensions = ('.mp4', '.avi', '.mkv')\n",
    "video_files = [f for f in os.listdir(video_dir) if f.lower().endswith(video_extensions)]\n",
    "\n",
    "# Lists to hold DataFrames for frames and audio chunks\n",
    "all_frame_dfs = []\n",
    "all_chunk_dfs = []\n",
    "\n",
    "for idx, video_file in tqdm(enumerate(video_files, start=1), total=len(video_files), desc=\"Processing videos\"):\n",
    "    input_path = os.path.join(video_dir, video_file)\n",
    "    \n",
    "    # Create subfolder for frames of this video\n",
    "    video_frames_dir = os.path.join(frames_output_dir, f\"video_{idx}\")\n",
    "    os.makedirs(video_frames_dir, exist_ok=True)\n",
    "    \n",
    "    # --- Extract Frames ---\n",
    "    frame_count, frame_data = extract_frames(\n",
    "        input_path,\n",
    "        video_frames_dir,\n",
    "        video_index=idx,\n",
    "        frequency=30  # Adjust extraction frequency if needed\n",
    "    )\n",
    "    print(f\"Extracted {frame_count} frames from the video '{video_file}'\")\n",
    "    \n",
    "    # Modify frame_data: create a 'video' column in the format \"video_1_frame2342.jpg\"\n",
    "    # Assumes that frame_data has a column \"frame_number\" (the frame id)\n",
    "    frame_data[\"video\"] = frame_data[\"frame_number\"].apply(\n",
    "        lambda f: f\"video_{idx}_frame{f}.jpg\"\n",
    "    )\n",
    "\n",
    "    frame_data = frame_data[[\"timestamp_seconds\", \"video\",\"frame_number\"]]\n",
    "    all_frame_dfs.append(frame_data)\n",
    "    \n",
    "    # --- Extract Audio ---\n",
    "    # Here we assume extract_audio writes an audio file for each video to audio_output_dir.\n",
    "    # For example, it might create a file named \"hate_video_{idx}.mp3\".\n",
    "    extract_audio(\n",
    "        input_path=input_path,\n",
    "        output_dir=audio_output_dir\n",
    "    )\n",
    "    print(f\"Extracted audio from the video '{video_file}'\")\n",
    "    \n",
    "    # Adjust the input_audio to reflect the actual extracted audio filename.\n",
    "    # Here, if extract_audio creates \"hate_video_{idx}.mp3\":\n",
    "    audio_file = os.path.join(audio_output_dir, f\"hate_video_{idx}.mp3\")\n",
    "    \n",
    "    # --- Transcribe Audio & Process Chunks ---\n",
    "    sentence_result = transcriber.transcribe_audio(\n",
    "        input_audio=audio_file,    # Use the actual audio file path for this video\n",
    "        return_timestamps=True      # Use chunk-level timestamps\n",
    "    )\n",
    "    # Extract segmentation info (list of dicts with keys: \"text\", \"start\", \"end\")\n",
    "    chunk_info = transcriber.extract_segments_with_timestamps(sentence_result)\n",
    "    # Create a DataFrame for these chunks\n",
    "    chunk_df = create_chunk_dataframe(chunk_info)\n",
    "    # Add video ID column to chunk_df, e.g., \"video_1\"\n",
    "    chunk_df[\"video\"] = f\"video_{idx}\"\n",
    "\n",
    "    all_chunk_dfs.append(chunk_df)\n"
   ]
  },
  {
   "cell_type": "code",
   "execution_count": 21,
   "id": "9b7bc08a",
   "metadata": {},
   "outputs": [
    {
     "name": "stdout",
     "output_type": "stream",
     "text": [
      "Combined Frames DataFrame:\n",
      "   timestamp_seconds                 video  frame_number\n",
      "0                0.0    video_1_frame0.jpg             0\n",
      "1                1.2   video_1_frame30.jpg            30\n",
      "2                2.4   video_1_frame60.jpg            60\n",
      "3                3.6   video_1_frame90.jpg            90\n",
      "4                4.8  video_1_frame120.jpg           120\n",
      "\n",
      "Combined Audio Chunk DataFrame:\n",
      "    timestamp                              text    video\n",
      "0  [0.0, 2.0]        I simply must get through!  video_1\n",
      "1  [2.0, 4.0]       Sorry, you're much too big!  video_1\n",
      "2  [4.0, 5.0]                         Yeah man!  video_1\n",
      "3  [5.0, 7.0]   Bobby two pistols in his bitch!  video_1\n",
      "4  [7.0, 8.0]                         Yeah man!  video_1\n"
     ]
    }
   ],
   "source": [
    "# Concatenate all DataFrames for frames and for audio chunks respectively\n",
    "combined_frame_df = pd.concat(all_frame_dfs, ignore_index=True)\n",
    "combined_chunk_df = pd.concat(all_chunk_dfs, ignore_index=True)\n",
    "\n",
    "print(\"Combined Frames DataFrame:\")\n",
    "print(combined_frame_df.head())\n",
    "\n",
    "print(\"\\nCombined Audio Chunk DataFrame:\")\n",
    "print(combined_chunk_df.head())"
   ]
  },
  {
   "cell_type": "code",
   "execution_count": 22,
   "id": "a142fc6f",
   "metadata": {},
   "outputs": [
    {
     "data": {
      "application/vnd.microsoft.datawrangler.viewer.v0+json": {
       "columns": [
        {
         "name": "index",
         "rawType": "int64",
         "type": "integer"
        },
        {
         "name": "timestamp",
         "rawType": "object",
         "type": "unknown"
        },
        {
         "name": "text",
         "rawType": "object",
         "type": "string"
        },
        {
         "name": "video",
         "rawType": "object",
         "type": "string"
        }
       ],
       "conversionMethod": "pd.DataFrame",
       "ref": "e66668ce-ae5d-43bf-a425-fd7762360d5c",
       "rows": [
        [
         "0",
         "[0.0, 2.0]",
         " I simply must get through!",
         "video_1"
        ],
        [
         "1",
         "[2.0, 4.0]",
         " Sorry, you're much too big!",
         "video_1"
        ],
        [
         "2",
         "[4.0, 5.0]",
         " Yeah man!",
         "video_1"
        ],
        [
         "3",
         "[5.0, 7.0]",
         " Bobby two pistols in his bitch!",
         "video_1"
        ],
        [
         "4",
         "[7.0, 8.0]",
         " Yeah man!",
         "video_1"
        ],
        [
         "5",
         "[8.0, 10.0]",
         " Fuck all those niggers man!",
         "video_1"
        ],
        [
         "6",
         "[10.0, 12.0]",
         " Martin Luther King deserved to be killed!",
         "video_1"
        ],
        [
         "7",
         "[12.0, 14.0]",
         " And fuck your nigger!",
         "video_1"
        ],
        [
         "8",
         "[14.0, 16.0]",
         " Just grab and steal your shit man!",
         "video_1"
        ],
        [
         "9",
         "[16.0, 18.0]",
         " Fuck those niggers man!",
         "video_1"
        ],
        [
         "10",
         "[18.0, 20.0]",
         " Fuck all niggers!",
         "video_1"
        ],
        [
         "11",
         "[20.0, 22.0]",
         " Fuck all niggers!",
         "video_1"
        ],
        [
         "12",
         "[22.0, 24.0]",
         " Fuck all niggers!",
         "video_1"
        ],
        [
         "13",
         "[24.0, 25.06]",
         " Fuck all niggers! Fuck all those niggers Fuck all niggers Fuck all niggers",
         "video_1"
        ],
        [
         "14",
         "[25.06, 26.8]",
         " Fuck all those niggers",
         "video_1"
        ],
        [
         "15",
         "[26.8, 28.48]",
         " Fuck all those niggers",
         "video_1"
        ],
        [
         "16",
         "[28.48, 30.2]",
         " Fuck all those niggers",
         "video_1"
        ],
        [
         "17",
         "[30.2, 31.9]",
         " Fuck all those niggers",
         "video_1"
        ],
        [
         "18",
         "[31.9, 33.6]",
         " Rapping still my shit",
         "video_1"
        ],
        [
         "19",
         "[33.6, 35.18]",
         " Rapping still my shit",
         "video_1"
        ],
        [
         "20",
         "[35.18, 36.92]",
         " They wanna rap and steal my shit",
         "video_1"
        ],
        [
         "21",
         "[36.92, 38.68]",
         " Because they can't get shit",
         "video_1"
        ],
        [
         "22",
         "[38.68, 40.5]",
         " Go and get a job",
         "video_1"
        ],
        [
         "23",
         "[40.5, 42.2]",
         " Stop trying to rob",
         "video_1"
        ],
        [
         "24",
         "[42.2, 43.88]",
         " Stop trying to fuck my mom",
         "video_1"
        ],
        [
         "25",
         "[43.88, 45.7]",
         " My dick is bigger than yards",
         "video_1"
        ],
        [
         "26",
         "[45.7, 49.0]",
         " Fuck all niggers, they can burn in hell",
         "video_1"
        ],
        [
         "27",
         "[49.0, 52.5]",
         " Fuck Rosa Parks, I'll slap that bitch as well",
         "video_1"
        ],
        [
         "28",
         "[52.5, 55.9]",
         " Niggers need to burn, niggers need to learn",
         "video_1"
        ],
        [
         "29",
         "[55.9, 59.28]",
         " Niggers can't pass class, niggers can't learn",
         "video_1"
        ],
        [
         "30",
         "[59.28, 62.9]",
         " Stupid ass bitch, stupid ass black fucks",
         "video_1"
        ],
        [
         "31",
         "[62.9, 86.2]",
         " Try to fucking take my shit, get a fucking job, yeah, fuck all those niggers, fuck all those niggers, fuck all those niggers, yeah, bitch my name is Bobby Two Pistols, you try to rob me I got a pistol, I'm shooting a black nigger in his head again. And bitch, I am not George Zimmerman.",
         "video_1"
        ],
        [
         "32",
         "[86.66, 88.44]",
         " I'm gonna kill that nigger dead.",
         "video_1"
        ],
        [
         "33",
         "[88.94, 90.2]",
         " Kill that nigger dead.",
         "video_1"
        ],
        [
         "34",
         "[90.62, 93.58]",
         " Record that shit and put it on Worldstar as well.",
         "video_1"
        ],
        [
         "35",
         "[94.02, 95.36]",
         " Fuck all those niggers.",
         "video_1"
        ],
        [
         "36",
         "[95.84, 97.02]",
         " They can burn in hell.",
         "video_1"
        ],
        [
         "37",
         "[97.52, 98.72]",
         " Fuck Eric Gartner.",
         "video_1"
        ],
        [
         "38",
         "[99.02, 100.42]",
         " He fat as fucking hell.",
         "video_1"
        ],
        [
         "39",
         "[100.94, 102.14]",
         " Fuck all those niggers.",
         "video_1"
        ],
        [
         "40",
         "[102.28, 103.28]",
         " I'll choke him out.",
         "video_1"
        ],
        [
         "41",
         "[104.08, 106.8]",
         " Fuck all those niggers. i'll choke em out fuck all those niggas i'll shoot it out",
         "video_1"
        ],
        [
         "42",
         "[106.8, 113.58]",
         " if a niggas gets mad then we can shoot it out bitch i don't fight with niggas they'll be down",
         "video_1"
        ],
        [
         "43",
         "[113.58, 120.26]",
         " they like to jump they like to rob they like to take a nigga car and rap at the same time",
         "video_1"
        ],
        [
         "44",
         "[120.26, 127.0]",
         " stupid ass niggas all they can do is rhyme They can never get a motherfucking 9 to 5",
         "video_1"
        ],
        [
         "45",
         "[127.0, 130.0]",
         " Stupid ass niggers don't know 5 plus 5",
         "video_1"
        ],
        [
         "46",
         "[130.0, 134.0]",
         " They just know that if I can do a rhyme I can get time",
         "video_1"
        ],
        [
         "47",
         "[134.0, 136.0]",
         " Yeah, fuck all those niggers",
         "video_1"
        ],
        [
         "48",
         "[136.0, 138.0]",
         " Fuck all those niggers",
         "video_1"
        ],
        [
         "49",
         "[138.0, 140.0]",
         " Fuck all those niggers",
         "video_1"
        ]
       ],
       "shape": {
        "columns": 3,
        "rows": 92
       }
      },
      "text/html": [
       "<div>\n",
       "<style scoped>\n",
       "    .dataframe tbody tr th:only-of-type {\n",
       "        vertical-align: middle;\n",
       "    }\n",
       "\n",
       "    .dataframe tbody tr th {\n",
       "        vertical-align: top;\n",
       "    }\n",
       "\n",
       "    .dataframe thead th {\n",
       "        text-align: right;\n",
       "    }\n",
       "</style>\n",
       "<table border=\"1\" class=\"dataframe\">\n",
       "  <thead>\n",
       "    <tr style=\"text-align: right;\">\n",
       "      <th></th>\n",
       "      <th>timestamp</th>\n",
       "      <th>text</th>\n",
       "      <th>video</th>\n",
       "    </tr>\n",
       "  </thead>\n",
       "  <tbody>\n",
       "    <tr>\n",
       "      <th>0</th>\n",
       "      <td>[0.0, 2.0]</td>\n",
       "      <td>I simply must get through!</td>\n",
       "      <td>video_1</td>\n",
       "    </tr>\n",
       "    <tr>\n",
       "      <th>1</th>\n",
       "      <td>[2.0, 4.0]</td>\n",
       "      <td>Sorry, you're much too big!</td>\n",
       "      <td>video_1</td>\n",
       "    </tr>\n",
       "    <tr>\n",
       "      <th>2</th>\n",
       "      <td>[4.0, 5.0]</td>\n",
       "      <td>Yeah man!</td>\n",
       "      <td>video_1</td>\n",
       "    </tr>\n",
       "    <tr>\n",
       "      <th>3</th>\n",
       "      <td>[5.0, 7.0]</td>\n",
       "      <td>Bobby two pistols in his bitch!</td>\n",
       "      <td>video_1</td>\n",
       "    </tr>\n",
       "    <tr>\n",
       "      <th>4</th>\n",
       "      <td>[7.0, 8.0]</td>\n",
       "      <td>Yeah man!</td>\n",
       "      <td>video_1</td>\n",
       "    </tr>\n",
       "    <tr>\n",
       "      <th>...</th>\n",
       "      <td>...</td>\n",
       "      <td>...</td>\n",
       "      <td>...</td>\n",
       "    </tr>\n",
       "    <tr>\n",
       "      <th>87</th>\n",
       "      <td>[20.0, 24.0]</td>\n",
       "      <td>So, pretty much protected, because none of us...</td>\n",
       "      <td>video_2</td>\n",
       "    </tr>\n",
       "    <tr>\n",
       "      <th>88</th>\n",
       "      <td>[24.0, 25.32]</td>\n",
       "      <td>Hate speech.</td>\n",
       "      <td>video_2</td>\n",
       "    </tr>\n",
       "    <tr>\n",
       "      <th>89</th>\n",
       "      <td>[25.96, 27.26]</td>\n",
       "      <td>Well, I love this.</td>\n",
       "      <td>video_2</td>\n",
       "    </tr>\n",
       "    <tr>\n",
       "      <th>90</th>\n",
       "      <td>[28.78, 29.52]</td>\n",
       "      <td>Thank you.</td>\n",
       "      <td>video_2</td>\n",
       "    </tr>\n",
       "    <tr>\n",
       "      <th>91</th>\n",
       "      <td>[29.66, 30.24]</td>\n",
       "      <td>Thank you.</td>\n",
       "      <td>video_2</td>\n",
       "    </tr>\n",
       "  </tbody>\n",
       "</table>\n",
       "<p>92 rows × 3 columns</p>\n",
       "</div>"
      ],
      "text/plain": [
       "         timestamp                                               text    video\n",
       "0       [0.0, 2.0]                         I simply must get through!  video_1\n",
       "1       [2.0, 4.0]                        Sorry, you're much too big!  video_1\n",
       "2       [4.0, 5.0]                                          Yeah man!  video_1\n",
       "3       [5.0, 7.0]                    Bobby two pistols in his bitch!  video_1\n",
       "4       [7.0, 8.0]                                          Yeah man!  video_1\n",
       "..             ...                                                ...      ...\n",
       "87    [20.0, 24.0]   So, pretty much protected, because none of us...  video_2\n",
       "88   [24.0, 25.32]                                       Hate speech.  video_2\n",
       "89  [25.96, 27.26]                                 Well, I love this.  video_2\n",
       "90  [28.78, 29.52]                                         Thank you.  video_2\n",
       "91  [29.66, 30.24]                                         Thank you.  video_2\n",
       "\n",
       "[92 rows x 3 columns]"
      ]
     },
     "execution_count": 22,
     "metadata": {},
     "output_type": "execute_result"
    }
   ],
   "source": [
    "combined_chunk_df"
   ]
  },
  {
   "cell_type": "code",
   "execution_count": 23,
   "id": "77c4890b",
   "metadata": {},
   "outputs": [
    {
     "data": {
      "application/vnd.microsoft.datawrangler.viewer.v0+json": {
       "columns": [
        {
         "name": "index",
         "rawType": "int64",
         "type": "integer"
        },
        {
         "name": "timestamp_seconds",
         "rawType": "float64",
         "type": "float"
        },
        {
         "name": "video",
         "rawType": "object",
         "type": "string"
        },
        {
         "name": "frame_number",
         "rawType": "int64",
         "type": "integer"
        }
       ],
       "conversionMethod": "pd.DataFrame",
       "ref": "00097490-2319-4602-bfd9-c5cae50eb52d",
       "rows": [
        [
         "0",
         "0.0",
         "video_1_frame0.jpg",
         "0"
        ],
        [
         "1",
         "1.2",
         "video_1_frame30.jpg",
         "30"
        ],
        [
         "2",
         "2.4",
         "video_1_frame60.jpg",
         "60"
        ],
        [
         "3",
         "3.6",
         "video_1_frame90.jpg",
         "90"
        ],
        [
         "4",
         "4.8",
         "video_1_frame120.jpg",
         "120"
        ],
        [
         "5",
         "6.0",
         "video_1_frame150.jpg",
         "150"
        ],
        [
         "6",
         "7.2",
         "video_1_frame180.jpg",
         "180"
        ],
        [
         "7",
         "8.4",
         "video_1_frame210.jpg",
         "210"
        ],
        [
         "8",
         "9.6",
         "video_1_frame240.jpg",
         "240"
        ],
        [
         "9",
         "10.8",
         "video_1_frame270.jpg",
         "270"
        ],
        [
         "10",
         "12.0",
         "video_1_frame300.jpg",
         "300"
        ],
        [
         "11",
         "13.2",
         "video_1_frame330.jpg",
         "330"
        ],
        [
         "12",
         "14.4",
         "video_1_frame360.jpg",
         "360"
        ],
        [
         "13",
         "15.6",
         "video_1_frame390.jpg",
         "390"
        ],
        [
         "14",
         "16.8",
         "video_1_frame420.jpg",
         "420"
        ],
        [
         "15",
         "18.0",
         "video_1_frame450.jpg",
         "450"
        ],
        [
         "16",
         "19.2",
         "video_1_frame480.jpg",
         "480"
        ],
        [
         "17",
         "20.4",
         "video_1_frame510.jpg",
         "510"
        ],
        [
         "18",
         "21.6",
         "video_1_frame540.jpg",
         "540"
        ],
        [
         "19",
         "22.8",
         "video_1_frame570.jpg",
         "570"
        ],
        [
         "20",
         "24.0",
         "video_1_frame600.jpg",
         "600"
        ],
        [
         "21",
         "25.2",
         "video_1_frame630.jpg",
         "630"
        ],
        [
         "22",
         "26.4",
         "video_1_frame660.jpg",
         "660"
        ],
        [
         "23",
         "27.6",
         "video_1_frame690.jpg",
         "690"
        ],
        [
         "24",
         "28.8",
         "video_1_frame720.jpg",
         "720"
        ],
        [
         "25",
         "30.0",
         "video_1_frame750.jpg",
         "750"
        ],
        [
         "26",
         "31.2",
         "video_1_frame780.jpg",
         "780"
        ],
        [
         "27",
         "32.4",
         "video_1_frame810.jpg",
         "810"
        ],
        [
         "28",
         "33.6",
         "video_1_frame840.jpg",
         "840"
        ],
        [
         "29",
         "34.8",
         "video_1_frame870.jpg",
         "870"
        ],
        [
         "30",
         "36.0",
         "video_1_frame900.jpg",
         "900"
        ],
        [
         "31",
         "37.2",
         "video_1_frame930.jpg",
         "930"
        ],
        [
         "32",
         "38.4",
         "video_1_frame960.jpg",
         "960"
        ],
        [
         "33",
         "39.6",
         "video_1_frame990.jpg",
         "990"
        ],
        [
         "34",
         "40.8",
         "video_1_frame1020.jpg",
         "1020"
        ],
        [
         "35",
         "42.0",
         "video_1_frame1050.jpg",
         "1050"
        ],
        [
         "36",
         "43.2",
         "video_1_frame1080.jpg",
         "1080"
        ],
        [
         "37",
         "44.4",
         "video_1_frame1110.jpg",
         "1110"
        ],
        [
         "38",
         "45.6",
         "video_1_frame1140.jpg",
         "1140"
        ],
        [
         "39",
         "46.8",
         "video_1_frame1170.jpg",
         "1170"
        ],
        [
         "40",
         "48.0",
         "video_1_frame1200.jpg",
         "1200"
        ],
        [
         "41",
         "49.2",
         "video_1_frame1230.jpg",
         "1230"
        ],
        [
         "42",
         "50.4",
         "video_1_frame1260.jpg",
         "1260"
        ],
        [
         "43",
         "51.6",
         "video_1_frame1290.jpg",
         "1290"
        ],
        [
         "44",
         "52.8",
         "video_1_frame1320.jpg",
         "1320"
        ],
        [
         "45",
         "54.0",
         "video_1_frame1350.jpg",
         "1350"
        ],
        [
         "46",
         "55.2",
         "video_1_frame1380.jpg",
         "1380"
        ],
        [
         "47",
         "56.4",
         "video_1_frame1410.jpg",
         "1410"
        ],
        [
         "48",
         "57.6",
         "video_1_frame1440.jpg",
         "1440"
        ],
        [
         "49",
         "58.8",
         "video_1_frame1470.jpg",
         "1470"
        ]
       ],
       "shape": {
        "columns": 3,
        "rows": 226
       }
      },
      "text/html": [
       "<div>\n",
       "<style scoped>\n",
       "    .dataframe tbody tr th:only-of-type {\n",
       "        vertical-align: middle;\n",
       "    }\n",
       "\n",
       "    .dataframe tbody tr th {\n",
       "        vertical-align: top;\n",
       "    }\n",
       "\n",
       "    .dataframe thead th {\n",
       "        text-align: right;\n",
       "    }\n",
       "</style>\n",
       "<table border=\"1\" class=\"dataframe\">\n",
       "  <thead>\n",
       "    <tr style=\"text-align: right;\">\n",
       "      <th></th>\n",
       "      <th>timestamp_seconds</th>\n",
       "      <th>video</th>\n",
       "      <th>frame_number</th>\n",
       "    </tr>\n",
       "  </thead>\n",
       "  <tbody>\n",
       "    <tr>\n",
       "      <th>0</th>\n",
       "      <td>0.000</td>\n",
       "      <td>video_1_frame0.jpg</td>\n",
       "      <td>0</td>\n",
       "    </tr>\n",
       "    <tr>\n",
       "      <th>1</th>\n",
       "      <td>1.200</td>\n",
       "      <td>video_1_frame30.jpg</td>\n",
       "      <td>30</td>\n",
       "    </tr>\n",
       "    <tr>\n",
       "      <th>2</th>\n",
       "      <td>2.400</td>\n",
       "      <td>video_1_frame60.jpg</td>\n",
       "      <td>60</td>\n",
       "    </tr>\n",
       "    <tr>\n",
       "      <th>3</th>\n",
       "      <td>3.600</td>\n",
       "      <td>video_1_frame90.jpg</td>\n",
       "      <td>90</td>\n",
       "    </tr>\n",
       "    <tr>\n",
       "      <th>4</th>\n",
       "      <td>4.800</td>\n",
       "      <td>video_1_frame120.jpg</td>\n",
       "      <td>120</td>\n",
       "    </tr>\n",
       "    <tr>\n",
       "      <th>...</th>\n",
       "      <td>...</td>\n",
       "      <td>...</td>\n",
       "      <td>...</td>\n",
       "    </tr>\n",
       "    <tr>\n",
       "      <th>221</th>\n",
       "      <td>28.028</td>\n",
       "      <td>video_2_frame840.jpg</td>\n",
       "      <td>840</td>\n",
       "    </tr>\n",
       "    <tr>\n",
       "      <th>222</th>\n",
       "      <td>29.029</td>\n",
       "      <td>video_2_frame870.jpg</td>\n",
       "      <td>870</td>\n",
       "    </tr>\n",
       "    <tr>\n",
       "      <th>223</th>\n",
       "      <td>30.030</td>\n",
       "      <td>video_2_frame900.jpg</td>\n",
       "      <td>900</td>\n",
       "    </tr>\n",
       "    <tr>\n",
       "      <th>224</th>\n",
       "      <td>31.031</td>\n",
       "      <td>video_2_frame930.jpg</td>\n",
       "      <td>930</td>\n",
       "    </tr>\n",
       "    <tr>\n",
       "      <th>225</th>\n",
       "      <td>32.032</td>\n",
       "      <td>video_2_frame960.jpg</td>\n",
       "      <td>960</td>\n",
       "    </tr>\n",
       "  </tbody>\n",
       "</table>\n",
       "<p>226 rows × 3 columns</p>\n",
       "</div>"
      ],
      "text/plain": [
       "     timestamp_seconds                 video  frame_number\n",
       "0                0.000    video_1_frame0.jpg             0\n",
       "1                1.200   video_1_frame30.jpg            30\n",
       "2                2.400   video_1_frame60.jpg            60\n",
       "3                3.600   video_1_frame90.jpg            90\n",
       "4                4.800  video_1_frame120.jpg           120\n",
       "..                 ...                   ...           ...\n",
       "221             28.028  video_2_frame840.jpg           840\n",
       "222             29.029  video_2_frame870.jpg           870\n",
       "223             30.030  video_2_frame900.jpg           900\n",
       "224             31.031  video_2_frame930.jpg           930\n",
       "225             32.032  video_2_frame960.jpg           960\n",
       "\n",
       "[226 rows x 3 columns]"
      ]
     },
     "execution_count": 23,
     "metadata": {},
     "output_type": "execute_result"
    }
   ],
   "source": [
    "combined_frame_df"
   ]
  },
  {
   "cell_type": "code",
   "execution_count": 28,
   "id": "369f7700",
   "metadata": {},
   "outputs": [
    {
     "data": {
      "application/vnd.microsoft.datawrangler.viewer.v0+json": {
       "columns": [
        {
         "name": "index",
         "rawType": "int64",
         "type": "integer"
        },
        {
         "name": "timestamp_seconds",
         "rawType": "float64",
         "type": "float"
        },
        {
         "name": "video",
         "rawType": "object",
         "type": "string"
        },
        {
         "name": "frame_number",
         "rawType": "int64",
         "type": "integer"
        },
        {
         "name": "text_on_image",
         "rawType": "object",
         "type": "string"
        }
       ],
       "conversionMethod": "pd.DataFrame",
       "ref": "63cf3410-fc51-4ed4-aead-5f9d4e4d9143",
       "rows": [
        [
         "0",
         "0.0",
         "video_1_frame0.jpg",
         "0",
         "Hello"
        ],
        [
         "1",
         "1.2",
         "video_1_frame30.jpg",
         "30",
         ""
        ],
        [
         "2",
         "2.4",
         "video_1_frame60.jpg",
         "60",
         "World"
        ],
        [
         "3",
         "3.6",
         "video_1_frame90.jpg",
         "90",
         ""
        ],
        [
         "4",
         "4.8",
         "video_1_frame120.jpg",
         "120",
         ""
        ],
        [
         "5",
         "6.0",
         "video_1_frame150.jpg",
         "150",
         ""
        ],
        [
         "6",
         "7.2",
         "video_1_frame180.jpg",
         "180",
         ""
        ],
        [
         "7",
         "8.4",
         "video_1_frame210.jpg",
         "210",
         "LOL,that guy is crazy!"
        ],
        [
         "8",
         "9.6",
         "video_1_frame240.jpg",
         "240",
         ""
        ],
        [
         "9",
         "10.8",
         "video_1_frame270.jpg",
         "270",
         ""
        ]
       ],
       "shape": {
        "columns": 4,
        "rows": 10
       }
      },
      "text/html": [
       "<div>\n",
       "<style scoped>\n",
       "    .dataframe tbody tr th:only-of-type {\n",
       "        vertical-align: middle;\n",
       "    }\n",
       "\n",
       "    .dataframe tbody tr th {\n",
       "        vertical-align: top;\n",
       "    }\n",
       "\n",
       "    .dataframe thead th {\n",
       "        text-align: right;\n",
       "    }\n",
       "</style>\n",
       "<table border=\"1\" class=\"dataframe\">\n",
       "  <thead>\n",
       "    <tr style=\"text-align: right;\">\n",
       "      <th></th>\n",
       "      <th>timestamp_seconds</th>\n",
       "      <th>video</th>\n",
       "      <th>frame_number</th>\n",
       "      <th>text_on_image</th>\n",
       "    </tr>\n",
       "  </thead>\n",
       "  <tbody>\n",
       "    <tr>\n",
       "      <th>0</th>\n",
       "      <td>0.0</td>\n",
       "      <td>video_1_frame0.jpg</td>\n",
       "      <td>0</td>\n",
       "      <td>Hello</td>\n",
       "    </tr>\n",
       "    <tr>\n",
       "      <th>1</th>\n",
       "      <td>1.2</td>\n",
       "      <td>video_1_frame30.jpg</td>\n",
       "      <td>30</td>\n",
       "      <td></td>\n",
       "    </tr>\n",
       "    <tr>\n",
       "      <th>2</th>\n",
       "      <td>2.4</td>\n",
       "      <td>video_1_frame60.jpg</td>\n",
       "      <td>60</td>\n",
       "      <td>World</td>\n",
       "    </tr>\n",
       "    <tr>\n",
       "      <th>3</th>\n",
       "      <td>3.6</td>\n",
       "      <td>video_1_frame90.jpg</td>\n",
       "      <td>90</td>\n",
       "      <td></td>\n",
       "    </tr>\n",
       "    <tr>\n",
       "      <th>4</th>\n",
       "      <td>4.8</td>\n",
       "      <td>video_1_frame120.jpg</td>\n",
       "      <td>120</td>\n",
       "      <td></td>\n",
       "    </tr>\n",
       "    <tr>\n",
       "      <th>5</th>\n",
       "      <td>6.0</td>\n",
       "      <td>video_1_frame150.jpg</td>\n",
       "      <td>150</td>\n",
       "      <td></td>\n",
       "    </tr>\n",
       "    <tr>\n",
       "      <th>6</th>\n",
       "      <td>7.2</td>\n",
       "      <td>video_1_frame180.jpg</td>\n",
       "      <td>180</td>\n",
       "      <td></td>\n",
       "    </tr>\n",
       "    <tr>\n",
       "      <th>7</th>\n",
       "      <td>8.4</td>\n",
       "      <td>video_1_frame210.jpg</td>\n",
       "      <td>210</td>\n",
       "      <td>LOL,that guy is crazy!</td>\n",
       "    </tr>\n",
       "    <tr>\n",
       "      <th>8</th>\n",
       "      <td>9.6</td>\n",
       "      <td>video_1_frame240.jpg</td>\n",
       "      <td>240</td>\n",
       "      <td></td>\n",
       "    </tr>\n",
       "    <tr>\n",
       "      <th>9</th>\n",
       "      <td>10.8</td>\n",
       "      <td>video_1_frame270.jpg</td>\n",
       "      <td>270</td>\n",
       "      <td></td>\n",
       "    </tr>\n",
       "  </tbody>\n",
       "</table>\n",
       "</div>"
      ],
      "text/plain": [
       "   timestamp_seconds                 video  frame_number  \\\n",
       "0                0.0    video_1_frame0.jpg             0   \n",
       "1                1.2   video_1_frame30.jpg            30   \n",
       "2                2.4   video_1_frame60.jpg            60   \n",
       "3                3.6   video_1_frame90.jpg            90   \n",
       "4                4.8  video_1_frame120.jpg           120   \n",
       "5                6.0  video_1_frame150.jpg           150   \n",
       "6                7.2  video_1_frame180.jpg           180   \n",
       "7                8.4  video_1_frame210.jpg           210   \n",
       "8                9.6  video_1_frame240.jpg           240   \n",
       "9               10.8  video_1_frame270.jpg           270   \n",
       "\n",
       "            text_on_image  \n",
       "0                   Hello  \n",
       "1                          \n",
       "2                   World  \n",
       "3                          \n",
       "4                          \n",
       "5                          \n",
       "6                          \n",
       "7  LOL,that guy is crazy!  \n",
       "8                          \n",
       "9                          "
      ]
     },
     "execution_count": 28,
     "metadata": {},
     "output_type": "execute_result"
    }
   ],
   "source": [
    "#Test with texts on the images\n",
    "# add a column called text_on_image which is a list [\"Hello\",\"\",\"World\",\"\",\"\",\"\",\"\",\"LOL,that guy is crazy!\",...] fill the rest with empty strings\n",
    "combined_frame_df[\"text_on_image\"] = [\n",
    "    \"Hello\", \"\", \"World\", \"\", \"\", \"\", \"\", \"LOL,that guy is crazy!\"\n",
    "] + [\"\"] * (len(combined_frame_df) - 8)\n",
    "\n",
    "\n",
    "combined_frame_df.head(10)\n"
   ]
  },
  {
   "cell_type": "code",
   "execution_count": 36,
   "id": "9d803c68",
   "metadata": {},
   "outputs": [
    {
     "data": {
      "application/vnd.microsoft.datawrangler.viewer.v0+json": {
       "columns": [
        {
         "name": "index",
         "rawType": "int64",
         "type": "integer"
        },
        {
         "name": "timestamp",
         "rawType": "object",
         "type": "unknown"
        },
        {
         "name": "text",
         "rawType": "object",
         "type": "string"
        },
        {
         "name": "video",
         "rawType": "object",
         "type": "string"
        }
       ],
       "conversionMethod": "pd.DataFrame",
       "ref": "e0b2b809-7b8e-4137-8ce0-94dc5e7a4b70",
       "rows": [
        [
         "0",
         "[0.0, 2.0]",
         " I simply must get through!",
         "video_1"
        ],
        [
         "1",
         "[2.0, 4.0]",
         " Sorry, you're much too big!",
         "video_1"
        ],
        [
         "2",
         "[4.0, 5.0]",
         " Yeah man!",
         "video_1"
        ],
        [
         "3",
         "[5.0, 7.0]",
         " Bobby two pistols in his bitch!",
         "video_1"
        ],
        [
         "4",
         "[7.0, 8.0]",
         " Yeah man!",
         "video_1"
        ],
        [
         "5",
         "[8.0, 10.0]",
         " Fuck all those niggers man!",
         "video_1"
        ],
        [
         "6",
         "[10.0, 12.0]",
         " Martin Luther King deserved to be killed!",
         "video_1"
        ],
        [
         "7",
         "[12.0, 14.0]",
         " And fuck your nigger!",
         "video_1"
        ],
        [
         "8",
         "[14.0, 16.0]",
         " Just grab and steal your shit man!",
         "video_1"
        ],
        [
         "9",
         "[16.0, 18.0]",
         " Fuck those niggers man!",
         "video_1"
        ],
        [
         "10",
         "[18.0, 20.0]",
         " Fuck all niggers!",
         "video_1"
        ],
        [
         "11",
         "[20.0, 22.0]",
         " Fuck all niggers!",
         "video_1"
        ],
        [
         "12",
         "[22.0, 24.0]",
         " Fuck all niggers!",
         "video_1"
        ],
        [
         "13",
         "[24.0, 25.06]",
         " Fuck all niggers! Fuck all those niggers Fuck all niggers Fuck all niggers",
         "video_1"
        ],
        [
         "14",
         "[25.06, 26.8]",
         " Fuck all those niggers",
         "video_1"
        ],
        [
         "15",
         "[26.8, 28.48]",
         " Fuck all those niggers",
         "video_1"
        ],
        [
         "16",
         "[28.48, 30.2]",
         " Fuck all those niggers",
         "video_1"
        ],
        [
         "17",
         "[30.2, 31.9]",
         " Fuck all those niggers",
         "video_1"
        ],
        [
         "18",
         "[31.9, 33.6]",
         " Rapping still my shit",
         "video_1"
        ],
        [
         "19",
         "[33.6, 35.18]",
         " Rapping still my shit",
         "video_1"
        ],
        [
         "20",
         "[35.18, 36.92]",
         " They wanna rap and steal my shit",
         "video_1"
        ],
        [
         "21",
         "[36.92, 38.68]",
         " Because they can't get shit",
         "video_1"
        ],
        [
         "22",
         "[38.68, 40.5]",
         " Go and get a job",
         "video_1"
        ],
        [
         "23",
         "[40.5, 42.2]",
         " Stop trying to rob",
         "video_1"
        ],
        [
         "24",
         "[42.2, 43.88]",
         " Stop trying to fuck my mom",
         "video_1"
        ],
        [
         "25",
         "[43.88, 45.7]",
         " My dick is bigger than yards",
         "video_1"
        ],
        [
         "26",
         "[45.7, 49.0]",
         " Fuck all niggers, they can burn in hell",
         "video_1"
        ],
        [
         "27",
         "[49.0, 52.5]",
         " Fuck Rosa Parks, I'll slap that bitch as well",
         "video_1"
        ],
        [
         "28",
         "[52.5, 55.9]",
         " Niggers need to burn, niggers need to learn",
         "video_1"
        ],
        [
         "29",
         "[55.9, 59.28]",
         " Niggers can't pass class, niggers can't learn",
         "video_1"
        ],
        [
         "30",
         "[59.28, 62.9]",
         " Stupid ass bitch, stupid ass black fucks",
         "video_1"
        ],
        [
         "31",
         "[62.9, 86.2]",
         " Try to fucking take my shit, get a fucking job, yeah, fuck all those niggers, fuck all those niggers, fuck all those niggers, yeah, bitch my name is Bobby Two Pistols, you try to rob me I got a pistol, I'm shooting a black nigger in his head again. And bitch, I am not George Zimmerman.",
         "video_1"
        ],
        [
         "32",
         "[86.66, 88.44]",
         " I'm gonna kill that nigger dead.",
         "video_1"
        ],
        [
         "33",
         "[88.94, 90.2]",
         " Kill that nigger dead.",
         "video_1"
        ],
        [
         "34",
         "[90.62, 93.58]",
         " Record that shit and put it on Worldstar as well.",
         "video_1"
        ],
        [
         "35",
         "[94.02, 95.36]",
         " Fuck all those niggers.",
         "video_1"
        ],
        [
         "36",
         "[95.84, 97.02]",
         " They can burn in hell.",
         "video_1"
        ],
        [
         "37",
         "[97.52, 98.72]",
         " Fuck Eric Gartner.",
         "video_1"
        ],
        [
         "38",
         "[99.02, 100.42]",
         " He fat as fucking hell.",
         "video_1"
        ],
        [
         "39",
         "[100.94, 102.14]",
         " Fuck all those niggers.",
         "video_1"
        ],
        [
         "40",
         "[102.28, 103.28]",
         " I'll choke him out.",
         "video_1"
        ],
        [
         "41",
         "[104.08, 106.8]",
         " Fuck all those niggers. i'll choke em out fuck all those niggas i'll shoot it out",
         "video_1"
        ],
        [
         "42",
         "[106.8, 113.58]",
         " if a niggas gets mad then we can shoot it out bitch i don't fight with niggas they'll be down",
         "video_1"
        ],
        [
         "43",
         "[113.58, 120.26]",
         " they like to jump they like to rob they like to take a nigga car and rap at the same time",
         "video_1"
        ],
        [
         "44",
         "[120.26, 127.0]",
         " stupid ass niggas all they can do is rhyme They can never get a motherfucking 9 to 5",
         "video_1"
        ],
        [
         "45",
         "[127.0, 130.0]",
         " Stupid ass niggers don't know 5 plus 5",
         "video_1"
        ],
        [
         "46",
         "[130.0, 134.0]",
         " They just know that if I can do a rhyme I can get time",
         "video_1"
        ],
        [
         "47",
         "[134.0, 136.0]",
         " Yeah, fuck all those niggers",
         "video_1"
        ],
        [
         "48",
         "[136.0, 138.0]",
         " Fuck all those niggers",
         "video_1"
        ],
        [
         "49",
         "[138.0, 140.0]",
         " Fuck all those niggers",
         "video_1"
        ]
       ],
       "shape": {
        "columns": 3,
        "rows": 92
       }
      },
      "text/html": [
       "<div>\n",
       "<style scoped>\n",
       "    .dataframe tbody tr th:only-of-type {\n",
       "        vertical-align: middle;\n",
       "    }\n",
       "\n",
       "    .dataframe tbody tr th {\n",
       "        vertical-align: top;\n",
       "    }\n",
       "\n",
       "    .dataframe thead th {\n",
       "        text-align: right;\n",
       "    }\n",
       "</style>\n",
       "<table border=\"1\" class=\"dataframe\">\n",
       "  <thead>\n",
       "    <tr style=\"text-align: right;\">\n",
       "      <th></th>\n",
       "      <th>timestamp</th>\n",
       "      <th>text</th>\n",
       "      <th>video</th>\n",
       "    </tr>\n",
       "  </thead>\n",
       "  <tbody>\n",
       "    <tr>\n",
       "      <th>0</th>\n",
       "      <td>[0.0, 2.0]</td>\n",
       "      <td>I simply must get through!</td>\n",
       "      <td>video_1</td>\n",
       "    </tr>\n",
       "    <tr>\n",
       "      <th>1</th>\n",
       "      <td>[2.0, 4.0]</td>\n",
       "      <td>Sorry, you're much too big!</td>\n",
       "      <td>video_1</td>\n",
       "    </tr>\n",
       "    <tr>\n",
       "      <th>2</th>\n",
       "      <td>[4.0, 5.0]</td>\n",
       "      <td>Yeah man!</td>\n",
       "      <td>video_1</td>\n",
       "    </tr>\n",
       "    <tr>\n",
       "      <th>3</th>\n",
       "      <td>[5.0, 7.0]</td>\n",
       "      <td>Bobby two pistols in his bitch!</td>\n",
       "      <td>video_1</td>\n",
       "    </tr>\n",
       "    <tr>\n",
       "      <th>4</th>\n",
       "      <td>[7.0, 8.0]</td>\n",
       "      <td>Yeah man!</td>\n",
       "      <td>video_1</td>\n",
       "    </tr>\n",
       "    <tr>\n",
       "      <th>...</th>\n",
       "      <td>...</td>\n",
       "      <td>...</td>\n",
       "      <td>...</td>\n",
       "    </tr>\n",
       "    <tr>\n",
       "      <th>87</th>\n",
       "      <td>[20.0, 24.0]</td>\n",
       "      <td>So, pretty much protected, because none of us...</td>\n",
       "      <td>video_2</td>\n",
       "    </tr>\n",
       "    <tr>\n",
       "      <th>88</th>\n",
       "      <td>[24.0, 25.32]</td>\n",
       "      <td>Hate speech.</td>\n",
       "      <td>video_2</td>\n",
       "    </tr>\n",
       "    <tr>\n",
       "      <th>89</th>\n",
       "      <td>[25.96, 27.26]</td>\n",
       "      <td>Well, I love this.</td>\n",
       "      <td>video_2</td>\n",
       "    </tr>\n",
       "    <tr>\n",
       "      <th>90</th>\n",
       "      <td>[28.78, 29.52]</td>\n",
       "      <td>Thank you.</td>\n",
       "      <td>video_2</td>\n",
       "    </tr>\n",
       "    <tr>\n",
       "      <th>91</th>\n",
       "      <td>[29.66, 30.24]</td>\n",
       "      <td>Thank you.</td>\n",
       "      <td>video_2</td>\n",
       "    </tr>\n",
       "  </tbody>\n",
       "</table>\n",
       "<p>92 rows × 3 columns</p>\n",
       "</div>"
      ],
      "text/plain": [
       "         timestamp                                               text    video\n",
       "0       [0.0, 2.0]                         I simply must get through!  video_1\n",
       "1       [2.0, 4.0]                        Sorry, you're much too big!  video_1\n",
       "2       [4.0, 5.0]                                          Yeah man!  video_1\n",
       "3       [5.0, 7.0]                    Bobby two pistols in his bitch!  video_1\n",
       "4       [7.0, 8.0]                                          Yeah man!  video_1\n",
       "..             ...                                                ...      ...\n",
       "87    [20.0, 24.0]   So, pretty much protected, because none of us...  video_2\n",
       "88   [24.0, 25.32]                                       Hate speech.  video_2\n",
       "89  [25.96, 27.26]                                 Well, I love this.  video_2\n",
       "90  [28.78, 29.52]                                         Thank you.  video_2\n",
       "91  [29.66, 30.24]                                         Thank you.  video_2\n",
       "\n",
       "[92 rows x 3 columns]"
      ]
     },
     "execution_count": 36,
     "metadata": {},
     "output_type": "execute_result"
    }
   ],
   "source": [
    "combined_chunk_df"
   ]
  },
  {
   "cell_type": "code",
   "execution_count": 71,
   "id": "fddce075",
   "metadata": {},
   "outputs": [
    {
     "data": {
      "application/vnd.microsoft.datawrangler.viewer.v0+json": {
       "columns": [
        {
         "name": "index",
         "rawType": "int64",
         "type": "integer"
        },
        {
         "name": "timestamp",
         "rawType": "object",
         "type": "unknown"
        },
        {
         "name": "text",
         "rawType": "object",
         "type": "string"
        },
        {
         "name": "video",
         "rawType": "object",
         "type": "string"
        }
       ],
       "conversionMethod": "pd.DataFrame",
       "ref": "ee033cb4-7486-43d9-9cba-88be01007270",
       "rows": [
        [
         "0",
         "[0.0, 2.0]",
         " I simply must get through!",
         "video_1"
        ],
        [
         "1",
         "[2.0, 4.0]",
         " Sorry, you're much too big!",
         "video_1"
        ],
        [
         "2",
         "[4.0, 5.0]",
         " Yeah man!",
         "video_1"
        ],
        [
         "3",
         "[5.0, 7.0]",
         " Bobby two pistols in his bitch!",
         "video_1"
        ],
        [
         "4",
         "[7.0, 8.0]",
         " Yeah man!",
         "video_1"
        ]
       ],
       "shape": {
        "columns": 3,
        "rows": 5
       }
      },
      "text/html": [
       "<div>\n",
       "<style scoped>\n",
       "    .dataframe tbody tr th:only-of-type {\n",
       "        vertical-align: middle;\n",
       "    }\n",
       "\n",
       "    .dataframe tbody tr th {\n",
       "        vertical-align: top;\n",
       "    }\n",
       "\n",
       "    .dataframe thead th {\n",
       "        text-align: right;\n",
       "    }\n",
       "</style>\n",
       "<table border=\"1\" class=\"dataframe\">\n",
       "  <thead>\n",
       "    <tr style=\"text-align: right;\">\n",
       "      <th></th>\n",
       "      <th>timestamp</th>\n",
       "      <th>text</th>\n",
       "      <th>video</th>\n",
       "    </tr>\n",
       "  </thead>\n",
       "  <tbody>\n",
       "    <tr>\n",
       "      <th>0</th>\n",
       "      <td>[0.0, 2.0]</td>\n",
       "      <td>I simply must get through!</td>\n",
       "      <td>video_1</td>\n",
       "    </tr>\n",
       "    <tr>\n",
       "      <th>1</th>\n",
       "      <td>[2.0, 4.0]</td>\n",
       "      <td>Sorry, you're much too big!</td>\n",
       "      <td>video_1</td>\n",
       "    </tr>\n",
       "    <tr>\n",
       "      <th>2</th>\n",
       "      <td>[4.0, 5.0]</td>\n",
       "      <td>Yeah man!</td>\n",
       "      <td>video_1</td>\n",
       "    </tr>\n",
       "    <tr>\n",
       "      <th>3</th>\n",
       "      <td>[5.0, 7.0]</td>\n",
       "      <td>Bobby two pistols in his bitch!</td>\n",
       "      <td>video_1</td>\n",
       "    </tr>\n",
       "    <tr>\n",
       "      <th>4</th>\n",
       "      <td>[7.0, 8.0]</td>\n",
       "      <td>Yeah man!</td>\n",
       "      <td>video_1</td>\n",
       "    </tr>\n",
       "  </tbody>\n",
       "</table>\n",
       "</div>"
      ],
      "text/plain": [
       "    timestamp                              text    video\n",
       "0  [0.0, 2.0]        I simply must get through!  video_1\n",
       "1  [2.0, 4.0]       Sorry, you're much too big!  video_1\n",
       "2  [4.0, 5.0]                         Yeah man!  video_1\n",
       "3  [5.0, 7.0]   Bobby two pistols in his bitch!  video_1\n",
       "4  [7.0, 8.0]                         Yeah man!  video_1"
      ]
     },
     "execution_count": 71,
     "metadata": {},
     "output_type": "execute_result"
    }
   ],
   "source": [
    "final_df = combined_chunk_df.copy()\n",
    "final_df.head()"
   ]
  },
  {
   "cell_type": "code",
   "execution_count": 72,
   "id": "40e5150f",
   "metadata": {},
   "outputs": [
    {
     "data": {
      "application/vnd.microsoft.datawrangler.viewer.v0+json": {
       "columns": [
        {
         "name": "index",
         "rawType": "int64",
         "type": "integer"
        },
        {
         "name": "timestamp",
         "rawType": "object",
         "type": "unknown"
        },
        {
         "name": "text",
         "rawType": "object",
         "type": "string"
        },
        {
         "name": "video",
         "rawType": "object",
         "type": "string"
        }
       ],
       "conversionMethod": "pd.DataFrame",
       "ref": "f676f324-a4b4-49fe-8fbe-234a902a1566",
       "rows": [
        [
         "0",
         "[0.0, 2.0]",
         "I simply must get through! | Hello",
         "video_1"
        ],
        [
         "1",
         "[2.0, 4.0]",
         "Sorry, you're much too big! | World",
         "video_1"
        ],
        [
         "2",
         "[4.0, 5.0]",
         "Yeah man!",
         "video_1"
        ],
        [
         "3",
         "[5.0, 7.0]",
         "Bobby two pistols in his bitch!",
         "video_1"
        ],
        [
         "4",
         "[7.0, 8.0]",
         "Yeah man!",
         "video_1"
        ],
        [
         "5",
         "[8.0, 10.0]",
         "Fuck all those niggers man! | LOL,that guy is crazy!",
         "video_1"
        ],
        [
         "6",
         "[10.0, 12.0]",
         "Martin Luther King deserved to be killed!",
         "video_1"
        ],
        [
         "7",
         "[12.0, 14.0]",
         "And fuck your nigger!",
         "video_1"
        ],
        [
         "8",
         "[14.0, 16.0]",
         "Just grab and steal your shit man!",
         "video_1"
        ],
        [
         "9",
         "[16.0, 18.0]",
         "Fuck those niggers man!",
         "video_1"
        ]
       ],
       "shape": {
        "columns": 3,
        "rows": 10
       }
      },
      "text/html": [
       "<div>\n",
       "<style scoped>\n",
       "    .dataframe tbody tr th:only-of-type {\n",
       "        vertical-align: middle;\n",
       "    }\n",
       "\n",
       "    .dataframe tbody tr th {\n",
       "        vertical-align: top;\n",
       "    }\n",
       "\n",
       "    .dataframe thead th {\n",
       "        text-align: right;\n",
       "    }\n",
       "</style>\n",
       "<table border=\"1\" class=\"dataframe\">\n",
       "  <thead>\n",
       "    <tr style=\"text-align: right;\">\n",
       "      <th></th>\n",
       "      <th>timestamp</th>\n",
       "      <th>text</th>\n",
       "      <th>video</th>\n",
       "    </tr>\n",
       "  </thead>\n",
       "  <tbody>\n",
       "    <tr>\n",
       "      <th>0</th>\n",
       "      <td>[0.0, 2.0]</td>\n",
       "      <td>I simply must get through! | Hello</td>\n",
       "      <td>video_1</td>\n",
       "    </tr>\n",
       "    <tr>\n",
       "      <th>1</th>\n",
       "      <td>[2.0, 4.0]</td>\n",
       "      <td>Sorry, you're much too big! | World</td>\n",
       "      <td>video_1</td>\n",
       "    </tr>\n",
       "    <tr>\n",
       "      <th>2</th>\n",
       "      <td>[4.0, 5.0]</td>\n",
       "      <td>Yeah man!</td>\n",
       "      <td>video_1</td>\n",
       "    </tr>\n",
       "    <tr>\n",
       "      <th>3</th>\n",
       "      <td>[5.0, 7.0]</td>\n",
       "      <td>Bobby two pistols in his bitch!</td>\n",
       "      <td>video_1</td>\n",
       "    </tr>\n",
       "    <tr>\n",
       "      <th>4</th>\n",
       "      <td>[7.0, 8.0]</td>\n",
       "      <td>Yeah man!</td>\n",
       "      <td>video_1</td>\n",
       "    </tr>\n",
       "    <tr>\n",
       "      <th>5</th>\n",
       "      <td>[8.0, 10.0]</td>\n",
       "      <td>Fuck all those niggers man! | LOL,that guy is ...</td>\n",
       "      <td>video_1</td>\n",
       "    </tr>\n",
       "    <tr>\n",
       "      <th>6</th>\n",
       "      <td>[10.0, 12.0]</td>\n",
       "      <td>Martin Luther King deserved to be killed!</td>\n",
       "      <td>video_1</td>\n",
       "    </tr>\n",
       "    <tr>\n",
       "      <th>7</th>\n",
       "      <td>[12.0, 14.0]</td>\n",
       "      <td>And fuck your nigger!</td>\n",
       "      <td>video_1</td>\n",
       "    </tr>\n",
       "    <tr>\n",
       "      <th>8</th>\n",
       "      <td>[14.0, 16.0]</td>\n",
       "      <td>Just grab and steal your shit man!</td>\n",
       "      <td>video_1</td>\n",
       "    </tr>\n",
       "    <tr>\n",
       "      <th>9</th>\n",
       "      <td>[16.0, 18.0]</td>\n",
       "      <td>Fuck those niggers man!</td>\n",
       "      <td>video_1</td>\n",
       "    </tr>\n",
       "  </tbody>\n",
       "</table>\n",
       "</div>"
      ],
      "text/plain": [
       "      timestamp                                               text    video\n",
       "0    [0.0, 2.0]                 I simply must get through! | Hello  video_1\n",
       "1    [2.0, 4.0]                Sorry, you're much too big! | World  video_1\n",
       "2    [4.0, 5.0]                                          Yeah man!  video_1\n",
       "3    [5.0, 7.0]                    Bobby two pistols in his bitch!  video_1\n",
       "4    [7.0, 8.0]                                          Yeah man!  video_1\n",
       "5   [8.0, 10.0]  Fuck all those niggers man! | LOL,that guy is ...  video_1\n",
       "6  [10.0, 12.0]          Martin Luther King deserved to be killed!  video_1\n",
       "7  [12.0, 14.0]                              And fuck your nigger!  video_1\n",
       "8  [14.0, 16.0]                 Just grab and steal your shit man!  video_1\n",
       "9  [16.0, 18.0]                            Fuck those niggers man!  video_1"
      ]
     },
     "execution_count": 72,
     "metadata": {},
     "output_type": "execute_result"
    }
   ],
   "source": [
    "\n",
    "# --- Main Logic ---\n",
    "\n",
    "# 1) Unpack the \"timestamp\" column from final_df into \"start\" and \"end\" columns\n",
    "final_df[['start', 'end']] = pd.DataFrame(final_df['timestamp'].tolist(), index=final_df.index)\n",
    "\n",
    "# 2) For each row in combined_frame_df, find matching rows in final_df and update the text\n",
    "for _, frame in combined_frame_df.iterrows():\n",
    "    # Extract the numeric timestamp and text from the frame row\n",
    "    t = frame[\"timestamp_seconds\"]\n",
    "    text_on_image = str(frame[\"text_on_image\"]).strip()\n",
    "    \n",
    "    # We assume the \"video\" column in combined_frame_df is something like \"video_1_frame2342.jpg\"\n",
    "    video_id = frame[\"video\"].split(\"_frame\")[0]\n",
    "    \n",
    "    # Build a mask to find the matching rows in final_df\n",
    "    mask = (\n",
    "        (final_df[\"video\"] == video_id) &\n",
    "        (final_df[\"start\"] <= t) &\n",
    "        (final_df[\"end\"] >= t)\n",
    "    )\n",
    "    \n",
    "    # Apply the combine_text function only on the masked rows\n",
    "    final_df.loc[mask, \"text\"] = final_df.loc[mask, \"text\"].apply(\n",
    "        lambda current_text: combine_text(current_text, text_on_image)\n",
    "    )\n",
    "\n",
    "# 3) (Optional) Drop the columns \"start\" and \"end\" if not needed anymore\n",
    "final_df.drop(columns=[\"start\", \"end\"], inplace=True)\n",
    "\n",
    "final_df.head(10)\n"
   ]
  },
  {
   "cell_type": "code",
   "execution_count": 73,
   "id": "4681922b",
   "metadata": {},
   "outputs": [
    {
     "data": {
      "application/vnd.microsoft.datawrangler.viewer.v0+json": {
       "columns": [
        {
         "name": "index",
         "rawType": "int64",
         "type": "integer"
        },
        {
         "name": "video_file_name",
         "rawType": "object",
         "type": "string"
        },
        {
         "name": "label",
         "rawType": "object",
         "type": "string"
        },
        {
         "name": "hate_snippet",
         "rawType": "object",
         "type": "string"
        },
        {
         "name": "target",
         "rawType": "object",
         "type": "string"
        },
        {
         "name": "Hate_Label",
         "rawType": "float64",
         "type": "float"
        },
        {
         "name": "Image_hate",
         "rawType": "float64",
         "type": "float"
        },
        {
         "name": "Audio_hate",
         "rawType": "float64",
         "type": "float"
        },
        {
         "name": "Text_hate",
         "rawType": "float64",
         "type": "float"
        },
        {
         "name": "Frame_hate",
         "rawType": "float64",
         "type": "float"
        }
       ],
       "conversionMethod": "pd.DataFrame",
       "ref": "76aeaf1e-9220-4fca-a33a-e8e891dec216",
       "rows": [
        [
         "3",
         "hate_video_3.mp4",
         "Hate",
         "[['00:00:03', '00:01:40'], ['00:01:41', '00:03:27']]",
         "Blacks",
         "1.0",
         "1.0",
         "1.0",
         "0.0",
         "1.0"
        ]
       ],
       "shape": {
        "columns": 9,
        "rows": 1
       }
      },
      "text/html": [
       "<div>\n",
       "<style scoped>\n",
       "    .dataframe tbody tr th:only-of-type {\n",
       "        vertical-align: middle;\n",
       "    }\n",
       "\n",
       "    .dataframe tbody tr th {\n",
       "        vertical-align: top;\n",
       "    }\n",
       "\n",
       "    .dataframe thead th {\n",
       "        text-align: right;\n",
       "    }\n",
       "</style>\n",
       "<table border=\"1\" class=\"dataframe\">\n",
       "  <thead>\n",
       "    <tr style=\"text-align: right;\">\n",
       "      <th></th>\n",
       "      <th>video_file_name</th>\n",
       "      <th>label</th>\n",
       "      <th>hate_snippet</th>\n",
       "      <th>target</th>\n",
       "      <th>Hate_Label</th>\n",
       "      <th>Image_hate</th>\n",
       "      <th>Audio_hate</th>\n",
       "      <th>Text_hate</th>\n",
       "      <th>Frame_hate</th>\n",
       "    </tr>\n",
       "  </thead>\n",
       "  <tbody>\n",
       "    <tr>\n",
       "      <th>3</th>\n",
       "      <td>hate_video_3.mp4</td>\n",
       "      <td>Hate</td>\n",
       "      <td>[['00:00:03', '00:01:40'], ['00:01:41', '00:03...</td>\n",
       "      <td>Blacks</td>\n",
       "      <td>1.0</td>\n",
       "      <td>1.0</td>\n",
       "      <td>1.0</td>\n",
       "      <td>0.0</td>\n",
       "      <td>1.0</td>\n",
       "    </tr>\n",
       "  </tbody>\n",
       "</table>\n",
       "</div>"
      ],
      "text/plain": [
       "    video_file_name label                                       hate_snippet  \\\n",
       "3  hate_video_3.mp4  Hate  [['00:00:03', '00:01:40'], ['00:01:41', '00:03...   \n",
       "\n",
       "   target  Hate_Label  Image_hate  Audio_hate  Text_hate  Frame_hate  \n",
       "3  Blacks         1.0         1.0         1.0        0.0         1.0  "
      ]
     },
     "execution_count": 73,
     "metadata": {},
     "output_type": "execute_result"
    }
   ],
   "source": [
    "annot_data = pd.read_csv(\"./HateMM_annotations/HateMM_annotation.csv\", delimiter=\";\")\n",
    "annot_data = annot_data[annot_data[\"video_file_name\"] == \"hate_video_3.mp4\"]\n",
    "annot_data"
   ]
  },
  {
   "cell_type": "code",
   "execution_count": 74,
   "id": "00db1e24",
   "metadata": {},
   "outputs": [
    {
     "name": "stdout",
     "output_type": "stream",
     "text": [
      "    timestamp                                 text    video     label\n",
      "0  [0.0, 2.0]   I simply must get through! | Hello  video_1  Non Hate\n",
      "1  [2.0, 4.0]  Sorry, you're much too big! | World  video_1  Non Hate\n",
      "2  [4.0, 5.0]                            Yeah man!  video_1  Non Hate\n",
      "3  [5.0, 7.0]      Bobby two pistols in his bitch!  video_1  Non Hate\n",
      "4  [7.0, 8.0]                            Yeah man!  video_1  Non Hate\n"
     ]
    }
   ],
   "source": [
    "import pandas as pd\n",
    "\n",
    "def intervals_intersect(intervalA, intervalB):\n",
    "    \"\"\"\n",
    "    Check if two intervals [a_start, a_end] and [b_start, b_end] intersect.\n",
    "    They intersect if a_start < b_end AND b_start < a_end.\n",
    "    \"\"\"\n",
    "    return intervalA[0] < intervalB[1] and intervalB[0] < intervalA[1]\n",
    "\n",
    "# --- STEP 1: FILTER ANNOT_DATA FOR \"Hate\" ROWS & FLATTEN THE INTERVALS ---\n",
    "hate_intervals = []\n",
    "\n",
    "# We'll only collect intervals from rows whose \"label\" is \"Hate\".\n",
    "hate_rows = annot_data[annot_data[\"label\"] == \"Hate\"]\n",
    "\n",
    "for _, row in hate_rows.iterrows():\n",
    "    snippet = row[\"hate_snippet\"]\n",
    "    # snippet could be a single interval [start, end] or a list of intervals [[s1, e1], [s2, e2], ...]\n",
    "    if isinstance(snippet, list):\n",
    "        # If snippet[0] is itself a list, it means multiple intervals\n",
    "        if snippet and isinstance(snippet[0], list):\n",
    "            # multiple intervals\n",
    "            for inter in snippet:\n",
    "                hate_intervals.append(inter)\n",
    "        else:\n",
    "            # single interval\n",
    "            hate_intervals.append(snippet)\n",
    "    # If not a list, you might skip or handle differently\n",
    "\n",
    "# --- STEP 2: ADD \"start\" AND \"end\" COLUMNS TO final_df FOR EASIER COMPARISON ---\n",
    "final_df[[\"start\", \"end\"]] = pd.DataFrame(final_df[\"timestamp\"].tolist(), index=final_df.index)\n",
    "\n",
    "# --- STEP 3: LABEL THE ROWS IN final_df ---\n",
    "labels = []\n",
    "for _, row in final_df.iterrows():\n",
    "    interval = [row[\"start\"], row[\"end\"]]\n",
    "    # By default assume \"Non Hate\"\n",
    "    row_label = \"Non Hate\"\n",
    "    \n",
    "    # Check if this interval intersects with any hate interval\n",
    "    for hate_interval in hate_intervals:\n",
    "        if intervals_intersect(interval, hate_interval):\n",
    "            row_label = \"Hate\"\n",
    "            break  # No need to check further\n",
    "    \n",
    "    labels.append(row_label)\n",
    "\n",
    "final_df[\"label\"] = labels\n",
    "\n",
    "# (Optional) Remove \"start\" and \"end\" if not needed anymore\n",
    "final_df.drop(columns=[\"start\", \"end\"], inplace=True)\n",
    "\n",
    "# Now final_df[\"label\"] is \"Hate\" if the interval intersects with any snippet, otherwise \"Non Hate\".\n",
    "print(final_df.head())\n"
   ]
  },
  {
   "cell_type": "code",
   "execution_count": 76,
   "id": "2408eb3e",
   "metadata": {},
   "outputs": [
    {
     "data": {
      "application/vnd.microsoft.datawrangler.viewer.v0+json": {
       "columns": [
        {
         "name": "index",
         "rawType": "int64",
         "type": "integer"
        },
        {
         "name": "timestamp",
         "rawType": "object",
         "type": "unknown"
        },
        {
         "name": "text",
         "rawType": "object",
         "type": "string"
        },
        {
         "name": "video",
         "rawType": "object",
         "type": "string"
        },
        {
         "name": "label",
         "rawType": "object",
         "type": "string"
        }
       ],
       "conversionMethod": "pd.DataFrame",
       "ref": "853465a3-b49a-414c-bab0-92cad106486a",
       "rows": [
        [
         "0",
         "[0.0, 2.0]",
         "I simply must get through! | Hello",
         "video_1",
         "Non Hate"
        ],
        [
         "1",
         "[2.0, 4.0]",
         "Sorry, you're much too big! | World",
         "video_1",
         "Non Hate"
        ],
        [
         "2",
         "[4.0, 5.0]",
         "Yeah man!",
         "video_1",
         "Non Hate"
        ],
        [
         "3",
         "[5.0, 7.0]",
         "Bobby two pistols in his bitch!",
         "video_1",
         "Non Hate"
        ],
        [
         "4",
         "[7.0, 8.0]",
         "Yeah man!",
         "video_1",
         "Non Hate"
        ],
        [
         "5",
         "[8.0, 10.0]",
         "Fuck all those niggers man! | LOL,that guy is crazy!",
         "video_1",
         "Non Hate"
        ],
        [
         "6",
         "[10.0, 12.0]",
         "Martin Luther King deserved to be killed!",
         "video_1",
         "Non Hate"
        ],
        [
         "7",
         "[12.0, 14.0]",
         "And fuck your nigger!",
         "video_1",
         "Non Hate"
        ],
        [
         "8",
         "[14.0, 16.0]",
         "Just grab and steal your shit man!",
         "video_1",
         "Non Hate"
        ],
        [
         "9",
         "[16.0, 18.0]",
         "Fuck those niggers man!",
         "video_1",
         "Non Hate"
        ]
       ],
       "shape": {
        "columns": 4,
        "rows": 10
       }
      },
      "text/html": [
       "<div>\n",
       "<style scoped>\n",
       "    .dataframe tbody tr th:only-of-type {\n",
       "        vertical-align: middle;\n",
       "    }\n",
       "\n",
       "    .dataframe tbody tr th {\n",
       "        vertical-align: top;\n",
       "    }\n",
       "\n",
       "    .dataframe thead th {\n",
       "        text-align: right;\n",
       "    }\n",
       "</style>\n",
       "<table border=\"1\" class=\"dataframe\">\n",
       "  <thead>\n",
       "    <tr style=\"text-align: right;\">\n",
       "      <th></th>\n",
       "      <th>timestamp</th>\n",
       "      <th>text</th>\n",
       "      <th>video</th>\n",
       "      <th>label</th>\n",
       "    </tr>\n",
       "  </thead>\n",
       "  <tbody>\n",
       "    <tr>\n",
       "      <th>0</th>\n",
       "      <td>[0.0, 2.0]</td>\n",
       "      <td>I simply must get through! | Hello</td>\n",
       "      <td>video_1</td>\n",
       "      <td>Non Hate</td>\n",
       "    </tr>\n",
       "    <tr>\n",
       "      <th>1</th>\n",
       "      <td>[2.0, 4.0]</td>\n",
       "      <td>Sorry, you're much too big! | World</td>\n",
       "      <td>video_1</td>\n",
       "      <td>Non Hate</td>\n",
       "    </tr>\n",
       "    <tr>\n",
       "      <th>2</th>\n",
       "      <td>[4.0, 5.0]</td>\n",
       "      <td>Yeah man!</td>\n",
       "      <td>video_1</td>\n",
       "      <td>Non Hate</td>\n",
       "    </tr>\n",
       "    <tr>\n",
       "      <th>3</th>\n",
       "      <td>[5.0, 7.0]</td>\n",
       "      <td>Bobby two pistols in his bitch!</td>\n",
       "      <td>video_1</td>\n",
       "      <td>Non Hate</td>\n",
       "    </tr>\n",
       "    <tr>\n",
       "      <th>4</th>\n",
       "      <td>[7.0, 8.0]</td>\n",
       "      <td>Yeah man!</td>\n",
       "      <td>video_1</td>\n",
       "      <td>Non Hate</td>\n",
       "    </tr>\n",
       "    <tr>\n",
       "      <th>5</th>\n",
       "      <td>[8.0, 10.0]</td>\n",
       "      <td>Fuck all those niggers man! | LOL,that guy is ...</td>\n",
       "      <td>video_1</td>\n",
       "      <td>Non Hate</td>\n",
       "    </tr>\n",
       "    <tr>\n",
       "      <th>6</th>\n",
       "      <td>[10.0, 12.0]</td>\n",
       "      <td>Martin Luther King deserved to be killed!</td>\n",
       "      <td>video_1</td>\n",
       "      <td>Non Hate</td>\n",
       "    </tr>\n",
       "    <tr>\n",
       "      <th>7</th>\n",
       "      <td>[12.0, 14.0]</td>\n",
       "      <td>And fuck your nigger!</td>\n",
       "      <td>video_1</td>\n",
       "      <td>Non Hate</td>\n",
       "    </tr>\n",
       "    <tr>\n",
       "      <th>8</th>\n",
       "      <td>[14.0, 16.0]</td>\n",
       "      <td>Just grab and steal your shit man!</td>\n",
       "      <td>video_1</td>\n",
       "      <td>Non Hate</td>\n",
       "    </tr>\n",
       "    <tr>\n",
       "      <th>9</th>\n",
       "      <td>[16.0, 18.0]</td>\n",
       "      <td>Fuck those niggers man!</td>\n",
       "      <td>video_1</td>\n",
       "      <td>Non Hate</td>\n",
       "    </tr>\n",
       "  </tbody>\n",
       "</table>\n",
       "</div>"
      ],
      "text/plain": [
       "      timestamp                                               text    video  \\\n",
       "0    [0.0, 2.0]                 I simply must get through! | Hello  video_1   \n",
       "1    [2.0, 4.0]                Sorry, you're much too big! | World  video_1   \n",
       "2    [4.0, 5.0]                                          Yeah man!  video_1   \n",
       "3    [5.0, 7.0]                    Bobby two pistols in his bitch!  video_1   \n",
       "4    [7.0, 8.0]                                          Yeah man!  video_1   \n",
       "5   [8.0, 10.0]  Fuck all those niggers man! | LOL,that guy is ...  video_1   \n",
       "6  [10.0, 12.0]          Martin Luther King deserved to be killed!  video_1   \n",
       "7  [12.0, 14.0]                              And fuck your nigger!  video_1   \n",
       "8  [14.0, 16.0]                 Just grab and steal your shit man!  video_1   \n",
       "9  [16.0, 18.0]                            Fuck those niggers man!  video_1   \n",
       "\n",
       "      label  \n",
       "0  Non Hate  \n",
       "1  Non Hate  \n",
       "2  Non Hate  \n",
       "3  Non Hate  \n",
       "4  Non Hate  \n",
       "5  Non Hate  \n",
       "6  Non Hate  \n",
       "7  Non Hate  \n",
       "8  Non Hate  \n",
       "9  Non Hate  "
      ]
     },
     "execution_count": 76,
     "metadata": {},
     "output_type": "execute_result"
    }
   ],
   "source": [
    "final_df.head(10)"
   ]
  },
  {
   "cell_type": "code",
   "execution_count": null,
   "id": "898a56bd",
   "metadata": {},
   "outputs": [],
   "source": []
  }
 ],
 "metadata": {
  "kernelspec": {
   "display_name": "base",
   "language": "python",
   "name": "python3"
  },
  "language_info": {
   "codemirror_mode": {
    "name": "ipython",
    "version": 3
   },
   "file_extension": ".py",
   "mimetype": "text/x-python",
   "name": "python",
   "nbconvert_exporter": "python",
   "pygments_lexer": "ipython3",
   "version": "3.11.5"
  }
 },
 "nbformat": 4,
 "nbformat_minor": 5
}
