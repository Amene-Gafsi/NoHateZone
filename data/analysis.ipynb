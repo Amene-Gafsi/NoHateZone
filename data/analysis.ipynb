{
 "cells": [
  {
   "cell_type": "code",
   "execution_count": 1,
   "metadata": {},
   "outputs": [
    {
     "name": "stdout",
     "output_type": "stream",
     "text": [
      "number of tweets :  24783\n",
      "class (0 hate) (1 offensive) (2 neither) // count => nbr of annotators\n"
     ]
    },
    {
     "data": {
      "text/html": [
       "<div>\n",
       "<style scoped>\n",
       "    .dataframe tbody tr th:only-of-type {\n",
       "        vertical-align: middle;\n",
       "    }\n",
       "\n",
       "    .dataframe tbody tr th {\n",
       "        vertical-align: top;\n",
       "    }\n",
       "\n",
       "    .dataframe thead th {\n",
       "        text-align: right;\n",
       "    }\n",
       "</style>\n",
       "<table border=\"1\" class=\"dataframe\">\n",
       "  <thead>\n",
       "    <tr style=\"text-align: right;\">\n",
       "      <th></th>\n",
       "      <th>Unnamed: 0</th>\n",
       "      <th>count</th>\n",
       "      <th>hate_speech</th>\n",
       "      <th>offensive_language</th>\n",
       "      <th>neither</th>\n",
       "      <th>class</th>\n",
       "      <th>tweet</th>\n",
       "    </tr>\n",
       "  </thead>\n",
       "  <tbody>\n",
       "    <tr>\n",
       "      <th>0</th>\n",
       "      <td>0</td>\n",
       "      <td>3</td>\n",
       "      <td>0</td>\n",
       "      <td>0</td>\n",
       "      <td>3</td>\n",
       "      <td>2</td>\n",
       "      <td>!!! RT @mayasolovely: As a woman you shouldn't complain about cleaning up your house. &amp;amp; as a man you should always take the trash out...</td>\n",
       "    </tr>\n",
       "    <tr>\n",
       "      <th>1</th>\n",
       "      <td>1</td>\n",
       "      <td>3</td>\n",
       "      <td>0</td>\n",
       "      <td>3</td>\n",
       "      <td>0</td>\n",
       "      <td>1</td>\n",
       "      <td>!!!!! RT @mleew17: boy dats cold...tyga dwn bad for cuffin dat hoe in the 1st place!!</td>\n",
       "    </tr>\n",
       "    <tr>\n",
       "      <th>2</th>\n",
       "      <td>2</td>\n",
       "      <td>3</td>\n",
       "      <td>0</td>\n",
       "      <td>3</td>\n",
       "      <td>0</td>\n",
       "      <td>1</td>\n",
       "      <td>!!!!!!! RT @UrKindOfBrand Dawg!!!! RT @80sbaby4life: You ever fuck a bitch and she start to cry? You be confused as shit</td>\n",
       "    </tr>\n",
       "    <tr>\n",
       "      <th>3</th>\n",
       "      <td>3</td>\n",
       "      <td>3</td>\n",
       "      <td>0</td>\n",
       "      <td>2</td>\n",
       "      <td>1</td>\n",
       "      <td>1</td>\n",
       "      <td>!!!!!!!!! RT @C_G_Anderson: @viva_based she look like a tranny</td>\n",
       "    </tr>\n",
       "    <tr>\n",
       "      <th>4</th>\n",
       "      <td>4</td>\n",
       "      <td>6</td>\n",
       "      <td>0</td>\n",
       "      <td>6</td>\n",
       "      <td>0</td>\n",
       "      <td>1</td>\n",
       "      <td>!!!!!!!!!!!!! RT @ShenikaRoberts: The shit you hear about me might be true or it might be faker than the bitch who told it to ya &amp;#57361;</td>\n",
       "    </tr>\n",
       "  </tbody>\n",
       "</table>\n",
       "</div>"
      ],
      "text/plain": [
       "   Unnamed: 0  count  hate_speech  offensive_language  neither  class  \\\n",
       "0           0      3            0                   0        3      2   \n",
       "1           1      3            0                   3        0      1   \n",
       "2           2      3            0                   3        0      1   \n",
       "3           3      3            0                   2        1      1   \n",
       "4           4      6            0                   6        0      1   \n",
       "\n",
       "                                                                                                                                          tweet  \n",
       "0  !!! RT @mayasolovely: As a woman you shouldn't complain about cleaning up your house. &amp; as a man you should always take the trash out...  \n",
       "1                                                         !!!!! RT @mleew17: boy dats cold...tyga dwn bad for cuffin dat hoe in the 1st place!!  \n",
       "2                      !!!!!!! RT @UrKindOfBrand Dawg!!!! RT @80sbaby4life: You ever fuck a bitch and she start to cry? You be confused as shit  \n",
       "3                                                                                !!!!!!!!! RT @C_G_Anderson: @viva_based she look like a tranny  \n",
       "4     !!!!!!!!!!!!! RT @ShenikaRoberts: The shit you hear about me might be true or it might be faker than the bitch who told it to ya &#57361;  "
      ]
     },
     "metadata": {},
     "output_type": "display_data"
    },
    {
     "name": "stdout",
     "output_type": "stream",
     "text": [
      "examples\n",
      "tweet 1 : !!! RT @mayasolovely: As a woman you shouldn't complain about cleaning up your house. &amp; as a man you should always take the trash out...\n",
      "tweet 2 : !!!!! RT @mleew17: boy dats cold...tyga dwn bad for cuffin dat hoe in the 1st place!!\n"
     ]
    },
    {
     "data": {
      "image/png": "[encoded data removed]",
      "text/plain": [
       "<Figure size 640x480 with 1 Axes>"
      ]
     },
     "metadata": {},
     "output_type": "display_data"
    }
   ],
   "source": [
    "import pandas as pd\n",
    "pd.set_option('display.max_colwidth', None)\n",
    "\n",
    "\n",
    "df1 = pd.read_csv('data1/labeled_data.csv')\n",
    "\n",
    "print(\"number of tweets : \", len(df1))\n",
    "print(\"class (0 hate) (1 offensive) (2 neither) // count => nbr of annotators\")\n",
    "\n",
    "display(df1.head())\n",
    "df1['class'].value_counts().plot(kind='bar', title='Class distribution of labeled data')\n",
    "\n",
    "print(\"examples\")\n",
    "print(\"tweet 1 :\", df1['tweet'][0])\n",
    "print(\"tweet 2 :\", df1['tweet'][1])"
   ]
  },
  {
   "cell_type": "code",
   "execution_count": 2,
   "metadata": {},
   "outputs": [
    {
     "name": "stdout",
     "output_type": "stream",
     "text": [
      "number of rows in df2: 440906\n",
      "label (1, hate) (0, non-hate) clean data, parts of sentences\n"
     ]
    },
    {
     "data": {
      "text/html": [
       "<div>\n",
       "<style scoped>\n",
       "    .dataframe tbody tr th:only-of-type {\n",
       "        vertical-align: middle;\n",
       "    }\n",
       "\n",
       "    .dataframe tbody tr th {\n",
       "        vertical-align: top;\n",
       "    }\n",
       "\n",
       "    .dataframe thead th {\n",
       "        text-align: right;\n",
       "    }\n",
       "</style>\n",
       "<table border=\"1\" class=\"dataframe\">\n",
       "  <thead>\n",
       "    <tr style=\"text-align: right;\">\n",
       "      <th></th>\n",
       "      <th>Content</th>\n",
       "      <th>Label</th>\n",
       "      <th>Content_int</th>\n",
       "    </tr>\n",
       "  </thead>\n",
       "  <tbody>\n",
       "    <tr>\n",
       "      <th>0</th>\n",
       "      <td>denial of normal the con be asked to comment on tragedies an emotional retard</td>\n",
       "      <td>1</td>\n",
       "      <td>[146715, 0, 1, 2, 3, 4, 5, 6, 7, 8, 9, 10, 11, 12, 13, 146714]</td>\n",
       "    </tr>\n",
       "    <tr>\n",
       "      <th>1</th>\n",
       "      <td>just by being able to tweet this insufferable bullshit proves trump a nazi you vagina</td>\n",
       "      <td>1</td>\n",
       "      <td>[146715, 14, 15, 16, 17, 7, 18, 19, 20, 21, 22, 23, 24, 25, 26, 27, 146714]</td>\n",
       "    </tr>\n",
       "    <tr>\n",
       "      <th>2</th>\n",
       "      <td>that is retarded you too cute to be single that is life</td>\n",
       "      <td>1</td>\n",
       "      <td>[146715, 28, 29, 30, 26, 31, 32, 7, 5, 33, 28, 29, 34, 146714]</td>\n",
       "    </tr>\n",
       "    <tr>\n",
       "      <th>3</th>\n",
       "      <td>thought of a real badass mongol style declaration of war the attackers capture a citizen of the soon to be</td>\n",
       "      <td>1</td>\n",
       "      <td>[146715, 35, 1, 24, 36, 37, 38, 39, 40, 1, 41, 3, 42, 43, 24, 44, 1, 3, 45, 7, 5, 146714]</td>\n",
       "    </tr>\n",
       "    <tr>\n",
       "      <th>4</th>\n",
       "      <td>afro american basho</td>\n",
       "      <td>1</td>\n",
       "      <td>[146715, 46, 47, 48, 146714]</td>\n",
       "    </tr>\n",
       "  </tbody>\n",
       "</table>\n",
       "</div>"
      ],
      "text/plain": [
       "                                                                                                      Content  \\\n",
       "0                               denial of normal the con be asked to comment on tragedies an emotional retard   \n",
       "1                       just by being able to tweet this insufferable bullshit proves trump a nazi you vagina   \n",
       "2                                                     that is retarded you too cute to be single that is life   \n",
       "3  thought of a real badass mongol style declaration of war the attackers capture a citizen of the soon to be   \n",
       "4                                                                                         afro american basho   \n",
       "\n",
       "  Label  \\\n",
       "0     1   \n",
       "1     1   \n",
       "2     1   \n",
       "3     1   \n",
       "4     1   \n",
       "\n",
       "                                                                                 Content_int  \n",
       "0                             [146715, 0, 1, 2, 3, 4, 5, 6, 7, 8, 9, 10, 11, 12, 13, 146714]  \n",
       "1                [146715, 14, 15, 16, 17, 7, 18, 19, 20, 21, 22, 23, 24, 25, 26, 27, 146714]  \n",
       "2                             [146715, 28, 29, 30, 26, 31, 32, 7, 5, 33, 28, 29, 34, 146714]  \n",
       "3  [146715, 35, 1, 24, 36, 37, 38, 39, 40, 1, 41, 3, 42, 43, 24, 44, 1, 3, 45, 7, 5, 146714]  \n",
       "4                                                               [146715, 46, 47, 48, 146714]  "
      ]
     },
     "metadata": {},
     "output_type": "display_data"
    },
    {
     "name": "stdout",
     "output_type": "stream",
     "text": [
      "examples\n",
      "Content 1 : denial of normal the con be asked to comment on tragedies an emotional retard\n",
      "Content 2 : just by being able to tweet this insufferable bullshit proves trump a nazi you vagina\n"
     ]
    },
    {
     "data": {
      "image/png": "[encoded data removed]",
      "text/plain": [
       "<Figure size 640x480 with 1 Axes>"
      ]
     },
     "metadata": {},
     "output_type": "display_data"
    }
   ],
   "source": [
    "df2 = pd.read_csv('data2/HateSpeechDataset.csv')\n",
    "\n",
    "print(\"number of rows in df2:\", len(df2))\n",
    "\n",
    "print(\"label (1, hate) (0, non-hate) clean data, parts of sentences\")\n",
    "display(df2.head())\n",
    "df2['Label'].value_counts().plot(kind='bar', title='Class distribution of labeled data')\n",
    "\n",
    "print(\"examples\")\n",
    "print(\"Content 1 :\", df2['Content'][0])\n",
    "print(\"Content 2 :\", df2['Content'][1])"
   ]
  },
  {
   "cell_type": "code",
   "execution_count": 3,
   "metadata": {},
   "outputs": [
    {
     "name": "stdout",
     "output_type": "stream",
     "text": [
      "df3: aggression         Rows: 115864 | 1's: 14782 | 0's: 101082         | columns: ['index', 'Text', 'ed_label_0', 'ed_label_1', 'oh_label'] \n",
      "df4: attack         Rows: 115864 | 1's: 13590 | 0's: 102274         | columns: ['index', 'Text', 'ed_label_0', 'ed_label_1', 'oh_label'] \n",
      "df5: kaggle         Rows: 8799 | 1's: 2806 | 0's: 5993         | columns: ['index', 'oh_label', 'Date', 'Text'] \n",
      "df6: toxicity         Rows: 159686 | 1's: 15362 | 0's: 144324         | columns: ['index', 'Text', 'ed_label_0', 'ed_label_1', 'oh_label'] \n",
      "df8: racism         Rows: 13471 | 1's: 1970 | 0's: 11501         | columns: ['index', 'id', 'Text', 'Annotation', 'oh_label'] \n",
      "df9: sexism         Rows: 14881 | 1's: 3377.0 | 0's: 11504.0         | columns: ['index', 'id', 'Text', 'Annotation', 'oh_label'] \n",
      "df10: youtube         Rows: 3464 | 1's: 417 | 0's: 3047         | columns: ['index', 'UserIndex', 'Text', 'Number of Comments', 'Number of Subscribers', 'Membership Duration', 'Number of Uploads', 'Profanity in UserID', 'Age', 'oh_label'] \n"
     ]
    }
   ],
   "source": [
    "# df3 missing metadata,  \n",
    "# oh is the label (1 is yes and 0 no) and ed are probabilities, \n",
    "\n",
    "df3 = pd.read_csv('data3/aggression_parsed_dataset.csv')\n",
    "df4 = pd.read_csv('data3/attack_parsed_dataset.csv')\n",
    "df5 = pd.read_csv('data3/kaggle_parsed_dataset.csv')\n",
    "df6 = pd.read_csv('data3/toxicity_parsed_dataset.csv')\n",
    "# df7 = pd.read_csv('data3/twitter_parsed_dataset.csv')\n",
    "df8 = pd.read_csv('data3/twitter_racism_parsed_dataset.csv')\n",
    "df9 = pd.read_csv('data3/twitter_sexism_parsed_dataset.csv')\n",
    "df10 = pd.read_csv('data3/youtube_parsed_dataset.csv')\n",
    "\n",
    "def print_column_info(df, label_col='oh_label'):\n",
    "    num_rows = len(df)\n",
    "    count_1 = df[label_col].sum()\n",
    "    count_0 = num_rows - count_1\n",
    "    print(f\"        Rows: {num_rows} | 1's: {count_1} | 0's: {count_0}         | columns: {df.columns.tolist()} \")\n",
    "\n",
    "print(\"df3: aggression\", end=\" \")\n",
    "print_column_info(df3)\n",
    "print(\"df4: attack\", end=\" \")\n",
    "print_column_info(df4)\n",
    "print(\"df5: kaggle\", end=\" \")\n",
    "print_column_info(df5)\n",
    "print(\"df6: toxicity\", end=\" \")\n",
    "print_column_info(df6)\n",
    "# print(\"df7: twitter\", end=\" \")\n",
    "# print_column_info(df7)\n",
    "print(\"df8: racism\", end=\" \")\n",
    "print_column_info(df8)\n",
    "print(\"df9: sexism\", end=\" \")\n",
    "print_column_info(df9)\n",
    "print(\"df10: youtube\", end=\" \")\n",
    "print_column_info(df10)"
   ]
  },
  {
   "cell_type": "code",
   "execution_count": 4,
   "metadata": {},
   "outputs": [
    {
     "name": "stdout",
     "output_type": "stream",
     "text": [
      "examples of positive labels in each dataset:\n",
      "df3 (aggression) example: `  :Click on my ``Annoying Users`` link! I guess Massachusetts is a republic, then?  Defending facts against the lies of determined zealots seems to be a particular sticking-place for Wikipedia (   02:58 Feb 21, 2003 (UTC)`\n",
      "df4 (attack) example:   Iraq is not good  ===  ===  USA is bad   \n",
      "df5 (kaggle) example: \"You fuck your dad.\"\n",
      "df6 (toxicity) example: `  After the wasted bit on his sexuality, I haven't read the above diatribe but one thing for ABSOLUTE certain: Never in the history of this planet has Umberto ever been referred to as Humbert. It is this kind of lunacy that renders Wikipedia as a ``fringe`` place for idiots to play. Get serious....DW`\n",
      "df8 (racism) example: @AAlwuhaib1977 Muslim mob violence against Hindus in Bangladesh continues in 2014. #Islam http://t.co/C1JBWJwuRc\n",
      "df9 (sexism) example: RT @BeepsS: @senna1 @BeepsS: I'm not sexist but fuck if you're a woman and you can't Cook get your shit together.\n",
      "df10 (youtube) example: 3:26 hahah my boyfriend showed this song to me I love it Me tooo Is she having a seizure. Omg u have a corgi I am training for the Olympics and I am Russian You want some rapes... LOL\n"
     ]
    }
   ],
   "source": [
    "def get_example_with_label(df, label_col='oh_label'):\n",
    "    example = df[df[label_col] == 1].iloc[0]\n",
    "    return example['Text'], example[label_col]\n",
    "\n",
    "print(\"examples of positive labels in each dataset:\")\n",
    "# df3: aggression\n",
    "example_df3, label_df3 = get_example_with_label(df3)\n",
    "print(f\"df3 (aggression) example: {example_df3}\")\n",
    "\n",
    "# df4: attack\n",
    "example_df4, label_df4 = get_example_with_label(df4)\n",
    "print(f\"df4 (attack) example: {example_df4}\")\n",
    "\n",
    "# df5: kaggle\n",
    "example_df5, label_df5 = get_example_with_label(df5)\n",
    "print(f\"df5 (kaggle) example: {example_df5}\")\n",
    "\n",
    "# df6: toxicity\n",
    "example_df6, label_df6 = get_example_with_label(df6)\n",
    "print(f\"df6 (toxicity) example: {example_df6}\")\n",
    "\n",
    "# df7: twitter\n",
    "# example_df7, label_df7 = get_example_with_label(df7)\n",
    "# print(f\"df7 (twitter) example: {example_df7}\")\n",
    "\n",
    "# df8: racism\n",
    "example_df8, label_df8 = get_example_with_label(df8)\n",
    "print(f\"df8 (racism) example: {example_df8}\")\n",
    "\n",
    "# df9: sexism\n",
    "example_df9, label_df9 = get_example_with_label(df9)\n",
    "print(f\"df9 (sexism) example: {example_df9}\")\n",
    "\n",
    "# df10: youtube\n",
    "example_df10, label_df10 = get_example_with_label(df10)\n",
    "print(f\"df10 (youtube) example: {example_df10}\")\n"
   ]
  },
  {
   "cell_type": "code",
   "execution_count": 5,
   "metadata": {},
   "outputs": [
    {
     "name": "stdout",
     "output_type": "stream",
     "text": [
      "number of rows in df11: 128907 tweets but only 60310 are English\n",
      "label : 0-Normal, 1-Offensive, 2-Hate\n"
     ]
    },
    {
     "data": {
      "text/html": [
       "<div>\n",
       "<style scoped>\n",
       "    .dataframe tbody tr th:only-of-type {\n",
       "        vertical-align: middle;\n",
       "    }\n",
       "\n",
       "    .dataframe tbody tr th {\n",
       "        vertical-align: top;\n",
       "    }\n",
       "\n",
       "    .dataframe thead th {\n",
       "        text-align: right;\n",
       "    }\n",
       "</style>\n",
       "<table border=\"1\" class=\"dataframe\">\n",
       "  <thead>\n",
       "    <tr style=\"text-align: right;\">\n",
       "      <th></th>\n",
       "      <th>TweetID</th>\n",
       "      <th>LangID</th>\n",
       "      <th>TopicID</th>\n",
       "      <th>HateLabel</th>\n",
       "    </tr>\n",
       "  </thead>\n",
       "  <tbody>\n",
       "    <tr>\n",
       "      <th>0</th>\n",
       "      <td>1344792819660189696</td>\n",
       "      <td>0</td>\n",
       "      <td>1</td>\n",
       "      <td>0</td>\n",
       "    </tr>\n",
       "    <tr>\n",
       "      <th>1</th>\n",
       "      <td>1344767690225954816</td>\n",
       "      <td>0</td>\n",
       "      <td>1</td>\n",
       "      <td>0</td>\n",
       "    </tr>\n",
       "    <tr>\n",
       "      <th>2</th>\n",
       "      <td>1344762665764343809</td>\n",
       "      <td>0</td>\n",
       "      <td>1</td>\n",
       "      <td>0</td>\n",
       "    </tr>\n",
       "    <tr>\n",
       "      <th>3</th>\n",
       "      <td>1344760030537670657</td>\n",
       "      <td>0</td>\n",
       "      <td>1</td>\n",
       "      <td>1</td>\n",
       "    </tr>\n",
       "    <tr>\n",
       "      <th>4</th>\n",
       "      <td>1344737275872235520</td>\n",
       "      <td>0</td>\n",
       "      <td>1</td>\n",
       "      <td>0</td>\n",
       "    </tr>\n",
       "  </tbody>\n",
       "</table>\n",
       "</div>"
      ],
      "text/plain": [
       "               TweetID  LangID  TopicID  HateLabel\n",
       "0  1344792819660189696       0        1          0\n",
       "1  1344767690225954816       0        1          0\n",
       "2  1344762665764343809       0        1          0\n",
       "3  1344760030537670657       0        1          1\n",
       "4  1344737275872235520       0        1          0"
      ]
     },
     "metadata": {},
     "output_type": "display_data"
    },
    {
     "name": "stdout",
     "output_type": "stream",
     "text": [
      "problem we only have tweet ids and the api is paid\n"
     ]
    }
   ],
   "source": [
    "df11 = pd.read_csv('data4/hate_speech_dataset_v2.csv')\n",
    "print(\"number of rows in df11:\", len(df11), \"tweets but only\", len(df11[df11[\"LangID\"] ==0]) ,\"are English\")\n",
    "print(\"label : 0-Normal, 1-Offensive, 2-Hate\")\n",
    "display(df11.head())\n",
    "print(\"problem we only have tweet ids and the api is paid\")"
   ]
  },
  {
   "cell_type": "code",
   "execution_count": null,
   "metadata": {},
   "outputs": [],
   "source": []
  }
 ],
 "metadata": {
  "kernelspec": {
   "display_name": "mnlp_exercises",
   "language": "python",
   "name": "python3"
  },
  "language_info": {
   "codemirror_mode": {
    "name": "ipython",
    "version": 3
   },
   "file_extension": ".py",
   "mimetype": "text/x-python",
   "name": "python",
   "nbconvert_exporter": "python",
   "pygments_lexer": "ipython3",
   "version": "3.10.11"
  }
 },
 "nbformat": 4,
 "nbformat_minor": 2
}
