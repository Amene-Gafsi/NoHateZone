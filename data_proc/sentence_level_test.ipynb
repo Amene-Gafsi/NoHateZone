{
 "cells": [
  {
   "cell_type": "code",
   "execution_count": 1,
   "id": "1920bee7",
   "metadata": {},
   "outputs": [],
   "source": [
    "%load_ext autoreload\n",
    "%autoreload 2"
   ]
  },
  {
   "cell_type": "code",
   "execution_count": 3,
   "id": "16de6302",
   "metadata": {},
   "outputs": [
    {
     "name": "stderr",
     "output_type": "stream",
     "text": [
      "c:\\Users\\Mert\\anaconda3\\envs\\data_process\\Lib\\site-packages\\tqdm\\auto.py:21: TqdmWarning: IProgress not found. Please update jupyter and ipywidgets. See https://ipywidgets.readthedocs.io/en/stable/user_install.html\n",
      "  from .autonotebook import tqdm as notebook_tqdm\n"
     ]
    }
   ],
   "source": [
    "from audio2text import AudioTranscriber  # 16sec\n",
    "from utils import extract_audio, extract_frames, create_chunk_dataframe, combine_text\n",
    "import os\n",
    "import pandas as pd\n",
    "from tqdm import tqdm\n",
    "from pathlib import Path\n",
    "import tempfile\n",
    "import re\n",
    "import zipfile"
   ]
  },
  {
   "cell_type": "code",
   "execution_count": 5,
   "id": "0bbf21af",
   "metadata": {},
   "outputs": [
    {
     "name": "stderr",
     "output_type": "stream",
     "text": [
      "Device set to use cuda:0\n",
      "Processing videos:   0%|          | 0/3 [00:00<?, ?video/s]"
     ]
    },
    {
     "name": "stdout",
     "output_type": "stream",
     "text": [
      "Success : audio file has been saved to \"c:\\Users\\Mert\\OneDrive\\Desktop\\Deep_Learning_Project\\NoHateZone\\data_proc\\input\\audio\\hate_video_1\\hate_video_1.mp3\".\n"
     ]
    },
    {
     "name": "stderr",
     "output_type": "stream",
     "text": [
      "Due to a bug fix in https://github.com/huggingface/transformers/pull/28687 transcription using a multilingual Whisper will default to language detection followed by transcription instead of translation to English.This might be a breaking change for your use case. If you want to instead always translate your audio to English, make sure to pass `language='en'`.\n",
      "The attention mask is not set and cannot be inferred from input because pad token is same as eos token. As a consequence, you may observe unexpected behavior. Please pass your input's `attention_mask` to obtain reliable results.\n",
      "Processing videos:  33%|███▎      | 1/3 [00:34<01:09, 34.55s/video]"
     ]
    },
    {
     "name": "stdout",
     "output_type": "stream",
     "text": [
      "Success : audio file has been saved to \"c:\\Users\\Mert\\OneDrive\\Desktop\\Deep_Learning_Project\\NoHateZone\\data_proc\\input\\audio\\hate_video_2\\hate_video_2.mp3\".\n"
     ]
    },
    {
     "name": "stderr",
     "output_type": "stream",
     "text": [
      "Processing videos:  67%|██████▋   | 2/3 [01:16<00:38, 38.86s/video]"
     ]
    },
    {
     "name": "stdout",
     "output_type": "stream",
     "text": [
      "Success : audio file has been saved to \"c:\\Users\\Mert\\OneDrive\\Desktop\\Deep_Learning_Project\\NoHateZone\\data_proc\\input\\audio\\hate_video_3\\hate_video_3.mp3\".\n"
     ]
    },
    {
     "name": "stderr",
     "output_type": "stream",
     "text": [
      "Processing videos: 100%|██████████| 3/3 [02:37<00:00, 52.49s/video]\n"
     ]
    }
   ],
   "source": [
    "# Initialize transcriber\n",
    "transcriber = AudioTranscriber(chunk_length=30)\n",
    "VIDEO_SUFFIXES = {'.mp4', '.avi', '.mkv'}\n",
    "\n",
    "def idx_from_name(name: str) -> int:\n",
    "    \"\"\"Extract trailing integer from names like 'hate_video_12' or 'non_hate_video_3'.\"\"\"\n",
    "    m = re.search(r'_(\\d+)$', name)\n",
    "    return int(m.group(1)) if m else 0\n",
    "\n",
    "def list_all_videos(video_zip_dir: Path):\n",
    "    \"\"\"\n",
    "    For each .zip in the directory, collect (zip_path, member_name, vid_name)\n",
    "    for every video file inside, sorted hate_ before non_hate_, then numerically.\n",
    "    \"\"\"\n",
    "    entries = []\n",
    "    for zip_path in sorted(video_zip_dir.glob('*.zip'), key=lambda p: idx_from_name(p.stem)):\n",
    "        with zipfile.ZipFile(zip_path, 'r') as z:\n",
    "            for member in z.namelist():\n",
    "                if Path(member).suffix.lower() in VIDEO_SUFFIXES:\n",
    "                    vid_name = Path(member).stem\n",
    "                    entries.append((zip_path, member, vid_name))\n",
    "    entries.sort(key=lambda e: (\n",
    "        0 if e[2].startswith('hate_video_') else 1,\n",
    "        idx_from_name(e[2])\n",
    "    ))\n",
    "    return entries\n",
    "\n",
    "def process_video_entry(zip_path: Path, member: str, vid_name: str,\n",
    "                        frames_root: Path, audio_root: Path,\n",
    "                        transcriber, frequency: int = 30):\n",
    "    \"\"\"\n",
    "    Unzip the specified member, extract frames & audio into\n",
    "    frames_root/vid_name/ and audio_root/vid_name/, transcribe, and return two DataFrames.\n",
    "    \"\"\"\n",
    "    with tempfile.TemporaryDirectory() as tmpdir:\n",
    "        # 1) extract this single file\n",
    "        with zipfile.ZipFile(zip_path, 'r') as z:\n",
    "            z.extract(member, tmpdir)\n",
    "        video_file = Path(tmpdir) / member\n",
    "\n",
    "        # 2) prepare output folders\n",
    "        out_frames = frames_root / vid_name\n",
    "        out_frames.mkdir(parents=True, exist_ok=True)\n",
    "        out_audio  = audio_root  / vid_name\n",
    "        out_audio.mkdir(parents=True, exist_ok=True)\n",
    "\n",
    "        # 3) extract frames\n",
    "        _, frame_data = extract_frames(\n",
    "            str(video_file), str(out_frames),\n",
    "            video_index=idx_from_name(vid_name),\n",
    "            frequency=frequency\n",
    "        )\n",
    "        frame_data['video'] = frame_data['frame_number'] \\\n",
    "            .apply(lambda f: f\"{vid_name}_frame{f}.jpg\")\n",
    "        frame_df = frame_data[['timestamp_seconds', 'video', 'frame_number']]\n",
    "\n",
    "        # 4 & 5) extract audio and transcribe with unified fallback\n",
    "        chunk_df = pd.DataFrame(columns=[\"timestamp\", \"text\", \"video\"])\n",
    "        try:\n",
    "            # extract audio\n",
    "            extract_audio(input_path=str(video_file), output_dir=str(out_audio))\n",
    "            audio_file = out_audio / f\"{vid_name}.mp3\"\n",
    "            # transcribe audio\n",
    "            result     = transcriber.transcribe_audio(\n",
    "                              input_audio=str(audio_file),\n",
    "                              return_timestamps=True\n",
    "                          )\n",
    "            chunk_info = transcriber.extract_segments_with_timestamps(result)\n",
    "            chunk_df   = create_chunk_dataframe(chunk_info)\n",
    "            chunk_df['video'] = vid_name\n",
    "        except Exception as e:\n",
    "            print(f\"⚠️ Audio processing failed for {vid_name}: {e}\")\n",
    "            # chunk_df remains empty\n",
    "\n",
    "    return frame_df, chunk_df\n",
    "\n",
    "# ─── MAIN ────────────────────────────────────────────────────────────────\n",
    "\n",
    "if __name__ == '__main__':\n",
    "    cwd           = Path.cwd()\n",
    "    video_zip_dir = cwd / 'input' / 'video'\n",
    "    frames_root   = cwd / 'input' / 'frames'\n",
    "    audio_root    = cwd / 'input' / 'audio'\n",
    "\n",
    "    # ensure output dirs exist\n",
    "    frames_root.mkdir(parents=True, exist_ok=True)\n",
    "    audio_root.mkdir(parents=True, exist_ok=True)\n",
    "\n",
    "    # build the list of all videos inside all zips\n",
    "    video_entries = list_all_videos(video_zip_dir)\n",
    "    # optionally limit number of videos:\n",
    "    video_entries = video_entries[:3]\n",
    "\n",
    "    all_frame_dfs = []\n",
    "    all_chunk_dfs = []\n",
    "\n",
    "    # process them sequentially\n",
    "    for zip_path, member, vid_name in tqdm(video_entries, desc=\"Processing videos\", unit=\"video\"):\n",
    "        fdf, cdf = process_video_entry(\n",
    "            zip_path, member, vid_name,\n",
    "            frames_root, audio_root,\n",
    "            transcriber\n",
    "        )\n",
    "        all_frame_dfs.append(fdf)\n",
    "        all_chunk_dfs.append(cdf)\n",
    "\n",
    "    # combine and save results\n",
    "    final_frames_df = pd.concat(all_frame_dfs, ignore_index=True)\n",
    "    final_chunks_df = pd.concat(all_chunk_dfs, ignore_index=True)\n",
    "    # write CSVs\n",
    "    final_frames_df.to_csv('frames.csv', index=False)\n",
    "    final_chunks_df.to_csv('chunks.csv', index=False)\n",
    "\n",
    "    # annotation\n",
    "    def annotate_frames_within_interval(frames_df: pd.DataFrame, chunks_df: pd.DataFrame) -> pd.DataFrame:\n",
    "        out = chunks_df.copy()\n",
    "        out[['start', 'end']] = pd.DataFrame(\n",
    "            out['timestamp']\n",
    "                .apply(lambda ts: (float(ts[0]), float(ts[1])))\n",
    "                .tolist(),\n",
    "            index=out.index\n",
    "        )\n",
    "        if 'video_id' not in frames_df:\n",
    "            frames_df = frames_df.copy()\n",
    "            frames_df['video_id'] = frames_df['video'].str.replace(\n",
    "                r'_frame\\d+\\.jpg$', '', regex=True\n",
    "            )\n",
    "        def find_frames(row):\n",
    "            vid, s, e = row['video'], row['start'], row['end']\n",
    "            mask = (\n",
    "                (frames_df['video_id'] == vid) &\n",
    "                (frames_df['timestamp_seconds'] >= s) &\n",
    "                (frames_df['timestamp_seconds'] <= e)\n",
    "            )\n",
    "            return frames_df.loc[mask, 'video'].tolist()\n",
    "        out['frames_within_interval'] = out.apply(find_frames, axis=1)\n",
    "        return out.drop(columns=['start', 'end'])\n",
    "\n",
    "    annotated_chunks = annotate_frames_within_interval(final_frames_df, final_chunks_df)\n",
    "    annotated_chunks.to_csv('annotated_chunks.csv', index=False)\n"
   ]
  },
  {
   "cell_type": "code",
   "execution_count": 4,
   "id": "83a64196",
   "metadata": {},
   "outputs": [],
   "source": [
    "def annotate_frames_within_interval(frames_df: pd.DataFrame, chunks_df: pd.DataFrame) -> pd.DataFrame:\n",
    "    out = chunks_df.copy()\n",
    "    out[['start', 'end']] = pd.DataFrame(\n",
    "        out['timestamp']\n",
    "            .apply(lambda ts: (float(ts[0]), float(ts[1])))\n",
    "            .tolist(),\n",
    "        index=out.index\n",
    "    )\n",
    "    if 'video_id' not in frames_df:\n",
    "        frames_df = frames_df.copy()\n",
    "        frames_df['video_id'] = frames_df['video'].str.replace(\n",
    "            r'_frame\\d+\\.jpg$', '', regex=True\n",
    "        )\n",
    "    def find_frames(row):\n",
    "        vid, s, e = row['video'], row['start'], row['end']\n",
    "        mask = (\n",
    "            (frames_df['video_id'] == vid) &\n",
    "            (frames_df['timestamp_seconds'] >= s) &\n",
    "            (frames_df['timestamp_seconds'] <= e)\n",
    "        )\n",
    "        return frames_df.loc[mask, 'video'].tolist()\n",
    "    out['frames_within_interval'] = out.apply(find_frames, axis=1)\n",
    "    return out.drop(columns=['start', 'end'])\n",
    "\n"
   ]
  },
  {
   "cell_type": "code",
   "execution_count": 11,
   "id": "b33826ea",
   "metadata": {},
   "outputs": [],
   "source": [
    "#Read the frames and chunks CSV files\n",
    "frames_df = pd.read_csv('frames.csv')\n",
    "chunks_df = pd.read_csv('chunks.csv')"
   ]
  },
  {
   "cell_type": "markdown",
   "id": "137b268e",
   "metadata": {},
   "source": [
    "#### **frames_df**"
   ]
  },
  {
   "cell_type": "code",
   "execution_count": 36,
   "id": "091373a1",
   "metadata": {},
   "outputs": [
    {
     "data": {
      "application/vnd.microsoft.datawrangler.viewer.v0+json": {
       "columns": [
        {
         "name": "index",
         "rawType": "int64",
         "type": "integer"
        },
        {
         "name": "timestamp_seconds",
         "rawType": "float64",
         "type": "float"
        },
        {
         "name": "video",
         "rawType": "object",
         "type": "string"
        },
        {
         "name": "frame_number",
         "rawType": "int64",
         "type": "integer"
        }
       ],
       "conversionMethod": "pd.DataFrame",
       "ref": "98d1323a-23c0-456c-9ab2-df002d84351a",
       "rows": [
        [
         "0",
         "0.0",
         "hate_video_1_frame0.jpg",
         "0"
        ],
        [
         "1",
         "1.001",
         "hate_video_1_frame30.jpg",
         "30"
        ],
        [
         "2",
         "2.002",
         "hate_video_1_frame60.jpg",
         "60"
        ],
        [
         "3",
         "3.003",
         "hate_video_1_frame90.jpg",
         "90"
        ],
        [
         "4",
         "4.004",
         "hate_video_1_frame120.jpg",
         "120"
        ]
       ],
       "shape": {
        "columns": 3,
        "rows": 5
       }
      },
      "text/html": [
       "<div>\n",
       "<style scoped>\n",
       "    .dataframe tbody tr th:only-of-type {\n",
       "        vertical-align: middle;\n",
       "    }\n",
       "\n",
       "    .dataframe tbody tr th {\n",
       "        vertical-align: top;\n",
       "    }\n",
       "\n",
       "    .dataframe thead th {\n",
       "        text-align: right;\n",
       "    }\n",
       "</style>\n",
       "<table border=\"1\" class=\"dataframe\">\n",
       "  <thead>\n",
       "    <tr style=\"text-align: right;\">\n",
       "      <th></th>\n",
       "      <th>timestamp_seconds</th>\n",
       "      <th>video</th>\n",
       "      <th>frame_number</th>\n",
       "    </tr>\n",
       "  </thead>\n",
       "  <tbody>\n",
       "    <tr>\n",
       "      <th>0</th>\n",
       "      <td>0.000</td>\n",
       "      <td>hate_video_1_frame0.jpg</td>\n",
       "      <td>0</td>\n",
       "    </tr>\n",
       "    <tr>\n",
       "      <th>1</th>\n",
       "      <td>1.001</td>\n",
       "      <td>hate_video_1_frame30.jpg</td>\n",
       "      <td>30</td>\n",
       "    </tr>\n",
       "    <tr>\n",
       "      <th>2</th>\n",
       "      <td>2.002</td>\n",
       "      <td>hate_video_1_frame60.jpg</td>\n",
       "      <td>60</td>\n",
       "    </tr>\n",
       "    <tr>\n",
       "      <th>3</th>\n",
       "      <td>3.003</td>\n",
       "      <td>hate_video_1_frame90.jpg</td>\n",
       "      <td>90</td>\n",
       "    </tr>\n",
       "    <tr>\n",
       "      <th>4</th>\n",
       "      <td>4.004</td>\n",
       "      <td>hate_video_1_frame120.jpg</td>\n",
       "      <td>120</td>\n",
       "    </tr>\n",
       "  </tbody>\n",
       "</table>\n",
       "</div>"
      ],
      "text/plain": [
       "   timestamp_seconds                      video  frame_number\n",
       "0              0.000    hate_video_1_frame0.jpg             0\n",
       "1              1.001   hate_video_1_frame30.jpg            30\n",
       "2              2.002   hate_video_1_frame60.jpg            60\n",
       "3              3.003   hate_video_1_frame90.jpg            90\n",
       "4              4.004  hate_video_1_frame120.jpg           120"
      ]
     },
     "execution_count": 36,
     "metadata": {},
     "output_type": "execute_result"
    }
   ],
   "source": [
    "frames_df.head()"
   ]
  },
  {
   "cell_type": "code",
   "execution_count": null,
   "id": "fe8f0f0d",
   "metadata": {},
   "outputs": [
    {
     "name": "stdout",
     "output_type": "stream",
     "text": [
      "timestamp_seconds    float64\n",
      "video                 object\n",
      "frame_number           int64\n",
      "dtype: object \n",
      "\n",
      "timestamp_seconds    0\n",
      "video                0\n",
      "frame_number         0\n",
      "dtype: int64 \n",
      "\n",
      "(163506, 3)\n"
     ]
    }
   ],
   "source": [
    "frames_df[\"timestamp_seconds\"] = frames_df[\"timestamp_seconds\"].apply(\n",
    "    lambda x: round(x, 3) if pd.notnull(x) else x\n",
    ")\n",
    "\n",
    "print(frames_df.dtypes, \"\\n\")\n",
    "print(frames_df.isna().sum(), \"\\n\")\n",
    "print(frames_df.shape)"
   ]
  },
  {
   "cell_type": "code",
   "execution_count": 35,
   "id": "bec572d8",
   "metadata": {},
   "outputs": [
    {
     "name": "stdout",
     "output_type": "stream",
     "text": [
      "Rows whose `video` contains:\n",
      "  • hate_video       : 77052\n",
      "  • non_hate_video   : 86454\n"
     ]
    }
   ],
   "source": [
    "# rows that begin with \"non_hate_video\"\n",
    "mask_non_hate = frames_df[\"video\"].str.startswith(\"non_hate_video\", na=False)\n",
    "\n",
    "# rows that begin with \"hate_video\" BUT are *not* already classed as non‑hate\n",
    "mask_hate = frames_df[\"video\"].str.startswith(\"hate_video\", na=False) & ~mask_non_hate\n",
    "\n",
    "non_hate_count = mask_non_hate.sum()\n",
    "hate_count     = mask_hate.sum()\n",
    "\n",
    "print(\"Rows whose `video` contains:\")\n",
    "print(f\"  • hate_video       : {hate_count}\")\n",
    "print(f\"  • non_hate_video   : {non_hate_count}\")\n",
    "\n",
    "#Check there the counts sum is equal to dataframes length\n",
    "assert (non_hate_count + hate_count) == len(frames_df)"
   ]
  },
  {
   "cell_type": "code",
   "execution_count": null,
   "id": "0af2fb2f",
   "metadata": {},
   "outputs": [
    {
     "name": "stdout",
     "output_type": "stream",
     "text": [
      "Largest *video ID* seen in the filenames:\n",
      "  • hate_video       : 431\n",
      "  • non_hate_video   : 652\n"
     ]
    }
   ],
   "source": [
    "# ────────────────────────────────────────────────\n",
    "# 1) Grab the integer that follows each prefix\n",
    "#    ^hate_video_(\\d+)_      → captures 126 in  hate_video_126_frame0.jpg\n",
    "# ────────────────────────────────────────────────\n",
    "hate_ids = (\n",
    "    frames_df[\"video\"]\n",
    "    .str.extract(r\"^hate_video_(\\d+)_\", expand=False)  # returns NaN when the pattern doesn't match\n",
    "    .dropna()\n",
    "    .astype(int)\n",
    ")\n",
    "\n",
    "non_hate_ids = (\n",
    "    frames_df[\"video\"]\n",
    "    .str.extract(r\"^non_hate_video_(\\d+)_\", expand=False)\n",
    "    .dropna()\n",
    "    .astype(int)\n",
    ")\n",
    "\n",
    "# ────────────────────────────────────────────────\n",
    "# 2) Take the maximum in each Series\n",
    "# ────────────────────────────────────────────────\n",
    "max_hate_id      = hate_ids.max()\n",
    "max_non_hate_id  = non_hate_ids.max()\n",
    "\n",
    "print(\"Largest *video ID* seen in the filenames:\")\n",
    "print(f\"  • hate_video       : {max_hate_id}\")\n",
    "print(f\"  • non_hate_video   : {max_non_hate_id}\")\n",
    "\n",
    "#Make sure that these indices add up to the total number of videos (1083)\n",
    "assert (max_hate_id + max_non_hate_id) == 1083, \\\n",
    "    f\"Sum of hate and non-hate video IDs ({max_hate_id} + {max_non_hate_id}) \" \\\n",
    "    f\"does not equal the total number of videos (1083).\""
   ]
  },
  {
   "cell_type": "code",
   "execution_count": null,
   "id": "a48f66cb",
   "metadata": {},
   "outputs": [],
   "source": []
  },
  {
   "cell_type": "markdown",
   "id": "6dbfb61e",
   "metadata": {},
   "source": [
    "#### **chunks_df**"
   ]
  },
  {
   "cell_type": "code",
   "execution_count": 10,
   "id": "36b9b0af",
   "metadata": {},
   "outputs": [
    {
     "ename": "NameError",
     "evalue": "name 'chunks_df' is not defined",
     "output_type": "error",
     "traceback": [
      "\u001b[31m---------------------------------------------------------------------------\u001b[39m",
      "\u001b[31mNameError\u001b[39m                                 Traceback (most recent call last)",
      "\u001b[36mCell\u001b[39m\u001b[36m \u001b[39m\u001b[32mIn[10]\u001b[39m\u001b[32m, line 1\u001b[39m\n\u001b[32m----> \u001b[39m\u001b[32m1\u001b[39m \u001b[43mchunks_df\u001b[49m.head()\n",
      "\u001b[31mNameError\u001b[39m: name 'chunks_df' is not defined"
     ]
    }
   ],
   "source": [
    "chunks_df.head()"
   ]
  },
  {
   "cell_type": "code",
   "execution_count": 41,
   "id": "5737e535",
   "metadata": {},
   "outputs": [
    {
     "name": "stdout",
     "output_type": "stream",
     "text": [
      "timestamp    object\n",
      "text         object\n",
      "video        object\n",
      "dtype: object \n",
      "\n",
      "timestamp      0\n",
      "text         138\n",
      "video          0\n",
      "dtype: int64 \n",
      "\n",
      "(11804, 3)\n"
     ]
    }
   ],
   "source": [
    "print(chunks_df.dtypes, \"\\n\")\n",
    "print(chunks_df.isna().sum(), \"\\n\")\n",
    "print(chunks_df.shape)"
   ]
  },
  {
   "cell_type": "code",
   "execution_count": 43,
   "id": "1baf1204",
   "metadata": {},
   "outputs": [
    {
     "name": "stdout",
     "output_type": "stream",
     "text": [
      "Videos that have ≥1 missing text entry:\n",
      "['hate_video_3' 'hate_video_9' 'hate_video_13' 'hate_video_18'\n",
      " 'hate_video_20' 'hate_video_29' 'hate_video_41' 'hate_video_44'\n",
      " 'hate_video_46' 'hate_video_60' 'hate_video_71' 'hate_video_76'\n",
      " 'hate_video_93' 'hate_video_94' 'hate_video_95' 'hate_video_98'\n",
      " 'hate_video_107' 'hate_video_121' 'hate_video_132' 'hate_video_138'\n",
      " 'hate_video_141' 'hate_video_144' 'hate_video_147' 'hate_video_148'\n",
      " 'hate_video_151' 'hate_video_159' 'hate_video_163' 'hate_video_165'\n",
      " 'hate_video_169' 'hate_video_178' 'hate_video_193' 'hate_video_202'\n",
      " 'hate_video_204' 'hate_video_208' 'hate_video_233' 'hate_video_237'\n",
      " 'hate_video_283' 'hate_video_293' 'hate_video_295' 'hate_video_298'\n",
      " 'hate_video_337' 'hate_video_339' 'hate_video_351' 'hate_video_361'\n",
      " 'hate_video_363' 'hate_video_382' 'hate_video_383' 'hate_video_398'\n",
      " 'hate_video_406' 'hate_video_414' 'hate_video_415' 'hate_video_422'\n",
      " 'hate_video_425' 'non_hate_video_12' 'non_hate_video_14'\n",
      " 'non_hate_video_20' 'non_hate_video_32' 'non_hate_video_43'\n",
      " 'non_hate_video_58' 'non_hate_video_59' 'non_hate_video_60'\n",
      " 'non_hate_video_66' 'non_hate_video_85' 'non_hate_video_102'\n",
      " 'non_hate_video_110' 'non_hate_video_124' 'non_hate_video_146'\n",
      " 'non_hate_video_149' 'non_hate_video_153' 'non_hate_video_156'\n",
      " 'non_hate_video_176' 'non_hate_video_186' 'non_hate_video_199'\n",
      " 'non_hate_video_203' 'non_hate_video_216' 'non_hate_video_237'\n",
      " 'non_hate_video_238' 'non_hate_video_251' 'non_hate_video_256'\n",
      " 'non_hate_video_268' 'non_hate_video_301' 'non_hate_video_306'\n",
      " 'non_hate_video_310' 'non_hate_video_322' 'non_hate_video_328'\n",
      " 'non_hate_video_330' 'non_hate_video_355' 'non_hate_video_356'\n",
      " 'non_hate_video_382' 'non_hate_video_405' 'non_hate_video_411'\n",
      " 'non_hate_video_413' 'non_hate_video_423' 'non_hate_video_424'\n",
      " 'non_hate_video_433' 'non_hate_video_451' 'non_hate_video_455'\n",
      " 'non_hate_video_461' 'non_hate_video_465' 'non_hate_video_488'\n",
      " 'non_hate_video_500' 'non_hate_video_501' 'non_hate_video_517'\n",
      " 'non_hate_video_531' 'non_hate_video_533' 'non_hate_video_544'\n",
      " 'non_hate_video_549' 'non_hate_video_557' 'non_hate_video_566'\n",
      " 'non_hate_video_575' 'non_hate_video_580' 'non_hate_video_600'\n",
      " 'non_hate_video_603' 'non_hate_video_615' 'non_hate_video_617']\n"
     ]
    }
   ],
   "source": [
    "# Do not filter out, I want to see which videos have no text\n",
    "\n",
    "mask_na = chunks_df[\"text\"].isna()\n",
    "\n",
    "videos_with_na = chunks_df.loc[mask_na, \"video\"].unique()\n",
    "print(\"Videos that have ≥1 missing text entry:\")\n",
    "print(videos_with_na)\n"
   ]
  },
  {
   "cell_type": "code",
   "execution_count": 8,
   "id": "6b166103",
   "metadata": {},
   "outputs": [],
   "source": [
    "import ast            # safely turns \"[1.23, 4.56]\" → [1.23, 4.56]\n",
    "import logging\n",
    "import math\n",
    "import pandas as pd\n",
    "\n",
    "# --------------------------------------------------------------------\n",
    "# Configure a simple logger that prints to stdout\n",
    "# --------------------------------------------------------------------\n",
    "logging.basicConfig(\n",
    "    level=logging.INFO,\n",
    "    format=\"%(levelname)s | row %(row)d | video=%(video)s | %(message)s\"\n",
    ")\n",
    "\n",
    "def check_time_intervals(df: pd.DataFrame,\n",
    "                         timestamp_col: str = \"timestamp\",\n",
    "                         video_col: str = \"video\") -> pd.Series:\n",
    "    \"\"\"\n",
    "    Validate the time intervals stored in *timestamp_col*.\n",
    "    A valid interval is a two‑element list/tuple where:\n",
    "        • both elements are real numbers (not NaN)\n",
    "        • end  >  start\n",
    "    Logs an INFO line for every row that fails either check.\n",
    "\n",
    "    Returns\n",
    "    -------\n",
    "    pandas.Series[bool]\n",
    "        True  → row is valid\n",
    "        False → row has NaNs or end ≤ start\n",
    "    \"\"\"\n",
    "    valid_mask = pd.Series(True, index=df.index)\n",
    "\n",
    "    for i, raw in df[timestamp_col].items():\n",
    "        video    = df.at[i, video_col]\n",
    "\n",
    "        # 1) parse the string \"[start, end]\" safely\n",
    "        try:\n",
    "            start, end = map(float, ast.literal_eval(str(raw)))\n",
    "        except Exception as exc:\n",
    "            logging.info(\"un‑parsable timestamp (%s)\", raw,\n",
    "                         extra={\"row\": i, \"video\": video})\n",
    "            valid_mask.at[i] = False\n",
    "            continue\n",
    "\n",
    "        # 2) check for NaNs\n",
    "        if any(math.isnan(x) for x in (start, end)):\n",
    "            logging.info(\"NaN in timestamp -> %s\", (start, end),\n",
    "                         extra={\"row\": i, \"video\": video})\n",
    "            valid_mask.at[i] = False\n",
    "            continue\n",
    "\n",
    "        # 3) logical order\n",
    "        if end <= start:\n",
    "            logging.info(\"invalid interval -> start=%s, end=%s\", start, end,\n",
    "                         extra={\"row\": i, \"video\": video})\n",
    "            valid_mask.at[i] = False\n",
    "\n",
    "    return valid_mask\n"
   ]
  },
  {
   "cell_type": "code",
   "execution_count": 9,
   "id": "a10012cb",
   "metadata": {},
   "outputs": [
    {
     "ename": "NameError",
     "evalue": "name 'chunks_df' is not defined",
     "output_type": "error",
     "traceback": [
      "\u001b[31m---------------------------------------------------------------------------\u001b[39m",
      "\u001b[31mNameError\u001b[39m                                 Traceback (most recent call last)",
      "\u001b[36mCell\u001b[39m\u001b[36m \u001b[39m\u001b[32mIn[9]\u001b[39m\u001b[32m, line 2\u001b[39m\n\u001b[32m      1\u001b[39m \u001b[38;5;66;03m# df is your DataFrame (e.g. chunks_df)\u001b[39;00m\n\u001b[32m----> \u001b[39m\u001b[32m2\u001b[39m bad_rows = ~check_time_intervals(\u001b[43mchunks_df\u001b[49m)     \u001b[38;5;66;03m# rows that failed\u001b[39;00m\n\u001b[32m      3\u001b[39m \u001b[38;5;28mprint\u001b[39m(\u001b[33mf\u001b[39m\u001b[33m\"\u001b[39m\u001b[33m✓ checked \u001b[39m\u001b[38;5;132;01m{\u001b[39;00m\u001b[38;5;28mlen\u001b[39m(chunks_df)\u001b[38;5;132;01m}\u001b[39;00m\u001b[33m rows — \u001b[39m\u001b[38;5;132;01m{\u001b[39;00mbad_rows.sum()\u001b[38;5;132;01m}\u001b[39;00m\u001b[33m invalid\u001b[39m\u001b[33m\"\u001b[39m)\n",
      "\u001b[31mNameError\u001b[39m: name 'chunks_df' is not defined"
     ]
    }
   ],
   "source": [
    "# df is your DataFrame (e.g. chunks_df)\n",
    "bad_rows = ~check_time_intervals(chunks_df)     # rows that failed\n",
    "print(f\"✓ checked {len(chunks_df)} rows — {bad_rows.sum()} invalid\")"
   ]
  },
  {
   "cell_type": "code",
   "execution_count": null,
   "id": "9dd1c1c0",
   "metadata": {},
   "outputs": [],
   "source": [
    "import re\n",
    "\n",
    "_sentence_boundary = re.compile(\n",
    "    r\"\"\"                     # verbose regex\n",
    "    (?<!\\w\\.\\w\\.)            # negative look‑behind: skip e.g. \"U.S.\"\n",
    "    (?<!                # skip titles like \"Dr.\", \"Mrs.\" etc.\n",
    "        \\b               # word boundary\n",
    "        (?:Mr|Mrs|Ms|Dr|Prof|Sr|Jr|St|Mt)\n",
    "        \\.\n",
    "    )\n",
    "    (?<= [.!?] )             # positive look‑behind: a real sentence‑ender\n",
    "    \\s+                      # the whitespace we’ll split on\n",
    "    \"\"\",\n",
    "    flags=re.VERBOSE,\n",
    ")\n",
    "\n",
    "def split_into_sentences(text: str) -> list[str]:\n",
    "    \"\"\"\n",
    "    Split *text* into a list of sentences.\n",
    "\n",
    "    Parameters\n",
    "    ----------\n",
    "    text : str\n",
    "        A chunk that may contain multiple sentences.\n",
    "\n",
    "    Returns\n",
    "    -------\n",
    "    list[str]\n",
    "        The individual sentences with surrounding whitespace trimmed.\n",
    "    \"\"\"\n",
    "    return [s.strip() for s in _sentence_boundary.split(text) if s.strip()]\n"
   ]
  },
  {
   "cell_type": "code",
   "execution_count": 1,
   "id": "2c51a67b",
   "metadata": {},
   "outputs": [
    {
     "ename": "NameError",
     "evalue": "name 'chunks_df' is not defined",
     "output_type": "error",
     "traceback": [
      "\u001b[31m---------------------------------------------------------------------------\u001b[39m",
      "\u001b[31mNameError\u001b[39m                                 Traceback (most recent call last)",
      "\u001b[36mCell\u001b[39m\u001b[36m \u001b[39m\u001b[32mIn[1]\u001b[39m\u001b[32m, line 1\u001b[39m\n\u001b[32m----> \u001b[39m\u001b[32m1\u001b[39m \u001b[43mchunks_df\u001b[49m\n",
      "\u001b[31mNameError\u001b[39m: name 'chunks_df' is not defined"
     ]
    }
   ],
   "source": [
    "chunks_df"
   ]
  },
  {
   "cell_type": "code",
   "execution_count": null,
   "id": "378010d2",
   "metadata": {},
   "outputs": [],
   "source": [
    "chunk = \"Dr. Smith arrived at 9 a.m. He said hello. Isn't that great? Yes!\"\n",
    "split_into_sentences(chunk)"
   ]
  },
  {
   "cell_type": "code",
   "execution_count": null,
   "id": "6581cc63",
   "metadata": {},
   "outputs": [],
   "source": [
    "hate_ids = (\n",
    "    chunks_df[\"video\"]\n",
    "    .str.extract(r\"^hate_video_(\\d+)$\", expand=False)      # match the entire string\n",
    "    .dropna()\n",
    "    .astype(int)\n",
    ")\n",
    "\n",
    "non_hate_ids = (\n",
    "    chunks_df[\"video\"]\n",
    "    .str.extract(r\"^non_hate_video_(\\d+)$\", expand=False)\n",
    "    .dropna()\n",
    "    .astype(int)\n",
    ")\n",
    "\n",
    "# ── largest ID in each class ─────────────────────────────────────────\n",
    "max_hate_id     = hate_ids.max()        if not hate_ids.empty     else None\n",
    "max_non_hate_id = non_hate_ids.max()    if not non_hate_ids.empty else None\n",
    "\n",
    "print(\"Largest *video ID* seen:\")\n",
    "print(f\"  • hate_video       : {max_hate_id}\")\n",
    "print(f\"  • non_hate_video   : {max_non_hate_id}\")"
   ]
  },
  {
   "cell_type": "code",
   "execution_count": null,
   "id": "f8b8f29f",
   "metadata": {},
   "outputs": [],
   "source": []
  },
  {
   "cell_type": "code",
   "execution_count": 6,
   "id": "d6ed452a",
   "metadata": {},
   "outputs": [
    {
     "ename": "ValueError",
     "evalue": "could not convert string to float: '['",
     "output_type": "error",
     "traceback": [
      "\u001b[31m---------------------------------------------------------------------------\u001b[39m",
      "\u001b[31mValueError\u001b[39m                                Traceback (most recent call last)",
      "\u001b[36mCell\u001b[39m\u001b[36m \u001b[39m\u001b[32mIn[6]\u001b[39m\u001b[32m, line 1\u001b[39m\n\u001b[32m----> \u001b[39m\u001b[32m1\u001b[39m annotated_chunks = \u001b[43mannotate_frames_within_interval\u001b[49m\u001b[43m(\u001b[49m\u001b[43mframes_df\u001b[49m\u001b[43m,\u001b[49m\u001b[43m \u001b[49m\u001b[43mchunks_df\u001b[49m\u001b[43m)\u001b[49m\n\u001b[32m      2\u001b[39m annotated_chunks.to_csv(\u001b[33m'\u001b[39m\u001b[33mannotated_chunks.csv\u001b[39m\u001b[33m'\u001b[39m, index=\u001b[38;5;28;01mFalse\u001b[39;00m)\n",
      "\u001b[36mCell\u001b[39m\u001b[36m \u001b[39m\u001b[32mIn[4]\u001b[39m\u001b[32m, line 5\u001b[39m, in \u001b[36mannotate_frames_within_interval\u001b[39m\u001b[34m(frames_df, chunks_df)\u001b[39m\n\u001b[32m      1\u001b[39m \u001b[38;5;28;01mdef\u001b[39;00m\u001b[38;5;250m \u001b[39m\u001b[34mannotate_frames_within_interval\u001b[39m(frames_df: pd.DataFrame, chunks_df: pd.DataFrame) -> pd.DataFrame:\n\u001b[32m      2\u001b[39m     out = chunks_df.copy()\n\u001b[32m      3\u001b[39m     out[[\u001b[33m'\u001b[39m\u001b[33mstart\u001b[39m\u001b[33m'\u001b[39m, \u001b[33m'\u001b[39m\u001b[33mend\u001b[39m\u001b[33m'\u001b[39m]] = pd.DataFrame(\n\u001b[32m      4\u001b[39m         \u001b[43mout\u001b[49m\u001b[43m[\u001b[49m\u001b[33;43m'\u001b[39;49m\u001b[33;43mtimestamp\u001b[39;49m\u001b[33;43m'\u001b[39;49m\u001b[43m]\u001b[49m\n\u001b[32m----> \u001b[39m\u001b[32m5\u001b[39m \u001b[43m            \u001b[49m\u001b[43m.\u001b[49m\u001b[43mapply\u001b[49m\u001b[43m(\u001b[49m\u001b[38;5;28;43;01mlambda\u001b[39;49;00m\u001b[43m \u001b[49m\u001b[43mts\u001b[49m\u001b[43m:\u001b[49m\u001b[43m \u001b[49m\u001b[43m(\u001b[49m\u001b[38;5;28;43mfloat\u001b[39;49m\u001b[43m(\u001b[49m\u001b[43mts\u001b[49m\u001b[43m[\u001b[49m\u001b[32;43m0\u001b[39;49m\u001b[43m]\u001b[49m\u001b[43m)\u001b[49m\u001b[43m,\u001b[49m\u001b[43m \u001b[49m\u001b[38;5;28;43mfloat\u001b[39;49m\u001b[43m(\u001b[49m\u001b[43mts\u001b[49m\u001b[43m[\u001b[49m\u001b[32;43m1\u001b[39;49m\u001b[43m]\u001b[49m\u001b[43m)\u001b[49m\u001b[43m)\u001b[49m\u001b[43m)\u001b[49m\n\u001b[32m      6\u001b[39m             .tolist(),\n\u001b[32m      7\u001b[39m         index=out.index\n\u001b[32m      8\u001b[39m     )\n\u001b[32m      9\u001b[39m     \u001b[38;5;28;01mif\u001b[39;00m \u001b[33m'\u001b[39m\u001b[33mvideo_id\u001b[39m\u001b[33m'\u001b[39m \u001b[38;5;129;01mnot\u001b[39;00m \u001b[38;5;129;01min\u001b[39;00m frames_df:\n\u001b[32m     10\u001b[39m         frames_df = frames_df.copy()\n",
      "\u001b[36mFile \u001b[39m\u001b[32mc:\\Users\\Mert\\anaconda3\\envs\\data_process\\Lib\\site-packages\\pandas\\core\\series.py:4924\u001b[39m, in \u001b[36mSeries.apply\u001b[39m\u001b[34m(self, func, convert_dtype, args, by_row, **kwargs)\u001b[39m\n\u001b[32m   4789\u001b[39m \u001b[38;5;28;01mdef\u001b[39;00m\u001b[38;5;250m \u001b[39m\u001b[34mapply\u001b[39m(\n\u001b[32m   4790\u001b[39m     \u001b[38;5;28mself\u001b[39m,\n\u001b[32m   4791\u001b[39m     func: AggFuncType,\n\u001b[32m   (...)\u001b[39m\u001b[32m   4796\u001b[39m     **kwargs,\n\u001b[32m   4797\u001b[39m ) -> DataFrame | Series:\n\u001b[32m   4798\u001b[39m \u001b[38;5;250m    \u001b[39m\u001b[33;03m\"\"\"\u001b[39;00m\n\u001b[32m   4799\u001b[39m \u001b[33;03m    Invoke function on values of Series.\u001b[39;00m\n\u001b[32m   4800\u001b[39m \n\u001b[32m   (...)\u001b[39m\u001b[32m   4915\u001b[39m \u001b[33;03m    dtype: float64\u001b[39;00m\n\u001b[32m   4916\u001b[39m \u001b[33;03m    \"\"\"\u001b[39;00m\n\u001b[32m   4917\u001b[39m     \u001b[38;5;28;01mreturn\u001b[39;00m \u001b[43mSeriesApply\u001b[49m\u001b[43m(\u001b[49m\n\u001b[32m   4918\u001b[39m \u001b[43m        \u001b[49m\u001b[38;5;28;43mself\u001b[39;49m\u001b[43m,\u001b[49m\n\u001b[32m   4919\u001b[39m \u001b[43m        \u001b[49m\u001b[43mfunc\u001b[49m\u001b[43m,\u001b[49m\n\u001b[32m   4920\u001b[39m \u001b[43m        \u001b[49m\u001b[43mconvert_dtype\u001b[49m\u001b[43m=\u001b[49m\u001b[43mconvert_dtype\u001b[49m\u001b[43m,\u001b[49m\n\u001b[32m   4921\u001b[39m \u001b[43m        \u001b[49m\u001b[43mby_row\u001b[49m\u001b[43m=\u001b[49m\u001b[43mby_row\u001b[49m\u001b[43m,\u001b[49m\n\u001b[32m   4922\u001b[39m \u001b[43m        \u001b[49m\u001b[43margs\u001b[49m\u001b[43m=\u001b[49m\u001b[43margs\u001b[49m\u001b[43m,\u001b[49m\n\u001b[32m   4923\u001b[39m \u001b[43m        \u001b[49m\u001b[43mkwargs\u001b[49m\u001b[43m=\u001b[49m\u001b[43mkwargs\u001b[49m\u001b[43m,\u001b[49m\n\u001b[32m-> \u001b[39m\u001b[32m4924\u001b[39m \u001b[43m    \u001b[49m\u001b[43m)\u001b[49m\u001b[43m.\u001b[49m\u001b[43mapply\u001b[49m\u001b[43m(\u001b[49m\u001b[43m)\u001b[49m\n",
      "\u001b[36mFile \u001b[39m\u001b[32mc:\\Users\\Mert\\anaconda3\\envs\\data_process\\Lib\\site-packages\\pandas\\core\\apply.py:1427\u001b[39m, in \u001b[36mSeriesApply.apply\u001b[39m\u001b[34m(self)\u001b[39m\n\u001b[32m   1424\u001b[39m     \u001b[38;5;28;01mreturn\u001b[39;00m \u001b[38;5;28mself\u001b[39m.apply_compat()\n\u001b[32m   1426\u001b[39m \u001b[38;5;66;03m# self.func is Callable\u001b[39;00m\n\u001b[32m-> \u001b[39m\u001b[32m1427\u001b[39m \u001b[38;5;28;01mreturn\u001b[39;00m \u001b[38;5;28;43mself\u001b[39;49m\u001b[43m.\u001b[49m\u001b[43mapply_standard\u001b[49m\u001b[43m(\u001b[49m\u001b[43m)\u001b[49m\n",
      "\u001b[36mFile \u001b[39m\u001b[32mc:\\Users\\Mert\\anaconda3\\envs\\data_process\\Lib\\site-packages\\pandas\\core\\apply.py:1507\u001b[39m, in \u001b[36mSeriesApply.apply_standard\u001b[39m\u001b[34m(self)\u001b[39m\n\u001b[32m   1501\u001b[39m \u001b[38;5;66;03m# row-wise access\u001b[39;00m\n\u001b[32m   1502\u001b[39m \u001b[38;5;66;03m# apply doesn't have a `na_action` keyword and for backward compat reasons\u001b[39;00m\n\u001b[32m   1503\u001b[39m \u001b[38;5;66;03m# we need to give `na_action=\"ignore\"` for categorical data.\u001b[39;00m\n\u001b[32m   1504\u001b[39m \u001b[38;5;66;03m# TODO: remove the `na_action=\"ignore\"` when that default has been changed in\u001b[39;00m\n\u001b[32m   1505\u001b[39m \u001b[38;5;66;03m#  Categorical (GH51645).\u001b[39;00m\n\u001b[32m   1506\u001b[39m action = \u001b[33m\"\u001b[39m\u001b[33mignore\u001b[39m\u001b[33m\"\u001b[39m \u001b[38;5;28;01mif\u001b[39;00m \u001b[38;5;28misinstance\u001b[39m(obj.dtype, CategoricalDtype) \u001b[38;5;28;01melse\u001b[39;00m \u001b[38;5;28;01mNone\u001b[39;00m\n\u001b[32m-> \u001b[39m\u001b[32m1507\u001b[39m mapped = \u001b[43mobj\u001b[49m\u001b[43m.\u001b[49m\u001b[43m_map_values\u001b[49m\u001b[43m(\u001b[49m\n\u001b[32m   1508\u001b[39m \u001b[43m    \u001b[49m\u001b[43mmapper\u001b[49m\u001b[43m=\u001b[49m\u001b[43mcurried\u001b[49m\u001b[43m,\u001b[49m\u001b[43m \u001b[49m\u001b[43mna_action\u001b[49m\u001b[43m=\u001b[49m\u001b[43maction\u001b[49m\u001b[43m,\u001b[49m\u001b[43m \u001b[49m\u001b[43mconvert\u001b[49m\u001b[43m=\u001b[49m\u001b[38;5;28;43mself\u001b[39;49m\u001b[43m.\u001b[49m\u001b[43mconvert_dtype\u001b[49m\n\u001b[32m   1509\u001b[39m \u001b[43m\u001b[49m\u001b[43m)\u001b[49m\n\u001b[32m   1511\u001b[39m \u001b[38;5;28;01mif\u001b[39;00m \u001b[38;5;28mlen\u001b[39m(mapped) \u001b[38;5;129;01mand\u001b[39;00m \u001b[38;5;28misinstance\u001b[39m(mapped[\u001b[32m0\u001b[39m], ABCSeries):\n\u001b[32m   1512\u001b[39m     \u001b[38;5;66;03m# GH#43986 Need to do list(mapped) in order to get treated as nested\u001b[39;00m\n\u001b[32m   1513\u001b[39m     \u001b[38;5;66;03m#  See also GH#25959 regarding EA support\u001b[39;00m\n\u001b[32m   1514\u001b[39m     \u001b[38;5;28;01mreturn\u001b[39;00m obj._constructor_expanddim(\u001b[38;5;28mlist\u001b[39m(mapped), index=obj.index)\n",
      "\u001b[36mFile \u001b[39m\u001b[32mc:\\Users\\Mert\\anaconda3\\envs\\data_process\\Lib\\site-packages\\pandas\\core\\base.py:921\u001b[39m, in \u001b[36mIndexOpsMixin._map_values\u001b[39m\u001b[34m(self, mapper, na_action, convert)\u001b[39m\n\u001b[32m    918\u001b[39m \u001b[38;5;28;01mif\u001b[39;00m \u001b[38;5;28misinstance\u001b[39m(arr, ExtensionArray):\n\u001b[32m    919\u001b[39m     \u001b[38;5;28;01mreturn\u001b[39;00m arr.map(mapper, na_action=na_action)\n\u001b[32m--> \u001b[39m\u001b[32m921\u001b[39m \u001b[38;5;28;01mreturn\u001b[39;00m \u001b[43malgorithms\u001b[49m\u001b[43m.\u001b[49m\u001b[43mmap_array\u001b[49m\u001b[43m(\u001b[49m\u001b[43marr\u001b[49m\u001b[43m,\u001b[49m\u001b[43m \u001b[49m\u001b[43mmapper\u001b[49m\u001b[43m,\u001b[49m\u001b[43m \u001b[49m\u001b[43mna_action\u001b[49m\u001b[43m=\u001b[49m\u001b[43mna_action\u001b[49m\u001b[43m,\u001b[49m\u001b[43m \u001b[49m\u001b[43mconvert\u001b[49m\u001b[43m=\u001b[49m\u001b[43mconvert\u001b[49m\u001b[43m)\u001b[49m\n",
      "\u001b[36mFile \u001b[39m\u001b[32mc:\\Users\\Mert\\anaconda3\\envs\\data_process\\Lib\\site-packages\\pandas\\core\\algorithms.py:1743\u001b[39m, in \u001b[36mmap_array\u001b[39m\u001b[34m(arr, mapper, na_action, convert)\u001b[39m\n\u001b[32m   1741\u001b[39m values = arr.astype(\u001b[38;5;28mobject\u001b[39m, copy=\u001b[38;5;28;01mFalse\u001b[39;00m)\n\u001b[32m   1742\u001b[39m \u001b[38;5;28;01mif\u001b[39;00m na_action \u001b[38;5;129;01mis\u001b[39;00m \u001b[38;5;28;01mNone\u001b[39;00m:\n\u001b[32m-> \u001b[39m\u001b[32m1743\u001b[39m     \u001b[38;5;28;01mreturn\u001b[39;00m \u001b[43mlib\u001b[49m\u001b[43m.\u001b[49m\u001b[43mmap_infer\u001b[49m\u001b[43m(\u001b[49m\u001b[43mvalues\u001b[49m\u001b[43m,\u001b[49m\u001b[43m \u001b[49m\u001b[43mmapper\u001b[49m\u001b[43m,\u001b[49m\u001b[43m \u001b[49m\u001b[43mconvert\u001b[49m\u001b[43m=\u001b[49m\u001b[43mconvert\u001b[49m\u001b[43m)\u001b[49m\n\u001b[32m   1744\u001b[39m \u001b[38;5;28;01melse\u001b[39;00m:\n\u001b[32m   1745\u001b[39m     \u001b[38;5;28;01mreturn\u001b[39;00m lib.map_infer_mask(\n\u001b[32m   1746\u001b[39m         values, mapper, mask=isna(values).view(np.uint8), convert=convert\n\u001b[32m   1747\u001b[39m     )\n",
      "\u001b[36mFile \u001b[39m\u001b[32mlib.pyx:2972\u001b[39m, in \u001b[36mpandas._libs.lib.map_infer\u001b[39m\u001b[34m()\u001b[39m\n",
      "\u001b[36mCell\u001b[39m\u001b[36m \u001b[39m\u001b[32mIn[4]\u001b[39m\u001b[32m, line 5\u001b[39m, in \u001b[36mannotate_frames_within_interval.<locals>.<lambda>\u001b[39m\u001b[34m(ts)\u001b[39m\n\u001b[32m      1\u001b[39m \u001b[38;5;28;01mdef\u001b[39;00m\u001b[38;5;250m \u001b[39m\u001b[34mannotate_frames_within_interval\u001b[39m(frames_df: pd.DataFrame, chunks_df: pd.DataFrame) -> pd.DataFrame:\n\u001b[32m      2\u001b[39m     out = chunks_df.copy()\n\u001b[32m      3\u001b[39m     out[[\u001b[33m'\u001b[39m\u001b[33mstart\u001b[39m\u001b[33m'\u001b[39m, \u001b[33m'\u001b[39m\u001b[33mend\u001b[39m\u001b[33m'\u001b[39m]] = pd.DataFrame(\n\u001b[32m      4\u001b[39m         out[\u001b[33m'\u001b[39m\u001b[33mtimestamp\u001b[39m\u001b[33m'\u001b[39m]\n\u001b[32m----> \u001b[39m\u001b[32m5\u001b[39m             .apply(\u001b[38;5;28;01mlambda\u001b[39;00m ts: (\u001b[38;5;28;43mfloat\u001b[39;49m\u001b[43m(\u001b[49m\u001b[43mts\u001b[49m\u001b[43m[\u001b[49m\u001b[32;43m0\u001b[39;49m\u001b[43m]\u001b[49m\u001b[43m)\u001b[49m, \u001b[38;5;28mfloat\u001b[39m(ts[\u001b[32m1\u001b[39m])))\n\u001b[32m      6\u001b[39m             .tolist(),\n\u001b[32m      7\u001b[39m         index=out.index\n\u001b[32m      8\u001b[39m     )\n\u001b[32m      9\u001b[39m     \u001b[38;5;28;01mif\u001b[39;00m \u001b[33m'\u001b[39m\u001b[33mvideo_id\u001b[39m\u001b[33m'\u001b[39m \u001b[38;5;129;01mnot\u001b[39;00m \u001b[38;5;129;01min\u001b[39;00m frames_df:\n\u001b[32m     10\u001b[39m         frames_df = frames_df.copy()\n",
      "\u001b[31mValueError\u001b[39m: could not convert string to float: '['"
     ]
    }
   ],
   "source": [
    "annotated_chunks = annotate_frames_within_interval(frames_df, chunks_df)\n",
    "annotated_chunks.to_csv('annotated_chunks.csv', index=False)"
   ]
  },
  {
   "cell_type": "code",
   "execution_count": 12,
   "id": "369f7700",
   "metadata": {},
   "outputs": [
    {
     "data": {
      "application/vnd.microsoft.datawrangler.viewer.v0+json": {
       "columns": [
        {
         "name": "index",
         "rawType": "int64",
         "type": "integer"
        },
        {
         "name": "timestamp_seconds",
         "rawType": "float64",
         "type": "float"
        },
        {
         "name": "video",
         "rawType": "object",
         "type": "string"
        },
        {
         "name": "frame_number",
         "rawType": "int64",
         "type": "integer"
        },
        {
         "name": "text_on_image",
         "rawType": "object",
         "type": "string"
        }
       ],
       "conversionMethod": "pd.DataFrame",
       "ref": "7d804d9e-cd38-427c-94d3-beb4ac0fd913",
       "rows": [
        [
         "0",
         "0.0",
         "video_1_frame0.jpg",
         "0",
         "Hello"
        ],
        [
         "1",
         "1.0010000000000001",
         "video_1_frame30.jpg",
         "30",
         ""
        ],
        [
         "2",
         "2.0020000000000002",
         "video_1_frame60.jpg",
         "60",
         "World"
        ],
        [
         "3",
         "3.003",
         "video_1_frame90.jpg",
         "90",
         ""
        ],
        [
         "4",
         "4.0040000000000004",
         "video_1_frame120.jpg",
         "120",
         ""
        ],
        [
         "5",
         "5.005",
         "video_1_frame150.jpg",
         "150",
         ""
        ],
        [
         "6",
         "6.006",
         "video_1_frame180.jpg",
         "180",
         ""
        ],
        [
         "7",
         "7.007000000000001",
         "video_1_frame210.jpg",
         "210",
         "LOL,that guy is crazy!"
        ],
        [
         "8",
         "8.008000000000001",
         "video_1_frame240.jpg",
         "240",
         ""
        ],
        [
         "9",
         "9.009",
         "video_1_frame270.jpg",
         "270",
         ""
        ]
       ],
       "shape": {
        "columns": 4,
        "rows": 10
       }
      },
      "text/html": [
       "<div>\n",
       "<style scoped>\n",
       "    .dataframe tbody tr th:only-of-type {\n",
       "        vertical-align: middle;\n",
       "    }\n",
       "\n",
       "    .dataframe tbody tr th {\n",
       "        vertical-align: top;\n",
       "    }\n",
       "\n",
       "    .dataframe thead th {\n",
       "        text-align: right;\n",
       "    }\n",
       "</style>\n",
       "<table border=\"1\" class=\"dataframe\">\n",
       "  <thead>\n",
       "    <tr style=\"text-align: right;\">\n",
       "      <th></th>\n",
       "      <th>timestamp_seconds</th>\n",
       "      <th>video</th>\n",
       "      <th>frame_number</th>\n",
       "      <th>text_on_image</th>\n",
       "    </tr>\n",
       "  </thead>\n",
       "  <tbody>\n",
       "    <tr>\n",
       "      <th>0</th>\n",
       "      <td>0.000</td>\n",
       "      <td>video_1_frame0.jpg</td>\n",
       "      <td>0</td>\n",
       "      <td>Hello</td>\n",
       "    </tr>\n",
       "    <tr>\n",
       "      <th>1</th>\n",
       "      <td>1.001</td>\n",
       "      <td>video_1_frame30.jpg</td>\n",
       "      <td>30</td>\n",
       "      <td></td>\n",
       "    </tr>\n",
       "    <tr>\n",
       "      <th>2</th>\n",
       "      <td>2.002</td>\n",
       "      <td>video_1_frame60.jpg</td>\n",
       "      <td>60</td>\n",
       "      <td>World</td>\n",
       "    </tr>\n",
       "    <tr>\n",
       "      <th>3</th>\n",
       "      <td>3.003</td>\n",
       "      <td>video_1_frame90.jpg</td>\n",
       "      <td>90</td>\n",
       "      <td></td>\n",
       "    </tr>\n",
       "    <tr>\n",
       "      <th>4</th>\n",
       "      <td>4.004</td>\n",
       "      <td>video_1_frame120.jpg</td>\n",
       "      <td>120</td>\n",
       "      <td></td>\n",
       "    </tr>\n",
       "    <tr>\n",
       "      <th>5</th>\n",
       "      <td>5.005</td>\n",
       "      <td>video_1_frame150.jpg</td>\n",
       "      <td>150</td>\n",
       "      <td></td>\n",
       "    </tr>\n",
       "    <tr>\n",
       "      <th>6</th>\n",
       "      <td>6.006</td>\n",
       "      <td>video_1_frame180.jpg</td>\n",
       "      <td>180</td>\n",
       "      <td></td>\n",
       "    </tr>\n",
       "    <tr>\n",
       "      <th>7</th>\n",
       "      <td>7.007</td>\n",
       "      <td>video_1_frame210.jpg</td>\n",
       "      <td>210</td>\n",
       "      <td>LOL,that guy is crazy!</td>\n",
       "    </tr>\n",
       "    <tr>\n",
       "      <th>8</th>\n",
       "      <td>8.008</td>\n",
       "      <td>video_1_frame240.jpg</td>\n",
       "      <td>240</td>\n",
       "      <td></td>\n",
       "    </tr>\n",
       "    <tr>\n",
       "      <th>9</th>\n",
       "      <td>9.009</td>\n",
       "      <td>video_1_frame270.jpg</td>\n",
       "      <td>270</td>\n",
       "      <td></td>\n",
       "    </tr>\n",
       "  </tbody>\n",
       "</table>\n",
       "</div>"
      ],
      "text/plain": [
       "   timestamp_seconds                 video  frame_number  \\\n",
       "0              0.000    video_1_frame0.jpg             0   \n",
       "1              1.001   video_1_frame30.jpg            30   \n",
       "2              2.002   video_1_frame60.jpg            60   \n",
       "3              3.003   video_1_frame90.jpg            90   \n",
       "4              4.004  video_1_frame120.jpg           120   \n",
       "5              5.005  video_1_frame150.jpg           150   \n",
       "6              6.006  video_1_frame180.jpg           180   \n",
       "7              7.007  video_1_frame210.jpg           210   \n",
       "8              8.008  video_1_frame240.jpg           240   \n",
       "9              9.009  video_1_frame270.jpg           270   \n",
       "\n",
       "            text_on_image  \n",
       "0                   Hello  \n",
       "1                          \n",
       "2                   World  \n",
       "3                          \n",
       "4                          \n",
       "5                          \n",
       "6                          \n",
       "7  LOL,that guy is crazy!  \n",
       "8                          \n",
       "9                          "
      ]
     },
     "execution_count": 12,
     "metadata": {},
     "output_type": "execute_result"
    }
   ],
   "source": [
    "#Test with texts on the images\n",
    "# add a column called text_on_image which is a list [\"Hello\",\"\",\"World\",\"\",\"\",\"\",\"\",\"LOL,that guy is crazy!\",...] fill the rest with empty strings\n",
    "combined_frame_df[\"text_on_image\"] = [\n",
    "    \"Hello\", \"\", \"World\", \"\", \"\", \"\", \"\", \"LOL,that guy is crazy!\"\n",
    "] + [\"\"] * (len(combined_frame_df) - 8)\n",
    "\n",
    "\n",
    "combined_frame_df.head(10)\n"
   ]
  },
  {
   "cell_type": "code",
   "execution_count": 13,
   "id": "9d803c68",
   "metadata": {},
   "outputs": [
    {
     "data": {
      "application/vnd.microsoft.datawrangler.viewer.v0+json": {
       "columns": [
        {
         "name": "index",
         "rawType": "int64",
         "type": "integer"
        },
        {
         "name": "timestamp",
         "rawType": "object",
         "type": "unknown"
        },
        {
         "name": "text",
         "rawType": "object",
         "type": "string"
        },
        {
         "name": "video",
         "rawType": "object",
         "type": "string"
        }
       ],
       "conversionMethod": "pd.DataFrame",
       "ref": "d4c12382-2da1-478d-8c76-58fbb8c04ca9",
       "rows": [
        [
         "0",
         "[0.0, 94.96]",
         " The End Thank you. The End",
         "video_1"
        ],
        [
         "1",
         "[0.0, 25.44]",
         " I Like Sugar And the NAACP would sure like to get a hold of nigger hatin' me.",
         "video_2"
        ],
        [
         "2",
         "[27.42, 32.12]",
         " Roses are red and violets are blue and niggers are black, you know that's true.",
         "video_2"
        ],
        [
         "3",
         "[32.42, 37.8]",
         " But they don't mind cause what the heck, you gotta be black to get a welfare check and I'm broke.",
         "video_2"
        ],
        [
         "4",
         "[38.34, 44.08]",
         " No joke, I ain't got a nickel for a coke and I ain't black, you see.",
         "video_2"
        ],
        [
         "5",
         "[44.6, 47.8]",
         " So Uncle Sam won't help poor nigger hatin' me.",
         "video_2"
        ],
        [
         "6",
         "[50.04, 52.04]",
         " Jigaboo, jigaboo, where are you?",
         "video_2"
        ],
        [
         "7",
         "[52.24, 54.68]",
         " I was here in the woodpile watching you.",
         "video_2"
        ],
        [
         "8",
         "[55.04, 57.04]",
         " Jigaboo, jigaboo, come out, no.",
         "video_2"
        ],
        [
         "9",
         "[57.14, 60.44]",
         " So I scared all the white men way down south, you know it.",
         "video_2"
        ],
        [
         "10",
         "[60.86, 64.1]",
         " But I show it, stick your black jet out, and I blow it.",
         "video_2"
        ],
        [
         "11",
         "[67.0, 67.52]",
         " know it. Cause I show it, stick your black jet out and I blow it. And the NAACP can't",
         "video_2"
        ],
        [
         "12",
         "[75.72, 80.96]",
         " keep you away from a little old nigger hatin' me. Mirror, mirror on the wall, who is the blackest of them all? A man named King, it ain't no doubt, and he's causin' lots of trouble",
         "video_2"
        ],
        [
         "13",
         "[80.96, 87.18]",
         " with his baboon mouth. He's a-doin', It's caused by the trouble he's a-brewin'.",
         "video_2"
        ],
        [
         "14",
         "[87.18, 92.84]",
         " And the NAACP can't win if white men stick with nigger hatin' me.",
         "video_2"
        ],
        [
         "15",
         "[94.92, 97.18]",
         " Hey, Mr. President, what do you say?",
         "video_2"
        ],
        [
         "16",
         "[97.58, 99.68]",
         " When are we whites gonna have our day?",
         "video_2"
        ],
        [
         "17",
         "[100.02, 102.32]",
         " The niggers had theirs such a long, long time.",
         "video_2"
        ],
        [
         "18",
         "[102.42, 104.88]",
         " I'm a-white and it's time that I have mine.",
         "video_2"
        ],
        [
         "19",
         "[104.96, 106.86]",
         " You know it, cause I show it.",
         "video_2"
        ],
        [
         "20",
         "[107.34, 109.34]",
         " Stick it right, get out and I'll blow it.",
         "video_2"
        ],
        [
         "21",
         "[109.86, 115.52]",
         " And the NAACP can't win if a white man stick with nigger hatin' me.",
         "video_2"
        ],
        [
         "22",
         "[116.98, 118.16]",
         " Nigger hatin' me.",
         "video_2"
        ],
        [
         "23",
         "[119.5, 120.66]",
         " Nigger hatin' me.",
         "video_2"
        ],
        [
         "24",
         "[122.0, 123.16]",
         " Nigger hatin' me.",
         "video_2"
        ],
        [
         "25",
         "[124.52, 125.62]",
         " Nigger hatin' me.",
         "video_2"
        ],
        [
         "26",
         "[0.0, 2.0]",
         " I simply must get through!",
         "video_3"
        ],
        [
         "27",
         "[2.0, 4.0]",
         " Sorry, you're much too big!",
         "video_3"
        ],
        [
         "28",
         "[4.0, 5.0]",
         " Yeah man!",
         "video_3"
        ],
        [
         "29",
         "[5.0, 7.0]",
         " Bobby two pistols in his bitch!",
         "video_3"
        ],
        [
         "30",
         "[7.0, 8.0]",
         " Yeah man!",
         "video_3"
        ],
        [
         "31",
         "[8.0, 10.0]",
         " Fuck all those niggers man!",
         "video_3"
        ],
        [
         "32",
         "[10.0, 12.0]",
         " Martin Luther King deserved to be killed!",
         "video_3"
        ],
        [
         "33",
         "[12.0, 14.0]",
         " And fuck your nigger!",
         "video_3"
        ],
        [
         "34",
         "[14.0, 16.0]",
         " Just grab and steal your shit man!",
         "video_3"
        ],
        [
         "35",
         "[16.0, 18.0]",
         " Fuck those niggers man!",
         "video_3"
        ],
        [
         "36",
         "[18.0, 20.0]",
         " Fuck all niggers!",
         "video_3"
        ],
        [
         "37",
         "[20.0, 22.0]",
         " Fuck all niggers!",
         "video_3"
        ],
        [
         "38",
         "[22.0, 24.0]",
         " Fuck all niggers!",
         "video_3"
        ],
        [
         "39",
         "[24.0, 25.06]",
         " Fuck all niggers! Fuck all those niggers Fuck all niggers Fuck all niggers",
         "video_3"
        ],
        [
         "40",
         "[25.06, 26.8]",
         " Fuck all those niggers",
         "video_3"
        ],
        [
         "41",
         "[26.8, 28.48]",
         " Fuck all those niggers",
         "video_3"
        ],
        [
         "42",
         "[28.48, 30.2]",
         " Fuck all those niggers",
         "video_3"
        ],
        [
         "43",
         "[30.2, 31.9]",
         " Fuck all those niggers",
         "video_3"
        ],
        [
         "44",
         "[31.9, 33.6]",
         " Rapping still my shit",
         "video_3"
        ],
        [
         "45",
         "[33.6, 35.18]",
         " Rapping still my shit",
         "video_3"
        ],
        [
         "46",
         "[35.18, 36.92]",
         " They wanna rap and steal my shit",
         "video_3"
        ],
        [
         "47",
         "[36.92, 38.68]",
         " Because they can't get shit",
         "video_3"
        ],
        [
         "48",
         "[38.68, 40.5]",
         " Go and get a job",
         "video_3"
        ],
        [
         "49",
         "[40.5, 42.2]",
         " Stop trying to rob",
         "video_3"
        ]
       ],
       "shape": {
        "columns": 3,
        "rows": 103
       }
      },
      "text/html": [
       "<div>\n",
       "<style scoped>\n",
       "    .dataframe tbody tr th:only-of-type {\n",
       "        vertical-align: middle;\n",
       "    }\n",
       "\n",
       "    .dataframe tbody tr th {\n",
       "        vertical-align: top;\n",
       "    }\n",
       "\n",
       "    .dataframe thead th {\n",
       "        text-align: right;\n",
       "    }\n",
       "</style>\n",
       "<table border=\"1\" class=\"dataframe\">\n",
       "  <thead>\n",
       "    <tr style=\"text-align: right;\">\n",
       "      <th></th>\n",
       "      <th>timestamp</th>\n",
       "      <th>text</th>\n",
       "      <th>video</th>\n",
       "    </tr>\n",
       "  </thead>\n",
       "  <tbody>\n",
       "    <tr>\n",
       "      <th>0</th>\n",
       "      <td>[0.0, 94.96]</td>\n",
       "      <td>The End Thank you. The End</td>\n",
       "      <td>video_1</td>\n",
       "    </tr>\n",
       "    <tr>\n",
       "      <th>1</th>\n",
       "      <td>[0.0, 25.44]</td>\n",
       "      <td>I Like Sugar And the NAACP would sure like to...</td>\n",
       "      <td>video_2</td>\n",
       "    </tr>\n",
       "    <tr>\n",
       "      <th>2</th>\n",
       "      <td>[27.42, 32.12]</td>\n",
       "      <td>Roses are red and violets are blue and nigger...</td>\n",
       "      <td>video_2</td>\n",
       "    </tr>\n",
       "    <tr>\n",
       "      <th>3</th>\n",
       "      <td>[32.42, 37.8]</td>\n",
       "      <td>But they don't mind cause what the heck, you ...</td>\n",
       "      <td>video_2</td>\n",
       "    </tr>\n",
       "    <tr>\n",
       "      <th>4</th>\n",
       "      <td>[38.34, 44.08]</td>\n",
       "      <td>No joke, I ain't got a nickel for a coke and ...</td>\n",
       "      <td>video_2</td>\n",
       "    </tr>\n",
       "    <tr>\n",
       "      <th>...</th>\n",
       "      <td>...</td>\n",
       "      <td>...</td>\n",
       "      <td>...</td>\n",
       "    </tr>\n",
       "    <tr>\n",
       "      <th>98</th>\n",
       "      <td>[198.68, 202.76]</td>\n",
       "      <td>Bitch, clean my car while I drink lemonade.</td>\n",
       "      <td>video_3</td>\n",
       "    </tr>\n",
       "    <tr>\n",
       "      <th>99</th>\n",
       "      <td>[202.76, 203.96]</td>\n",
       "      <td>Ya fuckin' slave.</td>\n",
       "      <td>video_3</td>\n",
       "    </tr>\n",
       "    <tr>\n",
       "      <th>100</th>\n",
       "      <td>[203.96, 205.12]</td>\n",
       "      <td>Melvin on the beat</td>\n",
       "      <td>video_3</td>\n",
       "    </tr>\n",
       "    <tr>\n",
       "      <th>101</th>\n",
       "      <td>[205.12, 208.56]</td>\n",
       "      <td>Buy me two pistols man, fuck all those nigger...</td>\n",
       "      <td>video_3</td>\n",
       "    </tr>\n",
       "    <tr>\n",
       "      <th>102</th>\n",
       "      <td>[208.56, 231.12]</td>\n",
       "      <td>Real nigger anthem Продолжение следует...</td>\n",
       "      <td>video_3</td>\n",
       "    </tr>\n",
       "  </tbody>\n",
       "</table>\n",
       "<p>103 rows × 3 columns</p>\n",
       "</div>"
      ],
      "text/plain": [
       "            timestamp                                               text  \\\n",
       "0        [0.0, 94.96]                         The End Thank you. The End   \n",
       "1        [0.0, 25.44]   I Like Sugar And the NAACP would sure like to...   \n",
       "2      [27.42, 32.12]   Roses are red and violets are blue and nigger...   \n",
       "3       [32.42, 37.8]   But they don't mind cause what the heck, you ...   \n",
       "4      [38.34, 44.08]   No joke, I ain't got a nickel for a coke and ...   \n",
       "..                ...                                                ...   \n",
       "98   [198.68, 202.76]        Bitch, clean my car while I drink lemonade.   \n",
       "99   [202.76, 203.96]                                  Ya fuckin' slave.   \n",
       "100  [203.96, 205.12]                                 Melvin on the beat   \n",
       "101  [205.12, 208.56]   Buy me two pistols man, fuck all those nigger...   \n",
       "102  [208.56, 231.12]          Real nigger anthem Продолжение следует...   \n",
       "\n",
       "       video  \n",
       "0    video_1  \n",
       "1    video_2  \n",
       "2    video_2  \n",
       "3    video_2  \n",
       "4    video_2  \n",
       "..       ...  \n",
       "98   video_3  \n",
       "99   video_3  \n",
       "100  video_3  \n",
       "101  video_3  \n",
       "102  video_3  \n",
       "\n",
       "[103 rows x 3 columns]"
      ]
     },
     "execution_count": 13,
     "metadata": {},
     "output_type": "execute_result"
    }
   ],
   "source": [
    "combined_chunk_df"
   ]
  },
  {
   "cell_type": "code",
   "execution_count": 96,
   "id": "fddce075",
   "metadata": {},
   "outputs": [
    {
     "data": {
      "application/vnd.microsoft.datawrangler.viewer.v0+json": {
       "columns": [
        {
         "name": "index",
         "rawType": "int64",
         "type": "integer"
        },
        {
         "name": "timestamp",
         "rawType": "object",
         "type": "unknown"
        },
        {
         "name": "text",
         "rawType": "object",
         "type": "string"
        },
        {
         "name": "video",
         "rawType": "object",
         "type": "string"
        }
       ],
       "conversionMethod": "pd.DataFrame",
       "ref": "ef0af6a5-edde-4829-b392-d2a740ca3fe1",
       "rows": [
        [
         "0",
         "[0.0, 94.96]",
         " The End Thank you. The End",
         "video_1"
        ],
        [
         "1",
         "[0.0, 25.44]",
         " I Like Sugar And the NAACP would sure like to get a hold of nigger hatin' me.",
         "video_2"
        ],
        [
         "2",
         "[27.42, 32.12]",
         " Roses are red and violets are blue and niggers are black, you know that's true.",
         "video_2"
        ],
        [
         "3",
         "[32.42, 37.8]",
         " But they don't mind cause what the heck, you gotta be black to get a welfare check and I'm broke.",
         "video_2"
        ],
        [
         "4",
         "[38.34, 44.08]",
         " No joke, I ain't got a nickel for a coke and I ain't black, you see.",
         "video_2"
        ]
       ],
       "shape": {
        "columns": 3,
        "rows": 5
       }
      },
      "text/html": [
       "<div>\n",
       "<style scoped>\n",
       "    .dataframe tbody tr th:only-of-type {\n",
       "        vertical-align: middle;\n",
       "    }\n",
       "\n",
       "    .dataframe tbody tr th {\n",
       "        vertical-align: top;\n",
       "    }\n",
       "\n",
       "    .dataframe thead th {\n",
       "        text-align: right;\n",
       "    }\n",
       "</style>\n",
       "<table border=\"1\" class=\"dataframe\">\n",
       "  <thead>\n",
       "    <tr style=\"text-align: right;\">\n",
       "      <th></th>\n",
       "      <th>timestamp</th>\n",
       "      <th>text</th>\n",
       "      <th>video</th>\n",
       "    </tr>\n",
       "  </thead>\n",
       "  <tbody>\n",
       "    <tr>\n",
       "      <th>0</th>\n",
       "      <td>[0.0, 94.96]</td>\n",
       "      <td>The End Thank you. The End</td>\n",
       "      <td>video_1</td>\n",
       "    </tr>\n",
       "    <tr>\n",
       "      <th>1</th>\n",
       "      <td>[0.0, 25.44]</td>\n",
       "      <td>I Like Sugar And the NAACP would sure like to...</td>\n",
       "      <td>video_2</td>\n",
       "    </tr>\n",
       "    <tr>\n",
       "      <th>2</th>\n",
       "      <td>[27.42, 32.12]</td>\n",
       "      <td>Roses are red and violets are blue and nigger...</td>\n",
       "      <td>video_2</td>\n",
       "    </tr>\n",
       "    <tr>\n",
       "      <th>3</th>\n",
       "      <td>[32.42, 37.8]</td>\n",
       "      <td>But they don't mind cause what the heck, you ...</td>\n",
       "      <td>video_2</td>\n",
       "    </tr>\n",
       "    <tr>\n",
       "      <th>4</th>\n",
       "      <td>[38.34, 44.08]</td>\n",
       "      <td>No joke, I ain't got a nickel for a coke and ...</td>\n",
       "      <td>video_2</td>\n",
       "    </tr>\n",
       "  </tbody>\n",
       "</table>\n",
       "</div>"
      ],
      "text/plain": [
       "        timestamp                                               text    video\n",
       "0    [0.0, 94.96]                         The End Thank you. The End  video_1\n",
       "1    [0.0, 25.44]   I Like Sugar And the NAACP would sure like to...  video_2\n",
       "2  [27.42, 32.12]   Roses are red and violets are blue and nigger...  video_2\n",
       "3   [32.42, 37.8]   But they don't mind cause what the heck, you ...  video_2\n",
       "4  [38.34, 44.08]   No joke, I ain't got a nickel for a coke and ...  video_2"
      ]
     },
     "execution_count": 96,
     "metadata": {},
     "output_type": "execute_result"
    }
   ],
   "source": [
    "final_df = combined_chunk_df.copy()\n",
    "final_df.head()"
   ]
  },
  {
   "cell_type": "code",
   "execution_count": 97,
   "id": "40e5150f",
   "metadata": {},
   "outputs": [
    {
     "data": {
      "application/vnd.microsoft.datawrangler.viewer.v0+json": {
       "columns": [
        {
         "name": "index",
         "rawType": "int64",
         "type": "integer"
        },
        {
         "name": "timestamp",
         "rawType": "object",
         "type": "unknown"
        },
        {
         "name": "text",
         "rawType": "object",
         "type": "string"
        },
        {
         "name": "video",
         "rawType": "object",
         "type": "string"
        }
       ],
       "conversionMethod": "pd.DataFrame",
       "ref": "0e96e4d4-65df-498a-886d-416406ac6812",
       "rows": [
        [
         "0",
         "[0.0, 94.96]",
         "The End Thank you. The End | Hello | World | LOL,that guy is crazy!",
         "video_1"
        ],
        [
         "1",
         "[0.0, 25.44]",
         "I Like Sugar And the NAACP would sure like to get a hold of nigger hatin' me.",
         "video_2"
        ],
        [
         "2",
         "[27.42, 32.12]",
         "Roses are red and violets are blue and niggers are black, you know that's true.",
         "video_2"
        ],
        [
         "3",
         "[32.42, 37.8]",
         "But they don't mind cause what the heck, you gotta be black to get a welfare check and I'm broke.",
         "video_2"
        ],
        [
         "4",
         "[38.34, 44.08]",
         "No joke, I ain't got a nickel for a coke and I ain't black, you see.",
         "video_2"
        ],
        [
         "5",
         "[44.6, 47.8]",
         "So Uncle Sam won't help poor nigger hatin' me.",
         "video_2"
        ],
        [
         "6",
         "[50.04, 52.04]",
         "Jigaboo, jigaboo, where are you?",
         "video_2"
        ],
        [
         "7",
         "[52.24, 54.68]",
         "I was here in the woodpile watching you.",
         "video_2"
        ],
        [
         "8",
         "[55.04, 57.04]",
         "Jigaboo, jigaboo, come out, no.",
         "video_2"
        ],
        [
         "9",
         "[57.14, 60.44]",
         "So I scared all the white men way down south, you know it.",
         "video_2"
        ]
       ],
       "shape": {
        "columns": 3,
        "rows": 10
       }
      },
      "text/html": [
       "<div>\n",
       "<style scoped>\n",
       "    .dataframe tbody tr th:only-of-type {\n",
       "        vertical-align: middle;\n",
       "    }\n",
       "\n",
       "    .dataframe tbody tr th {\n",
       "        vertical-align: top;\n",
       "    }\n",
       "\n",
       "    .dataframe thead th {\n",
       "        text-align: right;\n",
       "    }\n",
       "</style>\n",
       "<table border=\"1\" class=\"dataframe\">\n",
       "  <thead>\n",
       "    <tr style=\"text-align: right;\">\n",
       "      <th></th>\n",
       "      <th>timestamp</th>\n",
       "      <th>text</th>\n",
       "      <th>video</th>\n",
       "    </tr>\n",
       "  </thead>\n",
       "  <tbody>\n",
       "    <tr>\n",
       "      <th>0</th>\n",
       "      <td>[0.0, 94.96]</td>\n",
       "      <td>The End Thank you. The End | Hello | World | L...</td>\n",
       "      <td>video_1</td>\n",
       "    </tr>\n",
       "    <tr>\n",
       "      <th>1</th>\n",
       "      <td>[0.0, 25.44]</td>\n",
       "      <td>I Like Sugar And the NAACP would sure like to ...</td>\n",
       "      <td>video_2</td>\n",
       "    </tr>\n",
       "    <tr>\n",
       "      <th>2</th>\n",
       "      <td>[27.42, 32.12]</td>\n",
       "      <td>Roses are red and violets are blue and niggers...</td>\n",
       "      <td>video_2</td>\n",
       "    </tr>\n",
       "    <tr>\n",
       "      <th>3</th>\n",
       "      <td>[32.42, 37.8]</td>\n",
       "      <td>But they don't mind cause what the heck, you g...</td>\n",
       "      <td>video_2</td>\n",
       "    </tr>\n",
       "    <tr>\n",
       "      <th>4</th>\n",
       "      <td>[38.34, 44.08]</td>\n",
       "      <td>No joke, I ain't got a nickel for a coke and I...</td>\n",
       "      <td>video_2</td>\n",
       "    </tr>\n",
       "    <tr>\n",
       "      <th>5</th>\n",
       "      <td>[44.6, 47.8]</td>\n",
       "      <td>So Uncle Sam won't help poor nigger hatin' me.</td>\n",
       "      <td>video_2</td>\n",
       "    </tr>\n",
       "    <tr>\n",
       "      <th>6</th>\n",
       "      <td>[50.04, 52.04]</td>\n",
       "      <td>Jigaboo, jigaboo, where are you?</td>\n",
       "      <td>video_2</td>\n",
       "    </tr>\n",
       "    <tr>\n",
       "      <th>7</th>\n",
       "      <td>[52.24, 54.68]</td>\n",
       "      <td>I was here in the woodpile watching you.</td>\n",
       "      <td>video_2</td>\n",
       "    </tr>\n",
       "    <tr>\n",
       "      <th>8</th>\n",
       "      <td>[55.04, 57.04]</td>\n",
       "      <td>Jigaboo, jigaboo, come out, no.</td>\n",
       "      <td>video_2</td>\n",
       "    </tr>\n",
       "    <tr>\n",
       "      <th>9</th>\n",
       "      <td>[57.14, 60.44]</td>\n",
       "      <td>So I scared all the white men way down south, ...</td>\n",
       "      <td>video_2</td>\n",
       "    </tr>\n",
       "  </tbody>\n",
       "</table>\n",
       "</div>"
      ],
      "text/plain": [
       "        timestamp                                               text    video\n",
       "0    [0.0, 94.96]  The End Thank you. The End | Hello | World | L...  video_1\n",
       "1    [0.0, 25.44]  I Like Sugar And the NAACP would sure like to ...  video_2\n",
       "2  [27.42, 32.12]  Roses are red and violets are blue and niggers...  video_2\n",
       "3   [32.42, 37.8]  But they don't mind cause what the heck, you g...  video_2\n",
       "4  [38.34, 44.08]  No joke, I ain't got a nickel for a coke and I...  video_2\n",
       "5    [44.6, 47.8]     So Uncle Sam won't help poor nigger hatin' me.  video_2\n",
       "6  [50.04, 52.04]                   Jigaboo, jigaboo, where are you?  video_2\n",
       "7  [52.24, 54.68]           I was here in the woodpile watching you.  video_2\n",
       "8  [55.04, 57.04]                    Jigaboo, jigaboo, come out, no.  video_2\n",
       "9  [57.14, 60.44]  So I scared all the white men way down south, ...  video_2"
      ]
     },
     "execution_count": 97,
     "metadata": {},
     "output_type": "execute_result"
    }
   ],
   "source": [
    "\n",
    "# --- Main Logic ---\n",
    "\n",
    "# 1) Unpack the \"timestamp\" column from final_df into \"start\" and \"end\" columns\n",
    "final_df[['start', 'end']] = pd.DataFrame(final_df['timestamp'].tolist(), index=final_df.index)\n",
    "\n",
    "# 2) For each row in combined_frame_df, find matching rows in final_df and update the text\n",
    "for _, frame in combined_frame_df.iterrows():\n",
    "    # Extract the numeric timestamp and text from the frame row\n",
    "    t = frame[\"timestamp_seconds\"]\n",
    "    text_on_image = str(frame[\"text_on_image\"]).strip()\n",
    "    \n",
    "    # We assume the \"video\" column in combined_frame_df is something like \"video_1_frame2342.jpg\"\n",
    "    video_id = frame[\"video\"].split(\"_frame\")[0]\n",
    "    \n",
    "    # Build a mask to find the matching rows in final_df\n",
    "    mask = (\n",
    "        (final_df[\"video\"] == video_id) &\n",
    "        (final_df[\"start\"] <= t) &\n",
    "        (final_df[\"end\"] >= t)\n",
    "    )\n",
    "    \n",
    "    # Apply the combine_text function only on the masked rows\n",
    "    final_df.loc[mask, \"text\"] = final_df.loc[mask, \"text\"].apply(\n",
    "        lambda current_text: combine_text(current_text, text_on_image)\n",
    "    )\n",
    "\n",
    "# 3) (Optional) Drop the columns \"start\" and \"end\" if not needed anymore\n",
    "final_df.drop(columns=[\"start\", \"end\"], inplace=True)\n",
    "\n",
    "final_df.head(10)\n"
   ]
  },
  {
   "cell_type": "code",
   "execution_count": 98,
   "id": "4681922b",
   "metadata": {},
   "outputs": [
    {
     "data": {
      "application/vnd.microsoft.datawrangler.viewer.v0+json": {
       "columns": [
        {
         "name": "index",
         "rawType": "int64",
         "type": "integer"
        },
        {
         "name": "video_file_name",
         "rawType": "object",
         "type": "string"
        },
        {
         "name": "label",
         "rawType": "object",
         "type": "string"
        },
        {
         "name": "hate_snippet",
         "rawType": "object",
         "type": "unknown"
        },
        {
         "name": "target",
         "rawType": "object",
         "type": "unknown"
        },
        {
         "name": "Hate_Label",
         "rawType": "float64",
         "type": "float"
        },
        {
         "name": "Image_hate",
         "rawType": "float64",
         "type": "float"
        },
        {
         "name": "Audio_hate",
         "rawType": "float64",
         "type": "float"
        },
        {
         "name": "Text_hate",
         "rawType": "float64",
         "type": "float"
        },
        {
         "name": "Frame_hate",
         "rawType": "float64",
         "type": "float"
        }
       ],
       "conversionMethod": "pd.DataFrame",
       "ref": "1a15552b-29c2-4953-a95f-24d256876acb",
       "rows": [
        [
         "0",
         "hate_video_1.mp4",
         "Hate",
         "[['00:00:34', '00:01:34']]",
         "Blacks",
         "1.0",
         "0.0",
         "0.0",
         "1.0",
         "1.0"
        ],
        [
         "1",
         "hate_video_2.mp4",
         "Hate",
         "[['00:00:06', '00:02:06']]",
         "Blacks",
         "1.0",
         "1.0",
         "1.0",
         "0.0",
         "1.0"
        ],
        [
         "2",
         "non_hate_video_1.mp4",
         "Non Hate",
         null,
         "Others",
         "0.0",
         "0.0",
         "0.0",
         "0.0",
         "0.0"
        ],
        [
         "3",
         "hate_video_3.mp4",
         "Hate",
         "[['00:00:03', '00:01:40'], ['00:01:41', '00:03:27']]",
         "Blacks",
         "1.0",
         "1.0",
         "1.0",
         "0.0",
         "1.0"
        ],
        [
         "4",
         "non_hate_video_2.mp4",
         "Non Hate",
         null,
         "Blacks",
         "0.0",
         "0.0",
         "0.0",
         "0.0",
         "0.0"
        ],
        [
         "5",
         "hate_video_4.mp4",
         "Hate",
         "[['00:00:00', '00:00:13']]",
         "Jews",
         "1.0",
         "1.0",
         "1.0",
         "0.0",
         "1.0"
        ],
        [
         "6",
         "non_hate_video_3.mp4",
         "Non Hate",
         null,
         "Blacks",
         "0.0",
         "0.0",
         "0.0",
         "0.0",
         "0.0"
        ],
        [
         "7",
         "non_hate_video_4.mp4",
         "Non Hate",
         null,
         "Blacks",
         "0.0",
         "0.0",
         "0.0",
         "0.0",
         "0.0"
        ],
        [
         "8",
         "hate_video_5.mp4",
         "Hate",
         "[['00:00:00', '00:00:39']]",
         "Blacks",
         "1.0",
         "1.0",
         "1.0",
         "1.0",
         "1.0"
        ],
        [
         "9",
         "non_hate_video_5.mp4",
         "Non Hate",
         null,
         "Others",
         "0.0",
         "0.0",
         "0.0",
         "0.0",
         "0.0"
        ],
        [
         "10",
         "hate_video_6.mp4",
         "Hate",
         "[['00:00:00', '00:01:13']]",
         "Blacks",
         "1.0",
         "1.0",
         "1.0",
         "1.0",
         "1.0"
        ],
        [
         "11",
         "hate_video_7.mp4",
         "Hate",
         "[['00:00:00', '00:00:26']]",
         "Blacks",
         "1.0",
         "1.0",
         "1.0",
         "0.0",
         "1.0"
        ],
        [
         "12",
         "non_hate_video_6.mp4",
         "Non Hate",
         null,
         "Blacks",
         "0.0",
         "0.0",
         "0.0",
         "0.0",
         "0.0"
        ],
        [
         "13",
         "non_hate_video_7.mp4",
         "Non Hate",
         null,
         "Blacks",
         "0.0",
         "0.0",
         "0.0",
         "0.0",
         "0.0"
        ],
        [
         "14",
         "hate_video_8.mp4",
         "Hate",
         "[['00:00:00', '00:00:57']]",
         "Blacks",
         "1.0",
         "1.0",
         "1.0",
         "1.0",
         "1.0"
        ],
        [
         "15",
         "hate_video_9.mp4",
         "Hate",
         "[['00:00:07', '00:02:24']]",
         "Blacks",
         "1.0",
         "0.0",
         "1.0",
         "0.0",
         "0.0"
        ],
        [
         "16",
         "non_hate_video_8.mp4",
         "Non Hate",
         null,
         "Others",
         null,
         null,
         null,
         null,
         null
        ],
        [
         "17",
         "non_hate_video_9.mp4",
         "Non Hate",
         null,
         "Others",
         null,
         null,
         null,
         null,
         null
        ],
        [
         "18",
         "hate_video_10.mp4",
         "Hate",
         "[['00:00:00', '00:00:38']]",
         "Blacks",
         null,
         null,
         null,
         null,
         null
        ],
        [
         "19",
         "hate_video_11.mp4",
         "Hate",
         "[['00:00:00', '00:00:32']]",
         "Blacks",
         null,
         null,
         null,
         null,
         null
        ],
        [
         "20",
         "non_hate_video_10.mp4",
         "Non Hate",
         null,
         "Blacks",
         null,
         null,
         null,
         null,
         null
        ],
        [
         "21",
         "hate_video_12.mp4",
         "Hate",
         "[['00:00:17', '00:01:17']]",
         "Blacks",
         null,
         null,
         null,
         null,
         null
        ],
        [
         "22",
         "non_hate_video_11.mp4",
         "Non Hate",
         null,
         "Blacks",
         null,
         null,
         null,
         null,
         null
        ],
        [
         "23",
         "non_hate_video_12.mp4",
         "Non Hate",
         null,
         "Others",
         null,
         null,
         null,
         null,
         null
        ],
        [
         "24",
         "non_hate_video_13.mp4",
         "Non Hate",
         null,
         "Others",
         null,
         null,
         null,
         null,
         null
        ],
        [
         "25",
         "non_hate_video_14.mp4",
         "Non Hate",
         null,
         "Blacks",
         null,
         null,
         null,
         null,
         null
        ],
        [
         "26",
         "non_hate_video_15.mp4",
         "Non Hate",
         null,
         "Blacks",
         null,
         null,
         null,
         null,
         null
        ],
        [
         "27",
         "hate_video_13.mp4",
         "Hate",
         "[['00:00:00', '00:03:05']]",
         "Blacks",
         null,
         null,
         null,
         null,
         null
        ],
        [
         "28",
         "non_hate_video_16.mp4",
         "Non Hate",
         null,
         "Blacks",
         null,
         null,
         null,
         null,
         null
        ],
        [
         "29",
         "non_hate_video_17.mp4",
         "Non Hate",
         null,
         "Others",
         null,
         null,
         null,
         null,
         null
        ],
        [
         "30",
         "non_hate_video_18.mp4",
         "Non Hate",
         null,
         "Blacks",
         null,
         null,
         null,
         null,
         null
        ],
        [
         "31",
         "hate_video_14.mp4",
         "Hate",
         "[['00:00:45', '00:02:40']]",
         "Blacks",
         null,
         null,
         null,
         null,
         null
        ],
        [
         "32",
         "non_hate_video_19.mp4",
         "Non Hate",
         null,
         "Others",
         null,
         null,
         null,
         null,
         null
        ],
        [
         "33",
         "hate_video_15.mp4",
         "Hate",
         "[['00:00:07', '00:00:47']]",
         "Whites",
         null,
         null,
         null,
         null,
         null
        ],
        [
         "34",
         "non_hate_video_20.mp4",
         "Non Hate",
         null,
         "Blacks",
         null,
         null,
         null,
         null,
         null
        ],
        [
         "35",
         "hate_video_16.mp4",
         "Hate",
         "[['00:01:06', '00:01:53']]",
         "Blacks",
         null,
         null,
         null,
         null,
         null
        ],
        [
         "36",
         "hate_video_17.mp4",
         "Hate",
         "[['00:00:01', '00:00:03']]",
         "Blacks",
         null,
         null,
         null,
         null,
         null
        ],
        [
         "37",
         "non_hate_video_21.mp4",
         "Non Hate",
         null,
         "Blacks",
         null,
         null,
         null,
         null,
         null
        ],
        [
         "38",
         "non_hate_video_22.mp4",
         "Non Hate",
         null,
         null,
         null,
         null,
         null,
         null,
         null
        ],
        [
         "39",
         "non_hate_video_23.mp4",
         "Non Hate",
         null,
         "Blacks",
         null,
         null,
         null,
         null,
         null
        ],
        [
         "40",
         "non_hate_video_24.mp4",
         "Non Hate",
         null,
         null,
         null,
         null,
         null,
         null,
         null
        ],
        [
         "41",
         "non_hate_video_25.mp4",
         "Non Hate",
         null,
         null,
         null,
         null,
         null,
         null,
         null
        ],
        [
         "42",
         "non_hate_video_26.mp4",
         "Non Hate",
         null,
         null,
         null,
         null,
         null,
         null,
         null
        ],
        [
         "43",
         "non_hate_video_27.mp4",
         "Non Hate",
         null,
         "Blacks",
         null,
         null,
         null,
         null,
         null
        ],
        [
         "44",
         "hate_video_18.mp4",
         "Hate",
         "[['00:00:00', '00:00:51']]",
         "Blacks",
         null,
         null,
         null,
         null,
         null
        ],
        [
         "45",
         "non_hate_video_28.mp4",
         "Non Hate",
         null,
         null,
         null,
         null,
         null,
         null,
         null
        ],
        [
         "46",
         "hate_video_19.mp4",
         "Hate",
         "[['00:00:00', '00:00:42']]",
         "Blacks",
         null,
         null,
         null,
         null,
         null
        ],
        [
         "47",
         "hate_video_20.mp4",
         "Hate",
         "[['00:00:00', '00:02:12']]",
         "Blacks",
         null,
         null,
         null,
         null,
         null
        ],
        [
         "48",
         "non_hate_video_29.mp4",
         "Non Hate",
         null,
         null,
         null,
         null,
         null,
         null,
         null
        ],
        [
         "49",
         "non_hate_video_30.mp4",
         "Non Hate",
         null,
         null,
         null,
         null,
         null,
         null,
         null
        ]
       ],
       "shape": {
        "columns": 9,
        "rows": 1083
       }
      },
      "text/html": [
       "<div>\n",
       "<style scoped>\n",
       "    .dataframe tbody tr th:only-of-type {\n",
       "        vertical-align: middle;\n",
       "    }\n",
       "\n",
       "    .dataframe tbody tr th {\n",
       "        vertical-align: top;\n",
       "    }\n",
       "\n",
       "    .dataframe thead th {\n",
       "        text-align: right;\n",
       "    }\n",
       "</style>\n",
       "<table border=\"1\" class=\"dataframe\">\n",
       "  <thead>\n",
       "    <tr style=\"text-align: right;\">\n",
       "      <th></th>\n",
       "      <th>video_file_name</th>\n",
       "      <th>label</th>\n",
       "      <th>hate_snippet</th>\n",
       "      <th>target</th>\n",
       "      <th>Hate_Label</th>\n",
       "      <th>Image_hate</th>\n",
       "      <th>Audio_hate</th>\n",
       "      <th>Text_hate</th>\n",
       "      <th>Frame_hate</th>\n",
       "    </tr>\n",
       "  </thead>\n",
       "  <tbody>\n",
       "    <tr>\n",
       "      <th>0</th>\n",
       "      <td>hate_video_1.mp4</td>\n",
       "      <td>Hate</td>\n",
       "      <td>[['00:00:34', '00:01:34']]</td>\n",
       "      <td>Blacks</td>\n",
       "      <td>1.0</td>\n",
       "      <td>0.0</td>\n",
       "      <td>0.0</td>\n",
       "      <td>1.0</td>\n",
       "      <td>1.0</td>\n",
       "    </tr>\n",
       "    <tr>\n",
       "      <th>1</th>\n",
       "      <td>hate_video_2.mp4</td>\n",
       "      <td>Hate</td>\n",
       "      <td>[['00:00:06', '00:02:06']]</td>\n",
       "      <td>Blacks</td>\n",
       "      <td>1.0</td>\n",
       "      <td>1.0</td>\n",
       "      <td>1.0</td>\n",
       "      <td>0.0</td>\n",
       "      <td>1.0</td>\n",
       "    </tr>\n",
       "    <tr>\n",
       "      <th>2</th>\n",
       "      <td>non_hate_video_1.mp4</td>\n",
       "      <td>Non Hate</td>\n",
       "      <td>NaN</td>\n",
       "      <td>Others</td>\n",
       "      <td>0.0</td>\n",
       "      <td>0.0</td>\n",
       "      <td>0.0</td>\n",
       "      <td>0.0</td>\n",
       "      <td>0.0</td>\n",
       "    </tr>\n",
       "    <tr>\n",
       "      <th>3</th>\n",
       "      <td>hate_video_3.mp4</td>\n",
       "      <td>Hate</td>\n",
       "      <td>[['00:00:03', '00:01:40'], ['00:01:41', '00:03...</td>\n",
       "      <td>Blacks</td>\n",
       "      <td>1.0</td>\n",
       "      <td>1.0</td>\n",
       "      <td>1.0</td>\n",
       "      <td>0.0</td>\n",
       "      <td>1.0</td>\n",
       "    </tr>\n",
       "    <tr>\n",
       "      <th>4</th>\n",
       "      <td>non_hate_video_2.mp4</td>\n",
       "      <td>Non Hate</td>\n",
       "      <td>NaN</td>\n",
       "      <td>Blacks</td>\n",
       "      <td>0.0</td>\n",
       "      <td>0.0</td>\n",
       "      <td>0.0</td>\n",
       "      <td>0.0</td>\n",
       "      <td>0.0</td>\n",
       "    </tr>\n",
       "    <tr>\n",
       "      <th>...</th>\n",
       "      <td>...</td>\n",
       "      <td>...</td>\n",
       "      <td>...</td>\n",
       "      <td>...</td>\n",
       "      <td>...</td>\n",
       "      <td>...</td>\n",
       "      <td>...</td>\n",
       "      <td>...</td>\n",
       "      <td>...</td>\n",
       "    </tr>\n",
       "    <tr>\n",
       "      <th>1078</th>\n",
       "      <td>non_hate_video_650.mp4</td>\n",
       "      <td>Non Hate</td>\n",
       "      <td>NaN</td>\n",
       "      <td>['Whites']</td>\n",
       "      <td>NaN</td>\n",
       "      <td>NaN</td>\n",
       "      <td>NaN</td>\n",
       "      <td>NaN</td>\n",
       "      <td>NaN</td>\n",
       "    </tr>\n",
       "    <tr>\n",
       "      <th>1079</th>\n",
       "      <td>hate_video_430.mp4</td>\n",
       "      <td>Hate</td>\n",
       "      <td>[['00:00:09', '00:04:04']]</td>\n",
       "      <td>['Jews']</td>\n",
       "      <td>NaN</td>\n",
       "      <td>NaN</td>\n",
       "      <td>NaN</td>\n",
       "      <td>NaN</td>\n",
       "      <td>NaN</td>\n",
       "    </tr>\n",
       "    <tr>\n",
       "      <th>1080</th>\n",
       "      <td>non_hate_video_651.mp4</td>\n",
       "      <td>Non Hate</td>\n",
       "      <td>NaN</td>\n",
       "      <td>['Others']</td>\n",
       "      <td>NaN</td>\n",
       "      <td>NaN</td>\n",
       "      <td>NaN</td>\n",
       "      <td>NaN</td>\n",
       "      <td>NaN</td>\n",
       "    </tr>\n",
       "    <tr>\n",
       "      <th>1081</th>\n",
       "      <td>non_hate_video_652.mp4</td>\n",
       "      <td>Non Hate</td>\n",
       "      <td>NaN</td>\n",
       "      <td>['Others']</td>\n",
       "      <td>NaN</td>\n",
       "      <td>NaN</td>\n",
       "      <td>NaN</td>\n",
       "      <td>NaN</td>\n",
       "      <td>NaN</td>\n",
       "    </tr>\n",
       "    <tr>\n",
       "      <th>1082</th>\n",
       "      <td>hate_video_431.mp4</td>\n",
       "      <td>Hate</td>\n",
       "      <td>[['00:00:02', '00:00:49']]</td>\n",
       "      <td>['Jews']</td>\n",
       "      <td>NaN</td>\n",
       "      <td>NaN</td>\n",
       "      <td>NaN</td>\n",
       "      <td>NaN</td>\n",
       "      <td>NaN</td>\n",
       "    </tr>\n",
       "  </tbody>\n",
       "</table>\n",
       "<p>1083 rows × 9 columns</p>\n",
       "</div>"
      ],
      "text/plain": [
       "             video_file_name     label  \\\n",
       "0           hate_video_1.mp4      Hate   \n",
       "1           hate_video_2.mp4      Hate   \n",
       "2       non_hate_video_1.mp4  Non Hate   \n",
       "3           hate_video_3.mp4      Hate   \n",
       "4       non_hate_video_2.mp4  Non Hate   \n",
       "...                      ...       ...   \n",
       "1078  non_hate_video_650.mp4  Non Hate   \n",
       "1079      hate_video_430.mp4      Hate   \n",
       "1080  non_hate_video_651.mp4  Non Hate   \n",
       "1081  non_hate_video_652.mp4  Non Hate   \n",
       "1082      hate_video_431.mp4      Hate   \n",
       "\n",
       "                                           hate_snippet      target  \\\n",
       "0                            [['00:00:34', '00:01:34']]      Blacks   \n",
       "1                            [['00:00:06', '00:02:06']]      Blacks   \n",
       "2                                                   NaN      Others   \n",
       "3     [['00:00:03', '00:01:40'], ['00:01:41', '00:03...      Blacks   \n",
       "4                                                   NaN      Blacks   \n",
       "...                                                 ...         ...   \n",
       "1078                                                NaN  ['Whites']   \n",
       "1079                         [['00:00:09', '00:04:04']]    ['Jews']   \n",
       "1080                                                NaN  ['Others']   \n",
       "1081                                                NaN  ['Others']   \n",
       "1082                         [['00:00:02', '00:00:49']]    ['Jews']   \n",
       "\n",
       "      Hate_Label  Image_hate  Audio_hate  Text_hate  Frame_hate  \n",
       "0            1.0         0.0         0.0        1.0         1.0  \n",
       "1            1.0         1.0         1.0        0.0         1.0  \n",
       "2            0.0         0.0         0.0        0.0         0.0  \n",
       "3            1.0         1.0         1.0        0.0         1.0  \n",
       "4            0.0         0.0         0.0        0.0         0.0  \n",
       "...          ...         ...         ...        ...         ...  \n",
       "1078         NaN         NaN         NaN        NaN         NaN  \n",
       "1079         NaN         NaN         NaN        NaN         NaN  \n",
       "1080         NaN         NaN         NaN        NaN         NaN  \n",
       "1081         NaN         NaN         NaN        NaN         NaN  \n",
       "1082         NaN         NaN         NaN        NaN         NaN  \n",
       "\n",
       "[1083 rows x 9 columns]"
      ]
     },
     "execution_count": 98,
     "metadata": {},
     "output_type": "execute_result"
    }
   ],
   "source": [
    "annot_data = pd.read_csv(\"./HateMM_annotations/HateMM_annotation.csv\", delimiter=\";\")\n",
    "annot_data"
   ]
  },
  {
   "cell_type": "code",
   "execution_count": 99,
   "id": "2408eb3e",
   "metadata": {},
   "outputs": [
    {
     "name": "stdout",
     "output_type": "stream",
     "text": [
      "                                        hate_snippet  \\\n",
      "0                         [['00:00:34', '00:01:34']]   \n",
      "1                         [['00:00:06', '00:02:06']]   \n",
      "2                                                NaN   \n",
      "3  [['00:00:03', '00:01:40'], ['00:01:41', '00:03...   \n",
      "4                                                NaN   \n",
      "5                         [['00:00:00', '00:00:13']]   \n",
      "6                                                NaN   \n",
      "7                                                NaN   \n",
      "8                         [['00:00:00', '00:00:39']]   \n",
      "9                                                NaN   \n",
      "\n",
      "           converted_hate_snippet  \n",
      "0                  [[34.0, 94.0]]  \n",
      "1                  [[6.0, 126.0]]  \n",
      "2                            None  \n",
      "3  [[3.0, 100.0], [101.0, 207.0]]  \n",
      "4                            None  \n",
      "5                   [[0.0, 13.0]]  \n",
      "6                            None  \n",
      "7                            None  \n",
      "8                   [[0.0, 39.0]]  \n",
      "9                            None  \n"
     ]
    }
   ],
   "source": [
    "import ast\n",
    "import pandas as pd\n",
    "\n",
    "def hhmmss_to_seconds(time_str):\n",
    "    \"\"\"\n",
    "    Convert a time string in hh:mm:ss (or mm:ss) format to seconds.\n",
    "    If already numeric, returns it as a float.\n",
    "    \"\"\"\n",
    "    try:\n",
    "        time_str = time_str.strip()\n",
    "        parts = time_str.split(\":\")\n",
    "        if len(parts) == 3:\n",
    "            h, m, s = parts\n",
    "            return float(h) * 3600 + float(m) * 60 + float(s)\n",
    "        elif len(parts) == 2:\n",
    "            m, s = parts\n",
    "            return float(m) * 60 + float(s)\n",
    "        else:\n",
    "            return float(time_str)\n",
    "    except Exception as e:\n",
    "        print(f\"Error converting '{time_str}' to seconds: {e}\")\n",
    "        return None\n",
    "\n",
    "def parse_and_convert_snippet(snippet):\n",
    "    \"\"\"\n",
    "    Parse a snippet entry (which might be a string like \"[['00:00:34','00:01:34']]\" or \"Missing value\")\n",
    "    and convert the intervals to seconds. Supports either a single interval [start,end] or multiple intervals.\n",
    "    Returns a list of intervals in seconds or None if invalid.\n",
    "    \"\"\"\n",
    "    # 1) Handle the literal string \"Missing value\"\n",
    "    if isinstance(snippet, str):\n",
    "        snippet = snippet.strip()\n",
    "        if snippet == \"Missing value\":\n",
    "            return None\n",
    "        \n",
    "        # 2) If it's not \"Missing value\", try to parse it as a Python literal.\n",
    "        try:\n",
    "            snippet = ast.literal_eval(snippet)\n",
    "        except Exception as e:\n",
    "            print(f\"Error parsing snippet: {snippet}. Error: {e}\")\n",
    "            return None\n",
    "    \n",
    "    # 3) If snippet is still not a list, return None\n",
    "    if not isinstance(snippet, list):\n",
    "        return None\n",
    "    \n",
    "    # 4) Check if it's a list of intervals (multiple) or a single interval\n",
    "    def convert_interval_to_seconds(interval):\n",
    "        if isinstance(interval, list) and len(interval) == 2:\n",
    "            start = hhmmss_to_seconds(interval[0])\n",
    "            end   = hhmmss_to_seconds(interval[1])\n",
    "            return [start, end]\n",
    "        return None\n",
    "    \n",
    "    # If snippet’s first element is itself a list => multiple intervals\n",
    "    if snippet and isinstance(snippet[0], list):\n",
    "        converted = []\n",
    "        for inter in snippet:\n",
    "            conv = convert_interval_to_seconds(inter)\n",
    "            if conv is not None:\n",
    "                converted.append(conv)\n",
    "        return converted\n",
    "    else:\n",
    "        # Single interval e.g. ['00:00:34','00:01:34']\n",
    "        conv = convert_interval_to_seconds(snippet)\n",
    "        return [conv] if conv else None\n",
    "\n",
    "# ----------------- Main Logic -----------------\n",
    "# Suppose annot_data is your DataFrame with \"hate_snippet\" column\n",
    "# We'll create a new column called \"converted_hate_snippet\"\n",
    "\n",
    "annot_data[\"converted_hate_snippet\"] = annot_data[\"hate_snippet\"].apply(parse_and_convert_snippet)\n",
    "\n",
    "# Display a few rows to verify\n",
    "print(annot_data[[\"hate_snippet\", \"converted_hate_snippet\"]].head(10))\n"
   ]
  },
  {
   "cell_type": "code",
   "execution_count": 100,
   "id": "972909de",
   "metadata": {},
   "outputs": [
    {
     "name": "stdout",
     "output_type": "stream",
     "text": [
      "        timestamp                                               text    video  \\\n",
      "0    [0.0, 94.96]  The End Thank you. The End | Hello | World | L...  video_1   \n",
      "1    [0.0, 25.44]  I Like Sugar And the NAACP would sure like to ...  video_2   \n",
      "2  [27.42, 32.12]  Roses are red and violets are blue and niggers...  video_2   \n",
      "3   [32.42, 37.8]  But they don't mind cause what the heck, you g...  video_2   \n",
      "4  [38.34, 44.08]  No joke, I ain't got a nickel for a coke and I...  video_2   \n",
      "\n",
      "  audio_hate  \n",
      "0   Non Hate  \n",
      "1       Hate  \n",
      "2       Hate  \n",
      "3       Hate  \n",
      "4       Hate  \n"
     ]
    }
   ],
   "source": [
    "import re\n",
    "import pandas as pd\n",
    "\n",
    "# ------------------ Helper Functions ------------------\n",
    "def get_vid_num_from_final(video_str):\n",
    "    \"\"\"\n",
    "    Extract the numeric ID from a string like \"video_2_frame2342.jpg\".\n",
    "    Returns 2 for \"video_2_frame2342.jpg\".\n",
    "    \"\"\"\n",
    "    match = re.search(r\"video_(\\d+)\", video_str)\n",
    "    if match:\n",
    "        return int(match.group(1))\n",
    "    return None\n",
    "\n",
    "def get_vid_num_from_annot(fname):\n",
    "    \"\"\"\n",
    "    Extract the numeric ID from a filename like \"hate_video_2.mp4\" or \"non_hate_video_2.mp4\".\n",
    "    Returns 2 for \"hate_video_2.mp4\".\n",
    "    \"\"\"\n",
    "    match = re.search(r\"_video_(\\d+)\\.mp4\", fname)\n",
    "    if match:\n",
    "        return int(match.group(1))\n",
    "    return None\n",
    "\n",
    "def intervals_intersect(intervalA, intervalB):\n",
    "    \"\"\"\n",
    "    Check if two intervals [startA, endA] and [startB, endB] intersect.\n",
    "    They intersect if startA < endB AND startB < endA.\n",
    "    \"\"\"\n",
    "    return intervalA[0] < intervalB[1] and intervalB[0] < intervalA[1]\n",
    "\n",
    "# ------------------ Process final_df ------------------\n",
    "# final_df is assumed to have a \"timestamp\" column (e.g. [0.0, 94.96]) and\n",
    "# \"video_file_name\" column (e.g. \"video_2_frame2342.jpg\").\n",
    "final_df[\"vid_num\"] = final_df[\"video\"].apply(get_vid_num_from_final)\n",
    "# Unpack the \"timestamp\" column into \"start\" and \"end\" for easy interval comparison.\n",
    "final_df[['start', 'end']] = pd.DataFrame(final_df[\"timestamp\"].tolist(), index=final_df.index)\n",
    "\n",
    "# ------------------ Process annot_data ------------------\n",
    "# annot_data is assumed to have:\n",
    "#   - \"video_file_name\": e.g. \"hate_video_2.mp4\" or \"non_hate_video_2.mp4\"\n",
    "#   - \"label\": \"Hate\" or \"Non Hate\"\n",
    "#   - \"converted_hate_snippet\": intervals in seconds (e.g. [[34, 94]] for a single interval)\n",
    "annot_data[\"vid_num\"] = annot_data[\"video_file_name\"].apply(get_vid_num_from_annot)\n",
    "\n",
    "# Build a dictionary mapping vid_num -> list of hate intervals (only for rows where label is \"Hate\")\n",
    "hate_info = {}\n",
    "for _, row in annot_data.iterrows():\n",
    "    if row[\"Audio_hate\"] == 1:\n",
    "        vn = row[\"vid_num\"]\n",
    "        intervals = row[\"converted_hate_snippet\"]\n",
    "        # Ensure intervals is a list of intervals:\n",
    "        if isinstance(intervals, list):\n",
    "            # Check if this is a single interval (e.g. [34, 94]) or a list of intervals ([[34,94]])\n",
    "            if intervals and not isinstance(intervals[0], list):\n",
    "                intervals = [intervals]\n",
    "        else:\n",
    "            intervals = []\n",
    "        if vn in hate_info:\n",
    "            hate_info[vn].extend(intervals)\n",
    "        else:\n",
    "            hate_info[vn] = intervals\n",
    "\n",
    "# ------------------ Label Each Row in final_df ------------------\n",
    "labels = []\n",
    "for _, row in final_df.iterrows():\n",
    "    current_interval = [row[\"start\"], row[\"end\"]]\n",
    "    vn = row[\"vid_num\"]\n",
    "    row_label = \"Non Hate\"  # default\n",
    "    # Look up hate intervals for this video, if any.\n",
    "    if vn in hate_info:\n",
    "        for h_interval in hate_info[vn]:\n",
    "            if intervals_intersect(current_interval, h_interval):\n",
    "                row_label = \"Hate\"\n",
    "                break\n",
    "    labels.append(row_label)\n",
    "final_df[\"audio_hate\"] = labels\n",
    "\n",
    "# ------------------ Cleanup Temporary Columns ------------------\n",
    "final_df.drop(columns=[\"start\", \"end\", \"vid_num\"], inplace=True, errors=\"ignore\")\n",
    "\n",
    "# Display the first few rows of the updated final_df with the new label.\n",
    "print(final_df.head())\n"
   ]
  },
  {
   "cell_type": "code",
   "execution_count": 101,
   "id": "786eb96c",
   "metadata": {},
   "outputs": [
    {
     "data": {
      "application/vnd.microsoft.datawrangler.viewer.v0+json": {
       "columns": [
        {
         "name": "index",
         "rawType": "int64",
         "type": "integer"
        },
        {
         "name": "timestamp",
         "rawType": "object",
         "type": "unknown"
        },
        {
         "name": "text",
         "rawType": "object",
         "type": "string"
        },
        {
         "name": "video",
         "rawType": "object",
         "type": "string"
        },
        {
         "name": "audio_hate",
         "rawType": "object",
         "type": "string"
        }
       ],
       "conversionMethod": "pd.DataFrame",
       "ref": "480fb868-399a-4a16-bd46-bee32a9b2653",
       "rows": [
        [
         "0",
         "[0.0, 94.96]",
         "The End Thank you. The End | Hello | World | LOL,that guy is crazy!",
         "video_1",
         "Non Hate"
        ],
        [
         "1",
         "[0.0, 25.44]",
         "I Like Sugar And the NAACP would sure like to get a hold of nigger hatin' me.",
         "video_2",
         "Hate"
        ],
        [
         "2",
         "[27.42, 32.12]",
         "Roses are red and violets are blue and niggers are black, you know that's true.",
         "video_2",
         "Hate"
        ],
        [
         "3",
         "[32.42, 37.8]",
         "But they don't mind cause what the heck, you gotta be black to get a welfare check and I'm broke.",
         "video_2",
         "Hate"
        ],
        [
         "4",
         "[38.34, 44.08]",
         "No joke, I ain't got a nickel for a coke and I ain't black, you see.",
         "video_2",
         "Hate"
        ],
        [
         "5",
         "[44.6, 47.8]",
         "So Uncle Sam won't help poor nigger hatin' me.",
         "video_2",
         "Hate"
        ],
        [
         "6",
         "[50.04, 52.04]",
         "Jigaboo, jigaboo, where are you?",
         "video_2",
         "Hate"
        ],
        [
         "7",
         "[52.24, 54.68]",
         "I was here in the woodpile watching you.",
         "video_2",
         "Hate"
        ],
        [
         "8",
         "[55.04, 57.04]",
         "Jigaboo, jigaboo, come out, no.",
         "video_2",
         "Hate"
        ],
        [
         "9",
         "[57.14, 60.44]",
         "So I scared all the white men way down south, you know it.",
         "video_2",
         "Hate"
        ],
        [
         "10",
         "[60.86, 64.1]",
         "But I show it, stick your black jet out, and I blow it.",
         "video_2",
         "Hate"
        ],
        [
         "11",
         "[67.0, 67.52]",
         "know it. Cause I show it, stick your black jet out and I blow it. And the NAACP can't",
         "video_2",
         "Hate"
        ],
        [
         "12",
         "[75.72, 80.96]",
         "keep you away from a little old nigger hatin' me. Mirror, mirror on the wall, who is the blackest of them all? A man named King, it ain't no doubt, and he's causin' lots of trouble",
         "video_2",
         "Hate"
        ],
        [
         "13",
         "[80.96, 87.18]",
         "with his baboon mouth. He's a-doin', It's caused by the trouble he's a-brewin'.",
         "video_2",
         "Hate"
        ],
        [
         "14",
         "[87.18, 92.84]",
         "And the NAACP can't win if white men stick with nigger hatin' me.",
         "video_2",
         "Hate"
        ],
        [
         "15",
         "[94.92, 97.18]",
         "Hey, Mr. President, what do you say?",
         "video_2",
         "Hate"
        ],
        [
         "16",
         "[97.58, 99.68]",
         "When are we whites gonna have our day?",
         "video_2",
         "Hate"
        ],
        [
         "17",
         "[100.02, 102.32]",
         "The niggers had theirs such a long, long time.",
         "video_2",
         "Hate"
        ],
        [
         "18",
         "[102.42, 104.88]",
         "I'm a-white and it's time that I have mine.",
         "video_2",
         "Hate"
        ],
        [
         "19",
         "[104.96, 106.86]",
         "You know it, cause I show it.",
         "video_2",
         "Hate"
        ],
        [
         "20",
         "[107.34, 109.34]",
         "Stick it right, get out and I'll blow it.",
         "video_2",
         "Hate"
        ],
        [
         "21",
         "[109.86, 115.52]",
         "And the NAACP can't win if a white man stick with nigger hatin' me.",
         "video_2",
         "Hate"
        ],
        [
         "22",
         "[116.98, 118.16]",
         "Nigger hatin' me.",
         "video_2",
         "Hate"
        ],
        [
         "23",
         "[119.5, 120.66]",
         "Nigger hatin' me.",
         "video_2",
         "Hate"
        ],
        [
         "24",
         "[122.0, 123.16]",
         "Nigger hatin' me.",
         "video_2",
         "Hate"
        ],
        [
         "25",
         "[124.52, 125.62]",
         "Nigger hatin' me.",
         "video_2",
         "Hate"
        ],
        [
         "26",
         "[0.0, 2.0]",
         "I simply must get through!",
         "video_3",
         "Non Hate"
        ],
        [
         "27",
         "[2.0, 4.0]",
         "Sorry, you're much too big!",
         "video_3",
         "Hate"
        ],
        [
         "28",
         "[4.0, 5.0]",
         "Yeah man!",
         "video_3",
         "Hate"
        ],
        [
         "29",
         "[5.0, 7.0]",
         "Bobby two pistols in his bitch!",
         "video_3",
         "Hate"
        ],
        [
         "30",
         "[7.0, 8.0]",
         "Yeah man!",
         "video_3",
         "Hate"
        ],
        [
         "31",
         "[8.0, 10.0]",
         "Fuck all those niggers man!",
         "video_3",
         "Hate"
        ],
        [
         "32",
         "[10.0, 12.0]",
         "Martin Luther King deserved to be killed!",
         "video_3",
         "Hate"
        ],
        [
         "33",
         "[12.0, 14.0]",
         "And fuck your nigger!",
         "video_3",
         "Hate"
        ],
        [
         "34",
         "[14.0, 16.0]",
         "Just grab and steal your shit man!",
         "video_3",
         "Hate"
        ],
        [
         "35",
         "[16.0, 18.0]",
         "Fuck those niggers man!",
         "video_3",
         "Hate"
        ],
        [
         "36",
         "[18.0, 20.0]",
         "Fuck all niggers!",
         "video_3",
         "Hate"
        ],
        [
         "37",
         "[20.0, 22.0]",
         "Fuck all niggers!",
         "video_3",
         "Hate"
        ],
        [
         "38",
         "[22.0, 24.0]",
         "Fuck all niggers!",
         "video_3",
         "Hate"
        ],
        [
         "39",
         "[24.0, 25.06]",
         "Fuck all niggers! Fuck all those niggers Fuck all niggers Fuck all niggers",
         "video_3",
         "Hate"
        ],
        [
         "40",
         "[25.06, 26.8]",
         "Fuck all those niggers",
         "video_3",
         "Hate"
        ],
        [
         "41",
         "[26.8, 28.48]",
         "Fuck all those niggers",
         "video_3",
         "Hate"
        ],
        [
         "42",
         "[28.48, 30.2]",
         "Fuck all those niggers",
         "video_3",
         "Hate"
        ],
        [
         "43",
         "[30.2, 31.9]",
         "Fuck all those niggers",
         "video_3",
         "Hate"
        ],
        [
         "44",
         "[31.9, 33.6]",
         "Rapping still my shit",
         "video_3",
         "Hate"
        ],
        [
         "45",
         "[33.6, 35.18]",
         "Rapping still my shit",
         "video_3",
         "Hate"
        ],
        [
         "46",
         "[35.18, 36.92]",
         "They wanna rap and steal my shit",
         "video_3",
         "Hate"
        ],
        [
         "47",
         "[36.92, 38.68]",
         "Because they can't get shit",
         "video_3",
         "Hate"
        ],
        [
         "48",
         "[38.68, 40.5]",
         "Go and get a job",
         "video_3",
         "Hate"
        ],
        [
         "49",
         "[40.5, 42.2]",
         "Stop trying to rob",
         "video_3",
         "Hate"
        ]
       ],
       "shape": {
        "columns": 4,
        "rows": 103
       }
      },
      "text/html": [
       "<div>\n",
       "<style scoped>\n",
       "    .dataframe tbody tr th:only-of-type {\n",
       "        vertical-align: middle;\n",
       "    }\n",
       "\n",
       "    .dataframe tbody tr th {\n",
       "        vertical-align: top;\n",
       "    }\n",
       "\n",
       "    .dataframe thead th {\n",
       "        text-align: right;\n",
       "    }\n",
       "</style>\n",
       "<table border=\"1\" class=\"dataframe\">\n",
       "  <thead>\n",
       "    <tr style=\"text-align: right;\">\n",
       "      <th></th>\n",
       "      <th>timestamp</th>\n",
       "      <th>text</th>\n",
       "      <th>video</th>\n",
       "      <th>audio_hate</th>\n",
       "    </tr>\n",
       "  </thead>\n",
       "  <tbody>\n",
       "    <tr>\n",
       "      <th>0</th>\n",
       "      <td>[0.0, 94.96]</td>\n",
       "      <td>The End Thank you. The End | Hello | World | L...</td>\n",
       "      <td>video_1</td>\n",
       "      <td>Non Hate</td>\n",
       "    </tr>\n",
       "    <tr>\n",
       "      <th>1</th>\n",
       "      <td>[0.0, 25.44]</td>\n",
       "      <td>I Like Sugar And the NAACP would sure like to ...</td>\n",
       "      <td>video_2</td>\n",
       "      <td>Hate</td>\n",
       "    </tr>\n",
       "    <tr>\n",
       "      <th>2</th>\n",
       "      <td>[27.42, 32.12]</td>\n",
       "      <td>Roses are red and violets are blue and niggers...</td>\n",
       "      <td>video_2</td>\n",
       "      <td>Hate</td>\n",
       "    </tr>\n",
       "    <tr>\n",
       "      <th>3</th>\n",
       "      <td>[32.42, 37.8]</td>\n",
       "      <td>But they don't mind cause what the heck, you g...</td>\n",
       "      <td>video_2</td>\n",
       "      <td>Hate</td>\n",
       "    </tr>\n",
       "    <tr>\n",
       "      <th>4</th>\n",
       "      <td>[38.34, 44.08]</td>\n",
       "      <td>No joke, I ain't got a nickel for a coke and I...</td>\n",
       "      <td>video_2</td>\n",
       "      <td>Hate</td>\n",
       "    </tr>\n",
       "    <tr>\n",
       "      <th>...</th>\n",
       "      <td>...</td>\n",
       "      <td>...</td>\n",
       "      <td>...</td>\n",
       "      <td>...</td>\n",
       "    </tr>\n",
       "    <tr>\n",
       "      <th>98</th>\n",
       "      <td>[198.68, 202.76]</td>\n",
       "      <td>Bitch, clean my car while I drink lemonade.</td>\n",
       "      <td>video_3</td>\n",
       "      <td>Hate</td>\n",
       "    </tr>\n",
       "    <tr>\n",
       "      <th>99</th>\n",
       "      <td>[202.76, 203.96]</td>\n",
       "      <td>Ya fuckin' slave.</td>\n",
       "      <td>video_3</td>\n",
       "      <td>Hate</td>\n",
       "    </tr>\n",
       "    <tr>\n",
       "      <th>100</th>\n",
       "      <td>[203.96, 205.12]</td>\n",
       "      <td>Melvin on the beat</td>\n",
       "      <td>video_3</td>\n",
       "      <td>Hate</td>\n",
       "    </tr>\n",
       "    <tr>\n",
       "      <th>101</th>\n",
       "      <td>[205.12, 208.56]</td>\n",
       "      <td>Buy me two pistols man, fuck all those niggers...</td>\n",
       "      <td>video_3</td>\n",
       "      <td>Hate</td>\n",
       "    </tr>\n",
       "    <tr>\n",
       "      <th>102</th>\n",
       "      <td>[208.56, 231.12]</td>\n",
       "      <td>Real nigger anthem Продолжение следует...</td>\n",
       "      <td>video_3</td>\n",
       "      <td>Non Hate</td>\n",
       "    </tr>\n",
       "  </tbody>\n",
       "</table>\n",
       "<p>103 rows × 4 columns</p>\n",
       "</div>"
      ],
      "text/plain": [
       "            timestamp                                               text  \\\n",
       "0        [0.0, 94.96]  The End Thank you. The End | Hello | World | L...   \n",
       "1        [0.0, 25.44]  I Like Sugar And the NAACP would sure like to ...   \n",
       "2      [27.42, 32.12]  Roses are red and violets are blue and niggers...   \n",
       "3       [32.42, 37.8]  But they don't mind cause what the heck, you g...   \n",
       "4      [38.34, 44.08]  No joke, I ain't got a nickel for a coke and I...   \n",
       "..                ...                                                ...   \n",
       "98   [198.68, 202.76]        Bitch, clean my car while I drink lemonade.   \n",
       "99   [202.76, 203.96]                                  Ya fuckin' slave.   \n",
       "100  [203.96, 205.12]                                 Melvin on the beat   \n",
       "101  [205.12, 208.56]  Buy me two pistols man, fuck all those niggers...   \n",
       "102  [208.56, 231.12]          Real nigger anthem Продолжение следует...   \n",
       "\n",
       "       video audio_hate  \n",
       "0    video_1   Non Hate  \n",
       "1    video_2       Hate  \n",
       "2    video_2       Hate  \n",
       "3    video_2       Hate  \n",
       "4    video_2       Hate  \n",
       "..       ...        ...  \n",
       "98   video_3       Hate  \n",
       "99   video_3       Hate  \n",
       "100  video_3       Hate  \n",
       "101  video_3       Hate  \n",
       "102  video_3   Non Hate  \n",
       "\n",
       "[103 rows x 4 columns]"
      ]
     },
     "execution_count": 101,
     "metadata": {},
     "output_type": "execute_result"
    }
   ],
   "source": [
    "final_df"
   ]
  },
  {
   "cell_type": "code",
   "execution_count": null,
   "id": "35446e5c",
   "metadata": {},
   "outputs": [],
   "source": []
  }
 ],
 "metadata": {
  "kernelspec": {
   "display_name": "data_process",
   "language": "python",
   "name": "python3"
  },
  "language_info": {
   "codemirror_mode": {
    "name": "ipython",
    "version": 3
   },
   "file_extension": ".py",
   "mimetype": "text/x-python",
   "name": "python",
   "nbconvert_exporter": "python",
   "pygments_lexer": "ipython3",
   "version": "3.11.11"
  }
 },
 "nbformat": 4,
 "nbformat_minor": 5
}
