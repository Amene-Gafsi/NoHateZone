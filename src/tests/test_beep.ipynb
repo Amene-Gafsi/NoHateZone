{
 "cells": [
  {
   "cell_type": "code",
   "execution_count": 1,
   "id": "f314050e",
   "metadata": {},
   "outputs": [
    {
     "name": "stderr",
     "output_type": "stream",
     "text": [
      "c:\\Users\\amene\\anaconda3\\envs\\mnlp_exercises\\lib\\site-packages\\tqdm\\auto.py:21: TqdmWarning: IProgress not found. Please update jupyter and ipywidgets. See https://ipywidgets.readthedocs.io/en/stable/user_install.html\n",
      "  from .autonotebook import tqdm as notebook_tqdm\n"
     ]
    }
   ],
   "source": [
    "from transformers import DistilBertForSequenceClassification, DistilBertTokenizer\n",
    "import torch\n",
    "from audio2text import AudioTranscriber # 16sec\n",
    "from utils import extract_audio\n",
    "import pandas as pd\n",
    "from pydub import AudioSegment\n",
    "from pydub.generators import Sine\n",
    "import torch.nn.functional as F\n",
    "import re\n",
    "import subprocess\n",
    "import os"
   ]
  },
  {
   "cell_type": "code",
   "execution_count": 2,
   "id": "70ec43a5",
   "metadata": {},
   "outputs": [
    {
     "name": "stderr",
     "output_type": "stream",
     "text": [
      "Device set to use cuda:0\n"
     ]
    },
    {
     "data": {
      "text/plain": [
       "DistilBertForSequenceClassification(\n",
       "  (distilbert): DistilBertModel(\n",
       "    (embeddings): Embeddings(\n",
       "      (word_embeddings): Embedding(30522, 768, padding_idx=0)\n",
       "      (position_embeddings): Embedding(512, 768)\n",
       "      (LayerNorm): LayerNorm((768,), eps=1e-12, elementwise_affine=True)\n",
       "      (dropout): Dropout(p=0.1, inplace=False)\n",
       "    )\n",
       "    (transformer): Transformer(\n",
       "      (layer): ModuleList(\n",
       "        (0-5): 6 x TransformerBlock(\n",
       "          (attention): DistilBertSdpaAttention(\n",
       "            (dropout): Dropout(p=0.1, inplace=False)\n",
       "            (q_lin): Linear(in_features=768, out_features=768, bias=True)\n",
       "            (k_lin): Linear(in_features=768, out_features=768, bias=True)\n",
       "            (v_lin): Linear(in_features=768, out_features=768, bias=True)\n",
       "            (out_lin): Linear(in_features=768, out_features=768, bias=True)\n",
       "          )\n",
       "          (sa_layer_norm): LayerNorm((768,), eps=1e-12, elementwise_affine=True)\n",
       "          (ffn): FFN(\n",
       "            (dropout): Dropout(p=0.1, inplace=False)\n",
       "            (lin1): Linear(in_features=768, out_features=3072, bias=True)\n",
       "            (lin2): Linear(in_features=3072, out_features=768, bias=True)\n",
       "            (activation): GELUActivation()\n",
       "          )\n",
       "          (output_layer_norm): LayerNorm((768,), eps=1e-12, elementwise_affine=True)\n",
       "        )\n",
       "      )\n",
       "    )\n",
       "  )\n",
       "  (pre_classifier): Linear(in_features=768, out_features=768, bias=True)\n",
       "  (classifier): Linear(in_features=768, out_features=2, bias=True)\n",
       "  (dropout): Dropout(p=0.2, inplace=False)\n",
       ")"
      ]
     },
     "execution_count": 2,
     "metadata": {},
     "output_type": "execute_result"
    }
   ],
   "source": [
    "transcriber = AudioTranscriber() # 9sec\n",
    "# Load the model and tokenizer\n",
    "model_path = \"checkpoints_v1/distilbert_hatespeech\"\n",
    "\n",
    "distilbert_model = DistilBertForSequenceClassification.from_pretrained(model_path)\n",
    "distilbert_tokenizer = DistilBertTokenizer.from_pretrained(model_path)\n",
    "\n",
    "# Set the model to evaluation mode\n",
    "distilbert_model.eval()"
   ]
  },
  {
   "cell_type": "code",
   "execution_count": null,
   "id": "224de210",
   "metadata": {},
   "outputs": [
    {
     "name": "stdout",
     "output_type": "stream",
     "text": [
      "tensor([[ 1.1747, -1.2425]])\n",
      "Predicted class: 0\n"
     ]
    }
   ],
   "source": [
    "text = \"they are not good people\"\n",
    "inputs = distilbert_tokenizer(text, return_tensors=\"pt\", truncation=True, padding=True)\n",
    "\n",
    "with torch.no_grad():\n",
    "    outputs = distilbert_model(**inputs)\n",
    "    logits = outputs.logits\n",
    "    print(logits)\n",
    "    predicted_class = torch.argmax(logits, dim=-1).item()\n",
    "\n",
    "print(\"Predicted class:\", predicted_class)"
   ]
  },
  {
   "cell_type": "code",
   "execution_count": 4,
   "id": "77dbea90",
   "metadata": {},
   "outputs": [
    {
     "name": "stdout",
     "output_type": "stream",
     "text": [
      "Success : audio file has been saved to \"c:\\Users\\amene\\Documents\\deep learning\\NoHateZone\\input\\audio\\hate_video_418.mp3\".\n"
     ]
    }
   ],
   "source": [
    "extract_audio(input_path=\"./input/video/hate_video_418.mp4\", output_dir=\"./input/audio\") "
   ]
  },
  {
   "cell_type": "code",
   "execution_count": 5,
   "id": "84d85d14",
   "metadata": {},
   "outputs": [
    {
     "name": "stderr",
     "output_type": "stream",
     "text": [
      "Due to a bug fix in https://github.com/huggingface/transformers/pull/28687 transcription using a multilingual Whisper will default to language detection followed by transcription instead of translation to English.This might be a breaking change for your use case. If you want to instead always translate your audio to English, make sure to pass `language='en'`.\n",
      "The attention mask is not set and cannot be inferred from input because pad token is same as eos token. As a consequence, you may observe unexpected behavior. Please pass your input's `attention_mask` to obtain reliable results.\n",
      "Whisper did not predict an ending timestamp, which can happen if audio is cut off in the middle of a word. Also make sure WhisperTimeStampLogitsProcessor was used during generation.\n"
     ]
    },
    {
     "name": "stdout",
     "output_type": "stream",
     "text": [
      " The Jews clearly control the media and the banks, investment banks, not the commercial ones. But the point is, they carry out in those realms the exact same principles that they display in sexuality. They undermine traditional life, and they deracinate society. Deracinate. Tear out the roots. Real people derives this genius from the land, from the sun, from the sea, from the soil, you know? This is how they know know themselves like jews don't even have soil israel yeah those aren't jews of course they're jews notice the israelis it's a fundamentally secular society they no longer need judaism because they have soil because the real jew is a wanderer he's a nomad he's got no roots and no attachments, so he universalizes everything. He can't hammer a nail or plow a field. All he can do is buy and sell and invest capital and manipulate markets, and, you know, it's like all mental. He takes a life of a people that's rooted in soil, and then he turns it into this cosmopolitan culture based on books and numbers and ideas and you know this is his strength. You can take the greatest Jewish minds ever. Marx, Freud, Einstein, what have they given us? Communism, infantile sexuality and the atom bomb. In the mere three centuries it's taken these people to emerge from the ghettos of Europe. They've ripped us out of a world of order and reason, they've thrown us into a chaos of class warfare, irrational urges, relativity, into a world where now the very existence of matter and meaning is in question. Why? Because it's the deepest impulse of a Jewish soul to pull at the very fabric of life till there's nothing left but a thread. They want nothing but nothingness. Nothingness without end.\n"
     ]
    }
   ],
   "source": [
    "transcribtion = transcriber.transcribe_audio(input_audio=\"./input/audio/hate_video_418.mp3\", return_timestamps=\"word\") # 1m50 for 30sec audio\n",
    "\n",
    "print(transcribtion[\"text\"])"
   ]
  },
  {
   "cell_type": "code",
   "execution_count": 8,
   "id": "77d456d1",
   "metadata": {},
   "outputs": [
    {
     "name": "stdout",
     "output_type": "stream",
     "text": [
      "['The Jews clearly control the media and the banks, investment banks, not the commercial ones', 'But the point is, they carry out in those realms the exact same principles that they display in sexuality', 'They undermine traditional life, and they deracinate society', 'Deracinate', 'Tear out the roots', 'Real people derives this genius from the land, from the sun, from the sea, from the soil', \"You know, this is how they know know themselves like jews don't even have soil israel yeah those aren't jews of course they're jews notice the israelis it's a fundamentally secular society they no longer need judaism because they have soil because the real jew is a wanderer he's a nomad he's got no roots and no attachments, so he universalizes everything\", \"He can't hammer a nail or plow a field\", \"All he can do is buy and sell and invest capital and manipulate markets, and, you know, it's like all mental\", \"He takes a life of a people that's rooted in soil, and then he turns it into this cosmopolitan culture based on books and numbers and ideas and, you know, this is his strength\", 'You can take the greatest Jewish minds ever', 'Marx, Freud, Einstein, what have they given us? Communism, infantile sexuality, and the atom bomb', \"In the mere three centuries, it's taken these people to emerge from the ghettos of Europe\", \"They've ripped us out of a world of order and reason\", \"They've thrown us into a chaos of class warfare, irrational urges, relativity, into a world where now the very existence of matter and meaning is in question\", \"Why? Because it's the deepest impulse of a Jewish soul to pull at the very fabric of life till there's nothing left but a thread\", 'They want nothing but nothingness', 'Nothingness without end']\n"
     ]
    },
    {
     "data": {
      "text/html": [
       "<div>\n",
       "<style scoped>\n",
       "    .dataframe tbody tr th:only-of-type {\n",
       "        vertical-align: middle;\n",
       "    }\n",
       "\n",
       "    .dataframe tbody tr th {\n",
       "        vertical-align: top;\n",
       "    }\n",
       "\n",
       "    .dataframe thead th {\n",
       "        text-align: right;\n",
       "    }\n",
       "</style>\n",
       "<table border=\"1\" class=\"dataframe\">\n",
       "  <thead>\n",
       "    <tr style=\"text-align: right;\">\n",
       "      <th></th>\n",
       "      <th>sentence</th>\n",
       "      <th>label</th>\n",
       "      <th>prob_class_0</th>\n",
       "      <th>prob_class_1</th>\n",
       "    </tr>\n",
       "  </thead>\n",
       "  <tbody>\n",
       "    <tr>\n",
       "      <th>0</th>\n",
       "      <td>The Jews clearly control the media and the ban...</td>\n",
       "      <td>1</td>\n",
       "      <td>0.008</td>\n",
       "      <td>0.992</td>\n",
       "    </tr>\n",
       "    <tr>\n",
       "      <th>1</th>\n",
       "      <td>But the point is, they carry out in those real...</td>\n",
       "      <td>0</td>\n",
       "      <td>1.000</td>\n",
       "      <td>0.000</td>\n",
       "    </tr>\n",
       "    <tr>\n",
       "      <th>2</th>\n",
       "      <td>They undermine traditional life, and they dera...</td>\n",
       "      <td>1</td>\n",
       "      <td>0.005</td>\n",
       "      <td>0.995</td>\n",
       "    </tr>\n",
       "    <tr>\n",
       "      <th>3</th>\n",
       "      <td>Deracinate</td>\n",
       "      <td>0</td>\n",
       "      <td>1.000</td>\n",
       "      <td>0.000</td>\n",
       "    </tr>\n",
       "    <tr>\n",
       "      <th>4</th>\n",
       "      <td>Tear out the roots</td>\n",
       "      <td>0</td>\n",
       "      <td>0.917</td>\n",
       "      <td>0.083</td>\n",
       "    </tr>\n",
       "  </tbody>\n",
       "</table>\n",
       "</div>"
      ],
      "text/plain": [
       "                                            sentence  label  prob_class_0  \\\n",
       "0  The Jews clearly control the media and the ban...      1         0.008   \n",
       "1  But the point is, they carry out in those real...      0         1.000   \n",
       "2  They undermine traditional life, and they dera...      1         0.005   \n",
       "3                                         Deracinate      0         1.000   \n",
       "4                                 Tear out the roots      0         0.917   \n",
       "\n",
       "   prob_class_1  \n",
       "0         0.992  \n",
       "1         0.000  \n",
       "2         0.995  \n",
       "3         0.000  \n",
       "4         0.083  "
      ]
     },
     "execution_count": 8,
     "metadata": {},
     "output_type": "execute_result"
    }
   ],
   "source": [
    "sentences = [sentence.strip() for sentence in transcribtion[\"text\"].split('.') if sentence.strip()]\n",
    "print(sentences)\n",
    "labels = []\n",
    "for sentence in sentences:\n",
    "    inputs = distilbert_tokenizer(sentence, return_tensors=\"pt\", truncation=True, padding=True)\n",
    "\n",
    "    with torch.no_grad():\n",
    "        outputs = distilbert_model(**inputs)\n",
    "        logits = outputs.logits\n",
    "        probs = F.softmax(logits, dim=-1).squeeze()  \n",
    "        predicted_class = torch.argmax(probs).item()\n",
    "        prob_class_0 = round(probs[0].item(), 3)\n",
    "        prob_class_1 = round(probs[1].item(), 3)\n",
    "        \n",
    "    labels.append({\n",
    "        \"sentence\": sentence,\n",
    "        \"label\": predicted_class,\n",
    "        \"prob_class_0\": prob_class_0,\n",
    "        \"prob_class_1\": prob_class_1\n",
    "    })        \n",
    "\n",
    "df = pd.DataFrame(labels)\n",
    "df.head()"
   ]
  },
  {
   "cell_type": "code",
   "execution_count": 9,
   "id": "fad09c27",
   "metadata": {},
   "outputs": [
    {
     "name": "stdout",
     "output_type": "stream",
     "text": [
      "[MATCH] 'The Jews clearly control the media and the banks, investment banks, not the commercial ones' → BEEP from 0.10s to 4.30s\n",
      "[MATCH] 'They undermine traditional life, and they deracinate society' → BEEP from 9.18s to 13.90s\n",
      "[MATCH] 'All he can do is buy and sell and invest capital and manipulate markets, and, you know, it's like all mental' → BEEP from 50.04s to 55.94s\n",
      "[MATCH] 'Marx, Freud, Einstein, what have they given us? Communism, infantile sexuality, and the atom bomb' → BEEP from 69.32s to 76.16s\n",
      "[MATCH] 'They've ripped us out of a world of order and reason' → BEEP from 81.72s to 83.84s\n",
      "[MATCH] 'Why? Because it's the deepest impulse of a Jewish soul to pull at the very fabric of life till there's nothing left but a thread' → BEEP from 94.10s to 101.44s\n"
     ]
    }
   ],
   "source": [
    "def normalize(word):\n",
    "    return re.sub(r\"[^\\w]\", \"\", word).lower()\n",
    "\n",
    "beep_intervals = []\n",
    "\n",
    "transcript_words = [\n",
    "    {\n",
    "        \"word\": normalize(chunk[\"text\"]),\n",
    "        \"start\": chunk[\"timestamp\"][0],\n",
    "        \"end\": chunk[\"timestamp\"][1]\n",
    "    }\n",
    "    for chunk in transcribtion.get(\"chunks\", [])\n",
    "]\n",
    "\n",
    "transcript_word_list = [w[\"word\"] for w in transcript_words]\n",
    "\n",
    "for idx, row in df.iterrows():\n",
    "    if row[\"label\"] != 1:\n",
    "        continue\n",
    "\n",
    "    sentence = row[\"sentence\"]\n",
    "    sentence_words = [normalize(w) for w in sentence.split() if normalize(w)]\n",
    "\n",
    "    if not sentence_words:\n",
    "        continue\n",
    "\n",
    "    # Sliding window to find exact match in transcript\n",
    "    for i in range(len(transcript_word_list) - len(sentence_words) + 1):\n",
    "        window = transcript_word_list[i:i + len(sentence_words)]\n",
    "        if window == sentence_words:\n",
    "            start_time = transcript_words[i][\"start\"]\n",
    "            end_time = transcript_words[i + len(sentence_words) - 1][\"end\"]\n",
    "            beep_intervals.append((start_time, end_time))\n",
    "            print(f\"[MATCH] '{sentence}' → BEEP from {start_time:.2f}s to {end_time:.2f}s\")\n",
    "            break"
   ]
  },
  {
   "cell_type": "code",
   "execution_count": null,
   "id": "a9d57007",
   "metadata": {},
   "outputs": [
    {
     "name": "stdout",
     "output_type": "stream",
     "text": [
      "Censored file saved as ./output/audio/censored_hate_video_418.wav\n"
     ]
    }
   ],
   "source": [
    "audio = AudioSegment.from_mp3(\"./input/audio/hate_video_418.mp3\")\n",
    "\n",
    "censored_audio = AudioSegment.empty()\n",
    "current_pos = 0  \n",
    "\n",
    "for start_sec, end_sec in sorted(beep_intervals):\n",
    "    start_ms = int(start_sec * 1000)\n",
    "    end_ms = int(end_sec * 1000)\n",
    "    duration = end_ms - start_ms\n",
    "    censored_audio += audio[current_pos:start_ms]\n",
    "    beep = Sine(1000).to_audio_segment(duration=duration).apply_gain(-3.0)\n",
    "    censored_audio += beep\n",
    "    current_pos = end_ms\n",
    "\n",
    "censored_audio += audio[current_pos:]\n",
    "\n",
    "output_path = \"./output/audio/censored_hate_video_418.wav\"\n",
    "os.makedirs(os.path.dirname(output_path), exist_ok=True)\n",
    "censored_audio.export(output_path, format=\"wav\")\n",
    "\n",
    "print(\"Censored audio saved as\", output_path)\n"
   ]
  },
  {
   "cell_type": "code",
   "execution_count": 19,
   "id": "2bd03f6f",
   "metadata": {},
   "outputs": [
    {
     "name": "stdout",
     "output_type": "stream",
     "text": [
      "Censored video saved as: ./output/video/censored_hate_video_418.mp4\n"
     ]
    }
   ],
   "source": [
    "input_video = \"./input/video/hate_video_418.mp4\"\n",
    "input_audio = \"./output/audio/censored_hate_video_418.wav\"\n",
    "output_video = \"./output/video/censored_hate_video_418.mp4\"\n",
    "os.makedirs(os.path.dirname(output_video), exist_ok=True)\n",
    "\n",
    "cmd = [\n",
    "    \"ffmpeg\",\n",
    "    \"-i\", input_video,\n",
    "    \"-i\", input_audio,\n",
    "    \"-c:v\", \"copy\",\n",
    "    \"-c:a\", \"aac\",  \n",
    "    \"-map\", \"0:v:0\",\n",
    "    \"-map\", \"1:a:0\",\n",
    "    output_video,\n",
    "    \"-y\"  \n",
    "]\n",
    "\n",
    "subprocess.run(cmd, stdout=subprocess.PIPE, stderr=subprocess.PIPE)\n",
    "\n",
    "print(\"Censored video saved as:\", output_video)"
   ]
  },
  {
   "cell_type": "code",
   "execution_count": null,
   "id": "ccbc265b",
   "metadata": {},
   "outputs": [],
   "source": []
  }
 ],
 "metadata": {
  "kernelspec": {
   "display_name": "mnlp_exercises",
   "language": "python",
   "name": "python3"
  },
  "language_info": {
   "codemirror_mode": {
    "name": "ipython",
    "version": 3
   },
   "file_extension": ".py",
   "mimetype": "text/x-python",
   "name": "python",
   "nbconvert_exporter": "python",
   "pygments_lexer": "ipython3",
   "version": "3.10.11"
  }
 },
 "nbformat": 4,
 "nbformat_minor": 5
}
