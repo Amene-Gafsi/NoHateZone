{
 "cells": [
  {
   "cell_type": "code",
   "execution_count": 1,
   "metadata": {},
   "outputs": [
    {
     "name": "stderr",
     "output_type": "stream",
     "text": [
      "c:\\Users\\amene\\anaconda3\\envs\\mnlp_exercises\\lib\\site-packages\\tqdm\\auto.py:21: TqdmWarning: IProgress not found. Please update jupyter and ipywidgets. See https://ipywidgets.readthedocs.io/en/stable/user_install.html\n",
      "  from .autonotebook import tqdm as notebook_tqdm\n"
     ]
    }
   ],
   "source": [
    "from audio2text import AudioTranscriber # 16sec"
   ]
  },
  {
   "cell_type": "code",
   "execution_count": 2,
   "metadata": {},
   "outputs": [
    {
     "name": "stderr",
     "output_type": "stream",
     "text": [
      "Device set to use cuda:0\n"
     ]
    }
   ],
   "source": [
    "transcriber = AudioTranscriber() # 9sec"
   ]
  },
  {
   "cell_type": "code",
   "execution_count": 3,
   "metadata": {},
   "outputs": [
    {
     "name": "stderr",
     "output_type": "stream",
     "text": [
      "Due to a bug fix in https://github.com/huggingface/transformers/pull/28687 transcription using a multilingual Whisper will default to language detection followed by transcription instead of translation to English.This might be a breaking change for your use case. If you want to instead always translate your audio to English, make sure to pass `language='en'`.\n",
      "The attention mask is not set and cannot be inferred from input because pad token is same as eos token. As a consequence, you may observe unexpected behavior. Please pass your input's `attention_mask` to obtain reliable results.\n",
      "Whisper did not predict an ending timestamp, which can happen if audio is cut off in the middle of a word. Also make sure WhisperTimeStampLogitsProcessor was used during generation.\n"
     ]
    },
    {
     "name": "stdout",
     "output_type": "stream",
     "text": [
      " Hey Will! Yes, yeah. I don't mean to disrupt your contemplation, but what is hate speech? Man, does anybody really know what hate speech is? Hate speech is different from me to you. Something I might find hateful you might find to be your freedom manifesto. That's the problem with it. Hate speech is pretty subjective. It all is in the eye of the beholder. So, pretty much protected because none of us can make that choice for everybody. Hate speech. Well, I love this. Thank you. Thank you.\n"
     ]
    }
   ],
   "source": [
    "result = transcriber.transcribe_audio(input_audio=\"./input/audio/hate.mp3\", return_timestamps=\"word\") # 1m50 for 30sec audio\n",
    "\n",
    "print(result[\"text\"])"
   ]
  },
  {
   "cell_type": "code",
   "execution_count": 5,
   "metadata": {},
   "outputs": [
    {
     "name": "stdout",
     "output_type": "stream",
     "text": [
      "sentence:  Hey, Start: 0.08s, End: 0.32s\n",
      "sentence:  Will!, Start: 0.32s, End: 0.76s\n",
      "sentence:  Yes,, Start: 0.76s, End: 1.62s\n",
      "sentence:  yeah., Start: 1.62s, End: 1.92s\n",
      "sentence:  I, Start: 1.92s, End: 1.98s\n",
      "sentence:  don't, Start: 1.98s, End: 2.12s\n",
      "sentence:  mean, Start: 2.12s, End: 2.22s\n",
      "sentence:  to, Start: 2.22s, End: 2.42s\n",
      "sentence:  disrupt, Start: 2.42s, End: 2.86s\n",
      "sentence:  your, Start: 2.86s, End: 3.1s\n",
      "sentence:  contemplation,, Start: 3.1s, End: 4.14s\n",
      "sentence:  but, Start: 4.14s, End: 4.32s\n",
      "sentence:  what, Start: 4.32s, End: 5.26s\n",
      "sentence:  is, Start: 5.26s, End: 5.86s\n",
      "sentence:  hate, Start: 5.86s, End: 6.46s\n",
      "sentence:  speech?, Start: 6.46s, End: 7.08s\n",
      "sentence:  Man,, Start: 7.08s, End: 7.38s\n",
      "sentence:  does, Start: 7.38s, End: 7.48s\n",
      "sentence:  anybody, Start: 7.48s, End: 7.76s\n",
      "sentence:  really, Start: 7.76s, End: 8.1s\n",
      "sentence:  know, Start: 8.1s, End: 8.4s\n",
      "sentence:  what, Start: 8.4s, End: 8.72s\n",
      "sentence:  hate, Start: 8.72s, End: 8.92s\n",
      "sentence:  speech, Start: 8.92s, End: 9.14s\n",
      "sentence:  is?, Start: 9.14s, End: 9.36s\n",
      "sentence:  Hate, Start: 9.36s, End: 9.52s\n",
      "sentence:  speech, Start: 9.52s, End: 9.72s\n",
      "sentence:  is, Start: 9.72s, End: 9.88s\n",
      "sentence:  different, Start: 9.88s, End: 10.08s\n",
      "sentence:  from, Start: 10.08s, End: 10.34s\n",
      "sentence:  me, Start: 10.34s, End: 10.56s\n",
      "sentence:  to, Start: 10.56s, End: 10.74s\n",
      "sentence:  you., Start: 10.74s, End: 11.24s\n",
      "sentence:  Something, Start: 11.24s, End: 11.54s\n",
      "sentence:  I, Start: 11.54s, End: 11.72s\n",
      "sentence:  might, Start: 11.72s, End: 12.0s\n",
      "sentence:  find, Start: 12.0s, End: 12.22s\n",
      "sentence:  hateful, Start: 12.22s, End: 12.54s\n",
      "sentence:  you, Start: 12.54s, End: 12.68s\n",
      "sentence:  might, Start: 12.68s, End: 12.9s\n",
      "sentence:  find, Start: 12.9s, End: 13.32s\n",
      "sentence:  to, Start: 13.32s, End: 13.46s\n",
      "sentence:  be, Start: 13.46s, End: 13.56s\n",
      "sentence:  your, Start: 13.56s, End: 13.78s\n",
      "sentence:  freedom, Start: 13.78s, End: 14.04s\n",
      "sentence:  manifesto., Start: 14.04s, End: 14.94s\n",
      "sentence:  That's, Start: 14.94s, End: 15.14s\n",
      "sentence:  the, Start: 15.14s, End: 15.22s\n",
      "sentence:  problem, Start: 15.22s, End: 15.44s\n",
      "sentence:  with, Start: 15.44s, End: 15.58s\n",
      "sentence:  it., Start: 15.58s, End: 15.72s\n",
      "sentence:  Hate, Start: 15.72s, End: 15.88s\n",
      "sentence:  speech, Start: 15.88s, End: 16.06s\n",
      "sentence:  is, Start: 16.06s, End: 16.22s\n",
      "sentence:  pretty, Start: 16.22s, End: 16.4s\n",
      "sentence:  subjective., Start: 16.4s, End: 17.86s\n",
      "sentence:  It, Start: 17.86s, End: 18.66s\n",
      "sentence:  all, Start: 18.66s, End: 18.9s\n",
      "sentence:  is, Start: 18.9s, End: 19.08s\n",
      "sentence:  in, Start: 19.08s, End: 19.22s\n",
      "sentence:  the, Start: 19.22s, End: 19.3s\n",
      "sentence:  eye, Start: 19.3s, End: 19.42s\n",
      "sentence:  of, Start: 19.42s, End: 19.48s\n",
      "sentence:  the, Start: 19.48s, End: 19.54s\n",
      "sentence:  beholder., Start: 19.54s, End: 20.12s\n",
      "sentence:  So,, Start: 20.12s, End: 21.62s\n",
      "sentence:  pretty, Start: 21.62s, End: 21.84s\n",
      "sentence:  much, Start: 21.84s, End: 21.98s\n",
      "sentence:  protected, Start: 21.98s, End: 22.36s\n",
      "sentence:  because, Start: 22.36s, End: 22.7s\n",
      "sentence:  none, Start: 22.7s, End: 22.86s\n",
      "sentence:  of, Start: 22.86s, End: 22.96s\n",
      "sentence:  us, Start: 22.96s, End: 23.04s\n",
      "sentence:  can, Start: 23.04s, End: 23.12s\n",
      "sentence:  make, Start: 23.12s, End: 23.26s\n",
      "sentence:  that, Start: 23.26s, End: 23.4s\n",
      "sentence:  choice, Start: 23.4s, End: 23.64s\n",
      "sentence:  for, Start: 23.64s, End: 23.78s\n",
      "sentence:  everybody., Start: 23.78s, End: 24.58s\n",
      "sentence:  Hate, Start: 24.58s, End: 25.0s\n",
      "sentence:  speech., Start: 25.0s, End: 25.7s\n",
      "sentence:  Well,, Start: 25.7s, End: 26.28s\n",
      "sentence:  I, Start: 26.28s, End: 26.38s\n",
      "sentence:  love, Start: 26.38s, End: 26.7s\n",
      "sentence:  this., Start: 26.7s, End: 27.46s\n",
      "sentence:  Thank, Start: 27.46s, End: 29.12s\n",
      "sentence:  you., Start: 29.12s, End: 29.64s\n",
      "sentence:  Thank, Start: 29.64s, End: 29.96s\n",
      "sentence:  you., Start: 29.96s, End: Nones\n"
     ]
    }
   ],
   "source": [
    "transcriber.print_segments_with_timestamps(result)"
   ]
  },
  {
   "cell_type": "code",
   "execution_count": 1,
   "metadata": {},
   "outputs": [
    {
     "name": "stdout",
     "output_type": "stream",
     "text": [
      "Success : audio file has been saved to \"c:\\Users\\amene\\Documents\\deep learning\\NoHateZone\\input\\audio\\hate.mp3\".\n"
     ]
    }
   ],
   "source": [
    "from utils import extract_audio, extract_frames\n",
    "\n",
    "extract_audio(input_path=\"./input/video/hate.mp4\", output_dir=\"./input/audio\") "
   ]
  },
  {
   "cell_type": "code",
   "execution_count": 2,
   "metadata": {},
   "outputs": [
    {
     "data": {
      "text/plain": [
       "33"
      ]
     },
     "execution_count": 2,
     "metadata": {},
     "output_type": "execute_result"
    }
   ],
   "source": [
    "extract_frames(input_path=\"./input/video/hate.mp4\", output_dir=\"./input/frames\")"
   ]
  },
  {
   "cell_type": "code",
   "execution_count": null,
   "metadata": {},
   "outputs": [],
   "source": []
  }
 ],
 "metadata": {
  "kernelspec": {
   "display_name": "mnlp_exercises",
   "language": "python",
   "name": "python3"
  },
  "language_info": {
   "codemirror_mode": {
    "name": "ipython",
    "version": 3
   },
   "file_extension": ".py",
   "mimetype": "text/x-python",
   "name": "python",
   "nbconvert_exporter": "python",
   "pygments_lexer": "ipython3",
   "version": "3.10.11"
  }
 },
 "nbformat": 4,
 "nbformat_minor": 2
}
