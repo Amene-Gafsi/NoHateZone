{
 "cells": [
  {
   "cell_type": "code",
   "execution_count": 15,
   "id": "df6f726d",
   "metadata": {},
   "outputs": [],
   "source": [
    "import pandas as pd\n",
    "from datasets import Dataset\n",
    "from transformers import (\n",
    "    AutoTokenizer,\n",
    "    AutoModelForSequenceClassification,\n",
    "    Trainer,\n",
    "    TrainingArguments,\n",
    "    DataCollatorWithPadding\n",
    ")\n",
    "from peft import LoraConfig, get_peft_model\n",
    "import torch"
   ]
  },
  {
   "cell_type": "code",
   "execution_count": 16,
   "id": "459aae7a",
   "metadata": {},
   "outputs": [
    {
     "data": {
      "application/vnd.microsoft.datawrangler.viewer.v0+json": {
       "columns": [
        {
         "name": "index",
         "rawType": "int64",
         "type": "integer"
        },
        {
         "name": "text",
         "rawType": "object",
         "type": "string"
        },
        {
         "name": "video",
         "rawType": "object",
         "type": "string"
        },
        {
         "name": "start",
         "rawType": "float64",
         "type": "float"
        },
        {
         "name": "end",
         "rawType": "float64",
         "type": "float"
        },
        {
         "name": "Chunk_hate",
         "rawType": "int64",
         "type": "integer"
        }
       ],
       "conversionMethod": "pd.DataFrame",
       "ref": "7f6f5bab-f921-4de2-93bb-e2076d0f9483",
       "rows": [
        [
         "0",
         " The End Thank you. The End",
         "hate_video_1",
         "29.98",
         "94.96",
         "0"
        ],
        [
         "1",
         " I Like Sugar And the NAACP would sure like to get a hold of nigger hatin' me.",
         "hate_video_2",
         "5.22",
         "25.44",
         "1"
        ],
        [
         "2",
         " Roses are red and violets are blue and niggers are black, you know that's true.",
         "hate_video_2",
         "27.42",
         "32.12",
         "1"
        ],
        [
         "3",
         " But they don't mind cause what the heck, you gotta be black to get a welfare check and I'm broke.",
         "hate_video_2",
         "32.42",
         "37.8",
         "1"
        ],
        [
         "4",
         " No joke, I ain't got a nickel for a coke and I ain't black, you see.",
         "hate_video_2",
         "38.34",
         "44.08",
         "1"
        ],
        [
         "5",
         " So Uncle Sam won't help poor nigger hatin' me.",
         "hate_video_2",
         "44.6",
         "47.8",
         "1"
        ],
        [
         "6",
         " Jigaboo, jigaboo, where are you?",
         "hate_video_2",
         "50.04",
         "52.04",
         "1"
        ],
        [
         "7",
         " I was here in the wood while I was watchin' you.",
         "hate_video_2",
         "52.24",
         "54.66",
         "1"
        ],
        [
         "8",
         " Jigaboo, jigaboo, come out, no.",
         "hate_video_2",
         "55.06",
         "57.04",
         "1"
        ],
        [
         "9",
         " So I scared all the white men way down south, you know it.",
         "hate_video_2",
         "57.14",
         "60.44",
         "1"
        ],
        [
         "10",
         " But I show it, stick your black jet out, and I blow it.",
         "hate_video_2",
         "60.86",
         "64.1",
         "1"
        ],
        [
         "11",
         " know it. Cause I show it, stick your black jet out and I blow it. And the NAACP can't",
         "hate_video_2",
         "67.0",
         "67.52",
         "1"
        ],
        [
         "12",
         " keep you away from a little old nigger hatin' me. Mirror, mirror on the wall, who is the blackest of them all? A man named King, it ain't no doubt, and he's causin' lots of trouble",
         "hate_video_2",
         "75.7",
         "80.96",
         "1"
        ],
        [
         "13",
         " with his baboon mouth. He's a-doin', It's caused by the trouble he's a-brewin'.",
         "hate_video_2",
         "80.96",
         "87.18",
         "1"
        ],
        [
         "14",
         " And the NAACP can't win if white men stick with nigger hatin' me.",
         "hate_video_2",
         "87.18",
         "92.84",
         "1"
        ],
        [
         "15",
         " Hey, Mr. President, what do you say?",
         "hate_video_2",
         "94.92",
         "97.18",
         "1"
        ],
        [
         "16",
         " When are we whites gonna have our day?",
         "hate_video_2",
         "97.58",
         "99.68",
         "1"
        ],
        [
         "17",
         " The niggers had theirs such a long, long time.",
         "hate_video_2",
         "100.02",
         "102.32",
         "1"
        ],
        [
         "18",
         " I'm a-white and it's time that I have mine.",
         "hate_video_2",
         "102.42",
         "104.88",
         "1"
        ],
        [
         "19",
         " You know it, cause I show it.",
         "hate_video_2",
         "104.96",
         "106.86",
         "1"
        ],
        [
         "20",
         " Stick it back, get out and I'll blow it.",
         "hate_video_2",
         "107.34",
         "109.34",
         "1"
        ],
        [
         "21",
         " And the NAACP can't win if a white man stick with nigger hatin' me.",
         "hate_video_2",
         "109.86",
         "115.52",
         "1"
        ],
        [
         "22",
         " Nigger hatin' me.",
         "hate_video_2",
         "116.98",
         "118.16",
         "1"
        ],
        [
         "23",
         " Nigger hatin' me.",
         "hate_video_2",
         "119.5",
         "120.66",
         "1"
        ],
        [
         "24",
         " Nigger hatin' me.",
         "hate_video_2",
         "122.0",
         "123.16",
         "1"
        ],
        [
         "25",
         " Nigger hatin' me.",
         "hate_video_2",
         "124.52",
         "125.62",
         "1"
        ],
        [
         "26",
         " I simply must get through!",
         "hate_video_3",
         "0.74",
         "2.0",
         "0"
        ],
        [
         "27",
         " Sorry, you're much too big!",
         "hate_video_3",
         "2.0",
         "4.0",
         "1"
        ],
        [
         "28",
         " Yeah man!",
         "hate_video_3",
         "4.0",
         "5.0",
         "1"
        ],
        [
         "29",
         " Bobby two pistols in his bitch!",
         "hate_video_3",
         "5.0",
         "7.0",
         "1"
        ],
        [
         "30",
         " Yeah man!",
         "hate_video_3",
         "7.0",
         "8.0",
         "1"
        ],
        [
         "31",
         " Fuck all those niggers man!",
         "hate_video_3",
         "8.0",
         "10.0",
         "1"
        ],
        [
         "32",
         " Martin Luther King deserved to be killed!",
         "hate_video_3",
         "10.0",
         "12.0",
         "1"
        ],
        [
         "33",
         " And fuck your nigger!",
         "hate_video_3",
         "12.0",
         "14.0",
         "1"
        ],
        [
         "34",
         " Just grab and steal your shit man!",
         "hate_video_3",
         "14.0",
         "16.0",
         "1"
        ],
        [
         "35",
         " Fuck those niggers man!",
         "hate_video_3",
         "16.0",
         "18.0",
         "1"
        ],
        [
         "36",
         " Fuck all niggers!",
         "hate_video_3",
         "18.0",
         "20.0",
         "1"
        ],
        [
         "37",
         " Fuck all niggers!",
         "hate_video_3",
         "20.0",
         "22.0",
         "1"
        ],
        [
         "38",
         " Fuck all niggers!",
         "hate_video_3",
         "22.0",
         "24.0",
         "1"
        ],
        [
         "39",
         " Fuck all niggers! Fuck all those niggers Fuck all niggers Fuck all niggers",
         "hate_video_3",
         "24.0",
         "25.06",
         "1"
        ],
        [
         "40",
         " Fuck all those niggers",
         "hate_video_3",
         "25.06",
         "26.8",
         "1"
        ],
        [
         "41",
         " Fuck all those niggers",
         "hate_video_3",
         "26.8",
         "28.48",
         "1"
        ],
        [
         "42",
         " Fuck all those niggers",
         "hate_video_3",
         "28.48",
         "30.2",
         "1"
        ],
        [
         "43",
         " Fuck all those niggers",
         "hate_video_3",
         "30.2",
         "31.9",
         "1"
        ],
        [
         "44",
         " Rapping still my shit",
         "hate_video_3",
         "31.9",
         "33.6",
         "1"
        ],
        [
         "45",
         " Rapping still my shit",
         "hate_video_3",
         "33.6",
         "35.18",
         "1"
        ],
        [
         "46",
         " They wanna rap and steal my shit",
         "hate_video_3",
         "35.18",
         "36.92",
         "1"
        ],
        [
         "47",
         " Because they can't get shit",
         "hate_video_3",
         "36.92",
         "38.68",
         "1"
        ],
        [
         "48",
         " Go and get a job",
         "hate_video_3",
         "38.68",
         "40.5",
         "1"
        ],
        [
         "49",
         " Stop trying to rob",
         "hate_video_3",
         "40.5",
         "42.2",
         "1"
        ]
       ],
       "shape": {
        "columns": 5,
        "rows": 32442
       }
      },
      "text/html": [
       "<div>\n",
       "<style scoped>\n",
       "    .dataframe tbody tr th:only-of-type {\n",
       "        vertical-align: middle;\n",
       "    }\n",
       "\n",
       "    .dataframe tbody tr th {\n",
       "        vertical-align: top;\n",
       "    }\n",
       "\n",
       "    .dataframe thead th {\n",
       "        text-align: right;\n",
       "    }\n",
       "</style>\n",
       "<table border=\"1\" class=\"dataframe\">\n",
       "  <thead>\n",
       "    <tr style=\"text-align: right;\">\n",
       "      <th></th>\n",
       "      <th>text</th>\n",
       "      <th>video</th>\n",
       "      <th>start</th>\n",
       "      <th>end</th>\n",
       "      <th>Chunk_hate</th>\n",
       "    </tr>\n",
       "  </thead>\n",
       "  <tbody>\n",
       "    <tr>\n",
       "      <th>0</th>\n",
       "      <td>The End Thank you. The End</td>\n",
       "      <td>hate_video_1</td>\n",
       "      <td>29.98</td>\n",
       "      <td>94.96</td>\n",
       "      <td>0</td>\n",
       "    </tr>\n",
       "    <tr>\n",
       "      <th>1</th>\n",
       "      <td>I Like Sugar And the NAACP would sure like to...</td>\n",
       "      <td>hate_video_2</td>\n",
       "      <td>5.22</td>\n",
       "      <td>25.44</td>\n",
       "      <td>1</td>\n",
       "    </tr>\n",
       "    <tr>\n",
       "      <th>2</th>\n",
       "      <td>Roses are red and violets are blue and nigger...</td>\n",
       "      <td>hate_video_2</td>\n",
       "      <td>27.42</td>\n",
       "      <td>32.12</td>\n",
       "      <td>1</td>\n",
       "    </tr>\n",
       "    <tr>\n",
       "      <th>3</th>\n",
       "      <td>But they don't mind cause what the heck, you ...</td>\n",
       "      <td>hate_video_2</td>\n",
       "      <td>32.42</td>\n",
       "      <td>37.80</td>\n",
       "      <td>1</td>\n",
       "    </tr>\n",
       "    <tr>\n",
       "      <th>4</th>\n",
       "      <td>No joke, I ain't got a nickel for a coke and ...</td>\n",
       "      <td>hate_video_2</td>\n",
       "      <td>38.34</td>\n",
       "      <td>44.08</td>\n",
       "      <td>1</td>\n",
       "    </tr>\n",
       "    <tr>\n",
       "      <th>...</th>\n",
       "      <td>...</td>\n",
       "      <td>...</td>\n",
       "      <td>...</td>\n",
       "      <td>...</td>\n",
       "      <td>...</td>\n",
       "    </tr>\n",
       "    <tr>\n",
       "      <th>32437</th>\n",
       "      <td>public opinion on the internet. Israel's fore...</td>\n",
       "      <td>non_hate_video_652</td>\n",
       "      <td>29.40</td>\n",
       "      <td>34.24</td>\n",
       "      <td>0</td>\n",
       "    </tr>\n",
       "    <tr>\n",
       "      <th>32438</th>\n",
       "      <td>so-called trainee diplomats, to skew online p...</td>\n",
       "      <td>non_hate_video_652</td>\n",
       "      <td>34.36</td>\n",
       "      <td>39.92</td>\n",
       "      <td>0</td>\n",
       "    </tr>\n",
       "    <tr>\n",
       "      <th>32439</th>\n",
       "      <td>line. This is an organized effort using, quot...</td>\n",
       "      <td>non_hate_video_652</td>\n",
       "      <td>39.92</td>\n",
       "      <td>55.12</td>\n",
       "      <td>0</td>\n",
       "    </tr>\n",
       "    <tr>\n",
       "      <th>32440</th>\n",
       "      <td>They already were able to remove my If Americ...</td>\n",
       "      <td>non_hate_video_652</td>\n",
       "      <td>55.24</td>\n",
       "      <td>59.82</td>\n",
       "      <td>0</td>\n",
       "    </tr>\n",
       "    <tr>\n",
       "      <th>32441</th>\n",
       "      <td>Please take a look at that.</td>\n",
       "      <td>non_hate_video_652</td>\n",
       "      <td>60.04</td>\n",
       "      <td>61.12</td>\n",
       "      <td>0</td>\n",
       "    </tr>\n",
       "  </tbody>\n",
       "</table>\n",
       "<p>32442 rows × 5 columns</p>\n",
       "</div>"
      ],
      "text/plain": [
       "                                                    text               video  \\\n",
       "0                             The End Thank you. The End        hate_video_1   \n",
       "1       I Like Sugar And the NAACP would sure like to...        hate_video_2   \n",
       "2       Roses are red and violets are blue and nigger...        hate_video_2   \n",
       "3       But they don't mind cause what the heck, you ...        hate_video_2   \n",
       "4       No joke, I ain't got a nickel for a coke and ...        hate_video_2   \n",
       "...                                                  ...                 ...   \n",
       "32437   public opinion on the internet. Israel's fore...  non_hate_video_652   \n",
       "32438   so-called trainee diplomats, to skew online p...  non_hate_video_652   \n",
       "32439   line. This is an organized effort using, quot...  non_hate_video_652   \n",
       "32440   They already were able to remove my If Americ...  non_hate_video_652   \n",
       "32441                        Please take a look at that.  non_hate_video_652   \n",
       "\n",
       "       start    end  Chunk_hate  \n",
       "0      29.98  94.96           0  \n",
       "1       5.22  25.44           1  \n",
       "2      27.42  32.12           1  \n",
       "3      32.42  37.80           1  \n",
       "4      38.34  44.08           1  \n",
       "...      ...    ...         ...  \n",
       "32437  29.40  34.24           0  \n",
       "32438  34.36  39.92           0  \n",
       "32439  39.92  55.12           0  \n",
       "32440  55.24  59.82           0  \n",
       "32441  60.04  61.12           0  \n",
       "\n",
       "[32442 rows x 5 columns]"
      ]
     },
     "execution_count": 16,
     "metadata": {},
     "output_type": "execute_result"
    }
   ],
   "source": [
    "# 1) Load your chunk data\n",
    "df_chunks = pd.read_csv(\"./output_org/final_chunk_df.csv\")\n",
    "df_chunks"
   ]
  },
  {
   "cell_type": "code",
   "execution_count": 17,
   "id": "e9908234",
   "metadata": {},
   "outputs": [
    {
     "name": "stderr",
     "output_type": "stream",
     "text": [
      "Map: 100%|██████████| 12/12 [00:00<?, ? examples/s]\n",
      "No label_names provided for model class `PeftModel`. Since `PeftModel` hides base models input arguments, if label_names is not given, label_names can't be set automatically within `Trainer`. Note that empty label_names list will be used instead.\n"
     ]
    },
    {
     "data": {
      "text/html": [
       "\n",
       "    <div>\n",
       "      \n",
       "      <progress value='30' max='30' style='width:300px; height:20px; vertical-align: middle;'></progress>\n",
       "      [30/30 00:02, Epoch 10/10]\n",
       "    </div>\n",
       "    <table border=\"1\" class=\"dataframe\">\n",
       "  <thead>\n",
       " <tr style=\"text-align: left;\">\n",
       "      <th>Step</th>\n",
       "      <th>Training Loss</th>\n",
       "    </tr>\n",
       "  </thead>\n",
       "  <tbody>\n",
       "    <tr>\n",
       "      <td>5</td>\n",
       "      <td>0.551600</td>\n",
       "    </tr>\n",
       "    <tr>\n",
       "      <td>10</td>\n",
       "      <td>0.302300</td>\n",
       "    </tr>\n",
       "    <tr>\n",
       "      <td>15</td>\n",
       "      <td>0.541600</td>\n",
       "    </tr>\n",
       "    <tr>\n",
       "      <td>20</td>\n",
       "      <td>0.537900</td>\n",
       "    </tr>\n",
       "    <tr>\n",
       "      <td>25</td>\n",
       "      <td>0.260500</td>\n",
       "    </tr>\n",
       "    <tr>\n",
       "      <td>30</td>\n",
       "      <td>0.418200</td>\n",
       "    </tr>\n",
       "  </tbody>\n",
       "</table><p>"
      ],
      "text/plain": [
       "<IPython.core.display.HTML object>"
      ]
     },
     "metadata": {},
     "output_type": "display_data"
    },
    {
     "name": "stderr",
     "output_type": "stream",
     "text": [
      "Map: 100%|██████████| 32442/32442 [00:01<00:00, 18694.11 examples/s]\n"
     ]
    },
    {
     "data": {
      "text/html": [],
      "text/plain": [
       "<IPython.core.display.HTML object>"
      ]
     },
     "metadata": {},
     "output_type": "display_data"
    }
   ],
   "source": [
    "# -----------------------------\n",
    "# 1) Prepare your labeled training examples\n",
    "# -----------------------------\n",
    "train_data = {\n",
    "    \"text\": [\n",
    "    \"I fucking hate niggers.\",\n",
    "    \"Oh boy, what the fuck are you doing?\",\n",
    "    \"Jews are always there when you do not want\",\n",
    "    \"Hey I told you to get rid of that shit\",\n",
    "    \"Muslim people are filthy and should all be killed\",\n",
    "    \"Sorry I don't understand\",\n",
    "    \"I fucking hate nigga, gorilla, monkey boy, you black motherfucker.\",\n",
    "    \"Get the hell out of my face\",\n",
    "    \"Dirty coon go back to where you belong\",\n",
    "    \"Sorry for the other day, but I am ready to fight if you are or are not\",\n",
    "    \"Fuck Jews, they all must die\",\n",
    "    \"I don't give two shits about your friend\"\n",
    "],\n",
    "    \"label\": [1, 0, 1, 0, 1, 0, 1, 0, 1, 0, 1, 0]  # 1 = HATE, 0 = NON_HATE\n",
    "}\n",
    "train_df = pd.DataFrame(train_data)\n",
    "raw_train = Dataset.from_pandas(train_df.reset_index(drop=True))\n",
    "raw_train = raw_train.rename_column(\"label\", \"labels\")\n",
    "\n",
    "# -----------------------------\n",
    "# 2) Load model, tokenizer, and attach LoRA adapter\n",
    "# -----------------------------\n",
    "model_name = \"Hate-speech-CNERG/dehatebert-mono-english\"\n",
    "tokenizer = AutoTokenizer.from_pretrained(model_name)\n",
    "base_model = AutoModelForSequenceClassification.from_pretrained(model_name, num_labels=2)\n",
    "\n",
    "lora_config = LoraConfig(\n",
    "    r=8,\n",
    "    lora_alpha=32,\n",
    "    target_modules=[\"classifier\"],\n",
    "    lora_dropout=0.1,\n",
    "    bias=\"none\"\n",
    ")\n",
    "model = get_peft_model(base_model, lora_config)\n",
    "\n",
    "# -----------------------------\n",
    "# 3) Tokenization function\n",
    "# -----------------------------\n",
    "max_len = 128\n",
    "def tokenize(batch):\n",
    "    return tokenizer(batch[\"text\"], truncation=True, padding=\"max_length\", max_length=max_len)\n",
    "\n",
    "# -----------------------------\n",
    "# 4) Prepare training dataset and data collator\n",
    "# -----------------------------\n",
    "train_ds = raw_train.map(tokenize, batched=True)\n",
    "train_ds.set_format(type=\"torch\", columns=[\"input_ids\", \"attention_mask\", \"labels\"])\n",
    "collator = DataCollatorWithPadding(tokenizer)\n",
    "\n",
    "# -----------------------------\n",
    "# 5) Training configuration with explicit max steps\n",
    "# -----------------------------\n",
    "t_args = TrainingArguments(\n",
    "    output_dir=\"fewshot_dehatebert\",\n",
    "    per_device_train_batch_size=4,\n",
    "    # Stop training after 25 update steps\n",
    "    max_steps=25,\n",
    "    logging_steps=5,\n",
    "    save_steps=5,\n",
    "    fp16=True,\n",
    "    remove_unused_columns=False\n",
    ")\n",
    "\n",
    "t_args = TrainingArguments(\n",
    "    output_dir=\"fewshot_dehatebert\",\n",
    "    per_device_train_batch_size=4,\n",
    "    num_train_epochs=10,\n",
    "    logging_steps=5,\n",
    "    save_steps=10,\n",
    "    fp16=True,\n",
    "    remove_unused_columns=False\n",
    ")\n",
    "\n",
    "# -----------------------------\n",
    "# 6) Custom Trainer to ignore extra kwargs\n",
    "# -----------------------------\n",
    "class FilteringTrainer(Trainer):\n",
    "    def compute_loss(self, model, inputs, return_outputs=False, **kwargs):\n",
    "        labels = inputs.pop(\"labels\", None)\n",
    "        inputs = {k: v for k, v in inputs.items() if k in [\"input_ids\", \"attention_mask\"]}\n",
    "        if labels is not None:\n",
    "            inputs[\"labels\"] = labels\n",
    "        outputs = model(**inputs)\n",
    "        loss = outputs.loss if hasattr(outputs, 'loss') else outputs[0]\n",
    "        return (loss, outputs) if return_outputs else loss\n",
    "\n",
    "trainer = FilteringTrainer(\n",
    "    model=model,\n",
    "    args=t_args,\n",
    "    train_dataset=train_ds,\n",
    "    data_collator=collator,\n",
    ")\n",
    "\n",
    "# -----------------------------\n",
    "# 7) Train the LoRA adapter\n",
    "# -----------------------------\n",
    "trainer.train()\n",
    "\n",
    "# -----------------------------\n",
    "# 8) Inference on your updated CSV file\n",
    "# -----------------------------\n",
    "# Replace 'chunks_with_hate_labels.csv' with your actual CSV path containing a 'text' column\n",
    "raw_chunks = Dataset.from_pandas(df_chunks.reset_index(drop=True))\n",
    "\n",
    "# Tokenize chunks\n",
    "infer_ds = raw_chunks.map(tokenize, batched=True)\n",
    "infer_ds.set_format(type=\"torch\", columns=[\"input_ids\", \"attention_mask\"])\n",
    "\n",
    "# Predict\n",
    "predictions = trainer.predict(infer_ds)\n",
    "logits = predictions.predictions\n",
    "pred_ids = torch.argmax(torch.tensor(logits), axis=1).tolist()\n",
    "\n",
    "# Map and add to DataFrame\n",
    "label_map = {0: \"NON_HATE\", 1: \"HATE\"}\n",
    "df_chunks[\"predicted_label\"] = [label_map[i] for i in pred_ids]\n",
    "\n",
    "# Print the DataFrame with new labels\n",
    "df_chunks.to_excel(\"final_results.xlsx\")\n"
   ]
  },
  {
   "cell_type": "code",
   "execution_count": 18,
   "id": "6cb2e4c3",
   "metadata": {},
   "outputs": [],
   "source": [
    "df_chunks[\"predicted_hate\"] = df_chunks[\"predicted_label\"].apply(lambda val: 1 if val == \"HATE\" else 0)\n",
    "\n",
    "new_df_chunks = df_chunks.copy()\n",
    "\n",
    "new_df_chunks.loc[\n",
    "    (new_df_chunks[\"Chunk_hate\"] == 0) & (new_df_chunks[\"predicted_label\"] == \"HATE\"),\n",
    "    \"Chunk_hate\"\n",
    "] = 1\n",
    "\n",
    "\n",
    "assert len(new_df_chunks[(new_df_chunks[\"Chunk_hate\"] == 0) & (new_df_chunks[\"predicted_hate\"] == 1)]) == 0"
   ]
  },
  {
   "cell_type": "code",
   "execution_count": 19,
   "id": "aab41b3f",
   "metadata": {},
   "outputs": [
    {
     "data": {
      "text/plain": [
       "Chunk_hate\n",
       "0    23516\n",
       "1     8926\n",
       "Name: count, dtype: int64"
      ]
     },
     "execution_count": 19,
     "metadata": {},
     "output_type": "execute_result"
    }
   ],
   "source": [
    "new_df_chunks[\"Chunk_hate\"].value_counts()"
   ]
  },
  {
   "cell_type": "code",
   "execution_count": 20,
   "id": "3a34633e",
   "metadata": {},
   "outputs": [],
   "source": [
    "new_df_chunks.drop(['predicted_label','predicted_hate'], axis = 1).to_excel(\"./output_org/final_res.xlsx\")"
   ]
  },
  {
   "cell_type": "code",
   "execution_count": 21,
   "id": "a627028c",
   "metadata": {},
   "outputs": [
    {
     "data": {
      "application/vnd.microsoft.datawrangler.viewer.v0+json": {
       "columns": [
        {
         "name": "index",
         "rawType": "int64",
         "type": "integer"
        },
        {
         "name": "text",
         "rawType": "object",
         "type": "string"
        },
        {
         "name": "video",
         "rawType": "object",
         "type": "string"
        },
        {
         "name": "start",
         "rawType": "float64",
         "type": "float"
        },
        {
         "name": "end",
         "rawType": "float64",
         "type": "float"
        },
        {
         "name": "Chunk_hate",
         "rawType": "int64",
         "type": "integer"
        },
        {
         "name": "predicted_label",
         "rawType": "object",
         "type": "string"
        },
        {
         "name": "predicted_hate",
         "rawType": "int64",
         "type": "integer"
        }
       ],
       "conversionMethod": "pd.DataFrame",
       "ref": "0abadd4d-877d-4cdc-9817-e35dcfb6bfac",
       "rows": [
        [
         "0",
         " The End Thank you. The End",
         "hate_video_1",
         "29.98",
         "94.96",
         "0",
         "NON_HATE",
         "0"
        ],
        [
         "1",
         " I Like Sugar And the NAACP would sure like to get a hold of nigger hatin' me.",
         "hate_video_2",
         "5.22",
         "25.44",
         "1",
         "HATE",
         "1"
        ],
        [
         "2",
         " Roses are red and violets are blue and niggers are black, you know that's true.",
         "hate_video_2",
         "27.42",
         "32.12",
         "1",
         "HATE",
         "1"
        ],
        [
         "3",
         " But they don't mind cause what the heck, you gotta be black to get a welfare check and I'm broke.",
         "hate_video_2",
         "32.42",
         "37.8",
         "1",
         "NON_HATE",
         "0"
        ],
        [
         "4",
         " No joke, I ain't got a nickel for a coke and I ain't black, you see.",
         "hate_video_2",
         "38.34",
         "44.08",
         "1",
         "NON_HATE",
         "0"
        ],
        [
         "5",
         " So Uncle Sam won't help poor nigger hatin' me.",
         "hate_video_2",
         "44.6",
         "47.8",
         "1",
         "HATE",
         "1"
        ],
        [
         "6",
         " Jigaboo, jigaboo, where are you?",
         "hate_video_2",
         "50.04",
         "52.04",
         "1",
         "NON_HATE",
         "0"
        ],
        [
         "7",
         " I was here in the wood while I was watchin' you.",
         "hate_video_2",
         "52.24",
         "54.66",
         "1",
         "NON_HATE",
         "0"
        ],
        [
         "8",
         " Jigaboo, jigaboo, come out, no.",
         "hate_video_2",
         "55.06",
         "57.04",
         "1",
         "NON_HATE",
         "0"
        ],
        [
         "9",
         " So I scared all the white men way down south, you know it.",
         "hate_video_2",
         "57.14",
         "60.44",
         "1",
         "NON_HATE",
         "0"
        ],
        [
         "10",
         " But I show it, stick your black jet out, and I blow it.",
         "hate_video_2",
         "60.86",
         "64.1",
         "1",
         "NON_HATE",
         "0"
        ],
        [
         "11",
         " know it. Cause I show it, stick your black jet out and I blow it. And the NAACP can't",
         "hate_video_2",
         "67.0",
         "67.52",
         "1",
         "NON_HATE",
         "0"
        ],
        [
         "12",
         " keep you away from a little old nigger hatin' me. Mirror, mirror on the wall, who is the blackest of them all? A man named King, it ain't no doubt, and he's causin' lots of trouble",
         "hate_video_2",
         "75.7",
         "80.96",
         "1",
         "HATE",
         "1"
        ],
        [
         "13",
         " with his baboon mouth. He's a-doin', It's caused by the trouble he's a-brewin'.",
         "hate_video_2",
         "80.96",
         "87.18",
         "1",
         "NON_HATE",
         "0"
        ],
        [
         "14",
         " And the NAACP can't win if white men stick with nigger hatin' me.",
         "hate_video_2",
         "87.18",
         "92.84",
         "1",
         "HATE",
         "1"
        ],
        [
         "15",
         " Hey, Mr. President, what do you say?",
         "hate_video_2",
         "94.92",
         "97.18",
         "1",
         "NON_HATE",
         "0"
        ],
        [
         "16",
         " When are we whites gonna have our day?",
         "hate_video_2",
         "97.58",
         "99.68",
         "1",
         "NON_HATE",
         "0"
        ],
        [
         "17",
         " The niggers had theirs such a long, long time.",
         "hate_video_2",
         "100.02",
         "102.32",
         "1",
         "HATE",
         "1"
        ],
        [
         "18",
         " I'm a-white and it's time that I have mine.",
         "hate_video_2",
         "102.42",
         "104.88",
         "1",
         "NON_HATE",
         "0"
        ],
        [
         "19",
         " You know it, cause I show it.",
         "hate_video_2",
         "104.96",
         "106.86",
         "1",
         "NON_HATE",
         "0"
        ],
        [
         "20",
         " Stick it back, get out and I'll blow it.",
         "hate_video_2",
         "107.34",
         "109.34",
         "1",
         "NON_HATE",
         "0"
        ],
        [
         "21",
         " And the NAACP can't win if a white man stick with nigger hatin' me.",
         "hate_video_2",
         "109.86",
         "115.52",
         "1",
         "HATE",
         "1"
        ],
        [
         "22",
         " Nigger hatin' me.",
         "hate_video_2",
         "116.98",
         "118.16",
         "1",
         "NON_HATE",
         "0"
        ],
        [
         "23",
         " Nigger hatin' me.",
         "hate_video_2",
         "119.5",
         "120.66",
         "1",
         "NON_HATE",
         "0"
        ],
        [
         "24",
         " Nigger hatin' me.",
         "hate_video_2",
         "122.0",
         "123.16",
         "1",
         "NON_HATE",
         "0"
        ],
        [
         "25",
         " Nigger hatin' me.",
         "hate_video_2",
         "124.52",
         "125.62",
         "1",
         "NON_HATE",
         "0"
        ],
        [
         "26",
         " I simply must get through!",
         "hate_video_3",
         "0.74",
         "2.0",
         "0",
         "NON_HATE",
         "0"
        ],
        [
         "27",
         " Sorry, you're much too big!",
         "hate_video_3",
         "2.0",
         "4.0",
         "1",
         "NON_HATE",
         "0"
        ],
        [
         "28",
         " Yeah man!",
         "hate_video_3",
         "4.0",
         "5.0",
         "1",
         "NON_HATE",
         "0"
        ],
        [
         "29",
         " Bobby two pistols in his bitch!",
         "hate_video_3",
         "5.0",
         "7.0",
         "1",
         "HATE",
         "1"
        ],
        [
         "30",
         " Yeah man!",
         "hate_video_3",
         "7.0",
         "8.0",
         "1",
         "NON_HATE",
         "0"
        ],
        [
         "31",
         " Fuck all those niggers man!",
         "hate_video_3",
         "8.0",
         "10.0",
         "1",
         "HATE",
         "1"
        ],
        [
         "32",
         " Martin Luther King deserved to be killed!",
         "hate_video_3",
         "10.0",
         "12.0",
         "1",
         "NON_HATE",
         "0"
        ],
        [
         "33",
         " And fuck your nigger!",
         "hate_video_3",
         "12.0",
         "14.0",
         "1",
         "HATE",
         "1"
        ],
        [
         "34",
         " Just grab and steal your shit man!",
         "hate_video_3",
         "14.0",
         "16.0",
         "1",
         "NON_HATE",
         "0"
        ],
        [
         "35",
         " Fuck those niggers man!",
         "hate_video_3",
         "16.0",
         "18.0",
         "1",
         "HATE",
         "1"
        ],
        [
         "36",
         " Fuck all niggers!",
         "hate_video_3",
         "18.0",
         "20.0",
         "1",
         "HATE",
         "1"
        ],
        [
         "37",
         " Fuck all niggers!",
         "hate_video_3",
         "20.0",
         "22.0",
         "1",
         "HATE",
         "1"
        ],
        [
         "38",
         " Fuck all niggers!",
         "hate_video_3",
         "22.0",
         "24.0",
         "1",
         "HATE",
         "1"
        ],
        [
         "39",
         " Fuck all niggers! Fuck all those niggers Fuck all niggers Fuck all niggers",
         "hate_video_3",
         "24.0",
         "25.06",
         "1",
         "HATE",
         "1"
        ],
        [
         "40",
         " Fuck all those niggers",
         "hate_video_3",
         "25.06",
         "26.8",
         "1",
         "HATE",
         "1"
        ],
        [
         "41",
         " Fuck all those niggers",
         "hate_video_3",
         "26.8",
         "28.48",
         "1",
         "HATE",
         "1"
        ],
        [
         "42",
         " Fuck all those niggers",
         "hate_video_3",
         "28.48",
         "30.2",
         "1",
         "HATE",
         "1"
        ],
        [
         "43",
         " Fuck all those niggers",
         "hate_video_3",
         "30.2",
         "31.9",
         "1",
         "HATE",
         "1"
        ],
        [
         "44",
         " Rapping still my shit",
         "hate_video_3",
         "31.9",
         "33.6",
         "1",
         "NON_HATE",
         "0"
        ],
        [
         "45",
         " Rapping still my shit",
         "hate_video_3",
         "33.6",
         "35.18",
         "1",
         "NON_HATE",
         "0"
        ],
        [
         "46",
         " They wanna rap and steal my shit",
         "hate_video_3",
         "35.18",
         "36.92",
         "1",
         "NON_HATE",
         "0"
        ],
        [
         "47",
         " Because they can't get shit",
         "hate_video_3",
         "36.92",
         "38.68",
         "1",
         "NON_HATE",
         "0"
        ],
        [
         "48",
         " Go and get a job",
         "hate_video_3",
         "38.68",
         "40.5",
         "1",
         "NON_HATE",
         "0"
        ],
        [
         "49",
         " Stop trying to rob",
         "hate_video_3",
         "40.5",
         "42.2",
         "1",
         "NON_HATE",
         "0"
        ]
       ],
       "shape": {
        "columns": 7,
        "rows": 32442
       }
      },
      "text/html": [
       "<div>\n",
       "<style scoped>\n",
       "    .dataframe tbody tr th:only-of-type {\n",
       "        vertical-align: middle;\n",
       "    }\n",
       "\n",
       "    .dataframe tbody tr th {\n",
       "        vertical-align: top;\n",
       "    }\n",
       "\n",
       "    .dataframe thead th {\n",
       "        text-align: right;\n",
       "    }\n",
       "</style>\n",
       "<table border=\"1\" class=\"dataframe\">\n",
       "  <thead>\n",
       "    <tr style=\"text-align: right;\">\n",
       "      <th></th>\n",
       "      <th>text</th>\n",
       "      <th>video</th>\n",
       "      <th>start</th>\n",
       "      <th>end</th>\n",
       "      <th>Chunk_hate</th>\n",
       "      <th>predicted_label</th>\n",
       "      <th>predicted_hate</th>\n",
       "    </tr>\n",
       "  </thead>\n",
       "  <tbody>\n",
       "    <tr>\n",
       "      <th>0</th>\n",
       "      <td>The End Thank you. The End</td>\n",
       "      <td>hate_video_1</td>\n",
       "      <td>29.98</td>\n",
       "      <td>94.96</td>\n",
       "      <td>0</td>\n",
       "      <td>NON_HATE</td>\n",
       "      <td>0</td>\n",
       "    </tr>\n",
       "    <tr>\n",
       "      <th>1</th>\n",
       "      <td>I Like Sugar And the NAACP would sure like to...</td>\n",
       "      <td>hate_video_2</td>\n",
       "      <td>5.22</td>\n",
       "      <td>25.44</td>\n",
       "      <td>1</td>\n",
       "      <td>HATE</td>\n",
       "      <td>1</td>\n",
       "    </tr>\n",
       "    <tr>\n",
       "      <th>2</th>\n",
       "      <td>Roses are red and violets are blue and nigger...</td>\n",
       "      <td>hate_video_2</td>\n",
       "      <td>27.42</td>\n",
       "      <td>32.12</td>\n",
       "      <td>1</td>\n",
       "      <td>HATE</td>\n",
       "      <td>1</td>\n",
       "    </tr>\n",
       "    <tr>\n",
       "      <th>3</th>\n",
       "      <td>But they don't mind cause what the heck, you ...</td>\n",
       "      <td>hate_video_2</td>\n",
       "      <td>32.42</td>\n",
       "      <td>37.80</td>\n",
       "      <td>1</td>\n",
       "      <td>NON_HATE</td>\n",
       "      <td>0</td>\n",
       "    </tr>\n",
       "    <tr>\n",
       "      <th>4</th>\n",
       "      <td>No joke, I ain't got a nickel for a coke and ...</td>\n",
       "      <td>hate_video_2</td>\n",
       "      <td>38.34</td>\n",
       "      <td>44.08</td>\n",
       "      <td>1</td>\n",
       "      <td>NON_HATE</td>\n",
       "      <td>0</td>\n",
       "    </tr>\n",
       "    <tr>\n",
       "      <th>...</th>\n",
       "      <td>...</td>\n",
       "      <td>...</td>\n",
       "      <td>...</td>\n",
       "      <td>...</td>\n",
       "      <td>...</td>\n",
       "      <td>...</td>\n",
       "      <td>...</td>\n",
       "    </tr>\n",
       "    <tr>\n",
       "      <th>32437</th>\n",
       "      <td>public opinion on the internet. Israel's fore...</td>\n",
       "      <td>non_hate_video_652</td>\n",
       "      <td>29.40</td>\n",
       "      <td>34.24</td>\n",
       "      <td>0</td>\n",
       "      <td>NON_HATE</td>\n",
       "      <td>0</td>\n",
       "    </tr>\n",
       "    <tr>\n",
       "      <th>32438</th>\n",
       "      <td>so-called trainee diplomats, to skew online p...</td>\n",
       "      <td>non_hate_video_652</td>\n",
       "      <td>34.36</td>\n",
       "      <td>39.92</td>\n",
       "      <td>0</td>\n",
       "      <td>NON_HATE</td>\n",
       "      <td>0</td>\n",
       "    </tr>\n",
       "    <tr>\n",
       "      <th>32439</th>\n",
       "      <td>line. This is an organized effort using, quot...</td>\n",
       "      <td>non_hate_video_652</td>\n",
       "      <td>39.92</td>\n",
       "      <td>55.12</td>\n",
       "      <td>0</td>\n",
       "      <td>NON_HATE</td>\n",
       "      <td>0</td>\n",
       "    </tr>\n",
       "    <tr>\n",
       "      <th>32440</th>\n",
       "      <td>They already were able to remove my If Americ...</td>\n",
       "      <td>non_hate_video_652</td>\n",
       "      <td>55.24</td>\n",
       "      <td>59.82</td>\n",
       "      <td>0</td>\n",
       "      <td>NON_HATE</td>\n",
       "      <td>0</td>\n",
       "    </tr>\n",
       "    <tr>\n",
       "      <th>32441</th>\n",
       "      <td>Please take a look at that.</td>\n",
       "      <td>non_hate_video_652</td>\n",
       "      <td>60.04</td>\n",
       "      <td>61.12</td>\n",
       "      <td>0</td>\n",
       "      <td>NON_HATE</td>\n",
       "      <td>0</td>\n",
       "    </tr>\n",
       "  </tbody>\n",
       "</table>\n",
       "<p>32442 rows × 7 columns</p>\n",
       "</div>"
      ],
      "text/plain": [
       "                                                    text               video  \\\n",
       "0                             The End Thank you. The End        hate_video_1   \n",
       "1       I Like Sugar And the NAACP would sure like to...        hate_video_2   \n",
       "2       Roses are red and violets are blue and nigger...        hate_video_2   \n",
       "3       But they don't mind cause what the heck, you ...        hate_video_2   \n",
       "4       No joke, I ain't got a nickel for a coke and ...        hate_video_2   \n",
       "...                                                  ...                 ...   \n",
       "32437   public opinion on the internet. Israel's fore...  non_hate_video_652   \n",
       "32438   so-called trainee diplomats, to skew online p...  non_hate_video_652   \n",
       "32439   line. This is an organized effort using, quot...  non_hate_video_652   \n",
       "32440   They already were able to remove my If Americ...  non_hate_video_652   \n",
       "32441                        Please take a look at that.  non_hate_video_652   \n",
       "\n",
       "       start    end  Chunk_hate predicted_label  predicted_hate  \n",
       "0      29.98  94.96           0        NON_HATE               0  \n",
       "1       5.22  25.44           1            HATE               1  \n",
       "2      27.42  32.12           1            HATE               1  \n",
       "3      32.42  37.80           1        NON_HATE               0  \n",
       "4      38.34  44.08           1        NON_HATE               0  \n",
       "...      ...    ...         ...             ...             ...  \n",
       "32437  29.40  34.24           0        NON_HATE               0  \n",
       "32438  34.36  39.92           0        NON_HATE               0  \n",
       "32439  39.92  55.12           0        NON_HATE               0  \n",
       "32440  55.24  59.82           0        NON_HATE               0  \n",
       "32441  60.04  61.12           0        NON_HATE               0  \n",
       "\n",
       "[32442 rows x 7 columns]"
      ]
     },
     "execution_count": 21,
     "metadata": {},
     "output_type": "execute_result"
    }
   ],
   "source": [
    "new_df_chunks"
   ]
  },
  {
   "cell_type": "code",
   "execution_count": null,
   "id": "0d7b352f",
   "metadata": {},
   "outputs": [],
   "source": []
  }
 ],
 "metadata": {
  "kernelspec": {
   "display_name": "data_process",
   "language": "python",
   "name": "python3"
  },
  "language_info": {
   "codemirror_mode": {
    "name": "ipython",
    "version": 3
   },
   "file_extension": ".py",
   "mimetype": "text/x-python",
   "name": "python",
   "nbconvert_exporter": "python",
   "pygments_lexer": "ipython3",
   "version": "3.11.11"
  }
 },
 "nbformat": 4,
 "nbformat_minor": 5
}
