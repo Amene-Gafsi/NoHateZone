{
 "cells": [
  {
   "cell_type": "code",
   "execution_count": 5,
   "id": "1920bee7",
   "metadata": {},
   "outputs": [
    {
     "name": "stdout",
     "output_type": "stream",
     "text": [
      "The autoreload extension is already loaded. To reload it, use:\n",
      "  %reload_ext autoreload\n"
     ]
    }
   ],
   "source": [
    "%load_ext autoreload\n",
    "%autoreload 2"
   ]
  },
  {
   "cell_type": "code",
   "execution_count": 6,
   "id": "fde4f06a",
   "metadata": {},
   "outputs": [],
   "source": [
    "from audio2text import AudioTranscriber # 16sec\n",
    "from utils import extract_audio, extract_frames, create_chunk_dataframe, combine_text\n",
    "import os\n",
    "import pandas as pd\n",
    "from tqdm import tqdm"
   ]
  },
  {
   "cell_type": "code",
   "execution_count": 7,
   "id": "d115c875",
   "metadata": {},
   "outputs": [
    {
     "name": "stderr",
     "output_type": "stream",
     "text": [
      "Special tokens have been added in the vocabulary, make sure the associated word embeddings are fine-tuned or trained.\n"
     ]
    }
   ],
   "source": [
    "transcriber = AudioTranscriber() # 9sec"
   ]
  },
  {
   "cell_type": "code",
   "execution_count": 8,
   "id": "e4c8e20d",
   "metadata": {},
   "outputs": [
    {
     "name": "stderr",
     "output_type": "stream",
     "text": [
      "Processing videos:   0%|          | 0/3 [00:00<?, ?it/s]"
     ]
    },
    {
     "name": "stdout",
     "output_type": "stream",
     "text": [
      "Extracted 95 frames from the video 'hate_video_1.mp4'\n",
      "Success : audio file has been saved to \"c:\\Users\\Mert\\OneDrive\\Desktop\\Deep_Learning_Project\\NoHateZone\\input\\audio\\hate_video_1.mp3\".\n",
      "Extracted audio from the video 'hate_video_1.mp4'\n"
     ]
    },
    {
     "name": "stderr",
     "output_type": "stream",
     "text": [
      "Due to a bug fix in https://github.com/huggingface/transformers/pull/28687 transcription using a multilingual Whisper will default to language detection followed by transcription instead of translation to English.This might be a breaking change for your use case. If you want to instead always translate your audio to English, make sure to pass `language='en'`.\n",
      "Processing videos:  33%|███▎      | 1/3 [00:42<01:24, 42.07s/it]"
     ]
    },
    {
     "name": "stdout",
     "output_type": "stream",
     "text": [
      "Extracted 108 frames from the video 'hate_video_2.mp4'\n",
      "Success : audio file has been saved to \"c:\\Users\\Mert\\OneDrive\\Desktop\\Deep_Learning_Project\\NoHateZone\\input\\audio\\hate_video_2.mp3\".\n",
      "Extracted audio from the video 'hate_video_2.mp4'\n"
     ]
    },
    {
     "name": "stderr",
     "output_type": "stream",
     "text": [
      "Processing videos:  67%|██████▋   | 2/3 [01:59<01:02, 62.81s/it]"
     ]
    },
    {
     "name": "stdout",
     "output_type": "stream",
     "text": [
      "Extracted 193 frames from the video 'hate_video_3.mp4'\n",
      "Success : audio file has been saved to \"c:\\Users\\Mert\\OneDrive\\Desktop\\Deep_Learning_Project\\NoHateZone\\input\\audio\\hate_video_3.mp3\".\n",
      "Extracted audio from the video 'hate_video_3.mp4'\n"
     ]
    },
    {
     "name": "stderr",
     "output_type": "stream",
     "text": [
      "Processing videos: 100%|██████████| 3/3 [04:36<00:00, 92.17s/it] \n"
     ]
    }
   ],
   "source": [
    "# Example functions assumed to be defined:\n",
    "# from your_module import extract_frames, extract_audio, create_chunk_dataframe\n",
    "# And an instance of AudioTranscriber is created as follows:\n",
    "# transcriber = AudioTranscriber(chunk_length=30)\n",
    "\n",
    "# Directories\n",
    "video_dir = \"./input/video\"\n",
    "frames_output_dir = \"./input/frames\"\n",
    "audio_output_dir = \"./input/audio\"\n",
    "\n",
    "# Create output directories if they do not exist\n",
    "os.makedirs(frames_output_dir, exist_ok=True)\n",
    "os.makedirs(audio_output_dir, exist_ok=True)\n",
    "\n",
    "# List video files (adjust extensions as needed)\n",
    "video_extensions = ('.mp4', '.avi', '.mkv')\n",
    "video_files = [f for f in os.listdir(video_dir) if f.lower().endswith(video_extensions)]\n",
    "\n",
    "# Lists to hold DataFrames for frames and audio chunks\n",
    "all_frame_dfs = []\n",
    "all_chunk_dfs = []\n",
    "\n",
    "for idx, video_file in tqdm(enumerate(video_files, start=1), total=len(video_files), desc=\"Processing videos\"):\n",
    "    input_path = os.path.join(video_dir, video_file)\n",
    "    \n",
    "    # Create subfolder for frames of this video\n",
    "    video_frames_dir = os.path.join(frames_output_dir, f\"video_{idx}\")\n",
    "    os.makedirs(video_frames_dir, exist_ok=True)\n",
    "    \n",
    "    # --- Extract Frames ---\n",
    "    frame_count, frame_data = extract_frames(\n",
    "        input_path,\n",
    "        video_frames_dir,\n",
    "        video_index=idx,\n",
    "        frequency=30  # Adjust extraction frequency if needed\n",
    "    )\n",
    "    print(f\"Extracted {frame_count} frames from the video '{video_file}'\")\n",
    "    \n",
    "    # Modify frame_data: create a 'video' column in the format \"video_1_frame2342.jpg\"\n",
    "    # Assumes that frame_data has a column \"frame_number\" (the frame id)\n",
    "    frame_data[\"video\"] = frame_data[\"frame_number\"].apply(\n",
    "        lambda f: f\"video_{idx}_frame{f}.jpg\"\n",
    "    )\n",
    "\n",
    "    frame_data = frame_data[[\"timestamp_seconds\", \"video\",\"frame_number\"]]\n",
    "    all_frame_dfs.append(frame_data)\n",
    "    \n",
    "    # --- Extract Audio ---\n",
    "    # Here we assume extract_audio writes an audio file for each video to audio_output_dir.\n",
    "    # For example, it might create a file named \"hate_video_{idx}.mp3\".\n",
    "    extract_audio(\n",
    "        input_path=input_path,\n",
    "        output_dir=audio_output_dir\n",
    "    )\n",
    "    print(f\"Extracted audio from the video '{video_file}'\")\n",
    "    \n",
    "    # Adjust the input_audio to reflect the actual extracted audio filename.\n",
    "    # Here, if extract_audio creates \"hate_video_{idx}.mp3\":\n",
    "    audio_file = os.path.join(audio_output_dir, f\"hate_video_{idx}.mp3\")\n",
    "    \n",
    "    # --- Transcribe Audio & Process Chunks ---\n",
    "    sentence_result = transcriber.transcribe_audio(\n",
    "        input_audio=audio_file,    # Use the actual audio file path for this video\n",
    "        return_timestamps=True      # Use chunk-level timestamps\n",
    "    )\n",
    "    # Extract segmentation info (list of dicts with keys: \"text\", \"start\", \"end\")\n",
    "    chunk_info = transcriber.extract_segments_with_timestamps(sentence_result)\n",
    "    # Create a DataFrame for these chunks\n",
    "    chunk_df = create_chunk_dataframe(chunk_info)\n",
    "    # Add video ID column to chunk_df, e.g., \"video_1\"\n",
    "    chunk_df[\"video\"] = f\"video_{idx}\"\n",
    "\n",
    "    all_chunk_dfs.append(chunk_df)\n"
   ]
  },
  {
   "cell_type": "code",
   "execution_count": 9,
   "id": "9b7bc08a",
   "metadata": {},
   "outputs": [
    {
     "name": "stdout",
     "output_type": "stream",
     "text": [
      "Combined Frames DataFrame:\n",
      "   timestamp_seconds                 video  frame_number\n",
      "0              0.000    video_1_frame0.jpg             0\n",
      "1              1.001   video_1_frame30.jpg            30\n",
      "2              2.002   video_1_frame60.jpg            60\n",
      "3              3.003   video_1_frame90.jpg            90\n",
      "4              4.004  video_1_frame120.jpg           120\n",
      "\n",
      "Combined Audio Chunk DataFrame:\n",
      "        timestamp                                               text    video\n",
      "0    [0.0, 94.96]                         The End Thank you. The End  video_1\n",
      "1    [0.0, 25.44]   I Like Sugar And the NAACP would sure like to...  video_2\n",
      "2  [27.42, 32.12]   Roses are red and violets are blue and nigger...  video_2\n",
      "3   [32.42, 37.8]   But they don't mind cause what the heck, you ...  video_2\n",
      "4  [38.34, 44.08]   No joke, I ain't got a nickel for a coke and ...  video_2\n"
     ]
    }
   ],
   "source": [
    "# Concatenate all DataFrames for frames and for audio chunks respectively\n",
    "combined_frame_df = pd.concat(all_frame_dfs, ignore_index=True)\n",
    "combined_chunk_df = pd.concat(all_chunk_dfs, ignore_index=True)\n",
    "\n",
    "print(\"Combined Frames DataFrame:\")\n",
    "print(combined_frame_df.head())\n",
    "\n",
    "print(\"\\nCombined Audio Chunk DataFrame:\")\n",
    "print(combined_chunk_df.head())"
   ]
  },
  {
   "cell_type": "code",
   "execution_count": 10,
   "id": "a142fc6f",
   "metadata": {},
   "outputs": [
    {
     "data": {
      "application/vnd.microsoft.datawrangler.viewer.v0+json": {
       "columns": [
        {
         "name": "index",
         "rawType": "int64",
         "type": "integer"
        },
        {
         "name": "timestamp",
         "rawType": "object",
         "type": "unknown"
        },
        {
         "name": "text",
         "rawType": "object",
         "type": "string"
        },
        {
         "name": "video",
         "rawType": "object",
         "type": "string"
        }
       ],
       "conversionMethod": "pd.DataFrame",
       "ref": "df151690-2eaf-4cee-b5f6-e99a147e8764",
       "rows": [
        [
         "0",
         "[0.0, 94.96]",
         " The End Thank you. The End",
         "video_1"
        ],
        [
         "1",
         "[0.0, 25.44]",
         " I Like Sugar And the NAACP would sure like to get a hold of nigger hatin' me.",
         "video_2"
        ],
        [
         "2",
         "[27.42, 32.12]",
         " Roses are red and violets are blue and niggers are black, you know that's true.",
         "video_2"
        ],
        [
         "3",
         "[32.42, 37.8]",
         " But they don't mind cause what the heck, you gotta be black to get a welfare check and I'm broke.",
         "video_2"
        ],
        [
         "4",
         "[38.34, 44.08]",
         " No joke, I ain't got a nickel for a coke and I ain't black, you see.",
         "video_2"
        ],
        [
         "5",
         "[44.6, 47.8]",
         " So Uncle Sam won't help poor nigger hatin' me.",
         "video_2"
        ],
        [
         "6",
         "[50.04, 52.04]",
         " Jigaboo, jigaboo, where are you?",
         "video_2"
        ],
        [
         "7",
         "[52.24, 54.68]",
         " I was here in the woodpile watching you.",
         "video_2"
        ],
        [
         "8",
         "[55.04, 57.04]",
         " Jigaboo, jigaboo, come out, no.",
         "video_2"
        ],
        [
         "9",
         "[57.14, 60.44]",
         " So I scared all the white men way down south, you know it.",
         "video_2"
        ],
        [
         "10",
         "[60.86, 64.1]",
         " But I show it, stick your black jet out, and I blow it.",
         "video_2"
        ],
        [
         "11",
         "[67.0, 67.52]",
         " know it. Cause I show it, stick your black jet out and I blow it. And the NAACP can't",
         "video_2"
        ],
        [
         "12",
         "[75.72, 80.96]",
         " keep you away from a little old nigger hatin' me. Mirror, mirror on the wall, who is the blackest of them all? A man named King, it ain't no doubt, and he's causin' lots of trouble",
         "video_2"
        ],
        [
         "13",
         "[80.96, 87.18]",
         " with his baboon mouth. He's a-doin', It's caused by the trouble he's a-brewin'.",
         "video_2"
        ],
        [
         "14",
         "[87.18, 92.84]",
         " And the NAACP can't win if white men stick with nigger hatin' me.",
         "video_2"
        ],
        [
         "15",
         "[94.92, 97.18]",
         " Hey, Mr. President, what do you say?",
         "video_2"
        ],
        [
         "16",
         "[97.58, 99.68]",
         " When are we whites gonna have our day?",
         "video_2"
        ],
        [
         "17",
         "[100.02, 102.32]",
         " The niggers had theirs such a long, long time.",
         "video_2"
        ],
        [
         "18",
         "[102.42, 104.88]",
         " I'm a-white and it's time that I have mine.",
         "video_2"
        ],
        [
         "19",
         "[104.96, 106.86]",
         " You know it, cause I show it.",
         "video_2"
        ],
        [
         "20",
         "[107.34, 109.34]",
         " Stick it right, get out and I'll blow it.",
         "video_2"
        ],
        [
         "21",
         "[109.86, 115.52]",
         " And the NAACP can't win if a white man stick with nigger hatin' me.",
         "video_2"
        ],
        [
         "22",
         "[116.98, 118.16]",
         " Nigger hatin' me.",
         "video_2"
        ],
        [
         "23",
         "[119.5, 120.66]",
         " Nigger hatin' me.",
         "video_2"
        ],
        [
         "24",
         "[122.0, 123.16]",
         " Nigger hatin' me.",
         "video_2"
        ],
        [
         "25",
         "[124.52, 125.62]",
         " Nigger hatin' me.",
         "video_2"
        ],
        [
         "26",
         "[0.0, 2.0]",
         " I simply must get through!",
         "video_3"
        ],
        [
         "27",
         "[2.0, 4.0]",
         " Sorry, you're much too big!",
         "video_3"
        ],
        [
         "28",
         "[4.0, 5.0]",
         " Yeah man!",
         "video_3"
        ],
        [
         "29",
         "[5.0, 7.0]",
         " Bobby two pistols in his bitch!",
         "video_3"
        ],
        [
         "30",
         "[7.0, 8.0]",
         " Yeah man!",
         "video_3"
        ],
        [
         "31",
         "[8.0, 10.0]",
         " Fuck all those niggers man!",
         "video_3"
        ],
        [
         "32",
         "[10.0, 12.0]",
         " Martin Luther King deserved to be killed!",
         "video_3"
        ],
        [
         "33",
         "[12.0, 14.0]",
         " And fuck your nigger!",
         "video_3"
        ],
        [
         "34",
         "[14.0, 16.0]",
         " Just grab and steal your shit man!",
         "video_3"
        ],
        [
         "35",
         "[16.0, 18.0]",
         " Fuck those niggers man!",
         "video_3"
        ],
        [
         "36",
         "[18.0, 20.0]",
         " Fuck all niggers!",
         "video_3"
        ],
        [
         "37",
         "[20.0, 22.0]",
         " Fuck all niggers!",
         "video_3"
        ],
        [
         "38",
         "[22.0, 24.0]",
         " Fuck all niggers!",
         "video_3"
        ],
        [
         "39",
         "[24.0, 25.06]",
         " Fuck all niggers! Fuck all those niggers Fuck all niggers Fuck all niggers",
         "video_3"
        ],
        [
         "40",
         "[25.06, 26.8]",
         " Fuck all those niggers",
         "video_3"
        ],
        [
         "41",
         "[26.8, 28.48]",
         " Fuck all those niggers",
         "video_3"
        ],
        [
         "42",
         "[28.48, 30.2]",
         " Fuck all those niggers",
         "video_3"
        ],
        [
         "43",
         "[30.2, 31.9]",
         " Fuck all those niggers",
         "video_3"
        ],
        [
         "44",
         "[31.9, 33.6]",
         " Rapping still my shit",
         "video_3"
        ],
        [
         "45",
         "[33.6, 35.18]",
         " Rapping still my shit",
         "video_3"
        ],
        [
         "46",
         "[35.18, 36.92]",
         " They wanna rap and steal my shit",
         "video_3"
        ],
        [
         "47",
         "[36.92, 38.68]",
         " Because they can't get shit",
         "video_3"
        ],
        [
         "48",
         "[38.68, 40.5]",
         " Go and get a job",
         "video_3"
        ],
        [
         "49",
         "[40.5, 42.2]",
         " Stop trying to rob",
         "video_3"
        ]
       ],
       "shape": {
        "columns": 3,
        "rows": 103
       }
      },
      "text/html": [
       "<div>\n",
       "<style scoped>\n",
       "    .dataframe tbody tr th:only-of-type {\n",
       "        vertical-align: middle;\n",
       "    }\n",
       "\n",
       "    .dataframe tbody tr th {\n",
       "        vertical-align: top;\n",
       "    }\n",
       "\n",
       "    .dataframe thead th {\n",
       "        text-align: right;\n",
       "    }\n",
       "</style>\n",
       "<table border=\"1\" class=\"dataframe\">\n",
       "  <thead>\n",
       "    <tr style=\"text-align: right;\">\n",
       "      <th></th>\n",
       "      <th>timestamp</th>\n",
       "      <th>text</th>\n",
       "      <th>video</th>\n",
       "    </tr>\n",
       "  </thead>\n",
       "  <tbody>\n",
       "    <tr>\n",
       "      <th>0</th>\n",
       "      <td>[0.0, 94.96]</td>\n",
       "      <td>The End Thank you. The End</td>\n",
       "      <td>video_1</td>\n",
       "    </tr>\n",
       "    <tr>\n",
       "      <th>1</th>\n",
       "      <td>[0.0, 25.44]</td>\n",
       "      <td>I Like Sugar And the NAACP would sure like to...</td>\n",
       "      <td>video_2</td>\n",
       "    </tr>\n",
       "    <tr>\n",
       "      <th>2</th>\n",
       "      <td>[27.42, 32.12]</td>\n",
       "      <td>Roses are red and violets are blue and nigger...</td>\n",
       "      <td>video_2</td>\n",
       "    </tr>\n",
       "    <tr>\n",
       "      <th>3</th>\n",
       "      <td>[32.42, 37.8]</td>\n",
       "      <td>But they don't mind cause what the heck, you ...</td>\n",
       "      <td>video_2</td>\n",
       "    </tr>\n",
       "    <tr>\n",
       "      <th>4</th>\n",
       "      <td>[38.34, 44.08]</td>\n",
       "      <td>No joke, I ain't got a nickel for a coke and ...</td>\n",
       "      <td>video_2</td>\n",
       "    </tr>\n",
       "    <tr>\n",
       "      <th>...</th>\n",
       "      <td>...</td>\n",
       "      <td>...</td>\n",
       "      <td>...</td>\n",
       "    </tr>\n",
       "    <tr>\n",
       "      <th>98</th>\n",
       "      <td>[198.68, 202.76]</td>\n",
       "      <td>Bitch, clean my car while I drink lemonade.</td>\n",
       "      <td>video_3</td>\n",
       "    </tr>\n",
       "    <tr>\n",
       "      <th>99</th>\n",
       "      <td>[202.76, 203.96]</td>\n",
       "      <td>Ya fuckin' slave.</td>\n",
       "      <td>video_3</td>\n",
       "    </tr>\n",
       "    <tr>\n",
       "      <th>100</th>\n",
       "      <td>[203.96, 205.12]</td>\n",
       "      <td>Melvin on the beat</td>\n",
       "      <td>video_3</td>\n",
       "    </tr>\n",
       "    <tr>\n",
       "      <th>101</th>\n",
       "      <td>[205.12, 208.56]</td>\n",
       "      <td>Buy me two pistols man, fuck all those nigger...</td>\n",
       "      <td>video_3</td>\n",
       "    </tr>\n",
       "    <tr>\n",
       "      <th>102</th>\n",
       "      <td>[208.56, 231.12]</td>\n",
       "      <td>Real nigger anthem Продолжение следует...</td>\n",
       "      <td>video_3</td>\n",
       "    </tr>\n",
       "  </tbody>\n",
       "</table>\n",
       "<p>103 rows × 3 columns</p>\n",
       "</div>"
      ],
      "text/plain": [
       "            timestamp                                               text  \\\n",
       "0        [0.0, 94.96]                         The End Thank you. The End   \n",
       "1        [0.0, 25.44]   I Like Sugar And the NAACP would sure like to...   \n",
       "2      [27.42, 32.12]   Roses are red and violets are blue and nigger...   \n",
       "3       [32.42, 37.8]   But they don't mind cause what the heck, you ...   \n",
       "4      [38.34, 44.08]   No joke, I ain't got a nickel for a coke and ...   \n",
       "..                ...                                                ...   \n",
       "98   [198.68, 202.76]        Bitch, clean my car while I drink lemonade.   \n",
       "99   [202.76, 203.96]                                  Ya fuckin' slave.   \n",
       "100  [203.96, 205.12]                                 Melvin on the beat   \n",
       "101  [205.12, 208.56]   Buy me two pistols man, fuck all those nigger...   \n",
       "102  [208.56, 231.12]          Real nigger anthem Продолжение следует...   \n",
       "\n",
       "       video  \n",
       "0    video_1  \n",
       "1    video_2  \n",
       "2    video_2  \n",
       "3    video_2  \n",
       "4    video_2  \n",
       "..       ...  \n",
       "98   video_3  \n",
       "99   video_3  \n",
       "100  video_3  \n",
       "101  video_3  \n",
       "102  video_3  \n",
       "\n",
       "[103 rows x 3 columns]"
      ]
     },
     "execution_count": 10,
     "metadata": {},
     "output_type": "execute_result"
    }
   ],
   "source": [
    "combined_chunk_df"
   ]
  },
  {
   "cell_type": "code",
   "execution_count": 11,
   "id": "77c4890b",
   "metadata": {},
   "outputs": [
    {
     "data": {
      "application/vnd.microsoft.datawrangler.viewer.v0+json": {
       "columns": [
        {
         "name": "index",
         "rawType": "int64",
         "type": "integer"
        },
        {
         "name": "timestamp_seconds",
         "rawType": "float64",
         "type": "float"
        },
        {
         "name": "video",
         "rawType": "object",
         "type": "string"
        },
        {
         "name": "frame_number",
         "rawType": "int64",
         "type": "integer"
        }
       ],
       "conversionMethod": "pd.DataFrame",
       "ref": "d8763f85-a71e-4208-be5b-2bc8e1a7b94c",
       "rows": [
        [
         "0",
         "0.0",
         "video_1_frame0.jpg",
         "0"
        ],
        [
         "1",
         "1.0010000000000001",
         "video_1_frame30.jpg",
         "30"
        ],
        [
         "2",
         "2.0020000000000002",
         "video_1_frame60.jpg",
         "60"
        ],
        [
         "3",
         "3.003",
         "video_1_frame90.jpg",
         "90"
        ],
        [
         "4",
         "4.0040000000000004",
         "video_1_frame120.jpg",
         "120"
        ],
        [
         "5",
         "5.005",
         "video_1_frame150.jpg",
         "150"
        ],
        [
         "6",
         "6.006",
         "video_1_frame180.jpg",
         "180"
        ],
        [
         "7",
         "7.007000000000001",
         "video_1_frame210.jpg",
         "210"
        ],
        [
         "8",
         "8.008000000000001",
         "video_1_frame240.jpg",
         "240"
        ],
        [
         "9",
         "9.009",
         "video_1_frame270.jpg",
         "270"
        ],
        [
         "10",
         "10.01",
         "video_1_frame300.jpg",
         "300"
        ],
        [
         "11",
         "11.011000000000001",
         "video_1_frame330.jpg",
         "330"
        ],
        [
         "12",
         "12.012",
         "video_1_frame360.jpg",
         "360"
        ],
        [
         "13",
         "13.013",
         "video_1_frame390.jpg",
         "390"
        ],
        [
         "14",
         "14.014000000000001",
         "video_1_frame420.jpg",
         "420"
        ],
        [
         "15",
         "15.015",
         "video_1_frame450.jpg",
         "450"
        ],
        [
         "16",
         "16.016000000000002",
         "video_1_frame480.jpg",
         "480"
        ],
        [
         "17",
         "17.017",
         "video_1_frame510.jpg",
         "510"
        ],
        [
         "18",
         "18.018",
         "video_1_frame540.jpg",
         "540"
        ],
        [
         "19",
         "19.019000000000002",
         "video_1_frame570.jpg",
         "570"
        ],
        [
         "20",
         "20.02",
         "video_1_frame600.jpg",
         "600"
        ],
        [
         "21",
         "21.021",
         "video_1_frame630.jpg",
         "630"
        ],
        [
         "22",
         "22.022000000000002",
         "video_1_frame660.jpg",
         "660"
        ],
        [
         "23",
         "23.023",
         "video_1_frame690.jpg",
         "690"
        ],
        [
         "24",
         "24.024",
         "video_1_frame720.jpg",
         "720"
        ],
        [
         "25",
         "25.025000000000002",
         "video_1_frame750.jpg",
         "750"
        ],
        [
         "26",
         "26.026",
         "video_1_frame780.jpg",
         "780"
        ],
        [
         "27",
         "27.027",
         "video_1_frame810.jpg",
         "810"
        ],
        [
         "28",
         "28.028000000000002",
         "video_1_frame840.jpg",
         "840"
        ],
        [
         "29",
         "29.029",
         "video_1_frame870.jpg",
         "870"
        ],
        [
         "30",
         "30.03",
         "video_1_frame900.jpg",
         "900"
        ],
        [
         "31",
         "31.031",
         "video_1_frame930.jpg",
         "930"
        ],
        [
         "32",
         "32.032000000000004",
         "video_1_frame960.jpg",
         "960"
        ],
        [
         "33",
         "33.033",
         "video_1_frame990.jpg",
         "990"
        ],
        [
         "34",
         "34.034",
         "video_1_frame1020.jpg",
         "1020"
        ],
        [
         "35",
         "35.035000000000004",
         "video_1_frame1050.jpg",
         "1050"
        ],
        [
         "36",
         "36.036",
         "video_1_frame1080.jpg",
         "1080"
        ],
        [
         "37",
         "37.037",
         "video_1_frame1110.jpg",
         "1110"
        ],
        [
         "38",
         "38.038000000000004",
         "video_1_frame1140.jpg",
         "1140"
        ],
        [
         "39",
         "39.039",
         "video_1_frame1170.jpg",
         "1170"
        ],
        [
         "40",
         "40.04",
         "video_1_frame1200.jpg",
         "1200"
        ],
        [
         "41",
         "41.041000000000004",
         "video_1_frame1230.jpg",
         "1230"
        ],
        [
         "42",
         "42.042",
         "video_1_frame1260.jpg",
         "1260"
        ],
        [
         "43",
         "43.043",
         "video_1_frame1290.jpg",
         "1290"
        ],
        [
         "44",
         "44.044000000000004",
         "video_1_frame1320.jpg",
         "1320"
        ],
        [
         "45",
         "45.045",
         "video_1_frame1350.jpg",
         "1350"
        ],
        [
         "46",
         "46.046",
         "video_1_frame1380.jpg",
         "1380"
        ],
        [
         "47",
         "47.047000000000004",
         "video_1_frame1410.jpg",
         "1410"
        ],
        [
         "48",
         "48.048",
         "video_1_frame1440.jpg",
         "1440"
        ],
        [
         "49",
         "49.049",
         "video_1_frame1470.jpg",
         "1470"
        ]
       ],
       "shape": {
        "columns": 3,
        "rows": 396
       }
      },
      "text/html": [
       "<div>\n",
       "<style scoped>\n",
       "    .dataframe tbody tr th:only-of-type {\n",
       "        vertical-align: middle;\n",
       "    }\n",
       "\n",
       "    .dataframe tbody tr th {\n",
       "        vertical-align: top;\n",
       "    }\n",
       "\n",
       "    .dataframe thead th {\n",
       "        text-align: right;\n",
       "    }\n",
       "</style>\n",
       "<table border=\"1\" class=\"dataframe\">\n",
       "  <thead>\n",
       "    <tr style=\"text-align: right;\">\n",
       "      <th></th>\n",
       "      <th>timestamp_seconds</th>\n",
       "      <th>video</th>\n",
       "      <th>frame_number</th>\n",
       "    </tr>\n",
       "  </thead>\n",
       "  <tbody>\n",
       "    <tr>\n",
       "      <th>0</th>\n",
       "      <td>0.000</td>\n",
       "      <td>video_1_frame0.jpg</td>\n",
       "      <td>0</td>\n",
       "    </tr>\n",
       "    <tr>\n",
       "      <th>1</th>\n",
       "      <td>1.001</td>\n",
       "      <td>video_1_frame30.jpg</td>\n",
       "      <td>30</td>\n",
       "    </tr>\n",
       "    <tr>\n",
       "      <th>2</th>\n",
       "      <td>2.002</td>\n",
       "      <td>video_1_frame60.jpg</td>\n",
       "      <td>60</td>\n",
       "    </tr>\n",
       "    <tr>\n",
       "      <th>3</th>\n",
       "      <td>3.003</td>\n",
       "      <td>video_1_frame90.jpg</td>\n",
       "      <td>90</td>\n",
       "    </tr>\n",
       "    <tr>\n",
       "      <th>4</th>\n",
       "      <td>4.004</td>\n",
       "      <td>video_1_frame120.jpg</td>\n",
       "      <td>120</td>\n",
       "    </tr>\n",
       "    <tr>\n",
       "      <th>...</th>\n",
       "      <td>...</td>\n",
       "      <td>...</td>\n",
       "      <td>...</td>\n",
       "    </tr>\n",
       "    <tr>\n",
       "      <th>391</th>\n",
       "      <td>225.600</td>\n",
       "      <td>video_3_frame5640.jpg</td>\n",
       "      <td>5640</td>\n",
       "    </tr>\n",
       "    <tr>\n",
       "      <th>392</th>\n",
       "      <td>226.800</td>\n",
       "      <td>video_3_frame5670.jpg</td>\n",
       "      <td>5670</td>\n",
       "    </tr>\n",
       "    <tr>\n",
       "      <th>393</th>\n",
       "      <td>228.000</td>\n",
       "      <td>video_3_frame5700.jpg</td>\n",
       "      <td>5700</td>\n",
       "    </tr>\n",
       "    <tr>\n",
       "      <th>394</th>\n",
       "      <td>229.200</td>\n",
       "      <td>video_3_frame5730.jpg</td>\n",
       "      <td>5730</td>\n",
       "    </tr>\n",
       "    <tr>\n",
       "      <th>395</th>\n",
       "      <td>230.400</td>\n",
       "      <td>video_3_frame5760.jpg</td>\n",
       "      <td>5760</td>\n",
       "    </tr>\n",
       "  </tbody>\n",
       "</table>\n",
       "<p>396 rows × 3 columns</p>\n",
       "</div>"
      ],
      "text/plain": [
       "     timestamp_seconds                  video  frame_number\n",
       "0                0.000     video_1_frame0.jpg             0\n",
       "1                1.001    video_1_frame30.jpg            30\n",
       "2                2.002    video_1_frame60.jpg            60\n",
       "3                3.003    video_1_frame90.jpg            90\n",
       "4                4.004   video_1_frame120.jpg           120\n",
       "..                 ...                    ...           ...\n",
       "391            225.600  video_3_frame5640.jpg          5640\n",
       "392            226.800  video_3_frame5670.jpg          5670\n",
       "393            228.000  video_3_frame5700.jpg          5700\n",
       "394            229.200  video_3_frame5730.jpg          5730\n",
       "395            230.400  video_3_frame5760.jpg          5760\n",
       "\n",
       "[396 rows x 3 columns]"
      ]
     },
     "execution_count": 11,
     "metadata": {},
     "output_type": "execute_result"
    }
   ],
   "source": [
    "combined_frame_df"
   ]
  },
  {
   "cell_type": "code",
   "execution_count": 12,
   "id": "369f7700",
   "metadata": {},
   "outputs": [
    {
     "data": {
      "application/vnd.microsoft.datawrangler.viewer.v0+json": {
       "columns": [
        {
         "name": "index",
         "rawType": "int64",
         "type": "integer"
        },
        {
         "name": "timestamp_seconds",
         "rawType": "float64",
         "type": "float"
        },
        {
         "name": "video",
         "rawType": "object",
         "type": "string"
        },
        {
         "name": "frame_number",
         "rawType": "int64",
         "type": "integer"
        },
        {
         "name": "text_on_image",
         "rawType": "object",
         "type": "string"
        }
       ],
       "conversionMethod": "pd.DataFrame",
       "ref": "7d804d9e-cd38-427c-94d3-beb4ac0fd913",
       "rows": [
        [
         "0",
         "0.0",
         "video_1_frame0.jpg",
         "0",
         "Hello"
        ],
        [
         "1",
         "1.0010000000000001",
         "video_1_frame30.jpg",
         "30",
         ""
        ],
        [
         "2",
         "2.0020000000000002",
         "video_1_frame60.jpg",
         "60",
         "World"
        ],
        [
         "3",
         "3.003",
         "video_1_frame90.jpg",
         "90",
         ""
        ],
        [
         "4",
         "4.0040000000000004",
         "video_1_frame120.jpg",
         "120",
         ""
        ],
        [
         "5",
         "5.005",
         "video_1_frame150.jpg",
         "150",
         ""
        ],
        [
         "6",
         "6.006",
         "video_1_frame180.jpg",
         "180",
         ""
        ],
        [
         "7",
         "7.007000000000001",
         "video_1_frame210.jpg",
         "210",
         "LOL,that guy is crazy!"
        ],
        [
         "8",
         "8.008000000000001",
         "video_1_frame240.jpg",
         "240",
         ""
        ],
        [
         "9",
         "9.009",
         "video_1_frame270.jpg",
         "270",
         ""
        ]
       ],
       "shape": {
        "columns": 4,
        "rows": 10
       }
      },
      "text/html": [
       "<div>\n",
       "<style scoped>\n",
       "    .dataframe tbody tr th:only-of-type {\n",
       "        vertical-align: middle;\n",
       "    }\n",
       "\n",
       "    .dataframe tbody tr th {\n",
       "        vertical-align: top;\n",
       "    }\n",
       "\n",
       "    .dataframe thead th {\n",
       "        text-align: right;\n",
       "    }\n",
       "</style>\n",
       "<table border=\"1\" class=\"dataframe\">\n",
       "  <thead>\n",
       "    <tr style=\"text-align: right;\">\n",
       "      <th></th>\n",
       "      <th>timestamp_seconds</th>\n",
       "      <th>video</th>\n",
       "      <th>frame_number</th>\n",
       "      <th>text_on_image</th>\n",
       "    </tr>\n",
       "  </thead>\n",
       "  <tbody>\n",
       "    <tr>\n",
       "      <th>0</th>\n",
       "      <td>0.000</td>\n",
       "      <td>video_1_frame0.jpg</td>\n",
       "      <td>0</td>\n",
       "      <td>Hello</td>\n",
       "    </tr>\n",
       "    <tr>\n",
       "      <th>1</th>\n",
       "      <td>1.001</td>\n",
       "      <td>video_1_frame30.jpg</td>\n",
       "      <td>30</td>\n",
       "      <td></td>\n",
       "    </tr>\n",
       "    <tr>\n",
       "      <th>2</th>\n",
       "      <td>2.002</td>\n",
       "      <td>video_1_frame60.jpg</td>\n",
       "      <td>60</td>\n",
       "      <td>World</td>\n",
       "    </tr>\n",
       "    <tr>\n",
       "      <th>3</th>\n",
       "      <td>3.003</td>\n",
       "      <td>video_1_frame90.jpg</td>\n",
       "      <td>90</td>\n",
       "      <td></td>\n",
       "    </tr>\n",
       "    <tr>\n",
       "      <th>4</th>\n",
       "      <td>4.004</td>\n",
       "      <td>video_1_frame120.jpg</td>\n",
       "      <td>120</td>\n",
       "      <td></td>\n",
       "    </tr>\n",
       "    <tr>\n",
       "      <th>5</th>\n",
       "      <td>5.005</td>\n",
       "      <td>video_1_frame150.jpg</td>\n",
       "      <td>150</td>\n",
       "      <td></td>\n",
       "    </tr>\n",
       "    <tr>\n",
       "      <th>6</th>\n",
       "      <td>6.006</td>\n",
       "      <td>video_1_frame180.jpg</td>\n",
       "      <td>180</td>\n",
       "      <td></td>\n",
       "    </tr>\n",
       "    <tr>\n",
       "      <th>7</th>\n",
       "      <td>7.007</td>\n",
       "      <td>video_1_frame210.jpg</td>\n",
       "      <td>210</td>\n",
       "      <td>LOL,that guy is crazy!</td>\n",
       "    </tr>\n",
       "    <tr>\n",
       "      <th>8</th>\n",
       "      <td>8.008</td>\n",
       "      <td>video_1_frame240.jpg</td>\n",
       "      <td>240</td>\n",
       "      <td></td>\n",
       "    </tr>\n",
       "    <tr>\n",
       "      <th>9</th>\n",
       "      <td>9.009</td>\n",
       "      <td>video_1_frame270.jpg</td>\n",
       "      <td>270</td>\n",
       "      <td></td>\n",
       "    </tr>\n",
       "  </tbody>\n",
       "</table>\n",
       "</div>"
      ],
      "text/plain": [
       "   timestamp_seconds                 video  frame_number  \\\n",
       "0              0.000    video_1_frame0.jpg             0   \n",
       "1              1.001   video_1_frame30.jpg            30   \n",
       "2              2.002   video_1_frame60.jpg            60   \n",
       "3              3.003   video_1_frame90.jpg            90   \n",
       "4              4.004  video_1_frame120.jpg           120   \n",
       "5              5.005  video_1_frame150.jpg           150   \n",
       "6              6.006  video_1_frame180.jpg           180   \n",
       "7              7.007  video_1_frame210.jpg           210   \n",
       "8              8.008  video_1_frame240.jpg           240   \n",
       "9              9.009  video_1_frame270.jpg           270   \n",
       "\n",
       "            text_on_image  \n",
       "0                   Hello  \n",
       "1                          \n",
       "2                   World  \n",
       "3                          \n",
       "4                          \n",
       "5                          \n",
       "6                          \n",
       "7  LOL,that guy is crazy!  \n",
       "8                          \n",
       "9                          "
      ]
     },
     "execution_count": 12,
     "metadata": {},
     "output_type": "execute_result"
    }
   ],
   "source": [
    "#Test with texts on the images\n",
    "# add a column called text_on_image which is a list [\"Hello\",\"\",\"World\",\"\",\"\",\"\",\"\",\"LOL,that guy is crazy!\",...] fill the rest with empty strings\n",
    "combined_frame_df[\"text_on_image\"] = [\n",
    "    \"Hello\", \"\", \"World\", \"\", \"\", \"\", \"\", \"LOL,that guy is crazy!\"\n",
    "] + [\"\"] * (len(combined_frame_df) - 8)\n",
    "\n",
    "\n",
    "combined_frame_df.head(10)\n"
   ]
  },
  {
   "cell_type": "code",
   "execution_count": 13,
   "id": "9d803c68",
   "metadata": {},
   "outputs": [
    {
     "data": {
      "application/vnd.microsoft.datawrangler.viewer.v0+json": {
       "columns": [
        {
         "name": "index",
         "rawType": "int64",
         "type": "integer"
        },
        {
         "name": "timestamp",
         "rawType": "object",
         "type": "unknown"
        },
        {
         "name": "text",
         "rawType": "object",
         "type": "string"
        },
        {
         "name": "video",
         "rawType": "object",
         "type": "string"
        }
       ],
       "conversionMethod": "pd.DataFrame",
       "ref": "d4c12382-2da1-478d-8c76-58fbb8c04ca9",
       "rows": [
        [
         "0",
         "[0.0, 94.96]",
         " The End Thank you. The End",
         "video_1"
        ],
        [
         "1",
         "[0.0, 25.44]",
         " I Like Sugar And the NAACP would sure like to get a hold of nigger hatin' me.",
         "video_2"
        ],
        [
         "2",
         "[27.42, 32.12]",
         " Roses are red and violets are blue and niggers are black, you know that's true.",
         "video_2"
        ],
        [
         "3",
         "[32.42, 37.8]",
         " But they don't mind cause what the heck, you gotta be black to get a welfare check and I'm broke.",
         "video_2"
        ],
        [
         "4",
         "[38.34, 44.08]",
         " No joke, I ain't got a nickel for a coke and I ain't black, you see.",
         "video_2"
        ],
        [
         "5",
         "[44.6, 47.8]",
         " So Uncle Sam won't help poor nigger hatin' me.",
         "video_2"
        ],
        [
         "6",
         "[50.04, 52.04]",
         " Jigaboo, jigaboo, where are you?",
         "video_2"
        ],
        [
         "7",
         "[52.24, 54.68]",
         " I was here in the woodpile watching you.",
         "video_2"
        ],
        [
         "8",
         "[55.04, 57.04]",
         " Jigaboo, jigaboo, come out, no.",
         "video_2"
        ],
        [
         "9",
         "[57.14, 60.44]",
         " So I scared all the white men way down south, you know it.",
         "video_2"
        ],
        [
         "10",
         "[60.86, 64.1]",
         " But I show it, stick your black jet out, and I blow it.",
         "video_2"
        ],
        [
         "11",
         "[67.0, 67.52]",
         " know it. Cause I show it, stick your black jet out and I blow it. And the NAACP can't",
         "video_2"
        ],
        [
         "12",
         "[75.72, 80.96]",
         " keep you away from a little old nigger hatin' me. Mirror, mirror on the wall, who is the blackest of them all? A man named King, it ain't no doubt, and he's causin' lots of trouble",
         "video_2"
        ],
        [
         "13",
         "[80.96, 87.18]",
         " with his baboon mouth. He's a-doin', It's caused by the trouble he's a-brewin'.",
         "video_2"
        ],
        [
         "14",
         "[87.18, 92.84]",
         " And the NAACP can't win if white men stick with nigger hatin' me.",
         "video_2"
        ],
        [
         "15",
         "[94.92, 97.18]",
         " Hey, Mr. President, what do you say?",
         "video_2"
        ],
        [
         "16",
         "[97.58, 99.68]",
         " When are we whites gonna have our day?",
         "video_2"
        ],
        [
         "17",
         "[100.02, 102.32]",
         " The niggers had theirs such a long, long time.",
         "video_2"
        ],
        [
         "18",
         "[102.42, 104.88]",
         " I'm a-white and it's time that I have mine.",
         "video_2"
        ],
        [
         "19",
         "[104.96, 106.86]",
         " You know it, cause I show it.",
         "video_2"
        ],
        [
         "20",
         "[107.34, 109.34]",
         " Stick it right, get out and I'll blow it.",
         "video_2"
        ],
        [
         "21",
         "[109.86, 115.52]",
         " And the NAACP can't win if a white man stick with nigger hatin' me.",
         "video_2"
        ],
        [
         "22",
         "[116.98, 118.16]",
         " Nigger hatin' me.",
         "video_2"
        ],
        [
         "23",
         "[119.5, 120.66]",
         " Nigger hatin' me.",
         "video_2"
        ],
        [
         "24",
         "[122.0, 123.16]",
         " Nigger hatin' me.",
         "video_2"
        ],
        [
         "25",
         "[124.52, 125.62]",
         " Nigger hatin' me.",
         "video_2"
        ],
        [
         "26",
         "[0.0, 2.0]",
         " I simply must get through!",
         "video_3"
        ],
        [
         "27",
         "[2.0, 4.0]",
         " Sorry, you're much too big!",
         "video_3"
        ],
        [
         "28",
         "[4.0, 5.0]",
         " Yeah man!",
         "video_3"
        ],
        [
         "29",
         "[5.0, 7.0]",
         " Bobby two pistols in his bitch!",
         "video_3"
        ],
        [
         "30",
         "[7.0, 8.0]",
         " Yeah man!",
         "video_3"
        ],
        [
         "31",
         "[8.0, 10.0]",
         " Fuck all those niggers man!",
         "video_3"
        ],
        [
         "32",
         "[10.0, 12.0]",
         " Martin Luther King deserved to be killed!",
         "video_3"
        ],
        [
         "33",
         "[12.0, 14.0]",
         " And fuck your nigger!",
         "video_3"
        ],
        [
         "34",
         "[14.0, 16.0]",
         " Just grab and steal your shit man!",
         "video_3"
        ],
        [
         "35",
         "[16.0, 18.0]",
         " Fuck those niggers man!",
         "video_3"
        ],
        [
         "36",
         "[18.0, 20.0]",
         " Fuck all niggers!",
         "video_3"
        ],
        [
         "37",
         "[20.0, 22.0]",
         " Fuck all niggers!",
         "video_3"
        ],
        [
         "38",
         "[22.0, 24.0]",
         " Fuck all niggers!",
         "video_3"
        ],
        [
         "39",
         "[24.0, 25.06]",
         " Fuck all niggers! Fuck all those niggers Fuck all niggers Fuck all niggers",
         "video_3"
        ],
        [
         "40",
         "[25.06, 26.8]",
         " Fuck all those niggers",
         "video_3"
        ],
        [
         "41",
         "[26.8, 28.48]",
         " Fuck all those niggers",
         "video_3"
        ],
        [
         "42",
         "[28.48, 30.2]",
         " Fuck all those niggers",
         "video_3"
        ],
        [
         "43",
         "[30.2, 31.9]",
         " Fuck all those niggers",
         "video_3"
        ],
        [
         "44",
         "[31.9, 33.6]",
         " Rapping still my shit",
         "video_3"
        ],
        [
         "45",
         "[33.6, 35.18]",
         " Rapping still my shit",
         "video_3"
        ],
        [
         "46",
         "[35.18, 36.92]",
         " They wanna rap and steal my shit",
         "video_3"
        ],
        [
         "47",
         "[36.92, 38.68]",
         " Because they can't get shit",
         "video_3"
        ],
        [
         "48",
         "[38.68, 40.5]",
         " Go and get a job",
         "video_3"
        ],
        [
         "49",
         "[40.5, 42.2]",
         " Stop trying to rob",
         "video_3"
        ]
       ],
       "shape": {
        "columns": 3,
        "rows": 103
       }
      },
      "text/html": [
       "<div>\n",
       "<style scoped>\n",
       "    .dataframe tbody tr th:only-of-type {\n",
       "        vertical-align: middle;\n",
       "    }\n",
       "\n",
       "    .dataframe tbody tr th {\n",
       "        vertical-align: top;\n",
       "    }\n",
       "\n",
       "    .dataframe thead th {\n",
       "        text-align: right;\n",
       "    }\n",
       "</style>\n",
       "<table border=\"1\" class=\"dataframe\">\n",
       "  <thead>\n",
       "    <tr style=\"text-align: right;\">\n",
       "      <th></th>\n",
       "      <th>timestamp</th>\n",
       "      <th>text</th>\n",
       "      <th>video</th>\n",
       "    </tr>\n",
       "  </thead>\n",
       "  <tbody>\n",
       "    <tr>\n",
       "      <th>0</th>\n",
       "      <td>[0.0, 94.96]</td>\n",
       "      <td>The End Thank you. The End</td>\n",
       "      <td>video_1</td>\n",
       "    </tr>\n",
       "    <tr>\n",
       "      <th>1</th>\n",
       "      <td>[0.0, 25.44]</td>\n",
       "      <td>I Like Sugar And the NAACP would sure like to...</td>\n",
       "      <td>video_2</td>\n",
       "    </tr>\n",
       "    <tr>\n",
       "      <th>2</th>\n",
       "      <td>[27.42, 32.12]</td>\n",
       "      <td>Roses are red and violets are blue and nigger...</td>\n",
       "      <td>video_2</td>\n",
       "    </tr>\n",
       "    <tr>\n",
       "      <th>3</th>\n",
       "      <td>[32.42, 37.8]</td>\n",
       "      <td>But they don't mind cause what the heck, you ...</td>\n",
       "      <td>video_2</td>\n",
       "    </tr>\n",
       "    <tr>\n",
       "      <th>4</th>\n",
       "      <td>[38.34, 44.08]</td>\n",
       "      <td>No joke, I ain't got a nickel for a coke and ...</td>\n",
       "      <td>video_2</td>\n",
       "    </tr>\n",
       "    <tr>\n",
       "      <th>...</th>\n",
       "      <td>...</td>\n",
       "      <td>...</td>\n",
       "      <td>...</td>\n",
       "    </tr>\n",
       "    <tr>\n",
       "      <th>98</th>\n",
       "      <td>[198.68, 202.76]</td>\n",
       "      <td>Bitch, clean my car while I drink lemonade.</td>\n",
       "      <td>video_3</td>\n",
       "    </tr>\n",
       "    <tr>\n",
       "      <th>99</th>\n",
       "      <td>[202.76, 203.96]</td>\n",
       "      <td>Ya fuckin' slave.</td>\n",
       "      <td>video_3</td>\n",
       "    </tr>\n",
       "    <tr>\n",
       "      <th>100</th>\n",
       "      <td>[203.96, 205.12]</td>\n",
       "      <td>Melvin on the beat</td>\n",
       "      <td>video_3</td>\n",
       "    </tr>\n",
       "    <tr>\n",
       "      <th>101</th>\n",
       "      <td>[205.12, 208.56]</td>\n",
       "      <td>Buy me two pistols man, fuck all those nigger...</td>\n",
       "      <td>video_3</td>\n",
       "    </tr>\n",
       "    <tr>\n",
       "      <th>102</th>\n",
       "      <td>[208.56, 231.12]</td>\n",
       "      <td>Real nigger anthem Продолжение следует...</td>\n",
       "      <td>video_3</td>\n",
       "    </tr>\n",
       "  </tbody>\n",
       "</table>\n",
       "<p>103 rows × 3 columns</p>\n",
       "</div>"
      ],
      "text/plain": [
       "            timestamp                                               text  \\\n",
       "0        [0.0, 94.96]                         The End Thank you. The End   \n",
       "1        [0.0, 25.44]   I Like Sugar And the NAACP would sure like to...   \n",
       "2      [27.42, 32.12]   Roses are red and violets are blue and nigger...   \n",
       "3       [32.42, 37.8]   But they don't mind cause what the heck, you ...   \n",
       "4      [38.34, 44.08]   No joke, I ain't got a nickel for a coke and ...   \n",
       "..                ...                                                ...   \n",
       "98   [198.68, 202.76]        Bitch, clean my car while I drink lemonade.   \n",
       "99   [202.76, 203.96]                                  Ya fuckin' slave.   \n",
       "100  [203.96, 205.12]                                 Melvin on the beat   \n",
       "101  [205.12, 208.56]   Buy me two pistols man, fuck all those nigger...   \n",
       "102  [208.56, 231.12]          Real nigger anthem Продолжение следует...   \n",
       "\n",
       "       video  \n",
       "0    video_1  \n",
       "1    video_2  \n",
       "2    video_2  \n",
       "3    video_2  \n",
       "4    video_2  \n",
       "..       ...  \n",
       "98   video_3  \n",
       "99   video_3  \n",
       "100  video_3  \n",
       "101  video_3  \n",
       "102  video_3  \n",
       "\n",
       "[103 rows x 3 columns]"
      ]
     },
     "execution_count": 13,
     "metadata": {},
     "output_type": "execute_result"
    }
   ],
   "source": [
    "combined_chunk_df"
   ]
  },
  {
   "cell_type": "code",
   "execution_count": 96,
   "id": "fddce075",
   "metadata": {},
   "outputs": [
    {
     "data": {
      "application/vnd.microsoft.datawrangler.viewer.v0+json": {
       "columns": [
        {
         "name": "index",
         "rawType": "int64",
         "type": "integer"
        },
        {
         "name": "timestamp",
         "rawType": "object",
         "type": "unknown"
        },
        {
         "name": "text",
         "rawType": "object",
         "type": "string"
        },
        {
         "name": "video",
         "rawType": "object",
         "type": "string"
        }
       ],
       "conversionMethod": "pd.DataFrame",
       "ref": "ef0af6a5-edde-4829-b392-d2a740ca3fe1",
       "rows": [
        [
         "0",
         "[0.0, 94.96]",
         " The End Thank you. The End",
         "video_1"
        ],
        [
         "1",
         "[0.0, 25.44]",
         " I Like Sugar And the NAACP would sure like to get a hold of nigger hatin' me.",
         "video_2"
        ],
        [
         "2",
         "[27.42, 32.12]",
         " Roses are red and violets are blue and niggers are black, you know that's true.",
         "video_2"
        ],
        [
         "3",
         "[32.42, 37.8]",
         " But they don't mind cause what the heck, you gotta be black to get a welfare check and I'm broke.",
         "video_2"
        ],
        [
         "4",
         "[38.34, 44.08]",
         " No joke, I ain't got a nickel for a coke and I ain't black, you see.",
         "video_2"
        ]
       ],
       "shape": {
        "columns": 3,
        "rows": 5
       }
      },
      "text/html": [
       "<div>\n",
       "<style scoped>\n",
       "    .dataframe tbody tr th:only-of-type {\n",
       "        vertical-align: middle;\n",
       "    }\n",
       "\n",
       "    .dataframe tbody tr th {\n",
       "        vertical-align: top;\n",
       "    }\n",
       "\n",
       "    .dataframe thead th {\n",
       "        text-align: right;\n",
       "    }\n",
       "</style>\n",
       "<table border=\"1\" class=\"dataframe\">\n",
       "  <thead>\n",
       "    <tr style=\"text-align: right;\">\n",
       "      <th></th>\n",
       "      <th>timestamp</th>\n",
       "      <th>text</th>\n",
       "      <th>video</th>\n",
       "    </tr>\n",
       "  </thead>\n",
       "  <tbody>\n",
       "    <tr>\n",
       "      <th>0</th>\n",
       "      <td>[0.0, 94.96]</td>\n",
       "      <td>The End Thank you. The End</td>\n",
       "      <td>video_1</td>\n",
       "    </tr>\n",
       "    <tr>\n",
       "      <th>1</th>\n",
       "      <td>[0.0, 25.44]</td>\n",
       "      <td>I Like Sugar And the NAACP would sure like to...</td>\n",
       "      <td>video_2</td>\n",
       "    </tr>\n",
       "    <tr>\n",
       "      <th>2</th>\n",
       "      <td>[27.42, 32.12]</td>\n",
       "      <td>Roses are red and violets are blue and nigger...</td>\n",
       "      <td>video_2</td>\n",
       "    </tr>\n",
       "    <tr>\n",
       "      <th>3</th>\n",
       "      <td>[32.42, 37.8]</td>\n",
       "      <td>But they don't mind cause what the heck, you ...</td>\n",
       "      <td>video_2</td>\n",
       "    </tr>\n",
       "    <tr>\n",
       "      <th>4</th>\n",
       "      <td>[38.34, 44.08]</td>\n",
       "      <td>No joke, I ain't got a nickel for a coke and ...</td>\n",
       "      <td>video_2</td>\n",
       "    </tr>\n",
       "  </tbody>\n",
       "</table>\n",
       "</div>"
      ],
      "text/plain": [
       "        timestamp                                               text    video\n",
       "0    [0.0, 94.96]                         The End Thank you. The End  video_1\n",
       "1    [0.0, 25.44]   I Like Sugar And the NAACP would sure like to...  video_2\n",
       "2  [27.42, 32.12]   Roses are red and violets are blue and nigger...  video_2\n",
       "3   [32.42, 37.8]   But they don't mind cause what the heck, you ...  video_2\n",
       "4  [38.34, 44.08]   No joke, I ain't got a nickel for a coke and ...  video_2"
      ]
     },
     "execution_count": 96,
     "metadata": {},
     "output_type": "execute_result"
    }
   ],
   "source": [
    "final_df = combined_chunk_df.copy()\n",
    "final_df.head()"
   ]
  },
  {
   "cell_type": "code",
   "execution_count": 97,
   "id": "40e5150f",
   "metadata": {},
   "outputs": [
    {
     "data": {
      "application/vnd.microsoft.datawrangler.viewer.v0+json": {
       "columns": [
        {
         "name": "index",
         "rawType": "int64",
         "type": "integer"
        },
        {
         "name": "timestamp",
         "rawType": "object",
         "type": "unknown"
        },
        {
         "name": "text",
         "rawType": "object",
         "type": "string"
        },
        {
         "name": "video",
         "rawType": "object",
         "type": "string"
        }
       ],
       "conversionMethod": "pd.DataFrame",
       "ref": "0e96e4d4-65df-498a-886d-416406ac6812",
       "rows": [
        [
         "0",
         "[0.0, 94.96]",
         "The End Thank you. The End | Hello | World | LOL,that guy is crazy!",
         "video_1"
        ],
        [
         "1",
         "[0.0, 25.44]",
         "I Like Sugar And the NAACP would sure like to get a hold of nigger hatin' me.",
         "video_2"
        ],
        [
         "2",
         "[27.42, 32.12]",
         "Roses are red and violets are blue and niggers are black, you know that's true.",
         "video_2"
        ],
        [
         "3",
         "[32.42, 37.8]",
         "But they don't mind cause what the heck, you gotta be black to get a welfare check and I'm broke.",
         "video_2"
        ],
        [
         "4",
         "[38.34, 44.08]",
         "No joke, I ain't got a nickel for a coke and I ain't black, you see.",
         "video_2"
        ],
        [
         "5",
         "[44.6, 47.8]",
         "So Uncle Sam won't help poor nigger hatin' me.",
         "video_2"
        ],
        [
         "6",
         "[50.04, 52.04]",
         "Jigaboo, jigaboo, where are you?",
         "video_2"
        ],
        [
         "7",
         "[52.24, 54.68]",
         "I was here in the woodpile watching you.",
         "video_2"
        ],
        [
         "8",
         "[55.04, 57.04]",
         "Jigaboo, jigaboo, come out, no.",
         "video_2"
        ],
        [
         "9",
         "[57.14, 60.44]",
         "So I scared all the white men way down south, you know it.",
         "video_2"
        ]
       ],
       "shape": {
        "columns": 3,
        "rows": 10
       }
      },
      "text/html": [
       "<div>\n",
       "<style scoped>\n",
       "    .dataframe tbody tr th:only-of-type {\n",
       "        vertical-align: middle;\n",
       "    }\n",
       "\n",
       "    .dataframe tbody tr th {\n",
       "        vertical-align: top;\n",
       "    }\n",
       "\n",
       "    .dataframe thead th {\n",
       "        text-align: right;\n",
       "    }\n",
       "</style>\n",
       "<table border=\"1\" class=\"dataframe\">\n",
       "  <thead>\n",
       "    <tr style=\"text-align: right;\">\n",
       "      <th></th>\n",
       "      <th>timestamp</th>\n",
       "      <th>text</th>\n",
       "      <th>video</th>\n",
       "    </tr>\n",
       "  </thead>\n",
       "  <tbody>\n",
       "    <tr>\n",
       "      <th>0</th>\n",
       "      <td>[0.0, 94.96]</td>\n",
       "      <td>The End Thank you. The End | Hello | World | L...</td>\n",
       "      <td>video_1</td>\n",
       "    </tr>\n",
       "    <tr>\n",
       "      <th>1</th>\n",
       "      <td>[0.0, 25.44]</td>\n",
       "      <td>I Like Sugar And the NAACP would sure like to ...</td>\n",
       "      <td>video_2</td>\n",
       "    </tr>\n",
       "    <tr>\n",
       "      <th>2</th>\n",
       "      <td>[27.42, 32.12]</td>\n",
       "      <td>Roses are red and violets are blue and niggers...</td>\n",
       "      <td>video_2</td>\n",
       "    </tr>\n",
       "    <tr>\n",
       "      <th>3</th>\n",
       "      <td>[32.42, 37.8]</td>\n",
       "      <td>But they don't mind cause what the heck, you g...</td>\n",
       "      <td>video_2</td>\n",
       "    </tr>\n",
       "    <tr>\n",
       "      <th>4</th>\n",
       "      <td>[38.34, 44.08]</td>\n",
       "      <td>No joke, I ain't got a nickel for a coke and I...</td>\n",
       "      <td>video_2</td>\n",
       "    </tr>\n",
       "    <tr>\n",
       "      <th>5</th>\n",
       "      <td>[44.6, 47.8]</td>\n",
       "      <td>So Uncle Sam won't help poor nigger hatin' me.</td>\n",
       "      <td>video_2</td>\n",
       "    </tr>\n",
       "    <tr>\n",
       "      <th>6</th>\n",
       "      <td>[50.04, 52.04]</td>\n",
       "      <td>Jigaboo, jigaboo, where are you?</td>\n",
       "      <td>video_2</td>\n",
       "    </tr>\n",
       "    <tr>\n",
       "      <th>7</th>\n",
       "      <td>[52.24, 54.68]</td>\n",
       "      <td>I was here in the woodpile watching you.</td>\n",
       "      <td>video_2</td>\n",
       "    </tr>\n",
       "    <tr>\n",
       "      <th>8</th>\n",
       "      <td>[55.04, 57.04]</td>\n",
       "      <td>Jigaboo, jigaboo, come out, no.</td>\n",
       "      <td>video_2</td>\n",
       "    </tr>\n",
       "    <tr>\n",
       "      <th>9</th>\n",
       "      <td>[57.14, 60.44]</td>\n",
       "      <td>So I scared all the white men way down south, ...</td>\n",
       "      <td>video_2</td>\n",
       "    </tr>\n",
       "  </tbody>\n",
       "</table>\n",
       "</div>"
      ],
      "text/plain": [
       "        timestamp                                               text    video\n",
       "0    [0.0, 94.96]  The End Thank you. The End | Hello | World | L...  video_1\n",
       "1    [0.0, 25.44]  I Like Sugar And the NAACP would sure like to ...  video_2\n",
       "2  [27.42, 32.12]  Roses are red and violets are blue and niggers...  video_2\n",
       "3   [32.42, 37.8]  But they don't mind cause what the heck, you g...  video_2\n",
       "4  [38.34, 44.08]  No joke, I ain't got a nickel for a coke and I...  video_2\n",
       "5    [44.6, 47.8]     So Uncle Sam won't help poor nigger hatin' me.  video_2\n",
       "6  [50.04, 52.04]                   Jigaboo, jigaboo, where are you?  video_2\n",
       "7  [52.24, 54.68]           I was here in the woodpile watching you.  video_2\n",
       "8  [55.04, 57.04]                    Jigaboo, jigaboo, come out, no.  video_2\n",
       "9  [57.14, 60.44]  So I scared all the white men way down south, ...  video_2"
      ]
     },
     "execution_count": 97,
     "metadata": {},
     "output_type": "execute_result"
    }
   ],
   "source": [
    "\n",
    "# --- Main Logic ---\n",
    "\n",
    "# 1) Unpack the \"timestamp\" column from final_df into \"start\" and \"end\" columns\n",
    "final_df[['start', 'end']] = pd.DataFrame(final_df['timestamp'].tolist(), index=final_df.index)\n",
    "\n",
    "# 2) For each row in combined_frame_df, find matching rows in final_df and update the text\n",
    "for _, frame in combined_frame_df.iterrows():\n",
    "    # Extract the numeric timestamp and text from the frame row\n",
    "    t = frame[\"timestamp_seconds\"]\n",
    "    text_on_image = str(frame[\"text_on_image\"]).strip()\n",
    "    \n",
    "    # We assume the \"video\" column in combined_frame_df is something like \"video_1_frame2342.jpg\"\n",
    "    video_id = frame[\"video\"].split(\"_frame\")[0]\n",
    "    \n",
    "    # Build a mask to find the matching rows in final_df\n",
    "    mask = (\n",
    "        (final_df[\"video\"] == video_id) &\n",
    "        (final_df[\"start\"] <= t) &\n",
    "        (final_df[\"end\"] >= t)\n",
    "    )\n",
    "    \n",
    "    # Apply the combine_text function only on the masked rows\n",
    "    final_df.loc[mask, \"text\"] = final_df.loc[mask, \"text\"].apply(\n",
    "        lambda current_text: combine_text(current_text, text_on_image)\n",
    "    )\n",
    "\n",
    "# 3) (Optional) Drop the columns \"start\" and \"end\" if not needed anymore\n",
    "final_df.drop(columns=[\"start\", \"end\"], inplace=True)\n",
    "\n",
    "final_df.head(10)\n"
   ]
  },
  {
   "cell_type": "code",
   "execution_count": 98,
   "id": "4681922b",
   "metadata": {},
   "outputs": [
    {
     "data": {
      "application/vnd.microsoft.datawrangler.viewer.v0+json": {
       "columns": [
        {
         "name": "index",
         "rawType": "int64",
         "type": "integer"
        },
        {
         "name": "video_file_name",
         "rawType": "object",
         "type": "string"
        },
        {
         "name": "label",
         "rawType": "object",
         "type": "string"
        },
        {
         "name": "hate_snippet",
         "rawType": "object",
         "type": "unknown"
        },
        {
         "name": "target",
         "rawType": "object",
         "type": "unknown"
        },
        {
         "name": "Hate_Label",
         "rawType": "float64",
         "type": "float"
        },
        {
         "name": "Image_hate",
         "rawType": "float64",
         "type": "float"
        },
        {
         "name": "Audio_hate",
         "rawType": "float64",
         "type": "float"
        },
        {
         "name": "Text_hate",
         "rawType": "float64",
         "type": "float"
        },
        {
         "name": "Frame_hate",
         "rawType": "float64",
         "type": "float"
        }
       ],
       "conversionMethod": "pd.DataFrame",
       "ref": "1a15552b-29c2-4953-a95f-24d256876acb",
       "rows": [
        [
         "0",
         "hate_video_1.mp4",
         "Hate",
         "[['00:00:34', '00:01:34']]",
         "Blacks",
         "1.0",
         "0.0",
         "0.0",
         "1.0",
         "1.0"
        ],
        [
         "1",
         "hate_video_2.mp4",
         "Hate",
         "[['00:00:06', '00:02:06']]",
         "Blacks",
         "1.0",
         "1.0",
         "1.0",
         "0.0",
         "1.0"
        ],
        [
         "2",
         "non_hate_video_1.mp4",
         "Non Hate",
         null,
         "Others",
         "0.0",
         "0.0",
         "0.0",
         "0.0",
         "0.0"
        ],
        [
         "3",
         "hate_video_3.mp4",
         "Hate",
         "[['00:00:03', '00:01:40'], ['00:01:41', '00:03:27']]",
         "Blacks",
         "1.0",
         "1.0",
         "1.0",
         "0.0",
         "1.0"
        ],
        [
         "4",
         "non_hate_video_2.mp4",
         "Non Hate",
         null,
         "Blacks",
         "0.0",
         "0.0",
         "0.0",
         "0.0",
         "0.0"
        ],
        [
         "5",
         "hate_video_4.mp4",
         "Hate",
         "[['00:00:00', '00:00:13']]",
         "Jews",
         "1.0",
         "1.0",
         "1.0",
         "0.0",
         "1.0"
        ],
        [
         "6",
         "non_hate_video_3.mp4",
         "Non Hate",
         null,
         "Blacks",
         "0.0",
         "0.0",
         "0.0",
         "0.0",
         "0.0"
        ],
        [
         "7",
         "non_hate_video_4.mp4",
         "Non Hate",
         null,
         "Blacks",
         "0.0",
         "0.0",
         "0.0",
         "0.0",
         "0.0"
        ],
        [
         "8",
         "hate_video_5.mp4",
         "Hate",
         "[['00:00:00', '00:00:39']]",
         "Blacks",
         "1.0",
         "1.0",
         "1.0",
         "1.0",
         "1.0"
        ],
        [
         "9",
         "non_hate_video_5.mp4",
         "Non Hate",
         null,
         "Others",
         "0.0",
         "0.0",
         "0.0",
         "0.0",
         "0.0"
        ],
        [
         "10",
         "hate_video_6.mp4",
         "Hate",
         "[['00:00:00', '00:01:13']]",
         "Blacks",
         "1.0",
         "1.0",
         "1.0",
         "1.0",
         "1.0"
        ],
        [
         "11",
         "hate_video_7.mp4",
         "Hate",
         "[['00:00:00', '00:00:26']]",
         "Blacks",
         "1.0",
         "1.0",
         "1.0",
         "0.0",
         "1.0"
        ],
        [
         "12",
         "non_hate_video_6.mp4",
         "Non Hate",
         null,
         "Blacks",
         "0.0",
         "0.0",
         "0.0",
         "0.0",
         "0.0"
        ],
        [
         "13",
         "non_hate_video_7.mp4",
         "Non Hate",
         null,
         "Blacks",
         "0.0",
         "0.0",
         "0.0",
         "0.0",
         "0.0"
        ],
        [
         "14",
         "hate_video_8.mp4",
         "Hate",
         "[['00:00:00', '00:00:57']]",
         "Blacks",
         "1.0",
         "1.0",
         "1.0",
         "1.0",
         "1.0"
        ],
        [
         "15",
         "hate_video_9.mp4",
         "Hate",
         "[['00:00:07', '00:02:24']]",
         "Blacks",
         "1.0",
         "0.0",
         "1.0",
         "0.0",
         "0.0"
        ],
        [
         "16",
         "non_hate_video_8.mp4",
         "Non Hate",
         null,
         "Others",
         null,
         null,
         null,
         null,
         null
        ],
        [
         "17",
         "non_hate_video_9.mp4",
         "Non Hate",
         null,
         "Others",
         null,
         null,
         null,
         null,
         null
        ],
        [
         "18",
         "hate_video_10.mp4",
         "Hate",
         "[['00:00:00', '00:00:38']]",
         "Blacks",
         null,
         null,
         null,
         null,
         null
        ],
        [
         "19",
         "hate_video_11.mp4",
         "Hate",
         "[['00:00:00', '00:00:32']]",
         "Blacks",
         null,
         null,
         null,
         null,
         null
        ],
        [
         "20",
         "non_hate_video_10.mp4",
         "Non Hate",
         null,
         "Blacks",
         null,
         null,
         null,
         null,
         null
        ],
        [
         "21",
         "hate_video_12.mp4",
         "Hate",
         "[['00:00:17', '00:01:17']]",
         "Blacks",
         null,
         null,
         null,
         null,
         null
        ],
        [
         "22",
         "non_hate_video_11.mp4",
         "Non Hate",
         null,
         "Blacks",
         null,
         null,
         null,
         null,
         null
        ],
        [
         "23",
         "non_hate_video_12.mp4",
         "Non Hate",
         null,
         "Others",
         null,
         null,
         null,
         null,
         null
        ],
        [
         "24",
         "non_hate_video_13.mp4",
         "Non Hate",
         null,
         "Others",
         null,
         null,
         null,
         null,
         null
        ],
        [
         "25",
         "non_hate_video_14.mp4",
         "Non Hate",
         null,
         "Blacks",
         null,
         null,
         null,
         null,
         null
        ],
        [
         "26",
         "non_hate_video_15.mp4",
         "Non Hate",
         null,
         "Blacks",
         null,
         null,
         null,
         null,
         null
        ],
        [
         "27",
         "hate_video_13.mp4",
         "Hate",
         "[['00:00:00', '00:03:05']]",
         "Blacks",
         null,
         null,
         null,
         null,
         null
        ],
        [
         "28",
         "non_hate_video_16.mp4",
         "Non Hate",
         null,
         "Blacks",
         null,
         null,
         null,
         null,
         null
        ],
        [
         "29",
         "non_hate_video_17.mp4",
         "Non Hate",
         null,
         "Others",
         null,
         null,
         null,
         null,
         null
        ],
        [
         "30",
         "non_hate_video_18.mp4",
         "Non Hate",
         null,
         "Blacks",
         null,
         null,
         null,
         null,
         null
        ],
        [
         "31",
         "hate_video_14.mp4",
         "Hate",
         "[['00:00:45', '00:02:40']]",
         "Blacks",
         null,
         null,
         null,
         null,
         null
        ],
        [
         "32",
         "non_hate_video_19.mp4",
         "Non Hate",
         null,
         "Others",
         null,
         null,
         null,
         null,
         null
        ],
        [
         "33",
         "hate_video_15.mp4",
         "Hate",
         "[['00:00:07', '00:00:47']]",
         "Whites",
         null,
         null,
         null,
         null,
         null
        ],
        [
         "34",
         "non_hate_video_20.mp4",
         "Non Hate",
         null,
         "Blacks",
         null,
         null,
         null,
         null,
         null
        ],
        [
         "35",
         "hate_video_16.mp4",
         "Hate",
         "[['00:01:06', '00:01:53']]",
         "Blacks",
         null,
         null,
         null,
         null,
         null
        ],
        [
         "36",
         "hate_video_17.mp4",
         "Hate",
         "[['00:00:01', '00:00:03']]",
         "Blacks",
         null,
         null,
         null,
         null,
         null
        ],
        [
         "37",
         "non_hate_video_21.mp4",
         "Non Hate",
         null,
         "Blacks",
         null,
         null,
         null,
         null,
         null
        ],
        [
         "38",
         "non_hate_video_22.mp4",
         "Non Hate",
         null,
         null,
         null,
         null,
         null,
         null,
         null
        ],
        [
         "39",
         "non_hate_video_23.mp4",
         "Non Hate",
         null,
         "Blacks",
         null,
         null,
         null,
         null,
         null
        ],
        [
         "40",
         "non_hate_video_24.mp4",
         "Non Hate",
         null,
         null,
         null,
         null,
         null,
         null,
         null
        ],
        [
         "41",
         "non_hate_video_25.mp4",
         "Non Hate",
         null,
         null,
         null,
         null,
         null,
         null,
         null
        ],
        [
         "42",
         "non_hate_video_26.mp4",
         "Non Hate",
         null,
         null,
         null,
         null,
         null,
         null,
         null
        ],
        [
         "43",
         "non_hate_video_27.mp4",
         "Non Hate",
         null,
         "Blacks",
         null,
         null,
         null,
         null,
         null
        ],
        [
         "44",
         "hate_video_18.mp4",
         "Hate",
         "[['00:00:00', '00:00:51']]",
         "Blacks",
         null,
         null,
         null,
         null,
         null
        ],
        [
         "45",
         "non_hate_video_28.mp4",
         "Non Hate",
         null,
         null,
         null,
         null,
         null,
         null,
         null
        ],
        [
         "46",
         "hate_video_19.mp4",
         "Hate",
         "[['00:00:00', '00:00:42']]",
         "Blacks",
         null,
         null,
         null,
         null,
         null
        ],
        [
         "47",
         "hate_video_20.mp4",
         "Hate",
         "[['00:00:00', '00:02:12']]",
         "Blacks",
         null,
         null,
         null,
         null,
         null
        ],
        [
         "48",
         "non_hate_video_29.mp4",
         "Non Hate",
         null,
         null,
         null,
         null,
         null,
         null,
         null
        ],
        [
         "49",
         "non_hate_video_30.mp4",
         "Non Hate",
         null,
         null,
         null,
         null,
         null,
         null,
         null
        ]
       ],
       "shape": {
        "columns": 9,
        "rows": 1083
       }
      },
      "text/html": [
       "<div>\n",
       "<style scoped>\n",
       "    .dataframe tbody tr th:only-of-type {\n",
       "        vertical-align: middle;\n",
       "    }\n",
       "\n",
       "    .dataframe tbody tr th {\n",
       "        vertical-align: top;\n",
       "    }\n",
       "\n",
       "    .dataframe thead th {\n",
       "        text-align: right;\n",
       "    }\n",
       "</style>\n",
       "<table border=\"1\" class=\"dataframe\">\n",
       "  <thead>\n",
       "    <tr style=\"text-align: right;\">\n",
       "      <th></th>\n",
       "      <th>video_file_name</th>\n",
       "      <th>label</th>\n",
       "      <th>hate_snippet</th>\n",
       "      <th>target</th>\n",
       "      <th>Hate_Label</th>\n",
       "      <th>Image_hate</th>\n",
       "      <th>Audio_hate</th>\n",
       "      <th>Text_hate</th>\n",
       "      <th>Frame_hate</th>\n",
       "    </tr>\n",
       "  </thead>\n",
       "  <tbody>\n",
       "    <tr>\n",
       "      <th>0</th>\n",
       "      <td>hate_video_1.mp4</td>\n",
       "      <td>Hate</td>\n",
       "      <td>[['00:00:34', '00:01:34']]</td>\n",
       "      <td>Blacks</td>\n",
       "      <td>1.0</td>\n",
       "      <td>0.0</td>\n",
       "      <td>0.0</td>\n",
       "      <td>1.0</td>\n",
       "      <td>1.0</td>\n",
       "    </tr>\n",
       "    <tr>\n",
       "      <th>1</th>\n",
       "      <td>hate_video_2.mp4</td>\n",
       "      <td>Hate</td>\n",
       "      <td>[['00:00:06', '00:02:06']]</td>\n",
       "      <td>Blacks</td>\n",
       "      <td>1.0</td>\n",
       "      <td>1.0</td>\n",
       "      <td>1.0</td>\n",
       "      <td>0.0</td>\n",
       "      <td>1.0</td>\n",
       "    </tr>\n",
       "    <tr>\n",
       "      <th>2</th>\n",
       "      <td>non_hate_video_1.mp4</td>\n",
       "      <td>Non Hate</td>\n",
       "      <td>NaN</td>\n",
       "      <td>Others</td>\n",
       "      <td>0.0</td>\n",
       "      <td>0.0</td>\n",
       "      <td>0.0</td>\n",
       "      <td>0.0</td>\n",
       "      <td>0.0</td>\n",
       "    </tr>\n",
       "    <tr>\n",
       "      <th>3</th>\n",
       "      <td>hate_video_3.mp4</td>\n",
       "      <td>Hate</td>\n",
       "      <td>[['00:00:03', '00:01:40'], ['00:01:41', '00:03...</td>\n",
       "      <td>Blacks</td>\n",
       "      <td>1.0</td>\n",
       "      <td>1.0</td>\n",
       "      <td>1.0</td>\n",
       "      <td>0.0</td>\n",
       "      <td>1.0</td>\n",
       "    </tr>\n",
       "    <tr>\n",
       "      <th>4</th>\n",
       "      <td>non_hate_video_2.mp4</td>\n",
       "      <td>Non Hate</td>\n",
       "      <td>NaN</td>\n",
       "      <td>Blacks</td>\n",
       "      <td>0.0</td>\n",
       "      <td>0.0</td>\n",
       "      <td>0.0</td>\n",
       "      <td>0.0</td>\n",
       "      <td>0.0</td>\n",
       "    </tr>\n",
       "    <tr>\n",
       "      <th>...</th>\n",
       "      <td>...</td>\n",
       "      <td>...</td>\n",
       "      <td>...</td>\n",
       "      <td>...</td>\n",
       "      <td>...</td>\n",
       "      <td>...</td>\n",
       "      <td>...</td>\n",
       "      <td>...</td>\n",
       "      <td>...</td>\n",
       "    </tr>\n",
       "    <tr>\n",
       "      <th>1078</th>\n",
       "      <td>non_hate_video_650.mp4</td>\n",
       "      <td>Non Hate</td>\n",
       "      <td>NaN</td>\n",
       "      <td>['Whites']</td>\n",
       "      <td>NaN</td>\n",
       "      <td>NaN</td>\n",
       "      <td>NaN</td>\n",
       "      <td>NaN</td>\n",
       "      <td>NaN</td>\n",
       "    </tr>\n",
       "    <tr>\n",
       "      <th>1079</th>\n",
       "      <td>hate_video_430.mp4</td>\n",
       "      <td>Hate</td>\n",
       "      <td>[['00:00:09', '00:04:04']]</td>\n",
       "      <td>['Jews']</td>\n",
       "      <td>NaN</td>\n",
       "      <td>NaN</td>\n",
       "      <td>NaN</td>\n",
       "      <td>NaN</td>\n",
       "      <td>NaN</td>\n",
       "    </tr>\n",
       "    <tr>\n",
       "      <th>1080</th>\n",
       "      <td>non_hate_video_651.mp4</td>\n",
       "      <td>Non Hate</td>\n",
       "      <td>NaN</td>\n",
       "      <td>['Others']</td>\n",
       "      <td>NaN</td>\n",
       "      <td>NaN</td>\n",
       "      <td>NaN</td>\n",
       "      <td>NaN</td>\n",
       "      <td>NaN</td>\n",
       "    </tr>\n",
       "    <tr>\n",
       "      <th>1081</th>\n",
       "      <td>non_hate_video_652.mp4</td>\n",
       "      <td>Non Hate</td>\n",
       "      <td>NaN</td>\n",
       "      <td>['Others']</td>\n",
       "      <td>NaN</td>\n",
       "      <td>NaN</td>\n",
       "      <td>NaN</td>\n",
       "      <td>NaN</td>\n",
       "      <td>NaN</td>\n",
       "    </tr>\n",
       "    <tr>\n",
       "      <th>1082</th>\n",
       "      <td>hate_video_431.mp4</td>\n",
       "      <td>Hate</td>\n",
       "      <td>[['00:00:02', '00:00:49']]</td>\n",
       "      <td>['Jews']</td>\n",
       "      <td>NaN</td>\n",
       "      <td>NaN</td>\n",
       "      <td>NaN</td>\n",
       "      <td>NaN</td>\n",
       "      <td>NaN</td>\n",
       "    </tr>\n",
       "  </tbody>\n",
       "</table>\n",
       "<p>1083 rows × 9 columns</p>\n",
       "</div>"
      ],
      "text/plain": [
       "             video_file_name     label  \\\n",
       "0           hate_video_1.mp4      Hate   \n",
       "1           hate_video_2.mp4      Hate   \n",
       "2       non_hate_video_1.mp4  Non Hate   \n",
       "3           hate_video_3.mp4      Hate   \n",
       "4       non_hate_video_2.mp4  Non Hate   \n",
       "...                      ...       ...   \n",
       "1078  non_hate_video_650.mp4  Non Hate   \n",
       "1079      hate_video_430.mp4      Hate   \n",
       "1080  non_hate_video_651.mp4  Non Hate   \n",
       "1081  non_hate_video_652.mp4  Non Hate   \n",
       "1082      hate_video_431.mp4      Hate   \n",
       "\n",
       "                                           hate_snippet      target  \\\n",
       "0                            [['00:00:34', '00:01:34']]      Blacks   \n",
       "1                            [['00:00:06', '00:02:06']]      Blacks   \n",
       "2                                                   NaN      Others   \n",
       "3     [['00:00:03', '00:01:40'], ['00:01:41', '00:03...      Blacks   \n",
       "4                                                   NaN      Blacks   \n",
       "...                                                 ...         ...   \n",
       "1078                                                NaN  ['Whites']   \n",
       "1079                         [['00:00:09', '00:04:04']]    ['Jews']   \n",
       "1080                                                NaN  ['Others']   \n",
       "1081                                                NaN  ['Others']   \n",
       "1082                         [['00:00:02', '00:00:49']]    ['Jews']   \n",
       "\n",
       "      Hate_Label  Image_hate  Audio_hate  Text_hate  Frame_hate  \n",
       "0            1.0         0.0         0.0        1.0         1.0  \n",
       "1            1.0         1.0         1.0        0.0         1.0  \n",
       "2            0.0         0.0         0.0        0.0         0.0  \n",
       "3            1.0         1.0         1.0        0.0         1.0  \n",
       "4            0.0         0.0         0.0        0.0         0.0  \n",
       "...          ...         ...         ...        ...         ...  \n",
       "1078         NaN         NaN         NaN        NaN         NaN  \n",
       "1079         NaN         NaN         NaN        NaN         NaN  \n",
       "1080         NaN         NaN         NaN        NaN         NaN  \n",
       "1081         NaN         NaN         NaN        NaN         NaN  \n",
       "1082         NaN         NaN         NaN        NaN         NaN  \n",
       "\n",
       "[1083 rows x 9 columns]"
      ]
     },
     "execution_count": 98,
     "metadata": {},
     "output_type": "execute_result"
    }
   ],
   "source": [
    "annot_data = pd.read_csv(\"./HateMM_annotations/HateMM_annotation.csv\", delimiter=\";\")\n",
    "annot_data"
   ]
  },
  {
   "cell_type": "code",
   "execution_count": 99,
   "id": "2408eb3e",
   "metadata": {},
   "outputs": [
    {
     "name": "stdout",
     "output_type": "stream",
     "text": [
      "                                        hate_snippet  \\\n",
      "0                         [['00:00:34', '00:01:34']]   \n",
      "1                         [['00:00:06', '00:02:06']]   \n",
      "2                                                NaN   \n",
      "3  [['00:00:03', '00:01:40'], ['00:01:41', '00:03...   \n",
      "4                                                NaN   \n",
      "5                         [['00:00:00', '00:00:13']]   \n",
      "6                                                NaN   \n",
      "7                                                NaN   \n",
      "8                         [['00:00:00', '00:00:39']]   \n",
      "9                                                NaN   \n",
      "\n",
      "           converted_hate_snippet  \n",
      "0                  [[34.0, 94.0]]  \n",
      "1                  [[6.0, 126.0]]  \n",
      "2                            None  \n",
      "3  [[3.0, 100.0], [101.0, 207.0]]  \n",
      "4                            None  \n",
      "5                   [[0.0, 13.0]]  \n",
      "6                            None  \n",
      "7                            None  \n",
      "8                   [[0.0, 39.0]]  \n",
      "9                            None  \n"
     ]
    }
   ],
   "source": [
    "import ast\n",
    "import pandas as pd\n",
    "\n",
    "def hhmmss_to_seconds(time_str):\n",
    "    \"\"\"\n",
    "    Convert a time string in hh:mm:ss (or mm:ss) format to seconds.\n",
    "    If already numeric, returns it as a float.\n",
    "    \"\"\"\n",
    "    try:\n",
    "        time_str = time_str.strip()\n",
    "        parts = time_str.split(\":\")\n",
    "        if len(parts) == 3:\n",
    "            h, m, s = parts\n",
    "            return float(h) * 3600 + float(m) * 60 + float(s)\n",
    "        elif len(parts) == 2:\n",
    "            m, s = parts\n",
    "            return float(m) * 60 + float(s)\n",
    "        else:\n",
    "            return float(time_str)\n",
    "    except Exception as e:\n",
    "        print(f\"Error converting '{time_str}' to seconds: {e}\")\n",
    "        return None\n",
    "\n",
    "def parse_and_convert_snippet(snippet):\n",
    "    \"\"\"\n",
    "    Parse a snippet entry (which might be a string like \"[['00:00:34','00:01:34']]\" or \"Missing value\")\n",
    "    and convert the intervals to seconds. Supports either a single interval [start,end] or multiple intervals.\n",
    "    Returns a list of intervals in seconds or None if invalid.\n",
    "    \"\"\"\n",
    "    # 1) Handle the literal string \"Missing value\"\n",
    "    if isinstance(snippet, str):\n",
    "        snippet = snippet.strip()\n",
    "        if snippet == \"Missing value\":\n",
    "            return None\n",
    "        \n",
    "        # 2) If it's not \"Missing value\", try to parse it as a Python literal.\n",
    "        try:\n",
    "            snippet = ast.literal_eval(snippet)\n",
    "        except Exception as e:\n",
    "            print(f\"Error parsing snippet: {snippet}. Error: {e}\")\n",
    "            return None\n",
    "    \n",
    "    # 3) If snippet is still not a list, return None\n",
    "    if not isinstance(snippet, list):\n",
    "        return None\n",
    "    \n",
    "    # 4) Check if it's a list of intervals (multiple) or a single interval\n",
    "    def convert_interval_to_seconds(interval):\n",
    "        if isinstance(interval, list) and len(interval) == 2:\n",
    "            start = hhmmss_to_seconds(interval[0])\n",
    "            end   = hhmmss_to_seconds(interval[1])\n",
    "            return [start, end]\n",
    "        return None\n",
    "    \n",
    "    # If snippet’s first element is itself a list => multiple intervals\n",
    "    if snippet and isinstance(snippet[0], list):\n",
    "        converted = []\n",
    "        for inter in snippet:\n",
    "            conv = convert_interval_to_seconds(inter)\n",
    "            if conv is not None:\n",
    "                converted.append(conv)\n",
    "        return converted\n",
    "    else:\n",
    "        # Single interval e.g. ['00:00:34','00:01:34']\n",
    "        conv = convert_interval_to_seconds(snippet)\n",
    "        return [conv] if conv else None\n",
    "\n",
    "# ----------------- Main Logic -----------------\n",
    "# Suppose annot_data is your DataFrame with \"hate_snippet\" column\n",
    "# We'll create a new column called \"converted_hate_snippet\"\n",
    "\n",
    "annot_data[\"converted_hate_snippet\"] = annot_data[\"hate_snippet\"].apply(parse_and_convert_snippet)\n",
    "\n",
    "# Display a few rows to verify\n",
    "print(annot_data[[\"hate_snippet\", \"converted_hate_snippet\"]].head(10))\n"
   ]
  },
  {
   "cell_type": "code",
   "execution_count": 100,
   "id": "972909de",
   "metadata": {},
   "outputs": [
    {
     "name": "stdout",
     "output_type": "stream",
     "text": [
      "        timestamp                                               text    video  \\\n",
      "0    [0.0, 94.96]  The End Thank you. The End | Hello | World | L...  video_1   \n",
      "1    [0.0, 25.44]  I Like Sugar And the NAACP would sure like to ...  video_2   \n",
      "2  [27.42, 32.12]  Roses are red and violets are blue and niggers...  video_2   \n",
      "3   [32.42, 37.8]  But they don't mind cause what the heck, you g...  video_2   \n",
      "4  [38.34, 44.08]  No joke, I ain't got a nickel for a coke and I...  video_2   \n",
      "\n",
      "  audio_hate  \n",
      "0   Non Hate  \n",
      "1       Hate  \n",
      "2       Hate  \n",
      "3       Hate  \n",
      "4       Hate  \n"
     ]
    }
   ],
   "source": [
    "import re\n",
    "import pandas as pd\n",
    "\n",
    "# ------------------ Helper Functions ------------------\n",
    "def get_vid_num_from_final(video_str):\n",
    "    \"\"\"\n",
    "    Extract the numeric ID from a string like \"video_2_frame2342.jpg\".\n",
    "    Returns 2 for \"video_2_frame2342.jpg\".\n",
    "    \"\"\"\n",
    "    match = re.search(r\"video_(\\d+)\", video_str)\n",
    "    if match:\n",
    "        return int(match.group(1))\n",
    "    return None\n",
    "\n",
    "def get_vid_num_from_annot(fname):\n",
    "    \"\"\"\n",
    "    Extract the numeric ID from a filename like \"hate_video_2.mp4\" or \"non_hate_video_2.mp4\".\n",
    "    Returns 2 for \"hate_video_2.mp4\".\n",
    "    \"\"\"\n",
    "    match = re.search(r\"_video_(\\d+)\\.mp4\", fname)\n",
    "    if match:\n",
    "        return int(match.group(1))\n",
    "    return None\n",
    "\n",
    "def intervals_intersect(intervalA, intervalB):\n",
    "    \"\"\"\n",
    "    Check if two intervals [startA, endA] and [startB, endB] intersect.\n",
    "    They intersect if startA < endB AND startB < endA.\n",
    "    \"\"\"\n",
    "    return intervalA[0] < intervalB[1] and intervalB[0] < intervalA[1]\n",
    "\n",
    "# ------------------ Process final_df ------------------\n",
    "# final_df is assumed to have a \"timestamp\" column (e.g. [0.0, 94.96]) and\n",
    "# \"video_file_name\" column (e.g. \"video_2_frame2342.jpg\").\n",
    "final_df[\"vid_num\"] = final_df[\"video\"].apply(get_vid_num_from_final)\n",
    "# Unpack the \"timestamp\" column into \"start\" and \"end\" for easy interval comparison.\n",
    "final_df[['start', 'end']] = pd.DataFrame(final_df[\"timestamp\"].tolist(), index=final_df.index)\n",
    "\n",
    "# ------------------ Process annot_data ------------------\n",
    "# annot_data is assumed to have:\n",
    "#   - \"video_file_name\": e.g. \"hate_video_2.mp4\" or \"non_hate_video_2.mp4\"\n",
    "#   - \"label\": \"Hate\" or \"Non Hate\"\n",
    "#   - \"converted_hate_snippet\": intervals in seconds (e.g. [[34, 94]] for a single interval)\n",
    "annot_data[\"vid_num\"] = annot_data[\"video_file_name\"].apply(get_vid_num_from_annot)\n",
    "\n",
    "# Build a dictionary mapping vid_num -> list of hate intervals (only for rows where label is \"Hate\")\n",
    "hate_info = {}\n",
    "for _, row in annot_data.iterrows():\n",
    "    if row[\"Audio_hate\"] == 1:\n",
    "        vn = row[\"vid_num\"]\n",
    "        intervals = row[\"converted_hate_snippet\"]\n",
    "        # Ensure intervals is a list of intervals:\n",
    "        if isinstance(intervals, list):\n",
    "            # Check if this is a single interval (e.g. [34, 94]) or a list of intervals ([[34,94]])\n",
    "            if intervals and not isinstance(intervals[0], list):\n",
    "                intervals = [intervals]\n",
    "        else:\n",
    "            intervals = []\n",
    "        if vn in hate_info:\n",
    "            hate_info[vn].extend(intervals)\n",
    "        else:\n",
    "            hate_info[vn] = intervals\n",
    "\n",
    "# ------------------ Label Each Row in final_df ------------------\n",
    "labels = []\n",
    "for _, row in final_df.iterrows():\n",
    "    current_interval = [row[\"start\"], row[\"end\"]]\n",
    "    vn = row[\"vid_num\"]\n",
    "    row_label = \"Non Hate\"  # default\n",
    "    # Look up hate intervals for this video, if any.\n",
    "    if vn in hate_info:\n",
    "        for h_interval in hate_info[vn]:\n",
    "            if intervals_intersect(current_interval, h_interval):\n",
    "                row_label = \"Hate\"\n",
    "                break\n",
    "    labels.append(row_label)\n",
    "final_df[\"audio_hate\"] = labels\n",
    "\n",
    "# ------------------ Cleanup Temporary Columns ------------------\n",
    "final_df.drop(columns=[\"start\", \"end\", \"vid_num\"], inplace=True, errors=\"ignore\")\n",
    "\n",
    "# Display the first few rows of the updated final_df with the new label.\n",
    "print(final_df.head())\n"
   ]
  },
  {
   "cell_type": "code",
   "execution_count": 101,
   "id": "786eb96c",
   "metadata": {},
   "outputs": [
    {
     "data": {
      "application/vnd.microsoft.datawrangler.viewer.v0+json": {
       "columns": [
        {
         "name": "index",
         "rawType": "int64",
         "type": "integer"
        },
        {
         "name": "timestamp",
         "rawType": "object",
         "type": "unknown"
        },
        {
         "name": "text",
         "rawType": "object",
         "type": "string"
        },
        {
         "name": "video",
         "rawType": "object",
         "type": "string"
        },
        {
         "name": "audio_hate",
         "rawType": "object",
         "type": "string"
        }
       ],
       "conversionMethod": "pd.DataFrame",
       "ref": "480fb868-399a-4a16-bd46-bee32a9b2653",
       "rows": [
        [
         "0",
         "[0.0, 94.96]",
         "The End Thank you. The End | Hello | World | LOL,that guy is crazy!",
         "video_1",
         "Non Hate"
        ],
        [
         "1",
         "[0.0, 25.44]",
         "I Like Sugar And the NAACP would sure like to get a hold of nigger hatin' me.",
         "video_2",
         "Hate"
        ],
        [
         "2",
         "[27.42, 32.12]",
         "Roses are red and violets are blue and niggers are black, you know that's true.",
         "video_2",
         "Hate"
        ],
        [
         "3",
         "[32.42, 37.8]",
         "But they don't mind cause what the heck, you gotta be black to get a welfare check and I'm broke.",
         "video_2",
         "Hate"
        ],
        [
         "4",
         "[38.34, 44.08]",
         "No joke, I ain't got a nickel for a coke and I ain't black, you see.",
         "video_2",
         "Hate"
        ],
        [
         "5",
         "[44.6, 47.8]",
         "So Uncle Sam won't help poor nigger hatin' me.",
         "video_2",
         "Hate"
        ],
        [
         "6",
         "[50.04, 52.04]",
         "Jigaboo, jigaboo, where are you?",
         "video_2",
         "Hate"
        ],
        [
         "7",
         "[52.24, 54.68]",
         "I was here in the woodpile watching you.",
         "video_2",
         "Hate"
        ],
        [
         "8",
         "[55.04, 57.04]",
         "Jigaboo, jigaboo, come out, no.",
         "video_2",
         "Hate"
        ],
        [
         "9",
         "[57.14, 60.44]",
         "So I scared all the white men way down south, you know it.",
         "video_2",
         "Hate"
        ],
        [
         "10",
         "[60.86, 64.1]",
         "But I show it, stick your black jet out, and I blow it.",
         "video_2",
         "Hate"
        ],
        [
         "11",
         "[67.0, 67.52]",
         "know it. Cause I show it, stick your black jet out and I blow it. And the NAACP can't",
         "video_2",
         "Hate"
        ],
        [
         "12",
         "[75.72, 80.96]",
         "keep you away from a little old nigger hatin' me. Mirror, mirror on the wall, who is the blackest of them all? A man named King, it ain't no doubt, and he's causin' lots of trouble",
         "video_2",
         "Hate"
        ],
        [
         "13",
         "[80.96, 87.18]",
         "with his baboon mouth. He's a-doin', It's caused by the trouble he's a-brewin'.",
         "video_2",
         "Hate"
        ],
        [
         "14",
         "[87.18, 92.84]",
         "And the NAACP can't win if white men stick with nigger hatin' me.",
         "video_2",
         "Hate"
        ],
        [
         "15",
         "[94.92, 97.18]",
         "Hey, Mr. President, what do you say?",
         "video_2",
         "Hate"
        ],
        [
         "16",
         "[97.58, 99.68]",
         "When are we whites gonna have our day?",
         "video_2",
         "Hate"
        ],
        [
         "17",
         "[100.02, 102.32]",
         "The niggers had theirs such a long, long time.",
         "video_2",
         "Hate"
        ],
        [
         "18",
         "[102.42, 104.88]",
         "I'm a-white and it's time that I have mine.",
         "video_2",
         "Hate"
        ],
        [
         "19",
         "[104.96, 106.86]",
         "You know it, cause I show it.",
         "video_2",
         "Hate"
        ],
        [
         "20",
         "[107.34, 109.34]",
         "Stick it right, get out and I'll blow it.",
         "video_2",
         "Hate"
        ],
        [
         "21",
         "[109.86, 115.52]",
         "And the NAACP can't win if a white man stick with nigger hatin' me.",
         "video_2",
         "Hate"
        ],
        [
         "22",
         "[116.98, 118.16]",
         "Nigger hatin' me.",
         "video_2",
         "Hate"
        ],
        [
         "23",
         "[119.5, 120.66]",
         "Nigger hatin' me.",
         "video_2",
         "Hate"
        ],
        [
         "24",
         "[122.0, 123.16]",
         "Nigger hatin' me.",
         "video_2",
         "Hate"
        ],
        [
         "25",
         "[124.52, 125.62]",
         "Nigger hatin' me.",
         "video_2",
         "Hate"
        ],
        [
         "26",
         "[0.0, 2.0]",
         "I simply must get through!",
         "video_3",
         "Non Hate"
        ],
        [
         "27",
         "[2.0, 4.0]",
         "Sorry, you're much too big!",
         "video_3",
         "Hate"
        ],
        [
         "28",
         "[4.0, 5.0]",
         "Yeah man!",
         "video_3",
         "Hate"
        ],
        [
         "29",
         "[5.0, 7.0]",
         "Bobby two pistols in his bitch!",
         "video_3",
         "Hate"
        ],
        [
         "30",
         "[7.0, 8.0]",
         "Yeah man!",
         "video_3",
         "Hate"
        ],
        [
         "31",
         "[8.0, 10.0]",
         "Fuck all those niggers man!",
         "video_3",
         "Hate"
        ],
        [
         "32",
         "[10.0, 12.0]",
         "Martin Luther King deserved to be killed!",
         "video_3",
         "Hate"
        ],
        [
         "33",
         "[12.0, 14.0]",
         "And fuck your nigger!",
         "video_3",
         "Hate"
        ],
        [
         "34",
         "[14.0, 16.0]",
         "Just grab and steal your shit man!",
         "video_3",
         "Hate"
        ],
        [
         "35",
         "[16.0, 18.0]",
         "Fuck those niggers man!",
         "video_3",
         "Hate"
        ],
        [
         "36",
         "[18.0, 20.0]",
         "Fuck all niggers!",
         "video_3",
         "Hate"
        ],
        [
         "37",
         "[20.0, 22.0]",
         "Fuck all niggers!",
         "video_3",
         "Hate"
        ],
        [
         "38",
         "[22.0, 24.0]",
         "Fuck all niggers!",
         "video_3",
         "Hate"
        ],
        [
         "39",
         "[24.0, 25.06]",
         "Fuck all niggers! Fuck all those niggers Fuck all niggers Fuck all niggers",
         "video_3",
         "Hate"
        ],
        [
         "40",
         "[25.06, 26.8]",
         "Fuck all those niggers",
         "video_3",
         "Hate"
        ],
        [
         "41",
         "[26.8, 28.48]",
         "Fuck all those niggers",
         "video_3",
         "Hate"
        ],
        [
         "42",
         "[28.48, 30.2]",
         "Fuck all those niggers",
         "video_3",
         "Hate"
        ],
        [
         "43",
         "[30.2, 31.9]",
         "Fuck all those niggers",
         "video_3",
         "Hate"
        ],
        [
         "44",
         "[31.9, 33.6]",
         "Rapping still my shit",
         "video_3",
         "Hate"
        ],
        [
         "45",
         "[33.6, 35.18]",
         "Rapping still my shit",
         "video_3",
         "Hate"
        ],
        [
         "46",
         "[35.18, 36.92]",
         "They wanna rap and steal my shit",
         "video_3",
         "Hate"
        ],
        [
         "47",
         "[36.92, 38.68]",
         "Because they can't get shit",
         "video_3",
         "Hate"
        ],
        [
         "48",
         "[38.68, 40.5]",
         "Go and get a job",
         "video_3",
         "Hate"
        ],
        [
         "49",
         "[40.5, 42.2]",
         "Stop trying to rob",
         "video_3",
         "Hate"
        ]
       ],
       "shape": {
        "columns": 4,
        "rows": 103
       }
      },
      "text/html": [
       "<div>\n",
       "<style scoped>\n",
       "    .dataframe tbody tr th:only-of-type {\n",
       "        vertical-align: middle;\n",
       "    }\n",
       "\n",
       "    .dataframe tbody tr th {\n",
       "        vertical-align: top;\n",
       "    }\n",
       "\n",
       "    .dataframe thead th {\n",
       "        text-align: right;\n",
       "    }\n",
       "</style>\n",
       "<table border=\"1\" class=\"dataframe\">\n",
       "  <thead>\n",
       "    <tr style=\"text-align: right;\">\n",
       "      <th></th>\n",
       "      <th>timestamp</th>\n",
       "      <th>text</th>\n",
       "      <th>video</th>\n",
       "      <th>audio_hate</th>\n",
       "    </tr>\n",
       "  </thead>\n",
       "  <tbody>\n",
       "    <tr>\n",
       "      <th>0</th>\n",
       "      <td>[0.0, 94.96]</td>\n",
       "      <td>The End Thank you. The End | Hello | World | L...</td>\n",
       "      <td>video_1</td>\n",
       "      <td>Non Hate</td>\n",
       "    </tr>\n",
       "    <tr>\n",
       "      <th>1</th>\n",
       "      <td>[0.0, 25.44]</td>\n",
       "      <td>I Like Sugar And the NAACP would sure like to ...</td>\n",
       "      <td>video_2</td>\n",
       "      <td>Hate</td>\n",
       "    </tr>\n",
       "    <tr>\n",
       "      <th>2</th>\n",
       "      <td>[27.42, 32.12]</td>\n",
       "      <td>Roses are red and violets are blue and niggers...</td>\n",
       "      <td>video_2</td>\n",
       "      <td>Hate</td>\n",
       "    </tr>\n",
       "    <tr>\n",
       "      <th>3</th>\n",
       "      <td>[32.42, 37.8]</td>\n",
       "      <td>But they don't mind cause what the heck, you g...</td>\n",
       "      <td>video_2</td>\n",
       "      <td>Hate</td>\n",
       "    </tr>\n",
       "    <tr>\n",
       "      <th>4</th>\n",
       "      <td>[38.34, 44.08]</td>\n",
       "      <td>No joke, I ain't got a nickel for a coke and I...</td>\n",
       "      <td>video_2</td>\n",
       "      <td>Hate</td>\n",
       "    </tr>\n",
       "    <tr>\n",
       "      <th>...</th>\n",
       "      <td>...</td>\n",
       "      <td>...</td>\n",
       "      <td>...</td>\n",
       "      <td>...</td>\n",
       "    </tr>\n",
       "    <tr>\n",
       "      <th>98</th>\n",
       "      <td>[198.68, 202.76]</td>\n",
       "      <td>Bitch, clean my car while I drink lemonade.</td>\n",
       "      <td>video_3</td>\n",
       "      <td>Hate</td>\n",
       "    </tr>\n",
       "    <tr>\n",
       "      <th>99</th>\n",
       "      <td>[202.76, 203.96]</td>\n",
       "      <td>Ya fuckin' slave.</td>\n",
       "      <td>video_3</td>\n",
       "      <td>Hate</td>\n",
       "    </tr>\n",
       "    <tr>\n",
       "      <th>100</th>\n",
       "      <td>[203.96, 205.12]</td>\n",
       "      <td>Melvin on the beat</td>\n",
       "      <td>video_3</td>\n",
       "      <td>Hate</td>\n",
       "    </tr>\n",
       "    <tr>\n",
       "      <th>101</th>\n",
       "      <td>[205.12, 208.56]</td>\n",
       "      <td>Buy me two pistols man, fuck all those niggers...</td>\n",
       "      <td>video_3</td>\n",
       "      <td>Hate</td>\n",
       "    </tr>\n",
       "    <tr>\n",
       "      <th>102</th>\n",
       "      <td>[208.56, 231.12]</td>\n",
       "      <td>Real nigger anthem Продолжение следует...</td>\n",
       "      <td>video_3</td>\n",
       "      <td>Non Hate</td>\n",
       "    </tr>\n",
       "  </tbody>\n",
       "</table>\n",
       "<p>103 rows × 4 columns</p>\n",
       "</div>"
      ],
      "text/plain": [
       "            timestamp                                               text  \\\n",
       "0        [0.0, 94.96]  The End Thank you. The End | Hello | World | L...   \n",
       "1        [0.0, 25.44]  I Like Sugar And the NAACP would sure like to ...   \n",
       "2      [27.42, 32.12]  Roses are red and violets are blue and niggers...   \n",
       "3       [32.42, 37.8]  But they don't mind cause what the heck, you g...   \n",
       "4      [38.34, 44.08]  No joke, I ain't got a nickel for a coke and I...   \n",
       "..                ...                                                ...   \n",
       "98   [198.68, 202.76]        Bitch, clean my car while I drink lemonade.   \n",
       "99   [202.76, 203.96]                                  Ya fuckin' slave.   \n",
       "100  [203.96, 205.12]                                 Melvin on the beat   \n",
       "101  [205.12, 208.56]  Buy me two pistols man, fuck all those niggers...   \n",
       "102  [208.56, 231.12]          Real nigger anthem Продолжение следует...   \n",
       "\n",
       "       video audio_hate  \n",
       "0    video_1   Non Hate  \n",
       "1    video_2       Hate  \n",
       "2    video_2       Hate  \n",
       "3    video_2       Hate  \n",
       "4    video_2       Hate  \n",
       "..       ...        ...  \n",
       "98   video_3       Hate  \n",
       "99   video_3       Hate  \n",
       "100  video_3       Hate  \n",
       "101  video_3       Hate  \n",
       "102  video_3   Non Hate  \n",
       "\n",
       "[103 rows x 4 columns]"
      ]
     },
     "execution_count": 101,
     "metadata": {},
     "output_type": "execute_result"
    }
   ],
   "source": [
    "final_df"
   ]
  },
  {
   "cell_type": "code",
   "execution_count": null,
   "id": "35446e5c",
   "metadata": {},
   "outputs": [],
   "source": []
  }
 ],
 "metadata": {
  "kernelspec": {
   "display_name": "base",
   "language": "python",
   "name": "python3"
  },
  "language_info": {
   "codemirror_mode": {
    "name": "ipython",
    "version": 3
   },
   "file_extension": ".py",
   "mimetype": "text/x-python",
   "name": "python",
   "nbconvert_exporter": "python",
   "pygments_lexer": "ipython3",
   "version": "3.11.5"
  }
 },
 "nbformat": 4,
 "nbformat_minor": 5
}
