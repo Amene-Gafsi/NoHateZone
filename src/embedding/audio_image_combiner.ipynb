{
 "cells": [
  {
   "cell_type": "code",
   "execution_count": 9,
   "id": "bf964ab2",
   "metadata": {},
   "outputs": [],
   "source": [
    "import pandas as pd"
   ]
  },
  {
   "cell_type": "code",
   "execution_count": 10,
   "id": "92544d60",
   "metadata": {},
   "outputs": [],
   "source": [
    "def combine_text(tweet_text, ocr_text):\n",
    "    \"\"\"Concatenate tweet text and OCR text with a [SEP] token.\"\"\"\n",
    "    return f\"{tweet_text} [SEP] {ocr_text}\""
   ]
  },
  {
   "cell_type": "code",
   "execution_count": 11,
   "id": "f52b8b8c",
   "metadata": {},
   "outputs": [
    {
     "name": "stderr",
     "output_type": "stream",
     "text": [
      "C:\\Users\\Mert\\AppData\\Local\\Temp\\ipykernel_7788\\1885750144.py:4: SettingWithCopyWarning: \n",
      "A value is trying to be set on a copy of a slice from a DataFrame.\n",
      "Try using .loc[row_indexer,col_indexer] = value instead\n",
      "\n",
      "See the caveats in the documentation: https://pandas.pydata.org/pandas-docs/stable/user_guide/indexing.html#returning-a-view-versus-a-copy\n",
      "  filtered_all_combined['combined_text'] = filtered_all_combined.apply(\n"
     ]
    },
    {
     "data": {
      "application/vnd.microsoft.datawrangler.viewer.v0+json": {
       "columns": [
        {
         "name": "index",
         "rawType": "int64",
         "type": "integer"
        },
        {
         "name": "text",
         "rawType": "object",
         "type": "string"
        },
        {
         "name": "video",
         "rawType": "object",
         "type": "string"
        },
        {
         "name": "Frame_hate",
         "rawType": "int64",
         "type": "integer"
        },
        {
         "name": "random_frame",
         "rawType": "object",
         "type": "string"
        },
        {
         "name": "random_ocr_text",
         "rawType": "object",
         "type": "string"
        },
        {
         "name": "combined_text",
         "rawType": "object",
         "type": "string"
        }
       ],
       "conversionMethod": "pd.DataFrame",
       "ref": "7918c935-3cf3-4d80-895d-4bf86cf1e4cd",
       "rows": [
        [
         "0",
         " The End Thank you. The End",
         "hate_video_1",
         "1",
         "hate_video_1_frame2760.jpg",
         "C",
         " The End Thank you. The End [SEP] C"
        ],
        [
         "1",
         " I Like Sugar And the NAACP would sure like to get a hold of nigger hatin' me.",
         "hate_video_2",
         "1",
         "hate_video_2_frame270.jpg",
         "THE",
         " I Like Sugar And the NAACP would sure like to get a hold of nigger hatin' me. [SEP] THE"
        ],
        [
         "2",
         " Roses are red and violets are blue and niggers are black, you know that's true.",
         "hate_video_2",
         "1",
         "hate_video_2_frame690.jpg",
         "THE",
         " Roses are red and violets are blue and niggers are black, you know that's true. [SEP] THE"
        ],
        [
         "3",
         " But they don't mind cause what the heck, you gotta be black to get a welfare check and I'm broke.",
         "hate_video_2",
         "1",
         "hate_video_2_frame870.jpg",
         "THE",
         " But they don't mind cause what the heck, you gotta be black to get a welfare check and I'm broke. [SEP] THE"
        ],
        [
         "4",
         " No joke, I ain't got a nickel for a coke and I ain't black, you see.",
         "hate_video_2",
         "1",
         "hate_video_2_frame1080.jpg",
         "THE",
         " No joke, I ain't got a nickel for a coke and I ain't black, you see. [SEP] THE"
        ],
        [
         "5",
         " So Uncle Sam won't help poor nigger hatin' me.",
         "hate_video_2",
         "1",
         "hate_video_2_frame1170.jpg",
         "THE",
         " So Uncle Sam won't help poor nigger hatin' me. [SEP] THE"
        ],
        [
         "6",
         " Jigaboo, jigaboo, where are you?",
         "hate_video_2",
         "1",
         "hate_video_2_frame1260.jpg",
         "THE",
         " Jigaboo, jigaboo, where are you? [SEP] THE"
        ],
        [
         "7",
         " I was here in the wood while I was watchin' you.",
         "hate_video_2",
         "1",
         "hate_video_2_frame1320.jpg",
         "THE",
         " I was here in the wood while I was watchin' you. [SEP] THE"
        ],
        [
         "8",
         " Jigaboo, jigaboo, come out, no.",
         "hate_video_2",
         "1",
         "hate_video_2_frame1410.jpg",
         "THE",
         " Jigaboo, jigaboo, come out, no. [SEP] THE"
        ],
        [
         "9",
         " So I scared all the white men way down south, you know it.",
         "hate_video_2",
         "1",
         "hate_video_2_frame1500.jpg",
         "THE",
         " So I scared all the white men way down south, you know it. [SEP] THE"
        ],
        [
         "10",
         " But I show it, stick your black jet out, and I blow it.",
         "hate_video_2",
         "1",
         "hate_video_2_frame1590.jpg",
         "THE",
         " But I show it, stick your black jet out, and I blow it. [SEP] THE"
        ],
        [
         "11",
         " know it. Cause I show it, stick your black jet out and I blow it. And the NAACP can't",
         "hate_video_2",
         "1",
         "hate_video_2_frame1680.jpg",
         "THE",
         " know it. Cause I show it, stick your black jet out and I blow it. And the NAACP can't [SEP] THE"
        ],
        [
         "12",
         " keep you away from a little old nigger hatin' me. Mirror, mirror on the wall, who is the blackest of them all? A man named King, it ain't no doubt, and he's causin' lots of trouble",
         "hate_video_2",
         "1",
         "hate_video_2_frame1950.jpg",
         "THE",
         " keep you away from a little old nigger hatin' me. Mirror, mirror on the wall, who is the blackest of them all? A man named King, it ain't no doubt, and he's causin' lots of trouble [SEP] THE"
        ],
        [
         "13",
         " with his baboon mouth. He's a-doin', It's caused by the trouble he's a-brewin'.",
         "hate_video_2",
         "1",
         "hate_video_2_frame2160.jpg",
         "THE",
         " with his baboon mouth. He's a-doin', It's caused by the trouble he's a-brewin'. [SEP] THE"
        ],
        [
         "14",
         " And the NAACP can't win if white men stick with nigger hatin' me.",
         "hate_video_2",
         "1",
         "hate_video_2_frame2220.jpg",
         "THE",
         " And the NAACP can't win if white men stick with nigger hatin' me. [SEP] THE"
        ],
        [
         "15",
         " Hey, Mr. President, what do you say?",
         "hate_video_2",
         "1",
         "hate_video_2_frame2400.jpg",
         "THE",
         " Hey, Mr. President, what do you say? [SEP] THE"
        ],
        [
         "16",
         " When are we whites gonna have our day?",
         "hate_video_2",
         "1",
         "hate_video_2_frame2460.jpg",
         "THE",
         " When are we whites gonna have our day? [SEP] THE"
        ],
        [
         "17",
         " The niggers had theirs such a long, long time.",
         "hate_video_2",
         "1",
         "hate_video_2_frame2550.jpg",
         "THE",
         " The niggers had theirs such a long, long time. [SEP] THE"
        ],
        [
         "18",
         " I'm a-white and it's time that I have mine.",
         "hate_video_2",
         "1",
         "hate_video_2_frame2580.jpg",
         "THE",
         " I'm a-white and it's time that I have mine. [SEP] THE"
        ],
        [
         "19",
         " You know it, cause I show it.",
         "hate_video_2",
         "1",
         "hate_video_2_frame2640.jpg",
         "THE",
         " You know it, cause I show it. [SEP] THE"
        ],
        [
         "20",
         " Stick it back, get out and I'll blow it.",
         "hate_video_2",
         "1",
         "hate_video_2_frame2730.jpg",
         "THE",
         " Stick it back, get out and I'll blow it. [SEP] THE"
        ],
        [
         "21",
         " And the NAACP can't win if a white man stick with nigger hatin' me.",
         "hate_video_2",
         "1",
         "hate_video_2_frame2850.jpg",
         "THE",
         " And the NAACP can't win if a white man stick with nigger hatin' me. [SEP] THE"
        ],
        [
         "22",
         " Nigger hatin' me.",
         "hate_video_2",
         "1",
         "hate_video_2_frame2940.jpg",
         "THE",
         " Nigger hatin' me. [SEP] THE"
        ],
        [
         "23",
         " Nigger hatin' me.",
         "hate_video_2",
         "1",
         "hate_video_2_frame3000.jpg",
         "THE",
         " Nigger hatin' me. [SEP] THE"
        ],
        [
         "24",
         " Nigger hatin' me.",
         "hate_video_2",
         "1",
         "hate_video_2_frame3060.jpg",
         "THE",
         " Nigger hatin' me. [SEP] THE"
        ],
        [
         "25",
         " Nigger hatin' me.",
         "hate_video_2",
         "1",
         "hate_video_2_frame3120.jpg",
         "THE",
         " Nigger hatin' me. [SEP] THE"
        ],
        [
         "26",
         " I simply must get through!",
         "hate_video_3",
         "1",
         "hate_video_3_frame30.jpg",
         "R",
         " I simply must get through! [SEP] R"
        ],
        [
         "27",
         " Sorry, you're much too big!",
         "hate_video_3",
         "1",
         "hate_video_3_frame60.jpg",
         "PRO",
         " Sorry, you're much too big! [SEP] PRO"
        ],
        [
         "28",
         " Yeah man!",
         "hate_video_3",
         "1",
         "hate_video_3_frame120.jpg",
         "R",
         " Yeah man! [SEP] R"
        ],
        [
         "29",
         " Bobby two pistols in his bitch!",
         "hate_video_3",
         "1",
         "hate_video_3_frame150.jpg",
         "R",
         " Bobby two pistols in his bitch! [SEP] R"
        ],
        [
         "30",
         " Yeah man!",
         "hate_video_3",
         "1",
         "hate_video_3_frame180.jpg",
         "PRIDE",
         " Yeah man! [SEP] PRIDE"
        ],
        [
         "31",
         " Fuck all those niggers man!",
         "hate_video_3",
         "1",
         "hate_video_3_frame210.jpg",
         "X",
         " Fuck all those niggers man! [SEP] X"
        ],
        [
         "32",
         " Martin Luther King deserved to be killed!",
         "hate_video_3",
         "1",
         "hate_video_3_frame300.jpg",
         "ARO",
         " Martin Luther King deserved to be killed! [SEP] ARO"
        ],
        [
         "33",
         " And fuck your nigger!",
         "hate_video_3",
         "1",
         "hate_video_3_frame330.jpg",
         "ARO",
         " And fuck your nigger! [SEP] ARO"
        ],
        [
         "34",
         " Just grab and steal your shit man!",
         "hate_video_3",
         "1",
         "hate_video_3_frame360.jpg",
         "TRO",
         " Just grab and steal your shit man! [SEP] TRO"
        ],
        [
         "35",
         " Fuck those niggers man!",
         "hate_video_3",
         "1",
         "hate_video_3_frame420.jpg",
         "TRO",
         " Fuck those niggers man! [SEP] TRO"
        ],
        [
         "36",
         " Fuck all niggers!",
         "hate_video_3",
         "1",
         "hate_video_3_frame450.jpg",
         "TRO",
         " Fuck all niggers! [SEP] TRO"
        ],
        [
         "37",
         " Fuck all niggers!",
         "hate_video_3",
         "1",
         "hate_video_3_frame540.jpg",
         "TRO",
         " Fuck all niggers! [SEP] TRO"
        ],
        [
         "38",
         " Fuck all niggers!",
         "hate_video_3",
         "1",
         "hate_video_3_frame600.jpg",
         "ARO",
         " Fuck all niggers! [SEP] ARO"
        ],
        [
         "39",
         " Fuck all niggers! Fuck all those niggers Fuck all niggers Fuck all niggers",
         "hate_video_3",
         "1",
         "hate_video_3_frame600.jpg",
         "ARO",
         " Fuck all niggers! Fuck all those niggers Fuck all niggers Fuck all niggers [SEP] ARO"
        ],
        [
         "40",
         " Fuck all those niggers",
         "hate_video_3",
         "1",
         "hate_video_3_frame630.jpg",
         "ARO",
         " Fuck all those niggers [SEP] ARO"
        ],
        [
         "41",
         " Fuck all those niggers",
         "hate_video_3",
         "1",
         "hate_video_3_frame690.jpg",
         "ARO",
         " Fuck all those niggers [SEP] ARO"
        ],
        [
         "42",
         " Fuck all those niggers",
         "hate_video_3",
         "1",
         "hate_video_3_frame720.jpg",
         "ARO",
         " Fuck all those niggers [SEP] ARO"
        ],
        [
         "43",
         " Fuck all those niggers",
         "hate_video_3",
         "1",
         "hate_video_3_frame780.jpg",
         "ARO",
         " Fuck all those niggers [SEP] ARO"
        ],
        [
         "44",
         " Rapping still my shit",
         "hate_video_3",
         "1",
         "hate_video_3_frame810.jpg",
         "ARO",
         " Rapping still my shit [SEP] ARO"
        ],
        [
         "45",
         " Rapping still my shit",
         "hate_video_3",
         "1",
         "hate_video_3_frame840.jpg",
         "TRO",
         " Rapping still my shit [SEP] TRO"
        ],
        [
         "46",
         " They wanna rap and steal my shit",
         "hate_video_3",
         "1",
         "hate_video_3_frame900.jpg",
         "TRO",
         " They wanna rap and steal my shit [SEP] TRO"
        ],
        [
         "47",
         " Because they can't get shit",
         "hate_video_3",
         "1",
         "hate_video_3_frame960.jpg",
         "TRO",
         " Because they can't get shit [SEP] TRO"
        ],
        [
         "48",
         " Go and get a job",
         "hate_video_3",
         "1",
         "hate_video_3_frame990.jpg",
         "TRO",
         " Go and get a job [SEP] TRO"
        ],
        [
         "49",
         " Stop trying to rob",
         "hate_video_3",
         "1",
         "hate_video_3_frame1050.jpg",
         "TRO",
         " Stop trying to rob [SEP] TRO"
        ]
       ],
       "shape": {
        "columns": 6,
        "rows": 11551
       }
      },
      "text/html": [
       "<div>\n",
       "<style scoped>\n",
       "    .dataframe tbody tr th:only-of-type {\n",
       "        vertical-align: middle;\n",
       "    }\n",
       "\n",
       "    .dataframe tbody tr th {\n",
       "        vertical-align: top;\n",
       "    }\n",
       "\n",
       "    .dataframe thead th {\n",
       "        text-align: right;\n",
       "    }\n",
       "</style>\n",
       "<table border=\"1\" class=\"dataframe\">\n",
       "  <thead>\n",
       "    <tr style=\"text-align: right;\">\n",
       "      <th></th>\n",
       "      <th>text</th>\n",
       "      <th>video</th>\n",
       "      <th>Frame_hate</th>\n",
       "      <th>random_frame</th>\n",
       "      <th>random_ocr_text</th>\n",
       "      <th>combined_text</th>\n",
       "    </tr>\n",
       "  </thead>\n",
       "  <tbody>\n",
       "    <tr>\n",
       "      <th>0</th>\n",
       "      <td>The End Thank you. The End</td>\n",
       "      <td>hate_video_1</td>\n",
       "      <td>1</td>\n",
       "      <td>hate_video_1_frame2760.jpg</td>\n",
       "      <td>C</td>\n",
       "      <td>The End Thank you. The End [SEP] C</td>\n",
       "    </tr>\n",
       "    <tr>\n",
       "      <th>1</th>\n",
       "      <td>I Like Sugar And the NAACP would sure like to...</td>\n",
       "      <td>hate_video_2</td>\n",
       "      <td>1</td>\n",
       "      <td>hate_video_2_frame270.jpg</td>\n",
       "      <td>THE</td>\n",
       "      <td>I Like Sugar And the NAACP would sure like to...</td>\n",
       "    </tr>\n",
       "    <tr>\n",
       "      <th>2</th>\n",
       "      <td>Roses are red and violets are blue and nigger...</td>\n",
       "      <td>hate_video_2</td>\n",
       "      <td>1</td>\n",
       "      <td>hate_video_2_frame690.jpg</td>\n",
       "      <td>THE</td>\n",
       "      <td>Roses are red and violets are blue and nigger...</td>\n",
       "    </tr>\n",
       "    <tr>\n",
       "      <th>3</th>\n",
       "      <td>But they don't mind cause what the heck, you ...</td>\n",
       "      <td>hate_video_2</td>\n",
       "      <td>1</td>\n",
       "      <td>hate_video_2_frame870.jpg</td>\n",
       "      <td>THE</td>\n",
       "      <td>But they don't mind cause what the heck, you ...</td>\n",
       "    </tr>\n",
       "    <tr>\n",
       "      <th>4</th>\n",
       "      <td>No joke, I ain't got a nickel for a coke and ...</td>\n",
       "      <td>hate_video_2</td>\n",
       "      <td>1</td>\n",
       "      <td>hate_video_2_frame1080.jpg</td>\n",
       "      <td>THE</td>\n",
       "      <td>No joke, I ain't got a nickel for a coke and ...</td>\n",
       "    </tr>\n",
       "    <tr>\n",
       "      <th>...</th>\n",
       "      <td>...</td>\n",
       "      <td>...</td>\n",
       "      <td>...</td>\n",
       "      <td>...</td>\n",
       "      <td>...</td>\n",
       "      <td>...</td>\n",
       "    </tr>\n",
       "    <tr>\n",
       "      <th>12448</th>\n",
       "      <td>and make you start that crack.</td>\n",
       "      <td>non_hate_video_306</td>\n",
       "      <td>0</td>\n",
       "      <td>non_hate_video_306_frame10620.jpg</td>\n",
       "      <td>Europ</td>\n",
       "      <td>and make you start that crack. [SEP] Europ</td>\n",
       "    </tr>\n",
       "    <tr>\n",
       "      <th>12449</th>\n",
       "      <td>You did that your damn self.</td>\n",
       "      <td>non_hate_video_306</td>\n",
       "      <td>0</td>\n",
       "      <td>non_hate_video_306_frame10680.jpg</td>\n",
       "      <td>surface</td>\n",
       "      <td>You did that your damn self. [SEP] surface</td>\n",
       "    </tr>\n",
       "    <tr>\n",
       "      <th>12450</th>\n",
       "      <td>Don't blame the white man.</td>\n",
       "      <td>non_hate_video_306</td>\n",
       "      <td>0</td>\n",
       "      <td>non_hate_video_306_frame10770.jpg</td>\n",
       "      <td>surface the rma</td>\n",
       "      <td>Don't blame the white man. [SEP] surface the rma</td>\n",
       "    </tr>\n",
       "    <tr>\n",
       "      <th>12451</th>\n",
       "      <td>Because your damn baby daddy went to jail for...</td>\n",
       "      <td>non_hate_video_306</td>\n",
       "      <td>0</td>\n",
       "      <td>non_hate_video_306_frame10830.jpg</td>\n",
       "      <td>therma ocean</td>\n",
       "      <td>Because your damn baby daddy went to jail for...</td>\n",
       "    </tr>\n",
       "    <tr>\n",
       "      <th>12452</th>\n",
       "      <td>Don't blame the damn white man.</td>\n",
       "      <td>non_hate_video_306</td>\n",
       "      <td>0</td>\n",
       "      <td>non_hate_video_306_frame10980.jpg</td>\n",
       "      <td>#</td>\n",
       "      <td>Don't blame the damn white man. [SEP] #</td>\n",
       "    </tr>\n",
       "  </tbody>\n",
       "</table>\n",
       "<p>11551 rows × 6 columns</p>\n",
       "</div>"
      ],
      "text/plain": [
       "                                                    text               video  \\\n",
       "0                             The End Thank you. The End        hate_video_1   \n",
       "1       I Like Sugar And the NAACP would sure like to...        hate_video_2   \n",
       "2       Roses are red and violets are blue and nigger...        hate_video_2   \n",
       "3       But they don't mind cause what the heck, you ...        hate_video_2   \n",
       "4       No joke, I ain't got a nickel for a coke and ...        hate_video_2   \n",
       "...                                                  ...                 ...   \n",
       "12448                     and make you start that crack.  non_hate_video_306   \n",
       "12449                       You did that your damn self.  non_hate_video_306   \n",
       "12450                         Don't blame the white man.  non_hate_video_306   \n",
       "12451   Because your damn baby daddy went to jail for...  non_hate_video_306   \n",
       "12452                    Don't blame the damn white man.  non_hate_video_306   \n",
       "\n",
       "       Frame_hate                       random_frame  random_ocr_text  \\\n",
       "0               1         hate_video_1_frame2760.jpg                C   \n",
       "1               1          hate_video_2_frame270.jpg              THE   \n",
       "2               1          hate_video_2_frame690.jpg              THE   \n",
       "3               1          hate_video_2_frame870.jpg              THE   \n",
       "4               1         hate_video_2_frame1080.jpg              THE   \n",
       "...           ...                                ...              ...   \n",
       "12448           0  non_hate_video_306_frame10620.jpg            Europ   \n",
       "12449           0  non_hate_video_306_frame10680.jpg          surface   \n",
       "12450           0  non_hate_video_306_frame10770.jpg  surface the rma   \n",
       "12451           0  non_hate_video_306_frame10830.jpg     therma ocean   \n",
       "12452           0  non_hate_video_306_frame10980.jpg                #   \n",
       "\n",
       "                                           combined_text  \n",
       "0                     The End Thank you. The End [SEP] C  \n",
       "1       I Like Sugar And the NAACP would sure like to...  \n",
       "2       Roses are red and violets are blue and nigger...  \n",
       "3       But they don't mind cause what the heck, you ...  \n",
       "4       No joke, I ain't got a nickel for a coke and ...  \n",
       "...                                                  ...  \n",
       "12448         and make you start that crack. [SEP] Europ  \n",
       "12449         You did that your damn self. [SEP] surface  \n",
       "12450   Don't blame the white man. [SEP] surface the rma  \n",
       "12451   Because your damn baby daddy went to jail for...  \n",
       "12452            Don't blame the damn white man. [SEP] #  \n",
       "\n",
       "[11551 rows x 6 columns]"
      ]
     },
     "execution_count": 11,
     "metadata": {},
     "output_type": "execute_result"
    }
   ],
   "source": [
    "all_combined = pd.read_csv('all_combined.csv')\n",
    "filtered_all_combined = all_combined.dropna()\n",
    "\n",
    "filtered_all_combined['combined_text'] = filtered_all_combined.apply(\n",
    "    lambda row: combine_text(row['text'], row['random_ocr_text']), axis=1\n",
    ")\n",
    "filtered_all_combined"
   ]
  },
  {
   "cell_type": "code",
   "execution_count": 12,
   "id": "6006a0ab",
   "metadata": {},
   "outputs": [
    {
     "name": "stdout",
     "output_type": "stream",
     "text": [
      " The End Thank you. The End [SEP] C\n"
     ]
    }
   ],
   "source": [
    "print(filtered_all_combined[\"combined_text\"][0])"
   ]
  },
  {
   "cell_type": "code",
   "execution_count": 13,
   "id": "8e57b3ed",
   "metadata": {},
   "outputs": [],
   "source": [
    "filtered_all_combined.to_csv('filtered_all_combined.csv', index=False)"
   ]
  }
 ],
 "metadata": {
  "kernelspec": {
   "display_name": "data_process",
   "language": "python",
   "name": "python3"
  },
  "language_info": {
   "codemirror_mode": {
    "name": "ipython",
    "version": 3
   },
   "file_extension": ".py",
   "mimetype": "text/x-python",
   "name": "python",
   "nbconvert_exporter": "python",
   "pygments_lexer": "ipython3",
   "version": "3.11.11"
  }
 },
 "nbformat": 4,
 "nbformat_minor": 5
}
